{
 "cells": [
  {
   "cell_type": "markdown",
   "metadata": {
    "id": "2HpKY32aha07"
   },
   "source": [
    "# TAREA 1 -PROGRAMACIÓN INTELIGENCIA ARTIFICIAL\n",
    "### Tarea evaluable"
   ]
  },
  {
   "cell_type": "markdown",
   "metadata": {
    "id": "EjWiBLZPaFQM"
   },
   "source": [
    "**Antes de empezar, cierra el archivo y renómbralo cambiando \"Apellido1\" por tu primer apellido y \"Nombre\" por tu nombre. Después vuelve a abrirlo y trabaja directamente sobre él.**    \n",
    "\n",
    "***NOMBRE:***  Luis Carlos García Esteban"
   ]
  },
  {
   "cell_type": "markdown",
   "metadata": {
    "id": "dl2_sxL1rLqM"
   },
   "source": [
    "---\n",
    "## Previos"
   ]
  },
  {
   "cell_type": "markdown",
   "metadata": {
    "id": "nBzwPHmJrOVC"
   },
   "source": [
    "Antes de empezar, importa todas las librerías que necesitas para trabajar:"
   ]
  },
  {
   "cell_type": "code",
   "execution_count": 1,
   "metadata": {
    "id": "W2OKcUXnrSWx"
   },
   "outputs": [],
   "source": [
    "#Importamos las librerias necesarias. \n",
    "import numpy as np\n",
    "import pandas as pd\n",
    "import matplotlib.pyplot as plt\n",
    "\n",
    "#### IMPORTANTE: LOS CSV EN LA MISMA CARPETA QUE EL SCRIPT ####\n"
   ]
  },
  {
   "cell_type": "markdown",
   "metadata": {
    "id": "jKx-RWxVrTvP"
   },
   "source": [
    "---\n",
    "## Ejercicio 1(0.5 ptos.)"
   ]
  },
  {
   "cell_type": "markdown",
   "metadata": {
    "id": "49hRG_zFrUTq"
   },
   "source": [
    "Genera una matriz (100 filas x 5 columnas) de números enteros aleatorios del 0 al 9 con NumPy. Muestra la siguiente información de la misma:\n",
    "\n",
    "*   Tamaño (cantidad de elementos en total)\n",
    "*   Forma\n",
    "*   Tipo (recuerda utilizar SOLO NumPy)\n",
    "*   Desviación estándar\n",
    "*   Media\n",
    "*   Mediana\n",
    "*   Todos los valores entre las filas 25 y 27 (ambas incluídas) y entre las columnas 1 y 3 (ambas incluídas)\n",
    "*   Matriz de correlación entre columnas"
   ]
  },
  {
   "cell_type": "code",
   "execution_count": 2,
   "metadata": {
    "id": "qz-NqWPrrUiW"
   },
   "outputs": [
    {
     "name": "stdout",
     "output_type": "stream",
     "text": [
      "Informacion de la matriz:\n",
      "\n",
      "Tamaño (cantidad de elementos): 500\n",
      "Forma (filas, columnas): (100, 5)\n",
      "Tipo de datos: int64\n",
      "Desviacion estandar: 2.8624912226939667\n",
      "La Media: 4.512\n",
      "Y la Mediana: 4.0\n",
      "\n",
      "Valores entre las filas 25 y 27, columnas 1 y 3 (ambas incluidas):\n",
      "[[0 2 6 5 2]\n",
      " [2 3 9 1 9]\n",
      " [5 2 3 0 3]]\n",
      "[[8 4 5 8 2]\n",
      " [2 5 6 5 4]\n",
      " [7 5 5 8 1]]\n",
      "\n",
      "Matriz de correlacion entre columnas:\n",
      "[[ 1.          0.17725565  0.03708765  0.11511041 -0.03366951]\n",
      " [ 0.17725565  1.          0.02817689  0.01882502 -0.04627833]\n",
      " [ 0.03708765  0.02817689  1.         -0.05410527  0.15055528]\n",
      " [ 0.11511041  0.01882502 -0.05410527  1.          0.06571832]\n",
      " [-0.03366951 -0.04627833  0.15055528  0.06571832  1.        ]]\n"
     ]
    }
   ],
   "source": [
    "# 1. Generamos la matriz\n",
    "matriz = np.random.randint(0, 10, size=(100, 5))\n",
    "\n",
    "# 2. Mostramos la informacion\n",
    "print(\"Informacion de la matriz:\\n\")\n",
    "\n",
    "# a) Imprimimos el tamaño (cantidad de elementos)\n",
    "print(f\"Tamaño (cantidad de elementos): {matriz.size}\")\n",
    "\n",
    "# b) Informacion sobre la forma\n",
    "print(f\"Forma (filas, columnas): {matriz.shape}\")\n",
    "\n",
    "# c) Mostramos el tipo de los datos\n",
    "print(f\"Tipo de datos: {matriz.dtype}\")\n",
    "\n",
    "# d) Mostramos la desviacion estandar\n",
    "print(f\"Desviacion estandar: {np.std(matriz)}\")\n",
    "\n",
    "# e) Mostramos la Media\n",
    "print(f\"La Media: {np.mean(matriz)}\")\n",
    "\n",
    "# f) Y la Mediana\n",
    "print(f\"Y la Mediana: {np.median(matriz)}\")\n",
    "\n",
    "# g) Los valores entre las filas 25 y 27, columnas 1 y 3\n",
    "print(\"\\nValores entre las filas 25 y 27, columnas 1 y 3 (ambas incluidas):\")\n",
    "submatriz1 = matriz[25:28]\n",
    "submatriz2 = matriz[1:4]\n",
    "print(submatriz1)\n",
    "print(submatriz2)\n",
    "\n",
    "# h) Matriz de correlacion entre columnas\n",
    "print(\"\\nMatriz de correlacion entre columnas:\")\n",
    "matriz_correlacion = np.corrcoef(matriz, rowvar=False)\n",
    "print(matriz_correlacion)\n"
   ]
  },
  {
   "cell_type": "markdown",
   "metadata": {
    "id": "IHQyY4iorbDV"
   },
   "source": [
    "---\n",
    "## Ejercicio 2 (1 pto)"
   ]
  },
  {
   "cell_type": "markdown",
   "metadata": {
    "id": "znWcQDjLrb3M"
   },
   "source": [
    "Partiendo del dataset **\"vg_sales.csv\"** y utilizando Pandas, muestra la forma de su dataframe, índice, número de filas, media por columnas, valores máximos y mínimos por columnas, mediana por columnas y la desviación típica por columnas:"
   ]
  },
  {
   "cell_type": "code",
   "execution_count": 3,
   "metadata": {
    "id": "ra3tRJvHrcM7"
   },
   "outputs": [
    {
     "name": "stdout",
     "output_type": "stream",
     "text": [
      "Información del DataFrame:\n",
      "\n",
      "Forma del DataFrame: (16598, 11)\n",
      "\n",
      "Indice del DataFrame: RangeIndex(start=0, stop=16598, step=1)\n",
      "\n",
      "Número de filas: 16598\n",
      "\n",
      "Número de filas: 16598\n",
      "\n",
      "Media por columnas:\n",
      "Rank            8300.605254\n",
      "Year            2006.406443\n",
      "NA_Sales           0.264667\n",
      "EU_Sales           0.146652\n",
      "JP_Sales           0.077782\n",
      "Other_Sales        0.048063\n",
      "Global_Sales       0.537441\n",
      "dtype: float64\n",
      "\n",
      "Valores maximos por columnas:\n",
      "Rank            16600.00\n",
      "Year             2020.00\n",
      "NA_Sales           41.49\n",
      "EU_Sales           29.02\n",
      "JP_Sales           10.22\n",
      "Other_Sales        10.57\n",
      "Global_Sales       82.74\n",
      "dtype: float64\n",
      "\n",
      "Valores minimos por columnas:\n",
      "Rank               1.00\n",
      "Year            1980.00\n",
      "NA_Sales           0.00\n",
      "EU_Sales           0.00\n",
      "JP_Sales           0.00\n",
      "Other_Sales        0.00\n",
      "Global_Sales       0.01\n",
      "dtype: float64\n",
      "\n",
      "Mediana por columnas:\n",
      "Rank            8300.50\n",
      "Year            2007.00\n",
      "NA_Sales           0.08\n",
      "EU_Sales           0.02\n",
      "JP_Sales           0.00\n",
      "Other_Sales        0.01\n",
      "Global_Sales       0.17\n",
      "dtype: float64\n",
      "\n",
      "Desviacion tipica por columnas:\n",
      "Rank            4791.853933\n",
      "Year               5.828981\n",
      "NA_Sales           0.816683\n",
      "EU_Sales           0.505351\n",
      "JP_Sales           0.309291\n",
      "Other_Sales        0.188588\n",
      "Global_Sales       1.555028\n",
      "dtype: float64\n"
     ]
    }
   ],
   "source": [
    "# 1. Cargamos el dataset\n",
    "try:\n",
    "    df = pd.read_csv(\"vg_sales.csv\")\n",
    "except FileNotFoundError:\n",
    "    print(\"Error: El archivo 'vg_sales.csv' no se encontro. Asegurate de que este en el mismo directorio que este script o especifica la ruta correcta.\")\n",
    "    exit()\n",
    "\n",
    "# 2. Mostramos la informacion solicitada\n",
    "\n",
    "print(\"Información del DataFrame:\\n\")\n",
    "\n",
    "# a) Forma del DataFrame (filas, columnas)\n",
    "print(f\"Forma del DataFrame: {df.shape}\")\n",
    "\n",
    "# b) El indice\n",
    "print(f\"\\nIndice del DataFrame: {df.index}\")\n",
    "\n",
    "# c) Numero de filas\n",
    "print(f\"\\nNúmero de filas: {len(df)}\")\n",
    "# o tambien : \n",
    "print(f\"\\nNúmero de filas: {df.shape[0]}\")\n",
    "\n",
    "# d) La media por columnas\n",
    "print(f\"\\nMedia por columnas:\\n{df.mean(numeric_only=True)}\")\n",
    "\n",
    "# e) Los valores maximos por columnas\n",
    "print(f\"\\nValores maximos por columnas:\\n{df.max(numeric_only=True)}\")\n",
    "\n",
    "# f) Los valores minimos por columnas\n",
    "print(f\"\\nValores minimos por columnas:\\n{df.min(numeric_only=True)}\")\n",
    "\n",
    "# g) La mediana por columnas\n",
    "print(f\"\\nMediana por columnas:\\n{df.median(numeric_only=True)}\")\n",
    "\n",
    "# h) La desviacion tipica por columnas\n",
    "print(f\"\\nDesviacion tipica por columnas:\\n{df.std(numeric_only=True)}\")\n"
   ]
  },
  {
   "cell_type": "markdown",
   "metadata": {
    "id": "35cd-RMurSpm"
   },
   "source": [
    "---\n",
    "## Ejercicio 3 (1 pto.)"
   ]
  },
  {
   "cell_type": "markdown",
   "metadata": {
    "id": "763Tb--BrTVD"
   },
   "source": [
    "Partiendo de la lista de listas \"data\" crea una matriz de NumPy.\n",
    "\n",
    "Muestra un gráfico de líneas teniendo en cuenta que la primera fila son los datos del eje X y la segunda fila son los datos del eje Y. Por último, el gráfico debe añadir lo siguiente:\n",
    "\n",
    "*   Deberá tener el título \"Gráfico de líneas\"\n",
    "*   En el eje X debe aparecer el rótulo \"Abscisas\"\n",
    "*   En el eje Y debe aparecer el rótulo \"Ordenadas\"\n",
    "\n",
    "data = [[0,1,2,3,4,5,6,7,8,9],[0,9,1,8,2,7,3,6,4,5]]"
   ]
  },
  {
   "cell_type": "code",
   "execution_count": 4,
   "metadata": {
    "id": "U9YRloyYrThA"
   },
   "outputs": [
    {
     "data": {
      "image/png": "[encoded data removed]",
      "text/plain": [
       "<Figure size 640x480 with 1 Axes>"
      ]
     },
     "metadata": {},
     "output_type": "display_data"
    }
   ],
   "source": [
    "# Los datos de 'data':\n",
    "data = [[0, 1, 2, 3, 4, 5, 6, 7, 8, 9], [0, 9, 1, 8, 2, 7, 3, 6, 4, 5]]\n",
    "\n",
    "# 1. Creamos la matriz en NumPy\n",
    "matriz = np.array(data)\n",
    "\n",
    "# 2. Extraemos los datos para el grafico\n",
    "x = matriz[0, :]  # Primera fila (eje X)\n",
    "y = matriz[1, :]  # Segunda fila (eje Y)\n",
    "\n",
    "# 3. Creamos el grafico de lineas\n",
    "plt.plot(x, y)\n",
    "\n",
    "# 4. Añadimos el titulo y las etiquetas\n",
    "plt.title(\"Grafico de lineas\")\n",
    "plt.xlabel(\"Abscisas\")\n",
    "plt.ylabel(\"Ordenadas\")\n",
    "\n",
    "# 5. Mostramos el resultado del grafico\n",
    "plt.show()\n"
   ]
  },
  {
   "cell_type": "markdown",
   "metadata": {
    "id": "sBjnAsUvrUzi"
   },
   "source": [
    "---\n",
    "## Ejercicio 4 (1.5 ptos.)"
   ]
  },
  {
   "cell_type": "markdown",
   "metadata": {
    "id": "lsJM0MOprVuF"
   },
   "source": [
    "Genera una matriz (50 filas x 2 columnas) de datos aleatorios entre 0 y 1 con NumPy. Muestra un gráfico de dispersión teniendo en cuenta que los datos de la primera columna serán los valores del eje X, mientras que los datos de la segunda columna serán los valores del eje Y."
   ]
  },
  {
   "cell_type": "code",
   "execution_count": 5,
   "metadata": {
    "id": "DdQeRgJYrV-o"
   },
   "outputs": [
    {
     "data": {
      "image/png": "[encoded data removed]",
      "text/plain": [
       "<Figure size 640x480 with 1 Axes>"
      ]
     },
     "metadata": {},
     "output_type": "display_data"
    }
   ],
   "source": [
    "# 1. Generamos la matriz de datos aleatorios\n",
    "matriz = np.random.rand(50, 2)\n",
    "\n",
    "# 2. Extraemos los datos para el grafico\n",
    "x = matriz[:, 0]  # Primera columna (eje X)\n",
    "y = matriz[:, 1]  # Segunda columna (eje Y)\n",
    "\n",
    "# 3. Creamos el grafico de dispersion\n",
    "plt.scatter(x, y)\n",
    "\n",
    "# 4. Añadimos las etiquetas (opcional, pero recomendable)\n",
    "plt.xlabel(\"Eje X\")\n",
    "plt.ylabel(\"Eje Y\")\n",
    "plt.title(\"Grafico de Dispersion\")\n",
    "\n",
    "# 5. Mostramos el gráfico\n",
    "plt.show()\n"
   ]
  },
  {
   "cell_type": "markdown",
   "metadata": {
    "id": "-M1t6ywGrWRs"
   },
   "source": [
    "---\n",
    "## Ejercicio 5 (2.5 ptos.)"
   ]
  },
  {
   "cell_type": "markdown",
   "metadata": {
    "id": "P_jL-6CfrXC9"
   },
   "source": [
    "Partimos del dataset **\"vg_sales.csv\"** importado anteriormente. Este dataset contiene una lista de videojuegos con más de 100.000 copias vendidas. En concreto tiene las siguientes columnas:\n",
    "\n",
    "*   **Rank** - Posición en el ranking de ventas\n",
    "*   **Name** - Nombre del videojuego\n",
    "*   **Platform** - Plataforma del videojuego (PC,PS4, etc.)\n",
    "*   **Year** - Año de publicación del videojuego\n",
    "*   **Genre** - Género del videojuego\n",
    "*   **Publisher** - Publicador\n",
    "*   **NA_Sales** - Ventas en Norte América (en millones)\n",
    "*   **EU_Sales** - Ventas en Europa (en millones)\n",
    "*   **JP_Sales** - Ventas en Japón (en millones)\n",
    "*   **Other_Sales** - Ventas en el resto del mundo (en millones)\n",
    "*   **Global_Sales** - Ventas totales en todo el mundo (en millones)\n",
    "\n",
    "Mostrar del contenido del dataset los siguientes apartados:\n",
    "\n",
    "*   Una descripción básica de su contenido\n",
    "*   Muestra los nombres de sus columnas\n",
    "*   Del primer elemento del dataset (primera fila), muestra un gráfico de barras comparando las ventas que ha obtenido en los siguientes campos:\n",
    "    *  NA_Sales\n",
    "    *  EU_Sales\n",
    "    *  JP_Sales\n",
    "    *  Other_Sales\n",
    "    *  Global_Sales\n",
    "\n",
    "Por último, como título del gráfico de barras muestra el nombre del videojuego al que pertenece (campo \"Name\")"
   ]
  },
  {
   "cell_type": "code",
   "execution_count": 6,
   "metadata": {
    "id": "bpXGMds4rXTY"
   },
   "outputs": [
    {
     "name": "stdout",
     "output_type": "stream",
     "text": [
      "Descripcion del dataset:\n",
      "                Rank                         Name Platform          Year  \\\n",
      "count   16598.000000                        16598    16598  16327.000000   \n",
      "unique           NaN                        11493       31           NaN   \n",
      "top              NaN  Need for Speed: Most Wanted       DS           NaN   \n",
      "freq             NaN                           12     2163           NaN   \n",
      "mean     8300.605254                          NaN      NaN   2006.406443   \n",
      "std      4791.853933                          NaN      NaN      5.828981   \n",
      "min         1.000000                          NaN      NaN   1980.000000   \n",
      "25%      4151.250000                          NaN      NaN   2003.000000   \n",
      "50%      8300.500000                          NaN      NaN   2007.000000   \n",
      "75%     12449.750000                          NaN      NaN   2010.000000   \n",
      "max     16600.000000                          NaN      NaN   2020.000000   \n",
      "\n",
      "         Genre        Publisher      NA_Sales      EU_Sales      JP_Sales  \\\n",
      "count    16598            16540  16598.000000  16598.000000  16598.000000   \n",
      "unique      12              578           NaN           NaN           NaN   \n",
      "top     Action  Electronic Arts           NaN           NaN           NaN   \n",
      "freq      3316             1351           NaN           NaN           NaN   \n",
      "mean       NaN              NaN      0.264667      0.146652      0.077782   \n",
      "std        NaN              NaN      0.816683      0.505351      0.309291   \n",
      "min        NaN              NaN      0.000000      0.000000      0.000000   \n",
      "25%        NaN              NaN      0.000000      0.000000      0.000000   \n",
      "50%        NaN              NaN      0.080000      0.020000      0.000000   \n",
      "75%        NaN              NaN      0.240000      0.110000      0.040000   \n",
      "max        NaN              NaN     41.490000     29.020000     10.220000   \n",
      "\n",
      "         Other_Sales  Global_Sales  \n",
      "count   16598.000000  16598.000000  \n",
      "unique           NaN           NaN  \n",
      "top              NaN           NaN  \n",
      "freq             NaN           NaN  \n",
      "mean        0.048063      0.537441  \n",
      "std         0.188588      1.555028  \n",
      "min         0.000000      0.010000  \n",
      "25%         0.000000      0.060000  \n",
      "50%         0.010000      0.170000  \n",
      "75%         0.040000      0.470000  \n",
      "max        10.570000     82.740000  \n",
      "\n",
      "Nombres de las columnas:\n",
      "['Rank', 'Name', 'Platform', 'Year', 'Genre', 'Publisher', 'NA_Sales', 'EU_Sales', 'JP_Sales', 'Other_Sales', 'Global_Sales']\n"
     ]
    },
    {
     "data": {
      "image/png": "[encoded data removed]",
      "text/plain": [
       "<Figure size 640x480 with 1 Axes>"
      ]
     },
     "metadata": {},
     "output_type": "display_data"
    }
   ],
   "source": [
    "# 1. Cargamos el dataset\n",
    "try:\n",
    "    df = pd.read_csv(\"vg_sales.csv\")\n",
    "except FileNotFoundError:\n",
    "    print(\"Error: El archivo 'vg_sales.csv' no se encontro. Asegurate de que este en el mismo directorio que este script o especifica la ruta correcta.\")\n",
    "    exit()\n",
    "\n",
    "# 2. Descripcion basica del contenido del dataset\n",
    "print(\"Descripcion del dataset:\")\n",
    "print(df.describe(include='all'))\n",
    "\n",
    "# 3. Los nombres de las columnas\n",
    "print(\"\\nNombres de las columnas:\")\n",
    "print(df.columns.tolist())\n",
    "\n",
    "# 4. Grafico de barras para el primer elemento\n",
    "primer_elemento = df.iloc[0]  # Acceder a la primera fila\n",
    "ventas = primer_elemento[['NA_Sales', 'EU_Sales', 'JP_Sales', 'Other_Sales', 'Global_Sales']]\n",
    "nombres_ventas = ventas.index\n",
    "valores_ventas = ventas.values\n",
    "\n",
    "plt.bar(nombres_ventas, valores_ventas)\n",
    "plt.title(primer_elemento['Name'])  # Ponemos el titulo del grafico con el nombre del videojuego\n",
    "plt.ylabel(\"Ventas (en millones)\")\n",
    "plt.xlabel(\"Tipo de ventas\")\n",
    "plt.show()\n"
   ]
  },
  {
   "cell_type": "markdown",
   "metadata": {
    "id": "qmLjk4dfrXgx"
   },
   "source": [
    "---\n",
    "## Ejercicio 6 (1 pto.)"
   ]
  },
  {
   "cell_type": "markdown",
   "metadata": {
    "id": "PmnzqKBLrYUs"
   },
   "source": [
    "Partiendo del mismo dataset y juego de la primera fila del ejercicio anterior, Muestra los mismos datos que antes en la gráfica de barras (a excepción del campo \"Global_Sales\") solo que esta vez en un gráfico circular. Como título del gráfico vuelve a utilizar el nombre del videojuego. En cada porción del círculo muestra los porcentajes con el formato \"%1.1f%%\" (parámetro autopct):"
   ]
  },
  {
   "cell_type": "code",
   "execution_count": 7,
   "metadata": {
    "id": "6v9l27LDrYmY"
   },
   "outputs": [
    {
     "data": {
      "image/png": "[encoded data removed]",
      "text/plain": [
       "<Figure size 640x480 with 1 Axes>"
      ]
     },
     "metadata": {},
     "output_type": "display_data"
    }
   ],
   "source": [
    "# 1. Cargamos el dataset\n",
    "try:\n",
    "    df = pd.read_csv(\"vg_sales.csv\")\n",
    "except FileNotFoundError:\n",
    "    print(\"Error: El archivo 'vg_sales.csv' no se encontro. Asegurate de que este en el mismo directorio que este script o especifica la ruta correcta.\")\n",
    "    exit()\n",
    "\n",
    "# 2. Seleccionar la primera fila\n",
    "primer_elemento = df.iloc[0]\n",
    "\n",
    "# 3. Extraemos los datos de ventas (excluyendo \"Global_Sales\")\n",
    "ventas = primer_elemento[['NA_Sales', 'EU_Sales', 'JP_Sales', 'Other_Sales']]\n",
    "nombres_ventas = ventas.index\n",
    "valores_ventas = ventas.values\n",
    "# 4. Creamos el grafico circular\n",
    "plt.pie(valores_ventas, labels=nombres_ventas, autopct=\"%1.1f%%\")\n",
    "plt.title(primer_elemento['Name'])\n",
    "plt.show()\n"
   ]
  },
  {
   "cell_type": "markdown",
   "metadata": {
    "id": "7f9-1mBxrcdz"
   },
   "source": [
    "---\n",
    "## Ejercicio 7 (2,5 ptos.)"
   ]
  },
  {
   "cell_type": "markdown",
   "metadata": {
    "id": "H43GzFuDrdTS"
   },
   "source": [
    "Partimos del dataset **\"IMDB_Movie_Data.csv\"** que contiene la siguiente información por columnas:\n",
    "\n",
    "*   **Rank**: Posición en el ranking\n",
    "*   **Title**: Título de la película\n",
    "*   **Genre**: Género o géneros separados por comas\n",
    "*   **Description**: Descripción corta\n",
    "*   **Director**: Nombre del director\n",
    "*   **Actors**: Actores separados por comas\n",
    "*   **Year**: Año de publicación\n",
    "*   **Runtime**: Duración (minutos)\n",
    "*   **Rating**: Media de la nota de los votos de los usuarios\n",
    "*   **Votes**: Número de votos\n",
    "*   **Revenue**: Ingresos producidos por la película (millones)\n",
    "*   **Metascrore**: Un promedio agregado de puntajes críticos. Los valores están entre 0 y 100. Las puntuaciones más altas representan críticas positivas.\n",
    "\n",
    "Analiza el dataset y resuelve las siguientes cuestiones:   \n",
    "1. Mejor taquilla y peor taquilla (Revenue (Millions)).\n",
    "2. Director con más películas y director con menos películas.\n",
    "3. Las diez películas más taquilleras.\n",
    "4. Lista de películas dirigidas por Christopher Nolan.\n",
    "5. Películas en las que interviene la actriz Anne Hathaway.\n",
    "6. Película más taquillera en la que ha intervenido Anne Hathaway.   \n",
    "\n",
    "**NOTA: Deja en el código con comentarios todo el trabajo que hagas sobre el dataset**"
   ]
  },
  {
   "cell_type": "code",
   "execution_count": 8,
   "metadata": {
    "id": "r3AMpDmArdiq"
   },
   "outputs": [
    {
     "name": "stdout",
     "output_type": "stream",
     "text": [
      "\n",
      "Mejor y peor taquilla:\n",
      "   Mejor taquilla: Star Wars: Episode VII - The Force Awakens (936.63 millones)\n",
      "   Peor taquilla: A Kind of Murder (0.0 millones)\n",
      "\n",
      "Director con mas y menos peliculas:\n",
      "   Director con mas peliculas: Ridley Scott (8 peliculas)\n",
      "   Director con menos peliculas: John Madden (1 pelicula)\n",
      "\n",
      "Las diez peliculas mas taquilleras:\n",
      "   Star Wars: Episode VII - The Force Awakens (936.63 millones)\n",
      "   Avatar (760.51 millones)\n",
      "   Jurassic World (652.18 millones)\n",
      "   The Avengers (623.28 millones)\n",
      "   The Dark Knight (533.32 millones)\n",
      "   Rogue One (532.17 millones)\n",
      "   Finding Dory (486.29 millones)\n",
      "   Avengers: Age of Ultron (458.99 millones)\n",
      "   The Dark Knight Rises (448.13 millones)\n",
      "   The Hunger Games: Catching Fire (424.65 millones)\n",
      "\n",
      "Peliculas dirigidas por Christopher Nolan:\n",
      "   Interstellar\n",
      "   The Dark Knight\n",
      "   The Prestige\n",
      "   Inception\n",
      "   The Dark Knight Rises\n",
      "\n",
      "Películas en las que interviene Anne Hathaway:\n",
      "   Colossal\n",
      "   Interstellar\n",
      "   The Dark Knight Rises\n",
      "   Les Misérables\n",
      "   The Devil Wears Prada\n",
      "   Alice Through the Looking Glass\n",
      "   Alice in Wonderland\n",
      "   The Intern\n",
      "   Love & Other Drugs\n",
      "   One Day\n",
      "   Rio\n",
      "   Bride Wars\n",
      "\n",
      "Pelicula mas taquillera en la que ha intervenido Anne Hathaway:\n",
      "   The Dark Knight Rises (448.13 millones)\n"
     ]
    }
   ],
   "source": [
    "# 1. Cargamos el dataset\n",
    "try:\n",
    "    df = pd.read_csv(\"IMDB_Movie_Data.csv\")\n",
    "except FileNotFoundError:\n",
    "    print(\"Error: El archivo 'IMDB_Movie_Data.csv' no se encontro. Asegurate de que este en el mismo directorio que este script o especifica la ruta correcta.\")\n",
    "    exit()\n",
    "\n",
    "# 2. Analizamos del dataset y respondemos a las preguntas:\n",
    "\n",
    "# a) Mejor taquilla y peor taquilla\n",
    "print(\"\\nMejor y peor taquilla:\")\n",
    "max_revenue = df[\"Revenue (Millions)\"].max()  # Obtenemos el valor maximo de la columna \"Revenue (Millions)\"\n",
    "min_revenue = df[\"Revenue (Millions)\"].min()  # Obtenemos el valor minimo\n",
    "best_box_office = df[df[\"Revenue (Millions)\"] == max_revenue][\"Title\"].iloc[0]  # Buscamos la pelicula con el valor maximo\n",
    "worst_box_office = df[df[\"Revenue (Millions)\"] == min_revenue][\"Title\"].iloc[0] # Buscamos la pelicula con el valor minimo\n",
    "\n",
    "print(f\"   Mejor taquilla: {best_box_office} ({max_revenue} millones)\")\n",
    "print(f\"   Peor taquilla: {worst_box_office} ({min_revenue} millones)\")\n",
    "\n",
    "# b) El director con mas peliculas y director con menos peliculas\n",
    "print(\"\\nDirector con mas y menos peliculas:\")\n",
    "director_counts = df[\"Director\"].value_counts()  # Contamos cuantas veces aparece cada director\n",
    "most_common_director = director_counts.index[0]  # Obtenemos el director que mas se repite\n",
    "least_common_director = director_counts.index[-1]  # Obtenemos el director que menos se repite\n",
    "most_common_director_count = director_counts.iloc[0] # Obtenemos la cantidad de peliculas del director que mas se repite\n",
    "least_common_director_count = director_counts.iloc[-1] # Obtenemos la cantidad de peliculas del director que menos se repite\n",
    "\n",
    "print(f\"   Director con mas peliculas: {most_common_director} ({most_common_director_count} peliculas)\")\n",
    "print(f\"   Director con menos peliculas: {least_common_director} ({least_common_director_count} pelicula)\")\n",
    "\n",
    "# c) Las diez peliculas mas taquilleras\n",
    "print(\"\\nLas diez peliculas mas taquilleras:\")\n",
    "top_ten_box_office = df.sort_values(by=\"Revenue (Millions)\", ascending=False).head(10)  # Ordenamos por taquilla y en descendente las 10 primeras preliculas\n",
    "for index, row in top_ten_box_office.iterrows():  # Iteramos las 10 primeras\n",
    "    print(f\"   {row['Title']} ({row['Revenue (Millions)']} millones)\")\n",
    "\n",
    "# d) Lista de peliculas dirigidas por Christopher Nolan\n",
    "print(\"\\nPeliculas dirigidas por Christopher Nolan:\")\n",
    "nolan_movies = df[df[\"Director\"] == \"Christopher Nolan\"]  # Filtramos las peliculas de Christopher Nolan\n",
    "for index, row in nolan_movies.iterrows():  # Iteramos las peliculas\n",
    "    print(f\"   {row['Title']}\")\n",
    "\n",
    "# e) Las peliculas en las que interviene la actriz Anne Hathaway\n",
    "print(\"\\nPelículas en las que interviene Anne Hathaway:\")\n",
    "hathaway_movies = df[df[\"Actors\"].str.contains(\"Anne Hathaway\")]  # Filtramos las peliculas en las que aparezca Anne Hathaway\n",
    "for index, row in hathaway_movies.iterrows():  # Iteramos las peliculas\n",
    "    print(f\"   {row['Title']}\")\n",
    "\n",
    "# f) Mostramos la pelicula mas taquillera en la que ha intervenido Anne Hathaway\n",
    "print(\"\\nPelicula mas taquillera en la que ha intervenido Anne Hathaway:\")\n",
    "hathaway_best_movie = hathaway_movies.sort_values(by=\"Revenue (Millions)\", ascending=False).iloc[0] # Ordenamos por taquilla y en descendente para tomar la primera\n",
    "print(f\"   {hathaway_best_movie['Title']} ({hathaway_best_movie['Revenue (Millions)']} millones)\")\n"
   ]
  }
 ],
 "metadata": {
  "colab": {
   "authorship_tag": "ABX9TyMlBztaNlAmxbowl7GkH4Ru",
   "collapsed_sections": [],
   "name": "06-Examen_Apellido1_Nombre.ipynb",
   "provenance": []
  },
  "kernelspec": {
   "display_name": "Python 3",
   "name": "python3"
  },
  "language_info": {
   "codemirror_mode": {
    "name": "ipython",
    "version": 3
   },
   "file_extension": ".py",
   "mimetype": "text/x-python",
   "name": "python",
   "nbconvert_exporter": "python",
   "pygments_lexer": "ipython3",
   "version": "3.11.11"
  }
 },
 "nbformat": 4,
 "nbformat_minor": 0
}
