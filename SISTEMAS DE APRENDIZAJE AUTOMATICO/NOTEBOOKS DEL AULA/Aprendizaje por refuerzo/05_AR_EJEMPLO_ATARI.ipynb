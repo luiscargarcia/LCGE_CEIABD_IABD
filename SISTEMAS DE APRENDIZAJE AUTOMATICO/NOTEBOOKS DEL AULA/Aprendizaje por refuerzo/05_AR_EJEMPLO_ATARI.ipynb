{
 "cells": [
  {
   "cell_type": "markdown",
   "metadata": {},
   "source": [
    "# EJEMPLO RL CON ATARI\n",
    "\n",
    "````\n",
    "$ pip install \"gymnasium[atari]\"\n",
    "$ pip install autorom[accept-rom-license]\n",
    "$ AutoROM --accept-license\n",
    "$ apt-get install cmake\n",
    "$ apt-get install python3-dev\n",
    "$ pip install atari-py\n",
    "$ pip install moviepy==1.0.3\n",
    "````"
   ]
  },
  {
   "cell_type": "code",
   "execution_count": 1,
   "metadata": {},
   "outputs": [
    {
     "name": "stderr",
     "output_type": "stream",
     "text": [
      "A.L.E: Arcade Learning Environment (version 0.10.2+c9d4b19)\n",
      "[Powered by Stella]\n"
     ]
    }
   ],
   "source": [
    "import gymnasium as gym\n",
    "import ale_py\n",
    "env = gym.make(\"ALE/Breakout-v5\")"
   ]
  },
  {
   "cell_type": "code",
   "execution_count": 2,
   "metadata": {},
   "outputs": [],
   "source": [
    "epochs = 0\n",
    "\n",
    "frames = []  # for animation\n",
    "done = False\n",
    "\n",
    "env = gym.make(\"ALE/Breakout-v5\", render_mode=\"rgb_array\")\n",
    "observation, info = env.reset()\n",
    "\n",
    "while not done:\n",
    "    action = env.action_space.sample()\n",
    "    observation, reward, terminated, truncated, info = env.step(action)\n",
    "\n",
    "    # Put each rendered frame into dict for animation\n",
    "    frames.append(\n",
    "        {\n",
    "            \"frame\": env.render(),\n",
    "            \"state\": observation,\n",
    "            \"action\": action,\n",
    "            \"reward\": reward,\n",
    "        }\n",
    "    )\n",
    "\n",
    "    epochs += 1\n",
    "    if epochs == 1000:\n",
    "        break"
   ]
  },
  {
   "cell_type": "code",
   "execution_count": 4,
   "metadata": {},
   "outputs": [
    {
     "name": "stderr",
     "output_type": "stream",
     "text": [
      "error: XDG_RUNTIME_DIR is invalid or not set in the environment.\n"
     ]
    },
    {
     "name": "stdout",
     "output_type": "stream",
     "text": [
      "MoviePy - Building file animation.gif with imageio.\n"
     ]
    },
    {
     "name": "stderr",
     "output_type": "stream",
     "text": [
      "                                                                 \r"
     ]
    }
   ],
   "source": [
    "# !pip install moviepy\n",
    "\n",
    "from moviepy.editor import ImageSequenceClip\n",
    " \n",
    "\n",
    "def create_gif(frames: dict, filename, fps=100):\n",
    "    \"\"\"\n",
    "    Creates a GIF animation from a list of RGBA NumPy arrays.\n",
    "\n",
    "    Args:\n",
    "        frames: A list of RGBA NumPy arrays representing the animation frames.\n",
    "        filename: The output filename for the GIF animation.\n",
    "        fps: The frames per second of the animation (default: 10).\n",
    "    \"\"\"\n",
    "    rgba_frames = [frame[\"frame\"] for frame in frames]\n",
    "\n",
    "    clip = ImageSequenceClip(rgba_frames, fps=fps)\n",
    "    clip.write_gif(filename, fps=fps)\n",
    "\n",
    "# Example usage\n",
    "create_gif(frames, \"animation.gif\") #saves the GIF locally\n"
   ]
  },
  {
   "cell_type": "code",
   "execution_count": 6,
   "metadata": {},
   "outputs": [],
   "source": [
    "from moviepy.config import change_settings\n",
    "change_settings({\"FFMPEG_BINARY\": \"/usr/bin/ffmpeg\"})"
   ]
  },
  {
   "cell_type": "code",
   "execution_count": 1,
   "metadata": {},
   "outputs": [
    {
     "name": "stdout",
     "output_type": "stream",
     "text": [
      "The position of the car along the x-axis is -0.4452087879180908 (m)\n",
      "The velocity of the car is 0.0 (m/s)\n"
     ]
    },
    {
     "name": "stderr",
     "output_type": "stream",
     "text": [
      "/usr/local/lib/python3.11/site-packages/gymnasium/envs/registration.py:527: UserWarning: \u001b[33mWARN: Using the latest versioned environment `MountainCar-v0` instead of the unversioned environment `MountainCar`.\u001b[0m\n",
      "  logger.warn(\n"
     ]
    }
   ],
   "source": [
    "# Import the gymnasium library\n",
    "import gymnasium as gym\n",
    "\n",
    "# Create the environment\n",
    "env = gym.make('MountainCar', render_mode='rgb_array')\n",
    "\n",
    "# Get the initial state\n",
    "initial_state, info = env.reset(seed=42)\n",
    "\n",
    "position = initial_state[0]\n",
    "velocity = initial_state[1]\n",
    "\n",
    "print(f\"The position of the car along the x-axis is {position} (m)\")\n",
    "print(f\"The velocity of the car is {velocity} (m/s)\")"
   ]
  },
  {
   "cell_type": "code",
   "execution_count": 3,
   "metadata": {},
   "outputs": [
    {
     "name": "stderr",
     "output_type": "stream",
     "text": [
      "/usr/local/lib/python3.11/site-packages/gymnasium/envs/registration.py:527: UserWarning: \u001b[33mWARN: Using the latest versioned environment `MountainCar-v0` instead of the unversioned environment `MountainCar`.\u001b[0m\n",
      "  logger.warn(\n"
     ]
    },
    {
     "data": {
      "image/png": "[encoded data removed]",
      "text/plain": [
       "<Figure size 640x480 with 1 Axes>"
      ]
     },
     "metadata": {},
     "output_type": "display_data"
    }
   ],
   "source": [
    "import matplotlib.pyplot as plt\n",
    "env = gym.make('MountainCar', render_mode='rgb_array')\n",
    "initial_state, _ = env.reset()\n",
    "\n",
    "# Complete the render function\n",
    "def render():\n",
    "    state_image = env.render()\n",
    "    plt.imshow(state_image)\n",
    "    plt.show()\n",
    "\n",
    "# Call the render function    \n",
    "render()"
   ]
  },
  {
   "cell_type": "markdown",
   "metadata": {},
   "source": []
  }
 ],
 "metadata": {
  "kernelspec": {
   "display_name": "Python 3",
   "language": "python",
   "name": "python3"
  },
  "language_info": {
   "codemirror_mode": {
    "name": "ipython",
    "version": 3
   },
   "file_extension": ".py",
   "mimetype": "text/x-python",
   "name": "python",
   "nbconvert_exporter": "python",
   "pygments_lexer": "ipython3",
   "version": "3.11.11"
  }
 },
 "nbformat": 4,
 "nbformat_minor": 2
}
