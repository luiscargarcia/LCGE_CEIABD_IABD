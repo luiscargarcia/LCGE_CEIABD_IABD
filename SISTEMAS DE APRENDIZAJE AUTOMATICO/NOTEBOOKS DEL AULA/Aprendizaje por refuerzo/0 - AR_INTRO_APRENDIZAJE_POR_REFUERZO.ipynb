{
 "cells": [
  {
   "cell_type": "markdown",
   "id": "d7425342",
   "metadata": {},
   "source": [
    "# 1. Introducción al Aprendizaje por Refuerzo (Reinforcement Learning)"
   ]
  },
  {
   "cell_type": "markdown",
   "id": "d99f640b",
   "metadata": {},
   "source": [
    "### 1.1 Los campos del Machine Learning"
   ]
  },
  {
   "cell_type": "markdown",
   "id": "24522b87",
   "metadata": {},
   "source": [
    "Existen 3 grandes campos:\n",
    "\n",
    "- **Aprendizaje no Supervisado**: tenemos datos pero **NO** sabemos a qué grupo pertenece cada dato.\n",
    "- **Aprendizaje Supervisado**: tenemos datos y **SÍ** sabemos a qué grupo pertenece cada dato (etiquetas).\n",
    "- **Aprendizaje por Refuerzo**: no tenemos datos, los datos se obtienen explorando un entorno.\n"
   ]
  },
  {
   "cell_type": "markdown",
   "id": "54c3048d",
   "metadata": {},
   "source": [
    "![esquema_ML](https://la.mathworks.com/discovery/reinforcement-learning/_jcr_content/mainParsys3/discoverysubsection/mainParsys/image.adapt.full.medium.png/1630398182247.png)"
   ]
  },
  {
   "cell_type": "markdown",
   "id": "f4b822ee",
   "metadata": {},
   "source": [
    "### 1.2 Reinforcement Learning"
   ]
  },
  {
   "cell_type": "markdown",
   "id": "7e46eff1",
   "metadata": {},
   "source": [
    "![Reinforcement Learning simple schema](https://la.mathworks.com/discovery/reinforcement-learning/_jcr_content/mainParsys3/discoverysubsection_603098216/mainParsys3/image.adapt.full.medium.png/1630398182451.png)"
   ]
  },
  {
   "cell_type": "markdown",
   "id": "f3f3b0fb",
   "metadata": {},
   "source": [
    "#### CICLO DE APRENDIZAJE   \n",
    "\n",
    "1. El **agente** obtiene unas **observaciones** del entorno\n",
    "2. En función a esas **observaciones** decide realizar una **acción**\n",
    "3. Esa **acción** le lleva a obtener una **recompensa** y nuevas **observaciones**\n",
    "4. Vuelve al paso 2."
   ]
  },
  {
   "cell_type": "markdown",
   "id": "7c8cd723",
   "metadata": {},
   "source": [
    "#### ¿Cual sería el Agente, el entorno, las acciones, la recompensa y las observaciones en este clásico ejemplo?"
   ]
  },
  {
   "cell_type": "markdown",
   "id": "a1ba0272",
   "metadata": {},
   "source": [
    "![mice in a maze](https://user-images.githubusercontent.com/44867923/139915800-8224bede-c52b-47d1-bb22-2e9624687831.jpg)"
   ]
  },
  {
   "cell_type": "markdown",
   "id": "a802dc34",
   "metadata": {},
   "source": [
    "### 1.3 Obtener datos: Equilibrio entre exploración y explotación"
   ]
  },
  {
   "cell_type": "markdown",
   "id": "5f74ecea",
   "metadata": {},
   "source": [
    "1. Te acabas de mudar. No conoces nada de tu barrio.\n",
    "2. Tienes hambre (**recompensa** negativa) y quieres comer.\n",
    "3. Observas que existen varios restaurantes en tu calle (**observaciones**)\n",
    "4. Eliges un restaurante (tomas una **acción**), no conoces ninguno asi que cómo lo haces? **De forma aleatoria**\n",
    "5. Te gusta (**recompensa positiva**) y repites porque vas a lo seguro (**Explotación**).\n",
    "6. Cierto día decides arriesgar con un nuevo sitio (**Exploración**).\n",
    "7. Puede ser que te guste más y vuelvas (**Explotación**) o puede ser que no te guste y pruebes nuevos sitios (**Exploración**) o vuelvas al anterior (**Explotación**)."
   ]
  },
  {
   "cell_type": "markdown",
   "id": "5a025ca0",
   "metadata": {},
   "source": [
    "![explotationvsexploration](https://steemitimages.com/640x0/https://steemitimages.com/DQmXH5tjBiS41iNtcyvh7s7Rj5z3SqGkcwoaV2otRJNx3FT/Exploration_vs._Exploitation.png)"
   ]
  },
  {
   "cell_type": "markdown",
   "id": "0fbb7185",
   "metadata": {},
   "source": [
    "### 1.4 Objetivo del RL: Maximizar la recompensa a largo plazo"
   ]
  },
  {
   "cell_type": "markdown",
   "id": "5ae07579",
   "metadata": {},
   "source": [
    "1. Madrugas (recompensa negativa)\n",
    "2. Vas a clase, *con una asignatura aburrida* (recompensa negativa)\n",
    "3. Te fuerzas a estudiar cientos de diapositivas con mucho texto (recompensa negativa).\n",
    "4. ¿Por qué? -> **Para maximizar la recompensa a largo plazo**.\n",
    "4. Si estudio, trabajaré en lo que me gusta. (recompensa positiva).\n",
    "6. Puedo aspirar a trabajos mejor remunerados (recompensa positiva).\n",
    "7. Con ese dinero puedo vivir en mejores condiciones(recompensa positiva)."
   ]
  },
  {
   "cell_type": "markdown",
   "id": "6bfdd42a",
   "metadata": {},
   "source": [
    "#### Exploración vs. Explotación\n",
    "\n",
    "Supongamos que se desea enseñar al gato Bob a utilizar varios rascadores en una habitación en lugar de usar los muebles. Por tanto, Bob es el agente, el que aprende y el que toma las decisiones. Tiene que aprender qué cosas puede arañar (alfombras y postes) y cuáles no (sofás y cortinas).   \n",
    "\n",
    "Como un hábil jugador de ajedrez, nuestro agente buscará las recompensas más gratificantes. Esto pone de manifiesto un dilema clásico en el aprendizaje por refuerzo: **exploración** frente a **explotación**.\n",
    "\n",
    "Mientras que un puesto tentador puede ofrecer una gratificación inmediata, una exploración más estratégica podría conducir a un premio gordo más adelante. Al igual que un jugador de ajedrez puede renunciar a una captura para obtener una posición superior, nuestro agente puede optar inicialmente por un puesto subóptimo (exploración) para descubrir el refugio definitivo para rascar (explotación). Esta estrategia a largo plazo es crucial para que los agentes maximicen las recompensas en entornos complejos.\n",
    "\n",
    "En otras palabras, Bob debe equilibrar la **explotación** (ceñirse a lo que funciona mejor) con la **exploración** (aventurarse de vez en cuando a buscar nuevos rascadores). Explorar demasiado puede hacerle perder tiempo, sobre todo en entornos continuos, mientras que explotar demasiado puede hacer que Bob se pierda algo aún mejor.\n",
    "\n",
    "Por suerte, Bob puede adoptar algunas estrategias inteligentes:\n",
    "\n",
    "- *Aprendizaje Epsilon-greedy (voraz)*: Imaginemos por un momento que Bob tiene un \"rascador-metro\" especial que genera números aleatorios. Si el número generado es menor que algún umbral predefinido llamado épsilon, Bob prueba una superficie de rascado aleatoria (exploración). Pero si el número es mayor que épsilon, Bob va a por el puesto que mejor le parecía antes (explotación).\n",
    "- *Exploración de Boltzmann*: Si Bob sigue rascando cosas que no le parecen bien (obteniendo recompensas negativas), es más probable que explore nuevas opciones (aumento de la exploración). Pero cuando encuentre el rascador perfecto (recompensas positivas), se quedará en ese lugar feliz (explotación).   \n",
    "\n",
    "Utilizando estas estrategias (u otras), Bob puede encontrar un equilibrio entre explorar lo desconocido y ceñirse a lo bueno (explotar)."
   ]
  },
  {
   "cell_type": "markdown",
   "id": "6527ebfa",
   "metadata": {},
   "source": [
    "### 1.5 Reinforcement Learning en la pŕactica\n",
    "\n",
    "[Interesante documental sobre AlphaGo](https://www.youtube.com/watch?v=GIJ7zr4sYx4)"
   ]
  },
  {
   "cell_type": "markdown",
   "id": "6baf2144",
   "metadata": {},
   "source": [
    "#### Importar librerías"
   ]
  },
  {
   "cell_type": "markdown",
   "id": "3a03b87b",
   "metadata": {},
   "source": [
    "Instalación de las siguientes librerías:    \n",
    "\n",
    "- ```pip install swig```     \n",
    "- ```pip install gymnasium[box2d]```"
   ]
  },
  {
   "cell_type": "code",
   "execution_count": 17,
   "id": "eef65dcf",
   "metadata": {},
   "outputs": [],
   "source": [
    "import gymnasium as gym"
   ]
  },
  {
   "cell_type": "code",
   "execution_count": 18,
   "id": "6913cd99",
   "metadata": {},
   "outputs": [],
   "source": [
    "import random\n",
    "from IPython.display import display, clear_output\n",
    "import matplotlib.pyplot as plt\n",
    "import numpy as np\n",
    "import time"
   ]
  },
  {
   "cell_type": "markdown",
   "id": "bd9fe062",
   "metadata": {},
   "source": [
    "#### Funciones para mostrar correctamente el entorno "
   ]
  },
  {
   "cell_type": "code",
   "execution_count": 19,
   "id": "ea06e2fa",
   "metadata": {},
   "outputs": [],
   "source": [
    "# Función para obtener la imagen del entorno correctamente\n",
    "def get_frame(env):\n",
    "    frame = env.render()\n",
    "    if isinstance(frame, dict):  # Algunas versiones de gymnasium devuelven un dict\n",
    "        return frame[\"pixels\"]\n",
    "    return frame"
   ]
  },
  {
   "cell_type": "markdown",
   "id": "8fe58e4f",
   "metadata": {},
   "source": [
    "#### Creación del entorno y juego aleatorio"
   ]
  },
  {
   "cell_type": "code",
   "execution_count": 20,
   "id": "0404e5f2",
   "metadata": {},
   "outputs": [],
   "source": [
    "# Lista de entornos\n",
    "ENV_NAMES = [\"MountainCar-v0\", \"LunarLander-v3\", \"CarRacing-v3\", \"BipedalWalker-v3\", \"CartPole-v1\"]"
   ]
  },
  {
   "cell_type": "code",
   "execution_count": 21,
   "id": "cc5e5791",
   "metadata": {},
   "outputs": [
    {
     "name": "stdout",
     "output_type": "stream",
     "text": [
      "Entorno seleccionado: CartPole-v1\n"
     ]
    }
   ],
   "source": [
    "import random\n",
    "# Seleccionar un entorno aleatorio\n",
    "env_name = random.choice(ENV_NAMES)\n",
    "\n",
    "print(f\"Entorno seleccionado: {env_name}\")"
   ]
  },
  {
   "cell_type": "code",
   "execution_count": 22,
   "id": "bf54363f",
   "metadata": {},
   "outputs": [
    {
     "ename": "TypeError",
     "evalue": "CartPoleEnv.__init__() got an unexpected keyword argument 'continuous' was raised from the environment creator for CartPole-v1 with kwargs ({'render_mode': 'rgb_array', 'continuous': True})",
     "output_type": "error",
     "traceback": [
      "\u001b[0;31m---------------------------------------------------------------------------\u001b[0m",
      "\u001b[0;31mTypeError\u001b[0m                                 Traceback (most recent call last)",
      "File \u001b[0;32m/usr/local/lib/python3.11/site-packages/gymnasium/envs/registration.py:742\u001b[0m, in \u001b[0;36mmake\u001b[0;34m(id, max_episode_steps, disable_env_checker, **kwargs)\u001b[0m\n\u001b[1;32m    741\u001b[0m \u001b[38;5;28;01mtry\u001b[39;00m:\n\u001b[0;32m--> 742\u001b[0m     env \u001b[38;5;241m=\u001b[39m \u001b[43menv_creator\u001b[49m\u001b[43m(\u001b[49m\u001b[38;5;241;43m*\u001b[39;49m\u001b[38;5;241;43m*\u001b[39;49m\u001b[43menv_spec_kwargs\u001b[49m\u001b[43m)\u001b[49m\n\u001b[1;32m    743\u001b[0m \u001b[38;5;28;01mexcept\u001b[39;00m \u001b[38;5;167;01mTypeError\u001b[39;00m \u001b[38;5;28;01mas\u001b[39;00m e:\n",
      "\u001b[0;31mTypeError\u001b[0m: CartPoleEnv.__init__() got an unexpected keyword argument 'continuous'",
      "\nDuring handling of the above exception, another exception occurred:\n",
      "\u001b[0;31mTypeError\u001b[0m                                 Traceback (most recent call last)",
      "Cell \u001b[0;32mIn[22], line 2\u001b[0m\n\u001b[1;32m      1\u001b[0m \u001b[38;5;28;01mif\u001b[39;00m env_name \u001b[38;5;241m==\u001b[39m \u001b[38;5;124m\"\u001b[39m\u001b[38;5;124mCartPole-v1\u001b[39m\u001b[38;5;124m\"\u001b[39m:\n\u001b[0;32m----> 2\u001b[0m     env \u001b[38;5;241m=\u001b[39m \u001b[43mgym\u001b[49m\u001b[38;5;241;43m.\u001b[39;49m\u001b[43mmake\u001b[49m\u001b[43m(\u001b[49m\u001b[43menv_name\u001b[49m\u001b[43m,\u001b[49m\u001b[43m \u001b[49m\u001b[43mrender_mode\u001b[49m\u001b[38;5;241;43m=\u001b[39;49m\u001b[38;5;124;43m\"\u001b[39;49m\u001b[38;5;124;43mrgb_array\u001b[39;49m\u001b[38;5;124;43m\"\u001b[39;49m\u001b[43m,\u001b[49m\u001b[43m \u001b[49m\u001b[43mcontinuous\u001b[49m\u001b[38;5;241;43m=\u001b[39;49m\u001b[38;5;28;43;01mTrue\u001b[39;49;00m\u001b[43m)\u001b[49m  \n\u001b[1;32m      3\u001b[0m     \u001b[38;5;66;03m# el parámetro continuous es necesario para CarRacing, para que acepte acciones continuas.\u001b[39;00m\n\u001b[1;32m      4\u001b[0m     env \u001b[38;5;241m=\u001b[39m gym\u001b[38;5;241m.\u001b[39mmake(env_name, render_mode\u001b[38;5;241m=\u001b[39m\u001b[38;5;124m\"\u001b[39m\u001b[38;5;124mrgb_array\u001b[39m\u001b[38;5;124m\"\u001b[39m)\n",
      "File \u001b[0;32m/usr/local/lib/python3.11/site-packages/gymnasium/envs/registration.py:754\u001b[0m, in \u001b[0;36mmake\u001b[0;34m(id, max_episode_steps, disable_env_checker, **kwargs)\u001b[0m\n\u001b[1;32m    748\u001b[0m         \u001b[38;5;28;01mraise\u001b[39;00m error\u001b[38;5;241m.\u001b[39mError(\n\u001b[1;32m    749\u001b[0m             \u001b[38;5;124mf\u001b[39m\u001b[38;5;124m\"\u001b[39m\u001b[38;5;124mYou passed render_mode=\u001b[39m\u001b[38;5;124m'\u001b[39m\u001b[38;5;124mhuman\u001b[39m\u001b[38;5;124m'\u001b[39m\u001b[38;5;124m although \u001b[39m\u001b[38;5;132;01m{\u001b[39;00menv_spec\u001b[38;5;241m.\u001b[39mid\u001b[38;5;132;01m}\u001b[39;00m\u001b[38;5;124m doesn\u001b[39m\u001b[38;5;124m'\u001b[39m\u001b[38;5;124mt implement human-rendering natively. \u001b[39m\u001b[38;5;124m\"\u001b[39m\n\u001b[1;32m    750\u001b[0m             \u001b[38;5;124m\"\u001b[39m\u001b[38;5;124mGym tried to apply the HumanRendering wrapper but it looks like your environment is using the old \u001b[39m\u001b[38;5;124m\"\u001b[39m\n\u001b[1;32m    751\u001b[0m             \u001b[38;5;124m\"\u001b[39m\u001b[38;5;124mrendering API, which is not supported by the HumanRendering wrapper.\u001b[39m\u001b[38;5;124m\"\u001b[39m\n\u001b[1;32m    752\u001b[0m         ) \u001b[38;5;28;01mfrom\u001b[39;00m\u001b[38;5;250m \u001b[39m\u001b[38;5;21;01me\u001b[39;00m\n\u001b[1;32m    753\u001b[0m     \u001b[38;5;28;01melse\u001b[39;00m:\n\u001b[0;32m--> 754\u001b[0m         \u001b[38;5;28;01mraise\u001b[39;00m \u001b[38;5;28mtype\u001b[39m(e)(\n\u001b[1;32m    755\u001b[0m             \u001b[38;5;124mf\u001b[39m\u001b[38;5;124m\"\u001b[39m\u001b[38;5;132;01m{\u001b[39;00me\u001b[38;5;132;01m}\u001b[39;00m\u001b[38;5;124m was raised from the environment creator for \u001b[39m\u001b[38;5;132;01m{\u001b[39;00menv_spec\u001b[38;5;241m.\u001b[39mid\u001b[38;5;132;01m}\u001b[39;00m\u001b[38;5;124m with kwargs (\u001b[39m\u001b[38;5;132;01m{\u001b[39;00menv_spec_kwargs\u001b[38;5;132;01m}\u001b[39;00m\u001b[38;5;124m)\u001b[39m\u001b[38;5;124m\"\u001b[39m\n\u001b[1;32m    756\u001b[0m         )\n\u001b[1;32m    758\u001b[0m \u001b[38;5;28;01mif\u001b[39;00m \u001b[38;5;129;01mnot\u001b[39;00m \u001b[38;5;28misinstance\u001b[39m(env, gym\u001b[38;5;241m.\u001b[39mEnv):\n\u001b[1;32m    759\u001b[0m     \u001b[38;5;28;01mif\u001b[39;00m (\n\u001b[1;32m    760\u001b[0m         \u001b[38;5;28mstr\u001b[39m(env\u001b[38;5;241m.\u001b[39m\u001b[38;5;18m__class__\u001b[39m\u001b[38;5;241m.\u001b[39m__base__) \u001b[38;5;241m==\u001b[39m \u001b[38;5;124m\"\u001b[39m\u001b[38;5;124m<class \u001b[39m\u001b[38;5;124m'\u001b[39m\u001b[38;5;124mgym.core.Env\u001b[39m\u001b[38;5;124m'\u001b[39m\u001b[38;5;124m>\u001b[39m\u001b[38;5;124m\"\u001b[39m\n\u001b[1;32m    761\u001b[0m         \u001b[38;5;129;01mor\u001b[39;00m \u001b[38;5;28mstr\u001b[39m(env\u001b[38;5;241m.\u001b[39m\u001b[38;5;18m__class__\u001b[39m\u001b[38;5;241m.\u001b[39m__base__) \u001b[38;5;241m==\u001b[39m \u001b[38;5;124m\"\u001b[39m\u001b[38;5;124m<class \u001b[39m\u001b[38;5;124m'\u001b[39m\u001b[38;5;124mgym.core.Wrapper\u001b[39m\u001b[38;5;124m'\u001b[39m\u001b[38;5;124m>\u001b[39m\u001b[38;5;124m\"\u001b[39m\n\u001b[1;32m    762\u001b[0m     ):\n",
      "\u001b[0;31mTypeError\u001b[0m: CartPoleEnv.__init__() got an unexpected keyword argument 'continuous' was raised from the environment creator for CartPole-v1 with kwargs ({'render_mode': 'rgb_array', 'continuous': True})"
     ]
    }
   ],
   "source": [
    "if env_name == \"CartPole-v1\":\n",
    "    env = gym.make(env_name, render_mode=\"rgb_array\", continuous=True)  \n",
    "    # el parámetro continuous es necesario para CarRacing, para que acepte acciones continuas.\n",
    "    env = gym.make(env_name, render_mode=\"rgb_array\")\n"
   ]
  },
  {
   "cell_type": "markdown",
   "id": "905e85e5",
   "metadata": {},
   "source": [
    "### Renderizado"
   ]
  },
  {
   "cell_type": "code",
   "execution_count": null,
   "id": "f7d3debc",
   "metadata": {},
   "outputs": [],
   "source": [
    "# Inicializar render\n",
    "if env_name == \"CartPole-v1\":\n",
    "\tenv = gym.make(env_name, render_mode=\"rgb_array\")\n",
    "else:\n",
    "\tenv = gym.make(env_name, render_mode=\"rgb_array\")\n",
    "obs, _ = env.reset()\n",
    "done = False"
   ]
  },
  {
   "cell_type": "code",
   "execution_count": null,
   "id": "ae33ce72",
   "metadata": {},
   "outputs": [
    {
     "ename": "KeyboardInterrupt",
     "evalue": "",
     "output_type": "error",
     "traceback": [
      "\u001b[0;31m---------------------------------------------------------------------------\u001b[0m",
      "\u001b[0;31mKeyboardInterrupt\u001b[0m                         Traceback (most recent call last)",
      "Cell \u001b[0;32mIn[16], line 12\u001b[0m\n\u001b[1;32m      9\u001b[0m obs, reward, done, _, _ \u001b[38;5;241m=\u001b[39m env\u001b[38;5;241m.\u001b[39mstep(action)  \u001b[38;5;66;03m# Ejecutar acción\u001b[39;00m\n\u001b[1;32m     11\u001b[0m \u001b[38;5;66;03m# Actualizar la imagen en Jupyter Notebook\u001b[39;00m\n\u001b[0;32m---> 12\u001b[0m \u001b[43mimg\u001b[49m\u001b[38;5;241;43m.\u001b[39;49m\u001b[43mset_data\u001b[49m\u001b[43m(\u001b[49m\u001b[43mget_frame\u001b[49m\u001b[43m(\u001b[49m\u001b[43menv\u001b[49m\u001b[43m)\u001b[49m\u001b[43m)\u001b[49m\n\u001b[1;32m     13\u001b[0m display(plt\u001b[38;5;241m.\u001b[39mgcf())\n\u001b[1;32m     14\u001b[0m clear_output(wait\u001b[38;5;241m=\u001b[39m\u001b[38;5;28;01mTrue\u001b[39;00m)\n",
      "File \u001b[0;32m/usr/local/lib/python3.11/site-packages/matplotlib/image.py:675\u001b[0m, in \u001b[0;36m_ImageBase.set_data\u001b[0;34m(self, A)\u001b[0m\n\u001b[1;32m    673\u001b[0m \u001b[38;5;28;01mif\u001b[39;00m \u001b[38;5;28misinstance\u001b[39m(A, PIL\u001b[38;5;241m.\u001b[39mImage\u001b[38;5;241m.\u001b[39mImage):\n\u001b[1;32m    674\u001b[0m     A \u001b[38;5;241m=\u001b[39m pil_to_array(A)  \u001b[38;5;66;03m# Needed e.g. to apply png palette.\u001b[39;00m\n\u001b[0;32m--> 675\u001b[0m \u001b[38;5;28mself\u001b[39m\u001b[38;5;241m.\u001b[39m_A \u001b[38;5;241m=\u001b[39m \u001b[38;5;28;43mself\u001b[39;49m\u001b[38;5;241;43m.\u001b[39;49m\u001b[43m_normalize_image_array\u001b[49m\u001b[43m(\u001b[49m\u001b[43mA\u001b[49m\u001b[43m)\u001b[49m\n\u001b[1;32m    676\u001b[0m \u001b[38;5;28mself\u001b[39m\u001b[38;5;241m.\u001b[39m_imcache \u001b[38;5;241m=\u001b[39m \u001b[38;5;28;01mNone\u001b[39;00m\n\u001b[1;32m    677\u001b[0m \u001b[38;5;28mself\u001b[39m\u001b[38;5;241m.\u001b[39mstale \u001b[38;5;241m=\u001b[39m \u001b[38;5;28;01mTrue\u001b[39;00m\n",
      "File \u001b[0;32m/usr/local/lib/python3.11/site-packages/matplotlib/image.py:636\u001b[0m, in \u001b[0;36m_ImageBase._normalize_image_array\u001b[0;34m(A)\u001b[0m\n\u001b[1;32m    630\u001b[0m \u001b[38;5;129m@staticmethod\u001b[39m\n\u001b[1;32m    631\u001b[0m \u001b[38;5;28;01mdef\u001b[39;00m\u001b[38;5;250m \u001b[39m\u001b[38;5;21m_normalize_image_array\u001b[39m(A):\n\u001b[1;32m    632\u001b[0m \u001b[38;5;250m    \u001b[39m\u001b[38;5;124;03m\"\"\"\u001b[39;00m\n\u001b[1;32m    633\u001b[0m \u001b[38;5;124;03m    Check validity of image-like input *A* and normalize it to a format suitable for\u001b[39;00m\n\u001b[1;32m    634\u001b[0m \u001b[38;5;124;03m    Image subclasses.\u001b[39;00m\n\u001b[1;32m    635\u001b[0m \u001b[38;5;124;03m    \"\"\"\u001b[39;00m\n\u001b[0;32m--> 636\u001b[0m     A \u001b[38;5;241m=\u001b[39m \u001b[43mcbook\u001b[49m\u001b[38;5;241;43m.\u001b[39;49m\u001b[43msafe_masked_invalid\u001b[49m\u001b[43m(\u001b[49m\u001b[43mA\u001b[49m\u001b[43m,\u001b[49m\u001b[43m \u001b[49m\u001b[43mcopy\u001b[49m\u001b[38;5;241;43m=\u001b[39;49m\u001b[38;5;28;43;01mTrue\u001b[39;49;00m\u001b[43m)\u001b[49m\n\u001b[1;32m    637\u001b[0m     \u001b[38;5;28;01mif\u001b[39;00m A\u001b[38;5;241m.\u001b[39mdtype \u001b[38;5;241m!=\u001b[39m np\u001b[38;5;241m.\u001b[39muint8 \u001b[38;5;129;01mand\u001b[39;00m \u001b[38;5;129;01mnot\u001b[39;00m np\u001b[38;5;241m.\u001b[39mcan_cast(A\u001b[38;5;241m.\u001b[39mdtype, \u001b[38;5;28mfloat\u001b[39m, \u001b[38;5;124m\"\u001b[39m\u001b[38;5;124msame_kind\u001b[39m\u001b[38;5;124m\"\u001b[39m):\n\u001b[1;32m    638\u001b[0m         \u001b[38;5;28;01mraise\u001b[39;00m \u001b[38;5;167;01mTypeError\u001b[39;00m(\u001b[38;5;124mf\u001b[39m\u001b[38;5;124m\"\u001b[39m\u001b[38;5;124mImage data of dtype \u001b[39m\u001b[38;5;132;01m{\u001b[39;00mA\u001b[38;5;241m.\u001b[39mdtype\u001b[38;5;132;01m}\u001b[39;00m\u001b[38;5;124m cannot be \u001b[39m\u001b[38;5;124m\"\u001b[39m\n\u001b[1;32m    639\u001b[0m                         \u001b[38;5;124mf\u001b[39m\u001b[38;5;124m\"\u001b[39m\u001b[38;5;124mconverted to float\u001b[39m\u001b[38;5;124m\"\u001b[39m)\n",
      "File \u001b[0;32m/usr/local/lib/python3.11/site-packages/matplotlib/cbook.py:691\u001b[0m, in \u001b[0;36msafe_masked_invalid\u001b[0;34m(x, copy)\u001b[0m\n\u001b[1;32m    689\u001b[0m     x \u001b[38;5;241m=\u001b[39m x\u001b[38;5;241m.\u001b[39mbyteswap(inplace\u001b[38;5;241m=\u001b[39mcopy)\u001b[38;5;241m.\u001b[39mview(x\u001b[38;5;241m.\u001b[39mdtype\u001b[38;5;241m.\u001b[39mnewbyteorder(\u001b[38;5;124m'\u001b[39m\u001b[38;5;124mN\u001b[39m\u001b[38;5;124m'\u001b[39m))\n\u001b[1;32m    690\u001b[0m \u001b[38;5;28;01mtry\u001b[39;00m:\n\u001b[0;32m--> 691\u001b[0m     xm \u001b[38;5;241m=\u001b[39m np\u001b[38;5;241m.\u001b[39mma\u001b[38;5;241m.\u001b[39mmasked_where(\u001b[38;5;241m~\u001b[39m(\u001b[43mnp\u001b[49m\u001b[38;5;241;43m.\u001b[39;49m\u001b[43misfinite\u001b[49m\u001b[43m(\u001b[49m\u001b[43mx\u001b[49m\u001b[43m)\u001b[49m), x, copy\u001b[38;5;241m=\u001b[39m\u001b[38;5;28;01mFalse\u001b[39;00m)\n\u001b[1;32m    692\u001b[0m \u001b[38;5;28;01mexcept\u001b[39;00m \u001b[38;5;167;01mTypeError\u001b[39;00m:\n\u001b[1;32m    693\u001b[0m     \u001b[38;5;28;01mreturn\u001b[39;00m x\n",
      "\u001b[0;31mKeyboardInterrupt\u001b[0m: "
     ]
    },
    {
     "data": {
      "image/png": "[encoded data removed]",
      "text/plain": [
       "<Figure size 600x400 with 1 Axes>"
      ]
     },
     "metadata": {},
     "output_type": "display_data"
    }
   ],
   "source": [
    "# Configurar la visualización inicial\n",
    "plt.figure(figsize=(6, 4))\n",
    "img = plt.imshow(get_frame(env))  # Renderizar primer frame\n",
    "\n",
    "\n",
    "# Jugar una partida con una política aleatoria\n",
    "while not done:\n",
    "    action = env.action_space.sample()  # Selecciona una acción aleatoria\n",
    "    obs, reward, done, _, _ = env.step(action)  # Ejecutar acción\n",
    "\n",
    "    # Actualizar la imagen en Jupyter Notebook\n",
    "    img.set_data(get_frame(env))\n",
    "    display(plt.gcf())\n",
    "    clear_output(wait=True)\n",
    "\n",
    "    time.sleep(0.005)  # Pausa para mejor visualización\n",
    "\n",
    "env.close()\n",
    "print(f\"Juego finalizado en {env_name}\")"
   ]
  }
 ],
 "metadata": {
  "kernelspec": {
   "display_name": "Python 3",
   "language": "python",
   "name": "python3"
  },
  "language_info": {
   "codemirror_mode": {
    "name": "ipython",
    "version": 3
   },
   "file_extension": ".py",
   "mimetype": "text/x-python",
   "name": "python",
   "nbconvert_exporter": "python",
   "pygments_lexer": "ipython3",
   "version": "3.11.11"
  }
 },
 "nbformat": 4,
 "nbformat_minor": 5
}
