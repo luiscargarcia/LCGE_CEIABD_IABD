{
 "cells": [
  {
   "cell_type": "markdown",
   "id": "f4336a2c",
   "metadata": {},
   "source": [
    "# Q-Learning"
   ]
  },
  {
   "cell_type": "markdown",
   "id": "8c9d6363",
   "metadata": {},
   "source": [
    "**Q-learning** es un algoritmo sin modelo, basado en valores y fuera de política que encontrará la mejor serie de acciones basándose en el estado actual del agente. La \"Q\" significa calidad. La calidad representa el valor de la acción para maximizar las recompensas futuras.     \n",
    "\n",
    "Los *algoritmos basados en modelos* utilizan funciones de transición y recompensa para estimar la política óptima y crear el modelo. En cambio, los *algoritmos sin modelo* aprenden las consecuencias de sus acciones a través de la experiencia sin función de transición y recompensa. \n",
    "\n",
    "El método *basado en el valor* entrena la función de valor para aprender qué estado es más valioso y actuar. Por otro lado, los métodos *basados en políticas* entrenan directamente la política para aprender qué acción tomar en un estado determinado.\n",
    "\n",
    "En la *política desactivada*, el algoritmo evalúa y actualiza una política que difiere de la política utilizada para realizar una acción. Por el contrario, el algoritmo *on-policy* evalúa y mejora la misma política utilizada para realizar una acción.  "
   ]
  },
  {
   "cell_type": "markdown",
   "id": "3313e760",
   "metadata": {},
   "source": [
    "![Bellman_1](https://user-images.githubusercontent.com/44867923/141013004-bde1b971-fcdc-445e-bf08-9bc89311891c.jpg)\n",
    "![Bellman_2](https://user-images.githubusercontent.com/44867923/141012134-09ff0d88-4ce9-43af-8b04-d535cf24d897.jpg)"
   ]
  },
  {
   "cell_type": "markdown",
   "id": "6ccecf9a",
   "metadata": {},
   "source": [
    "Analizaremos el aprendizaje Q (Q-Learning) utilizando el ejemplo del entorno de un lago helado (Frozen-Lake). En este entorno, el agente debe cruzar el lago helado desde el inicio hasta la meta, sin caer en los agujeros. La mejor estrategia es alcanzar los objetivos por el camino más corto. "
   ]
  },
  {
   "cell_type": "markdown",
   "id": "5b825f59",
   "metadata": {},
   "source": [
    "<img src=\"./IMG/Q_Learning_Final.avif\" alt=\"Q_Learning_Final\" width=\"400\"/>"
   ]
  },
  {
   "cell_type": "markdown",
   "id": "833e29f7",
   "metadata": {},
   "source": [
    "## Tabla Q   \n",
    "El agente utilizará una tabla Q para tomar la mejor acción posible en función de la recompensa esperada para cada estado del entorno. En palabras sencillas, una tabla Q es una estructura de datos de conjuntos de acciones y estados, y utilizamos el algoritmo de aprendizaje Q para actualizar los valores de la tabla. \n",
    "\n"
   ]
  },
  {
   "cell_type": "markdown",
   "id": "c8b12563",
   "metadata": {},
   "source": [
    "## Función Q   \n",
    "La función Q utiliza la ecuación de Bellman y toma como entrada el estado(s) y la acción(a). La ecuación simplifica el cálculo de los valores de estado y de estado-acción.   \n",
    "\n",
    "<img src=\"./IMG/Bellman_Equation.avif\">"
   ]
  },
  {
   "cell_type": "markdown",
   "id": "0a3b4e28",
   "metadata": {},
   "source": [
    "## Algoritmo de aprendizaje Q   \n",
    "<img src=\"./IMG/Q_Learning_Process.avif\">\n"
   ]
  },
  {
   "cell_type": "markdown",
   "id": "cd5101a7",
   "metadata": {},
   "source": [
    "## Inicializando la tabla Q   \n",
    "\n",
    "Primero se inicializa la tabla Q. Se construye la tabla con columnas basadas en el número de acciones y filas basadas en el número de estados.\n",
    "\n",
    "En este ejemplo, el personaje puede moverse hacia arriba, abajo, izquierda y derecha. Se dispone de cuatro acciones posibles y cuatro estados (inicio, inactivo, camino equivocado y fin). También se puede considerar el camino equivocado para caer en el agujero.    \n",
    "\n",
    "Se inicializa la tabla Q con valores a 0.    \n",
    "\n",
    "\n",
    "<img src=\"./IMG/Q_Table_1.avif\" width=400>"
   ]
  },
  {
   "cell_type": "markdown",
   "id": "78e19de9",
   "metadata": {},
   "source": [
    "En el ejemplo del lago helado, el agente desconoce el entorno, por lo que realiza una acción aleatoria (moverse hacia abajo) para empezar. Como se puede ver en la imagen anterior, la tabla Q se actualiza utilizando la ecuación de Bellman.\n",
    "\n",
    "## Medir las recompensas\n",
    "Después de emprender la acción, se mide el resultado y la recompensa. \n",
    "\n",
    "La recompensa por alcanzar el objetivo es +1\n",
    "La recompensa por tomar el camino equivocado (caer en el agujero) es 0\n",
    "La recompensa por inactividad o movimiento en el lago helado también es 0.    \n",
    "\n",
    "## Actualizar tabla Q\n",
    "Se actualiza la función Q(St,At) mediante la ecuación. Utiliza los valores Q estimados del episodio anterior, la tasa de aprendizaje y el error de Diferencias Temporales. El error de diferencias temporales se calcula utilizando la recompensa inmediata, la recompensa futura máxima esperada descontada y el valor Q de la estimación anterior. \n",
    "\n",
    "El proceso se repite varias veces hasta que se actualiza la tabla Q y se maximiza la función de valor Q.    \n",
    "\n",
    "<img src=\"./IMG/Q_learning_equation.avif\">"
   ]
  },
  {
   "cell_type": "markdown",
   "id": "c9570ba5",
   "metadata": {},
   "source": [
    "Al principio, el agente está explorando el entorno para actualizar la tabla Q. Y cuando la Q-Table esté lista, el agente empezará a explotar y a tomar mejores decisiones.   \n",
    "\n",
    "<img src=\"./IMG/Q_Table_3.avif\" width=400>   \n",
    "\n",
    "\n",
    "En el caso de un lago helado, el agente aprenderá a tomar el camino más corto para llegar a la meta y evitar saltar a los agujeros. "
   ]
  },
  {
   "cell_type": "markdown",
   "id": "002afe9e",
   "metadata": {},
   "source": [
    "## Aplicación programática - Parte I: Desarrollo teórico\n",
    "\n",
    "### Importando librerías necesarias."
   ]
  },
  {
   "cell_type": "code",
   "execution_count": 1,
   "id": "dc907e39",
   "metadata": {},
   "outputs": [],
   "source": [
    "import gymnasium as gym\n",
    "import numpy as np\n",
    "import seaborn as sns\n",
    "import matplotlib.pyplot as plt"
   ]
  },
  {
   "cell_type": "markdown",
   "id": "7e5a2184",
   "metadata": {},
   "source": [
    "### Creando entorno: \"Frozen-Lake\" estocástico"
   ]
  },
  {
   "cell_type": "code",
   "execution_count": 2,
   "id": "3739f7df",
   "metadata": {},
   "outputs": [],
   "source": [
    "env = gym.make(\"FrozenLake-v1\", is_slippery=True)"
   ]
  },
  {
   "cell_type": "code",
   "execution_count": 3,
   "id": "42bd0ad5",
   "metadata": {},
   "outputs": [],
   "source": [
    "ALPHA = 0.1\n",
    "GAMMA = 0.9\n",
    "EPISODES = 10000\n",
    "EPSILON = 0.9\n",
    "DELTA_EPSILON = EPSILON / EPISODES\n",
    "MIN_EPSILON = 0.1"
   ]
  },
  {
   "cell_type": "markdown",
   "id": "1c57bcfe",
   "metadata": {},
   "source": [
    "### Creando la Tabla Q: Un valor de cada acción en cada estado."
   ]
  },
  {
   "cell_type": "code",
   "execution_count": 4,
   "id": "8885f380",
   "metadata": {
    "scrolled": true
   },
   "outputs": [
    {
     "data": {
      "text/plain": [
       "array([[0., 0., 0., 0.],\n",
       "       [0., 0., 0., 0.],\n",
       "       [0., 0., 0., 0.],\n",
       "       [0., 0., 0., 0.],\n",
       "       [0., 0., 0., 0.],\n",
       "       [0., 0., 0., 0.],\n",
       "       [0., 0., 0., 0.],\n",
       "       [0., 0., 0., 0.],\n",
       "       [0., 0., 0., 0.],\n",
       "       [0., 0., 0., 0.],\n",
       "       [0., 0., 0., 0.],\n",
       "       [0., 0., 0., 0.],\n",
       "       [0., 0., 0., 0.],\n",
       "       [0., 0., 0., 0.],\n",
       "       [0., 0., 0., 0.],\n",
       "       [0., 0., 0., 0.]])"
      ]
     },
     "execution_count": 4,
     "metadata": {},
     "output_type": "execute_result"
    }
   ],
   "source": [
    "Q = np.zeros((env.observation_space.n, env.action_space.n))\n",
    "Q"
   ]
  },
  {
   "cell_type": "markdown",
   "id": "c570b4aa",
   "metadata": {},
   "source": [
    "### Agente: jugando en el entorno y actualizando la tabla Q"
   ]
  },
  {
   "cell_type": "code",
   "execution_count": 5,
   "id": "94adb64b",
   "metadata": {},
   "outputs": [],
   "source": [
    "for ep in range(EPISODES):\n",
    "    obs, _ = env.reset()\n",
    "    done = False\n",
    "    EPSILON = max(EPSILON - DELTA_EPSILON, MIN_EPSILON)\n",
    "    while not done:\n",
    "        \n",
    "        # Select Action\n",
    "        if EPSILON < np.random.rand():\n",
    "            action = env.action_space.sample() # Random action: Exploration\n",
    "        else:\n",
    "            action = np.argmax(Q[obs])  # Best action: Exploitation\n",
    "\n",
    "        next_obs, reward, done, _ , _  = env.step(action)\n",
    "        \n",
    "        # Update Q value for this action in this observation\n",
    "        actual_obs_action_value = Q[obs, action]\n",
    "        best_next_obs_action_value = reward + GAMMA * Q[next_obs].max() - actual_obs_action_value\n",
    "        Q[obs, action] = actual_obs_action_value + ALPHA * best_next_obs_action_value\n",
    "        \n",
    "        obs = next_obs"
   ]
  },
  {
   "cell_type": "markdown",
   "id": "847c484d",
   "metadata": {},
   "source": [
    "### Graficando la Tabla Q*: valor de acción más alto para cada estado (```Q.max()```)"
   ]
  },
  {
   "cell_type": "code",
   "execution_count": 6,
   "id": "15ecc762",
   "metadata": {},
   "outputs": [
    {
     "data": {
      "text/plain": [
       "<Axes: >"
      ]
     },
     "execution_count": 6,
     "metadata": {},
     "output_type": "execute_result"
    },
    {
     "data": {
      "image/png": "[encoded data removed]",
      "text/plain": [
       "<Figure size 640x480 with 2 Axes>"
      ]
     },
     "metadata": {},
     "output_type": "display_data"
    }
   ],
   "source": [
    "sns.heatmap(data=Q.max(axis=1).reshape(4,4), annot=True, vmax=1)"
   ]
  },
  {
   "cell_type": "markdown",
   "id": "75f94a24",
   "metadata": {},
   "source": [
    "### Graficando Tabla Q*: acción con mayor valor para cada estado (```np.argmax()```)"
   ]
  },
  {
   "cell_type": "code",
   "execution_count": 7,
   "id": "29bf608f",
   "metadata": {},
   "outputs": [
    {
     "data": {
      "text/plain": [
       "<Axes: >"
      ]
     },
     "execution_count": 7,
     "metadata": {},
     "output_type": "execute_result"
    },
    {
     "data": {
      "image/png": "[encoded data removed]",
      "text/plain": [
       "<Figure size 640x480 with 2 Axes>"
      ]
     },
     "metadata": {},
     "output_type": "display_data"
    }
   ],
   "source": [
    "sns.heatmap(data=np.argmax(Q, axis=1).reshape(4,4), annot=True)"
   ]
  },
  {
   "cell_type": "markdown",
   "id": "394df416",
   "metadata": {},
   "source": [
    "### Graficando Tabla Q: valor de estado para cada acción"
   ]
  },
  {
   "cell_type": "code",
   "execution_count": 8,
   "id": "8adb7b26",
   "metadata": {},
   "outputs": [
    {
     "data": {
      "image/png": "[encoded data removed]",
      "text/plain": [
       "<Figure size 1500x1500 with 8 Axes>"
      ]
     },
     "metadata": {},
     "output_type": "display_data"
    }
   ],
   "source": [
    "fig, ax = plt.subplots(2,2, figsize=(15,15))\n",
    "\n",
    "plot = ax[0,0]\n",
    "plot.set_title(\"izquierda\")\n",
    "values = Q.T[0].reshape(4,4)\n",
    "sns.heatmap(values, cmap=\"RdYlGn\", annot=True, ax=plot, vmax=1)\n",
    "\n",
    "plot = ax[0,1]\n",
    "plot.set_title(\"abajo\")\n",
    "values = Q.T[1].reshape(4,4)\n",
    "sns.heatmap(values, cmap=\"RdYlGn\", annot=True, ax=plot, vmax=1)\n",
    "\n",
    "plot = ax[1,0]\n",
    "plot.set_title(\"Derecha\")\n",
    "values = Q.T[2].reshape(4,4)\n",
    "sns.heatmap(values, cmap=\"RdYlGn\", annot=True, ax=plot, vmax=1)\n",
    "\n",
    "plot = ax[1,1]\n",
    "plot.set_title(\"arriba\")\n",
    "values = Q.T[3].reshape(4,4)\n",
    "sns.heatmap(values, cmap=\"RdYlGn\", annot=True, ax=plot, vmax=1)\n",
    "\n",
    "_ = plt.plot()"
   ]
  },
  {
   "cell_type": "markdown",
   "id": "e466d956",
   "metadata": {},
   "source": [
    "## Aplicación programática - Parte II: Desarrollo práctico \n",
    "\n",
    "### Preparación   \n",
    "\n",
    "#### Configuración de la pantalla virtual   \n",
    "\n",
    "Primero instalaremos todas las dependencias para generar un vídeo de reproducción (Gif). Necesitaremos una pantalla virtual (pyvirtualdisplay) para renderizar el entorno y grabar los fotogramas. \n",
    "\n",
    "**Nota**: al utilizar `%%capture` estamos suprimiendo la salida de la celda Jupyter. \n",
    "\n",
    "````\n",
    "pip install pyglet==1.5.1\n",
    "apt install python-opengl -- o -- pip install pyopengl\n",
    "apt install ffmpeg -- o -- pip install ffmpeg\n",
    "apt install xvfb (primero hacer un apt update)\n",
    "pip3 install pyvirtualdisplay    \n",
    "````\n"
   ]
  },
  {
   "cell_type": "code",
   "execution_count": 1,
   "id": "8341c296",
   "metadata": {},
   "outputs": [],
   "source": [
    "%%capture\n",
    "\n",
    "# Virtual display\n",
    "from pyvirtualdisplay import Display\n",
    "\n",
    "virtual_display = Display(visible=0, size=(1400, 900))\n",
    "virtual_display.start()"
   ]
  },
  {
   "cell_type": "markdown",
   "id": "6b98a01a",
   "metadata": {},
   "source": [
    "#### Instalar librerías necesarias\n",
    "\n",
    "```\n",
    "%%capture\n",
    "pip install gymnasium\n",
    "pip install pygame\n",
    "\n",
    "pip install imageio imageio_ffmpeg   \n",
    "```"
   ]
  },
  {
   "cell_type": "markdown",
   "id": "1b81c9d0",
   "metadata": {},
   "source": [
    "#### Importamos librerías"
   ]
  },
  {
   "cell_type": "code",
   "execution_count": 2,
   "id": "68e2df04",
   "metadata": {},
   "outputs": [],
   "source": [
    "import numpy as np\n",
    "import gymnasium as gym\n",
    "import random\n",
    "import imageio\n",
    "from tqdm.notebook import trange # Usado para mostrar una barra de progreso"
   ]
  },
  {
   "cell_type": "markdown",
   "id": "5f5ec95a",
   "metadata": {},
   "source": [
    "#### Entorno **\"Frozen Lake\"**   \n",
    "\n",
    "Se va a crear un entorno 4x4 antideslizante utilizando la librería de gymnasium y seleccionando el entorno **Frozen Lake**. \n",
    "\n",
    "Hay dos versiones de cuadrícula, \"4x4\" y \"8x8\".\n",
    "Si `is_slippery=True`, es posible que el agente no se mueva en la dirección prevista debido a la naturaleza resbaladiza del lago helado.    \n",
    "\n",
    "Tras inicializar el entorno, se realiza un análisis 'medioambiental'. "
   ]
  },
  {
   "cell_type": "code",
   "execution_count": 3,
   "id": "9ee49266",
   "metadata": {},
   "outputs": [
    {
     "name": "stdout",
     "output_type": "stream",
     "text": [
      "Espacio de observación:  Discrete(16)\n",
      "Observación de ejemplo:  0\n"
     ]
    }
   ],
   "source": [
    "env = gym.make(\"FrozenLake-v1\",map_name=\"4x4\",is_slippery=False, render_mode=\"rgb_array\")\n",
    "\n",
    "print(\"Espacio de observación: \", env.observation_space) # Muestra el espacio de observación\n",
    "print(\"Observación de ejemplo: \", env.observation_space.sample()) # Muetsra una observación de ejemplo"
   ]
  },
  {
   "cell_type": "markdown",
   "id": "b1694ee3",
   "metadata": {},
   "source": [
    "Hay 16 espacios únicos en el entorno que se muestran en posiciones aleatorias.    \n",
    "\n",
    "Se lista el número de acciones y se muestra la acción aleatoria. \n",
    "\n",
    "El espacio de acción:\n",
    "\n",
    "- 0: mover a la izquierda\n",
    "- 1: bajar\n",
    "- 2: mover a la derecha\n",
    "- 3: ascender   \n",
    "\n",
    "Función de recompensa:\n",
    "\n",
    "- Alcanzar el objetivo: +1\n",
    "- Cayendo en el agujero: 0\n",
    "- Permanecer en el lago helado: 0"
   ]
  },
  {
   "cell_type": "code",
   "execution_count": 4,
   "id": "8aea6f91",
   "metadata": {},
   "outputs": [
    {
     "name": "stdout",
     "output_type": "stream",
     "text": [
      "Espacio de acción:  4\n",
      "Muestra acción de ejemplo:  2\n"
     ]
    }
   ],
   "source": [
    "print(\"Espacio de acción: \", env.action_space.n) # Muestra el espacio de acción\n",
    "print(\"Muestra acción de ejemplo: \", env.action_space.sample()) # Muestra una acción de ejemplo"
   ]
  },
  {
   "cell_type": "markdown",
   "id": "a0793348",
   "metadata": {},
   "source": [
    "#### Crear e inicializar la tabla Q   \n",
    "\n",
    "La tabla Q tiene columnas como acciones y filas como estados. Podemos utilizar ***Gymnasium*** para encontrar el espacio de acción y el espacio de estado. A continuación, utilizaremos esta información para crear la tabla Q. "
   ]
  },
  {
   "cell_type": "code",
   "execution_count": 5,
   "id": "4bfc6d87",
   "metadata": {},
   "outputs": [
    {
     "name": "stdout",
     "output_type": "stream",
     "text": [
      "Existen  16  posibles estados.\n",
      "Existen  4  posibles acciones.\n"
     ]
    }
   ],
   "source": [
    "state_space = env.observation_space.n\n",
    "print(\"Existen \", state_space, \" posibles estados.\")\n",
    "\n",
    "action_space = env.action_space.n\n",
    "print(\"Existen \", action_space, \" posibles acciones.\")"
   ]
  },
  {
   "cell_type": "markdown",
   "id": "1fd238c2",
   "metadata": {},
   "source": [
    "Para inicializar la Q-Table, es necesario crear un array Numpy de **state_space** y **action_space**. Se crea una matriz de 16 X 4. "
   ]
  },
  {
   "cell_type": "code",
   "execution_count": 6,
   "id": "d8fd1283",
   "metadata": {},
   "outputs": [],
   "source": [
    "def initialize_q_table(state_space, action_space):\n",
    "  Qtable = np.zeros((state_space, action_space))\n",
    "  return Qtable\n",
    "\n",
    "Qtable_frozenlake = initialize_q_table(state_space, action_space)"
   ]
  },
  {
   "cell_type": "markdown",
   "id": "baf14270",
   "metadata": {},
   "source": [
    "#### Política Epsilon-greedy\n",
    "La estrategia **Epsilon-greedy** maneja los compromisos de exploración y explotación. Con una probabilidad de 1 - ɛ, se realiza explotación, y con la probabilidad ɛ, se realiza exploración. \n",
    "\n",
    "En la *epsilon_greedy_policy* se secuenciará como sigue:\n",
    "\n",
    "1. Genera el número aleatorio entre 0 y 1.\n",
    "2. Si el número aleatorio es mayor que épsilon, haremos explotación. Significa que el agente tomará la acción con el valor más alto dado un estado.\n",
    "3. Si no, haremos exploración (Tomar acciones al azar). "
   ]
  },
  {
   "cell_type": "code",
   "execution_count": 7,
   "id": "61719476",
   "metadata": {},
   "outputs": [],
   "source": [
    "def epsilon_greedy_policy(Qtable, state, epsilon):\n",
    "  random_int = random.uniform(0,1)\n",
    "  if random_int > epsilon:\n",
    "    action = np.argmax(Qtable[state])\n",
    "  else:\n",
    "    action = env.action_space.sample()\n",
    "  return action"
   ]
  },
  {
   "cell_type": "markdown",
   "id": "cf8be5da",
   "metadata": {},
   "source": [
    "#### Definir la política codiciosa  (**Greedy policy**) \n",
    "\n",
    "Como se ha comentado, *Q-learning* es un algoritmo off-policy, lo que significa que la política de acción y la función de actualización son diferentes. \n",
    "\n",
    "En este ejemplo, la política *Epsilon Greedy* es la política de actuación, y la política Greedy es la política de actualización. \n",
    "\n",
    "La política Greedy también será la política final cuando se entrene al agente. Se utiliza para seleccionar el valor de estado y acción más alto de la tabla Q."
   ]
  },
  {
   "cell_type": "code",
   "execution_count": 8,
   "id": "d5aa074e",
   "metadata": {},
   "outputs": [],
   "source": [
    "def greedy_policy(Qtable, state):\n",
    "  action = np.argmax(Qtable[state])\n",
    "  return action"
   ]
  },
  {
   "cell_type": "markdown",
   "id": "c3900f30",
   "metadata": {},
   "source": [
    "#### Hiperparámetros del modelo    \n",
    "\n",
    "Estos hiperparámetros se utilizan en el bucle de entrenamiento, y afinarlos te dará mejores resultados. \n",
    "\n",
    "El Agente necesita explorar suficiente espacio de estados para aprender una buena aproximación de valores; es necesario tener un decaimiento progresivo de épsilon.    \n",
    "Si la tasa de decaimiento es alta, el agente puede quedarse atascado, ya que no ha explorado suficiente espacio de estados.\n",
    "\n",
    "- Hay 10.000 episodios de formación y 100 de evaluación.\n",
    "- El índice de aprendizaje es de 0,7.\n",
    "- Estamos utilizando \"FrozenLake-v1\" como entorno con 99 pasos máximos por episodio.\n",
    "- La gamma (tasa de descuento) es 0,95.\n",
    "- eval_seed: semilla de evaluación para el entorno.\n",
    "- La probabilidad épsilon de exploración al inicio es 1,0, y la probabilidad mínima será 0,05.\n",
    "- La tasa de decaimiento exponencial de la probabilidad épsilon es de 0,0005."
   ]
  },
  {
   "cell_type": "code",
   "execution_count": null,
   "id": "183be6e8",
   "metadata": {},
   "outputs": [],
   "source": [
    "# Parámetros de entrenamiento\n",
    "n_training_episodes = 10000\n",
    "learning_rate = 0.7        \n",
    "\n",
    "# Parámetros de evaluación\n",
    "n_eval_episodes = 100      \n",
    "\n",
    "# Parámetros de entorno\n",
    "env_id = \"FrozenLake-v1\"   \n",
    "max_steps = 99             \n",
    "gamma = 0.95               \n",
    "eval_seed = []             \n",
    "\n",
    "# Parámetros de exploración\n",
    "max_epsilon = 1.0           \n",
    "min_epsilon = 0.05           \n",
    "decay_rate = 0.0005           "
   ]
  },
  {
   "cell_type": "markdown",
   "id": "af3d3758",
   "metadata": {},
   "source": [
    "#### Formación de modelos   \n",
    "\n",
    "En el bucle de entrenamiento:\n",
    "\n",
    "1. Crear un bucle para los episodios de formación.\n",
    "2. Primero reduciremos epsilon. Como cada vez necesitamos menos exploración y más explotación con cada episodio. \n",
    "3. Restablece el entorno.\n",
    "4. Crear un bucle anidado para los pasos máximos.\n",
    "5. Elija la acción utilizando la política codiciosa épsilon. \n",
    "6. Realiza la acción (At) y observa la recompensa esperada(Rt+1) y el estado(St+1).\n",
    "7. Realiza la acción (a) y observa el estado resultante (s') y la recompensa (r).\n",
    "8. Actualiza la función Q utilizando la fórmula. \n",
    "9. Si `done= True`, termina el episodio y rompe el bucle.\n",
    "10. Por último, cambia el estado actual por un nuevo estado. \n",
    "11. Una vez completados todos los episodios de entrenamiento, la función devolverá la tabla Q actualizada. "
   ]
  },
  {
   "cell_type": "code",
   "execution_count": null,
   "id": "daaf7a25",
   "metadata": {},
   "outputs": [],
   "source": [
    "def train(n_training_episodes, min_epsilon, max_epsilon, decay_rate, env, max_steps, Qtable):\n",
    "  for episode in trange(n_training_episodes):\n",
    " \n",
    "    epsilon = min_epsilon + (max_epsilon - min_epsilon)*np.exp(-decay_rate*episode)\n",
    "    # Reseteo del entorno\n",
    "    state, _ = env.reset()\n",
    "    step = 0\n",
    "    done = False\n",
    "\n",
    "    # Bucle de entrenamiento\n",
    "    for step in range(max_steps):\n",
    "   \n",
    "      action = epsilon_greedy_policy(Qtable, state, epsilon)\n",
    "\n",
    "   \n",
    "      new_state, reward, done, info , _ = env.step(action)\n",
    "\n",
    "   \n",
    "      Qtable[state][action] = Qtable[state][action] + learning_rate * (reward + gamma * np.max(Qtable[new_state]) - Qtable[state][action])\n",
    "\n",
    "      # Si se cumple la condición de parada, el entrenamiento se detiene\n",
    "      if done:\n",
    "        break\n",
    "     \n",
    "      # Nuestro estado es el nuevo estado\n",
    "      state = new_state\n",
    "  return Qtable"
   ]
  },
  {
   "cell_type": "code",
   "execution_count": 11,
   "id": "023cddcf",
   "metadata": {},
   "outputs": [
    {
     "data": {
      "application/vnd.jupyter.widget-view+json": {
       "model_id": "3aaad613dc8f42a39ba87adb05d6f3e2",
       "version_major": 2,
       "version_minor": 0
      },
      "text/plain": [
       "  0%|          | 0/10000 [00:00<?, ?it/s]"
      ]
     },
     "metadata": {},
     "output_type": "display_data"
    }
   ],
   "source": [
    "Qtable_frozenlake = train(\n",
    "    n_training_episodes, \n",
    "    min_epsilon, \n",
    "    max_epsilon, \n",
    "    decay_rate, \n",
    "    env, \n",
    "    max_steps, \n",
    "    Qtable_frozenlake)"
   ]
  },
  {
   "cell_type": "markdown",
   "id": "8ac70eca",
   "metadata": {},
   "source": [
    "Como se ve a continuación, la Q-Table entrenada tiene valores, y el agente ahora utilizará estos valores para navegar por el entorno y alcanzar el objetivo.  "
   ]
  },
  {
   "cell_type": "code",
   "execution_count": 12,
   "id": "cbc1a018",
   "metadata": {},
   "outputs": [
    {
     "data": {
      "text/plain": [
       "array([[0.73509189, 0.77378094, 0.77378094, 0.73509189],\n",
       "       [0.73509189, 0.        , 0.81450625, 0.77378094],\n",
       "       [0.77378094, 0.857375  , 0.77378094, 0.81450625],\n",
       "       [0.81450625, 0.        , 0.77378094, 0.77378094],\n",
       "       [0.77378094, 0.81450625, 0.        , 0.73509189],\n",
       "       [0.        , 0.        , 0.        , 0.        ],\n",
       "       [0.        , 0.9025    , 0.        , 0.81450625],\n",
       "       [0.        , 0.        , 0.        , 0.        ],\n",
       "       [0.81450625, 0.        , 0.857375  , 0.77378094],\n",
       "       [0.81450625, 0.9025    , 0.9025    , 0.        ],\n",
       "       [0.857375  , 0.95      , 0.        , 0.857375  ],\n",
       "       [0.        , 0.        , 0.        , 0.        ],\n",
       "       [0.        , 0.        , 0.        , 0.        ],\n",
       "       [0.        , 0.9025    , 0.95      , 0.857375  ],\n",
       "       [0.9025    , 0.95      , 1.        , 0.9025    ],\n",
       "       [0.        , 0.        , 0.        , 0.        ]])"
      ]
     },
     "execution_count": 12,
     "metadata": {},
     "output_type": "execute_result"
    }
   ],
   "source": [
    "Qtable_frozenlake"
   ]
  },
  {
   "cell_type": "markdown",
   "id": "e5975293",
   "metadata": {},
   "source": [
    "#### Evaluación     \n",
    "\n",
    "El agente_de_evaluación se ejecuta durante `n_episodios_de_evaluación` y devuelve la media y la desviación estándar de la recompensa. \n",
    "\n",
    "1. En el bucle, comprobaremos primero si hay una semilla de evaluación. Si no, entonces reiniciaremos el entorno sin semillas. \n",
    "2. El bucle anidado se ejecutará hasta max_steps.\n",
    "3. El agente tomará la acción que tenga la máxima recompensa futura esperada en un estado dado utilizando Q-Table. \n",
    "4. Calcula la recompensa.\n",
    "5. Cambia el estado.\n",
    "6. Si ha terminado (el agente cae en el agujero o se ha alcanzado el objetivo), rompa el bucle.\n",
    "7. Añade los resultados.\n",
    "8. Al final, utilizaremos estos resultados para calcular la media y la desviación típica. "
   ]
  },
  {
   "cell_type": "code",
   "execution_count": null,
   "id": "fef17ca3",
   "metadata": {},
   "outputs": [],
   "source": [
    "def evaluate_agent(env, max_steps, n_eval_episodes, Q, seed):\n",
    "\n",
    "  episode_rewards = []\n",
    "  for episode in range(n_eval_episodes):\n",
    "    if seed:\n",
    "      state, _ = env.reset(seed=seed[episode])\n",
    "    else:\n",
    "      state, _  = env.reset()\n",
    "    step = 0\n",
    "    done = False\n",
    "    total_rewards_ep = 0\n",
    "   \n",
    "    for step in range(max_steps):\n",
    "      # Tomamos la acción (índice) que tiene la máxima recompensa\n",
    "      action = np.argmax(Q[state][:])\n",
    "      new_state, reward, done, info, _ = env.step(action)\n",
    "      total_rewards_ep += reward\n",
    "       \n",
    "      if done:\n",
    "        break\n",
    "      state = new_state\n",
    "    episode_rewards.append(total_rewards_ep)\n",
    "  mean_reward = np.mean(episode_rewards)\n",
    "  std_reward = np.std(episode_rewards)\n",
    "\n",
    "  return mean_reward, std_reward"
   ]
  },
  {
   "cell_type": "markdown",
   "id": "11622366",
   "metadata": {},
   "source": [
    "Como se puede ver a continuación, se obtiene la puntuación perfecta con desviación típica cero. Significa que el agente ha alcanzado el objetivo en los 100 episodios. "
   ]
  },
  {
   "cell_type": "code",
   "execution_count": 14,
   "id": "90a01607",
   "metadata": {},
   "outputs": [
    {
     "name": "stdout",
     "output_type": "stream",
     "text": [
      "Mean_reward=1.00 +/- 0.00\n"
     ]
    }
   ],
   "source": [
    "# Evaluate our Agent\n",
    "mean_reward, std_reward = evaluate_agent(env, max_steps, n_eval_episodes, Qtable_frozenlake, eval_seed)\n",
    "print(f\"Mean_reward={mean_reward:.2f} +/- {std_reward:.2f}\")"
   ]
  },
  {
   "cell_type": "markdown",
   "id": "3d700407",
   "metadata": {},
   "source": [
    "#### Visualización del resultado\n",
    "\n",
    "Hasta ahora, se ha estado jugando con números, y para la demo, es necesario crear un **Gif animado** del agente desde que empieza hasta que llega a la meta.    \n",
    "Para ello, se siguien los siguientes pasos:\n",
    "\n",
    "1. Primero se crea el estado reseteando el entorno con un entero aleatorio entre 0 y 500. \n",
    "2. A continuación se renderiza el entorno utilizando `\"rdb_array\"` para crear un array de imágenes. \n",
    "3. Luego se añade la `img` al array `images`. \n",
    "4. En el bucle, se toma el paso usando la Q-Table y se renderiza la imagen para cada paso. \n",
    "5. Por último, se usa este array e `imageio` para crear un **Gif** de un fotograma por segundo. "
   ]
  },
  {
   "cell_type": "code",
   "execution_count": null,
   "id": "7aa54693",
   "metadata": {},
   "outputs": [],
   "source": [
    "def record_video(env, Qtable, out_directory, fps=1):\n",
    "  images = [] \n",
    "  done = False\n",
    "  state, _ = env.reset(seed=random.randint(0,500))\n",
    "  img = env.render()\n",
    "  images.append(img)\n",
    "  while not done:\n",
    "    # Tomamos la acción (índice) que tiene la máxima recompensa futura esperada dado ese estado\n",
    "    action = np.argmax(Qtable[state][:])\n",
    "    state, reward, done, info, _ = env.step(action) # Directamente colocamos el estado en el siguiente estado, para ver la animación\n",
    "    img = env.render()\n",
    "    images.append(img)\n",
    "  imageio.mimsave(out_directory, [np.array(img) for i, img in enumerate(images)], fps=fps)"
   ]
  },
  {
   "cell_type": "markdown",
   "id": "b06a1226",
   "metadata": {},
   "source": [
    "Para un Jupyter Notebook, se puede mostrar el **Gif** utilizando la función `IPython.display` Image. "
   ]
  },
  {
   "cell_type": "code",
   "execution_count": 17,
   "id": "01c37cbc",
   "metadata": {},
   "outputs": [],
   "source": [
    "video_path=\"./content/replay.gif\"\n",
    "video_fps=1\n",
    "record_video(env, Qtable_frozenlake, video_path, video_fps)"
   ]
  },
  {
   "cell_type": "code",
   "execution_count": 18,
   "id": "23081d8c",
   "metadata": {},
   "outputs": [
    {
     "data": {
      "image/gif": "[encoded data removed]",
      "text/plain": [
       "<IPython.core.display.Image object>"
      ]
     },
     "execution_count": 18,
     "metadata": {},
     "output_type": "execute_result"
    }
   ],
   "source": [
    "\n",
    "\n",
    "from IPython.display import Image\n",
    "Image('./content/replay.gif')"
   ]
  },
  {
   "cell_type": "markdown",
   "id": "6d00b152",
   "metadata": {},
   "source": [
    "### Conclusiones   \n",
    "\n",
    "- Este proceso de aprendizaje es costoso para el agente, sobre todo en las primeras iteraciones, ya que para converger a la política óptima, cada para estado-acción se visita con frecuencia.\n",
    "- También reseñar el hecho de que, durante el entrenamiento, este algoritmo siempre converge a la política óptima.\n",
    "- En este tipo de aprendizaje, la política que se actualiza es diferente a la política de comportamiento(acción) y por ello se denomina algoritmo \"off-policy\".\n",
    "- Para actuar en entormos más grandes, será necesario disponer de una tabla Q de estados y acciones muchísimo mayor, con requisitos de memoria y computación más elevados para lograr un buen entrenamiento. A tal efecto, tenemos el **Deep Q-Learning**, en el que dicha tabla es sustituida por una red neuronal capaz de manejar estos entornos y sus estados y acciones."
   ]
  },
  {
   "cell_type": "markdown",
   "id": "4dc531dd",
   "metadata": {},
   "source": []
  }
 ],
 "metadata": {
  "kernelspec": {
   "display_name": "Python 3",
   "language": "python",
   "name": "python3"
  },
  "language_info": {
   "codemirror_mode": {
    "name": "ipython",
    "version": 3
   },
   "file_extension": ".py",
   "mimetype": "text/x-python",
   "name": "python",
   "nbconvert_exporter": "python",
   "pygments_lexer": "ipython3",
   "version": "3.11.11"
  }
 },
 "nbformat": 4,
 "nbformat_minor": 5
}
