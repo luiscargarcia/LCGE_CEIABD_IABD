{
 "cells": [
  {
   "cell_type": "markdown",
   "metadata": {},
   "source": [
    "# SOLUCIÓN EJERCICIO RNN"
   ]
  },
  {
   "cell_type": "markdown",
   "metadata": {},
   "source": [
    "### LIBRERIAS Y CARGA DE DATASET"
   ]
  },
  {
   "cell_type": "code",
   "execution_count": null,
   "metadata": {},
   "outputs": [],
   "source": [
    "import numpy as np\n",
    "import pandas as pd\n",
    "import matplotlib.pyplot as plt\n",
    "from sklearn.preprocessing import MinMaxScaler\n",
    "from sklearn.metrics import mean_squared_error, mean_absolute_error\n",
    "from tensorflow.keras.models import Sequential\n",
    "from tensorflow.keras.layers import LSTM, GRU, Dense\n",
    "\n",
    "# Carga de datos\n",
    "data = pd.read_csv('household_power_consumption.txt', sep=';', parse_dates={'dt' : ['Date', 'Time']}, infer_datetime_format=True, low_memory=False, na_values=['nan','?'], index_col='dt')\n",
    "\n",
    "# Limpieza de datos\n",
    "data = data.dropna()"
   ]
  },
  {
   "cell_type": "markdown",
   "metadata": {},
   "source": [
    "### PREPROCESADO DE DATOS"
   ]
  },
  {
   "cell_type": "code",
   "execution_count": null,
   "metadata": {},
   "outputs": [],
   "source": [
    "# Normalización\n",
    "scaler = MinMaxScaler()\n",
    "scaled_data = scaler.fit_transform(data[['Global_active_power']])\n",
    "\n",
    "# Preparación de secuencias\n",
    "def create_sequences(data, seq_length):\n",
    "    xs = []\n",
    "    ys = []\n",
    "    for i in range(len(data) - seq_length - 1):\n",
    "        x = data[i:(i + seq_length), 0]\n",
    "        y = data[i + seq_length, 0]\n",
    "        xs.append(x)\n",
    "        ys.append(y)\n",
    "    return np.array(xs), np.array(ys)\n",
    "\n",
    "seq_length = 60 # Ejemplo de longitud de secuencia\n",
    "X, y = create_sequences(scaled_data, seq_length)\n",
    "\n",
    "# División en conjuntos de entrenamiento y prueba\n",
    "train_size = int(len(X) * 0.8)\n",
    "X_train, X_test, y_train, y_test = X[:train_size], X[train_size:], y[:train_size], y[train_size:]\n",
    "\n",
    "# Reformateo para LSTM/GRU\n",
    "X_train = np.reshape(X_train, (X_train.shape[0], X_train.shape[1], 1))\n",
    "X_test = np.reshape(X_test, (X_test.shape[0], X_test.shape[1], 1))"
   ]
  },
  {
   "cell_type": "markdown",
   "metadata": {},
   "source": [
    "### LSTM"
   ]
  },
  {
   "cell_type": "code",
   "execution_count": null,
   "metadata": {},
   "outputs": [],
   "source": [
    "model_lstm = Sequential()\n",
    "model_lstm.add(LSTM(50, return_sequences=True, input_shape=(X_train.shape[1], 1)))\n",
    "model_lstm.add(LSTM(50))\n",
    "model_lstm.add(Dense(1))\n",
    "model_lstm.compile(optimizer='adam', loss='mse')\n",
    "model_lstm.fit(X_train, y_train, epochs=10, batch_size=64, verbose=1)\n",
    "\n",
    "# Predicciones LSTM\n",
    "lstm_predictions_scaled = model_lstm.predict(X_test)\n",
    "lstm_predictions = scaler.inverse_transform(lstm_predictions_scaled)\n",
    "y_test_original = scaler.inverse_transform(y_test.reshape(-1, 1))"
   ]
  },
  {
   "cell_type": "markdown",
   "metadata": {},
   "source": [
    "### GRU"
   ]
  },
  {
   "cell_type": "code",
   "execution_count": null,
   "metadata": {},
   "outputs": [],
   "source": [
    "model_gru = Sequential()\n",
    "model_gru.add(GRU(50, return_sequences=True, input_shape=(X_train.shape[1], 1)))\n",
    "model_gru.add(GRU(50))\n",
    "model_gru.add(Dense(1))\n",
    "model_gru.compile(optimizer='adam', loss='mse')\n",
    "model_gru.fit(X_train, y_train, epochs=10, batch_size=64, verbose=1)\n",
    "\n",
    "# Predicciones GRU\n",
    "gru_predictions_scaled = model_gru.predict(X_test)\n",
    "gru_predictions = scaler.inverse_transform(gru_predictions_scaled)"
   ]
  },
  {
   "cell_type": "markdown",
   "metadata": {},
   "source": [
    "### COMPARATIVA"
   ]
  },
  {
   "cell_type": "code",
   "execution_count": null,
   "metadata": {},
   "outputs": [],
   "source": [
    "# Cálculo de métricas\n",
    "lstm_rmse = np.sqrt(mean_squared_error(y_test_original, lstm_predictions))\n",
    "lstm_mae = mean_absolute_error(y_test_original, lstm_predictions)\n",
    "\n",
    "gru_rmse = np.sqrt(mean_squared_error(y_test_original, gru_predictions))\n",
    "gru_mae = mean_absolute_error(y_test_original, gru_predictions)\n",
    "\n",
    "# Visualización\n",
    "plt.figure(figsize=(14, 6))\n",
    "plt.plot(y_test_original, label='Real')\n",
    "plt.plot(lstm_predictions, label='LSTM', alpha=0.7)\n",
    "plt.plot(gru_predictions, label='GRU', alpha=0.7)\n",
    "plt.legend()\n",
    "plt.show()\n",
    "\n",
    "# Tabla comparativa\n",
    "print(pd.DataFrame({'Metric': ['RMSE', 'MAE'], 'LSTM': [lstm_rmse, lstm_mae], 'GRU': [gru_rmse, gru_mae]}))"
   ]
  }
 ],
 "metadata": {
  "language_info": {
   "name": "python"
  }
 },
 "nbformat": 4,
 "nbformat_minor": 2
}
