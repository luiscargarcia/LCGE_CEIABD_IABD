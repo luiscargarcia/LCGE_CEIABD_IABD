{
 "cells": [
  {
   "cell_type": "markdown",
   "metadata": {},
   "source": [
    "### MÓDULO: Sistemas de Aprendizaje Automático   \n",
    "\n",
    "# Predicción del consumo de energía eléctrica con Redes LSTM y GRU: Un estudio comparativo.\n",
    "\n",
    "## Justificación:\n",
    "\n",
    "La predicción del consumo de energía eléctrica es crucial para la gestión eficiente de los recursos energéticos. En este ejercicio, aplicarás técnicas de aprendizaje profundo para predecir el consumo de energía eléctrica utilizando un conjunto de datos de series temporales.\n",
    "\n",
    "## Tarea a realizar:\n",
    "\n",
    "- Carga y explora el conjunto de datos [\"Individual household electric power consumption dataset\"](https://archive.ics.uci.edu/dataset/235/individual+household+electric+power+consumption) (disponible en UCI Machine Learning Repository). Este conjunto de datos contiene mediciones del consumo de energía eléctrica en un hogar durante un período de cuatro años.\n",
    "- Realiza un preprocesamiento adecuado de los datos, incluyendo la limpieza de valores faltantes, la normalización y la preparación de los datos para su uso en modelos de series temporales.\n",
    "- Implementa un modelo de Red LSTM para predecir el consumo de energía eléctrica.\n",
    "- Implementa un modelo de Red GRU para realizar la misma tarea.\n",
    "- Evalúa el rendimiento de ambos modelos utilizando métricas como el Error Cuadrático Medio (RMSE) y el Error Absoluto Medio (MAE).\n",
    "- Compara los resultados obtenidos por los modelos LSTM y GRU, analizando sus fortalezas y debilidades en este contexto específico.\n",
    "\n",
    "En definitiva, se debe elaborar un informe conciso, usando un cuaderno Jupyter, que resuma los hallazgos, incluyendo gráficos que visualicen las predicciones de ambos modelos y una tabla comparativa de las métricas de evaluación."
   ]
  },
  {
   "cell_type": "markdown",
   "metadata": {},
   "source": []
  }
 ],
 "metadata": {
  "language_info": {
   "name": "python"
  }
 },
 "nbformat": 4,
 "nbformat_minor": 2
}
