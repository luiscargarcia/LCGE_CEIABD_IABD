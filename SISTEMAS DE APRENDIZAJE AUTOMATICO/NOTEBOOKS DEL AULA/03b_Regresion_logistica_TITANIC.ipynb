{
 "cells": [
  {
   "cell_type": "markdown",
   "metadata": {},
   "source": [
<<<<<<< HEAD
    "# <a id='toc1_'></a>[Predicción Tipo TITANIC - Regresión Logística](#toc0_)"
=======
<<<<<<< HEAD
<<<<<<< HEAD
<<<<<<< HEAD
    "# <a id='toc1_'></a>[Predicción Tipo TITANIC - Regresión Logística](#toc0_)"
=======
    "# <a id='toc1_'></a>[Predicción Tipo Sistema Operativo - Regresión Logística](#toc0_)"
>>>>>>> 1d56431 (24-01-2025(previa))
=======
    "# <a id='toc1_'></a>[Predicción Tipo TITANIC - Regresión Logística](#toc0_)"
>>>>>>> 2170714 (24-04-2025_Final)
=======
    "# <a id='toc1_'></a>[Predicción Tipo TITANIC - Regresión Logística](#toc0_)"
>>>>>>> origin/main
>>>>>>> luiscargarcia/main
   ]
  },
  {
   "cell_type": "markdown",
   "metadata": {},
   "source": [
    "**Tabla de contenidos**<a id='toc0_'></a>    \n",
    "- [Predicción Tipo Sistema Operativo - Regresión Logística](#toc1_)    \n",
    "  - [Importamos librerías](#toc1_1_)    \n",
    "  - [Cargamos los datos de entrada del archivo csv](#toc1_2_)    \n",
    "  - [Visualizamos los datos](#toc1_3_)    \n",
    "  - [Creamos el modelo](#toc1_4_)    \n",
    "  - [Reporte de resultados](#toc1_5_)    \n",
    "- [Clasificación de nuevos registros](#toc2_)    \n",
    "\n",
    "<!-- vscode-jupyter-toc-config\n",
    "\tnumbering=false\n",
    "\tanchor=true\n",
    "\tflat=false\n",
    "\tminLevel=1\n",
    "\tmaxLevel=6\n",
    "\t/vscode-jupyter-toc-config -->\n",
    "<!-- THIS CELL WILL BE REPLACED ON TOC UPDATE. DO NOT WRITE YOUR TEXT IN THIS CELL -->"
   ]
  },
  {
   "cell_type": "markdown",
   "metadata": {},
   "source": [
    "## <a id='toc1_1_'></a>[Importamos librerías](#toc0_)"
   ]
  },
  {
   "cell_type": "code",
<<<<<<< HEAD
   "execution_count": 40,
=======
<<<<<<< HEAD
<<<<<<< HEAD
<<<<<<< HEAD
   "execution_count": 40,
=======
   "execution_count": 93,
>>>>>>> 1d56431 (24-01-2025(previa))
=======
   "execution_count": 40,
>>>>>>> 2170714 (24-04-2025_Final)
=======
   "execution_count": 40,
>>>>>>> origin/main
>>>>>>> luiscargarcia/main
   "metadata": {},
   "outputs": [],
   "source": [
    "import pandas as pd\n",
    "import numpy as np\n",
    "from sklearn import linear_model\n",
    "from sklearn.metrics import classification_report\n",
    "from sklearn.metrics import confusion_matrix\n",
    "from sklearn.metrics import accuracy_score\n",
    "from sklearn.metrics import f1_score\n",
    "from sklearn.metrics import recall_score\n",
    "from sklearn.metrics import precision_score \n",
    "import matplotlib.pyplot as plt\n",
    "%matplotlib inline\n",
    "\n",
    "import warnings\n",
    "warnings.filterwarnings('ignore')"
   ]
  },
  {
   "cell_type": "markdown",
   "metadata": {},
   "source": [
    "## <a id='toc1_2_'></a>[Cargamos los datos de entrada del archivo csv](#toc0_)"
   ]
  },
  {
   "cell_type": "code",
<<<<<<< HEAD
   "execution_count": 41,
=======
<<<<<<< HEAD
<<<<<<< HEAD
<<<<<<< HEAD
   "execution_count": 41,
=======
   "execution_count": 94,
>>>>>>> 1d56431 (24-01-2025(previa))
=======
   "execution_count": 41,
>>>>>>> 2170714 (24-04-2025_Final)
=======
   "execution_count": 41,
>>>>>>> origin/main
>>>>>>> luiscargarcia/main
   "metadata": {
    "ExecuteTime": {
     "end_time": "2024-02-02T15:49:19.816367500Z",
     "start_time": "2024-02-02T15:49:19.804011100Z"
    },
    "collapsed": false
   },
   "outputs": [
    {
     "data": {
      "text/html": [
       "<div>\n",
       "<style scoped>\n",
       "    .dataframe tbody tr th:only-of-type {\n",
       "        vertical-align: middle;\n",
       "    }\n",
       "\n",
       "    .dataframe tbody tr th {\n",
       "        vertical-align: top;\n",
       "    }\n",
       "\n",
       "    .dataframe thead th {\n",
       "        text-align: right;\n",
       "    }\n",
       "</style>\n",
       "<table border=\"1\" class=\"dataframe\">\n",
       "  <thead>\n",
       "    <tr style=\"text-align: right;\">\n",
       "      <th></th>\n",
       "      <th>PassengerId</th>\n",
       "      <th>Survived</th>\n",
       "      <th>Pclass</th>\n",
       "      <th>Sex</th>\n",
       "      <th>Age</th>\n",
       "      <th>SibSp</th>\n",
       "      <th>Parch</th>\n",
       "      <th>Fare</th>\n",
       "      <th>Embarked</th>\n",
       "    </tr>\n",
       "  </thead>\n",
       "  <tbody>\n",
       "    <tr>\n",
       "      <th>0</th>\n",
       "      <td>1</td>\n",
       "      <td>0</td>\n",
       "      <td>3</td>\n",
       "      <td>1</td>\n",
       "      <td>22</td>\n",
       "      <td>1</td>\n",
       "      <td>0</td>\n",
       "      <td>725</td>\n",
       "      <td>3</td>\n",
       "    </tr>\n",
       "    <tr>\n",
       "      <th>1</th>\n",
       "      <td>2</td>\n",
       "      <td>1</td>\n",
       "      <td>1</td>\n",
       "      <td>2</td>\n",
       "      <td>38</td>\n",
       "      <td>1</td>\n",
       "      <td>0</td>\n",
       "      <td>712833</td>\n",
       "      <td>1</td>\n",
       "    </tr>\n",
       "    <tr>\n",
       "      <th>2</th>\n",
       "      <td>3</td>\n",
       "      <td>1</td>\n",
       "      <td>3</td>\n",
       "      <td>2</td>\n",
       "      <td>26</td>\n",
       "      <td>0</td>\n",
       "      <td>0</td>\n",
       "      <td>7925</td>\n",
       "      <td>3</td>\n",
       "    </tr>\n",
       "    <tr>\n",
       "      <th>3</th>\n",
       "      <td>4</td>\n",
       "      <td>1</td>\n",
       "      <td>1</td>\n",
       "      <td>2</td>\n",
       "      <td>35</td>\n",
       "      <td>1</td>\n",
       "      <td>0</td>\n",
       "      <td>531</td>\n",
       "      <td>3</td>\n",
       "    </tr>\n",
       "    <tr>\n",
       "      <th>4</th>\n",
       "      <td>5</td>\n",
       "      <td>0</td>\n",
       "      <td>3</td>\n",
       "      <td>1</td>\n",
       "      <td>35</td>\n",
       "      <td>0</td>\n",
       "      <td>0</td>\n",
       "      <td>805</td>\n",
       "      <td>3</td>\n",
       "    </tr>\n",
       "    <tr>\n",
       "      <th>5</th>\n",
       "      <td>6</td>\n",
       "      <td>0</td>\n",
       "      <td>3</td>\n",
       "      <td>1</td>\n",
       "      <td>38</td>\n",
       "      <td>0</td>\n",
       "      <td>0</td>\n",
       "      <td>84583</td>\n",
       "      <td>2</td>\n",
       "    </tr>\n",
       "    <tr>\n",
       "      <th>6</th>\n",
       "      <td>7</td>\n",
       "      <td>0</td>\n",
       "      <td>1</td>\n",
       "      <td>1</td>\n",
       "      <td>54</td>\n",
       "      <td>0</td>\n",
       "      <td>0</td>\n",
       "      <td>518625</td>\n",
       "      <td>3</td>\n",
       "    </tr>\n",
       "    <tr>\n",
       "      <th>7</th>\n",
       "      <td>8</td>\n",
       "      <td>0</td>\n",
       "      <td>3</td>\n",
       "      <td>1</td>\n",
       "      <td>2</td>\n",
       "      <td>3</td>\n",
       "      <td>1</td>\n",
       "      <td>21075</td>\n",
       "      <td>3</td>\n",
       "    </tr>\n",
       "    <tr>\n",
       "      <th>8</th>\n",
       "      <td>9</td>\n",
       "      <td>1</td>\n",
       "      <td>3</td>\n",
       "      <td>2</td>\n",
       "      <td>27</td>\n",
       "      <td>0</td>\n",
       "      <td>2</td>\n",
       "      <td>111333</td>\n",
       "      <td>3</td>\n",
       "    </tr>\n",
       "    <tr>\n",
       "      <th>9</th>\n",
       "      <td>10</td>\n",
       "      <td>1</td>\n",
       "      <td>2</td>\n",
       "      <td>2</td>\n",
       "      <td>14</td>\n",
       "      <td>1</td>\n",
       "      <td>0</td>\n",
       "      <td>300708</td>\n",
       "      <td>1</td>\n",
       "    </tr>\n",
       "    <tr>\n",
       "      <th>10</th>\n",
       "      <td>11</td>\n",
       "      <td>1</td>\n",
       "      <td>3</td>\n",
       "      <td>2</td>\n",
       "      <td>4</td>\n",
       "      <td>1</td>\n",
       "      <td>1</td>\n",
       "      <td>167</td>\n",
       "      <td>3</td>\n",
       "    </tr>\n",
       "    <tr>\n",
       "      <th>11</th>\n",
       "      <td>12</td>\n",
       "      <td>1</td>\n",
       "      <td>1</td>\n",
       "      <td>2</td>\n",
       "      <td>58</td>\n",
       "      <td>0</td>\n",
       "      <td>0</td>\n",
       "      <td>2655</td>\n",
       "      <td>3</td>\n",
       "    </tr>\n",
       "    <tr>\n",
       "      <th>12</th>\n",
       "      <td>13</td>\n",
       "      <td>0</td>\n",
       "      <td>3</td>\n",
       "      <td>1</td>\n",
       "      <td>20</td>\n",
       "      <td>0</td>\n",
       "      <td>0</td>\n",
       "      <td>805</td>\n",
       "      <td>3</td>\n",
       "    </tr>\n",
       "    <tr>\n",
       "      <th>13</th>\n",
       "      <td>14</td>\n",
       "      <td>0</td>\n",
       "      <td>3</td>\n",
       "      <td>1</td>\n",
       "      <td>39</td>\n",
       "      <td>1</td>\n",
       "      <td>5</td>\n",
       "      <td>31275</td>\n",
       "      <td>3</td>\n",
       "    </tr>\n",
       "    <tr>\n",
       "      <th>14</th>\n",
       "      <td>15</td>\n",
       "      <td>0</td>\n",
       "      <td>3</td>\n",
       "      <td>2</td>\n",
       "      <td>14</td>\n",
       "      <td>0</td>\n",
       "      <td>0</td>\n",
       "      <td>78542</td>\n",
       "      <td>3</td>\n",
       "    </tr>\n",
       "    <tr>\n",
       "      <th>15</th>\n",
       "      <td>16</td>\n",
       "      <td>1</td>\n",
       "      <td>2</td>\n",
       "      <td>2</td>\n",
       "      <td>55</td>\n",
       "      <td>0</td>\n",
       "      <td>0</td>\n",
       "      <td>16</td>\n",
       "      <td>3</td>\n",
       "    </tr>\n",
       "    <tr>\n",
       "      <th>16</th>\n",
       "      <td>17</td>\n",
       "      <td>0</td>\n",
       "      <td>3</td>\n",
       "      <td>1</td>\n",
       "      <td>2</td>\n",
       "      <td>4</td>\n",
       "      <td>1</td>\n",
       "      <td>29125</td>\n",
       "      <td>2</td>\n",
       "    </tr>\n",
       "    <tr>\n",
       "      <th>17</th>\n",
       "      <td>18</td>\n",
       "      <td>1</td>\n",
       "      <td>2</td>\n",
       "      <td>1</td>\n",
       "      <td>38</td>\n",
       "      <td>0</td>\n",
       "      <td>0</td>\n",
       "      <td>13</td>\n",
       "      <td>3</td>\n",
       "    </tr>\n",
       "    <tr>\n",
       "      <th>18</th>\n",
       "      <td>19</td>\n",
       "      <td>0</td>\n",
       "      <td>3</td>\n",
       "      <td>2</td>\n",
       "      <td>31</td>\n",
       "      <td>1</td>\n",
       "      <td>0</td>\n",
       "      <td>18</td>\n",
       "      <td>3</td>\n",
       "    </tr>\n",
       "    <tr>\n",
       "      <th>19</th>\n",
       "      <td>20</td>\n",
       "      <td>1</td>\n",
       "      <td>3</td>\n",
       "      <td>2</td>\n",
       "      <td>38</td>\n",
       "      <td>0</td>\n",
       "      <td>0</td>\n",
       "      <td>7225</td>\n",
       "      <td>1</td>\n",
       "    </tr>\n",
       "  </tbody>\n",
       "</table>\n",
       "</div>"
      ],
      "text/plain": [
       "    PassengerId  Survived  Pclass  Sex  Age  SibSp  Parch    Fare  Embarked\n",
       "0             1         0       3    1   22      1      0     725         3\n",
       "1             2         1       1    2   38      1      0  712833         1\n",
       "2             3         1       3    2   26      0      0    7925         3\n",
       "3             4         1       1    2   35      1      0     531         3\n",
       "4             5         0       3    1   35      0      0     805         3\n",
       "5             6         0       3    1   38      0      0   84583         2\n",
       "6             7         0       1    1   54      0      0  518625         3\n",
       "7             8         0       3    1    2      3      1   21075         3\n",
       "8             9         1       3    2   27      0      2  111333         3\n",
       "9            10         1       2    2   14      1      0  300708         1\n",
       "10           11         1       3    2    4      1      1     167         3\n",
       "11           12         1       1    2   58      0      0    2655         3\n",
       "12           13         0       3    1   20      0      0     805         3\n",
       "13           14         0       3    1   39      1      5   31275         3\n",
       "14           15         0       3    2   14      0      0   78542         3\n",
       "15           16         1       2    2   55      0      0      16         3\n",
       "16           17         0       3    1    2      4      1   29125         2\n",
       "17           18         1       2    1   38      0      0      13         3\n",
       "18           19         0       3    2   31      1      0      18         3\n",
       "19           20         1       3    2   38      0      0    7225         1"
      ]
     },
<<<<<<< HEAD
     "execution_count": 41,
=======
<<<<<<< HEAD
<<<<<<< HEAD
<<<<<<< HEAD
     "execution_count": 41,
=======
     "execution_count": 94,
>>>>>>> 1d56431 (24-01-2025(previa))
=======
     "execution_count": 41,
>>>>>>> 2170714 (24-04-2025_Final)
=======
     "execution_count": 41,
>>>>>>> origin/main
>>>>>>> luiscargarcia/main
     "metadata": {},
     "output_type": "execute_result"
    }
   ],
   "source": [
<<<<<<< HEAD
    "dataframe1 = pd.read_csv(\"./datasets/train2.csv\")\n",
    "dataframe1.head(20)"
=======
<<<<<<< HEAD
<<<<<<< HEAD
<<<<<<< HEAD
    "dataframe1 = pd.read_csv(\"./datasets/train2.csv\")\n",
    "dataframe1.head(20)"
=======
    "dataframe = pd.read_csv(\"./datasets/train2.csv\")\n",
    "dataframe.head(20)"
>>>>>>> 1d56431 (24-01-2025(previa))
=======
    "dataframe1 = pd.read_csv(\"./datasets/train2.csv\")\n",
    "dataframe1.head(20)"
>>>>>>> 2170714 (24-04-2025_Final)
=======
    "dataframe1 = pd.read_csv(\"./datasets/train2.csv\")\n",
    "dataframe1.head(20)"
>>>>>>> origin/main
>>>>>>> luiscargarcia/main
   ]
  },
  {
   "cell_type": "markdown",
   "metadata": {
    "collapsed": false
   },
   "source": [
    "El método dataframe.describe() nos dará algo de información estadística básica de nuestro set de datos. La Media, el desvío estándar, valores mínimo y máximo de cada característica."
   ]
  },
  {
   "cell_type": "code",
<<<<<<< HEAD
   "execution_count": 42,
=======
<<<<<<< HEAD
<<<<<<< HEAD
<<<<<<< HEAD
   "execution_count": 42,
=======
   "execution_count": 95,
>>>>>>> 1d56431 (24-01-2025(previa))
=======
   "execution_count": 42,
>>>>>>> 2170714 (24-04-2025_Final)
=======
   "execution_count": 42,
>>>>>>> origin/main
>>>>>>> luiscargarcia/main
   "metadata": {
    "ExecuteTime": {
     "end_time": "2024-02-02T15:49:22.158806800Z",
     "start_time": "2024-02-02T15:49:22.131827600Z"
    },
    "collapsed": false
   },
   "outputs": [
    {
     "data": {
      "text/html": [
       "<div>\n",
       "<style scoped>\n",
       "    .dataframe tbody tr th:only-of-type {\n",
       "        vertical-align: middle;\n",
       "    }\n",
       "\n",
       "    .dataframe tbody tr th {\n",
       "        vertical-align: top;\n",
       "    }\n",
       "\n",
       "    .dataframe thead th {\n",
       "        text-align: right;\n",
       "    }\n",
       "</style>\n",
       "<table border=\"1\" class=\"dataframe\">\n",
       "  <thead>\n",
       "    <tr style=\"text-align: right;\">\n",
       "      <th></th>\n",
       "      <th>PassengerId</th>\n",
       "      <th>Survived</th>\n",
       "      <th>Pclass</th>\n",
       "      <th>Sex</th>\n",
       "      <th>Age</th>\n",
       "      <th>SibSp</th>\n",
       "      <th>Parch</th>\n",
       "      <th>Fare</th>\n",
       "      <th>Embarked</th>\n",
       "    </tr>\n",
       "  </thead>\n",
       "  <tbody>\n",
       "    <tr>\n",
       "      <th>count</th>\n",
       "      <td>891.000000</td>\n",
       "      <td>891.000000</td>\n",
       "      <td>891.000000</td>\n",
       "      <td>891.000000</td>\n",
       "      <td>891.000000</td>\n",
       "      <td>891.000000</td>\n",
       "      <td>891.000000</td>\n",
       "      <td>8.910000e+02</td>\n",
       "      <td>891.000000</td>\n",
       "    </tr>\n",
       "    <tr>\n",
       "      <th>mean</th>\n",
       "      <td>446.000000</td>\n",
       "      <td>0.383838</td>\n",
       "      <td>2.308642</td>\n",
       "      <td>1.352413</td>\n",
       "      <td>38.336700</td>\n",
       "      <td>0.523008</td>\n",
       "      <td>0.381594</td>\n",
       "      <td>1.276607e+05</td>\n",
       "      <td>2.536476</td>\n",
       "    </tr>\n",
       "    <tr>\n",
       "      <th>std</th>\n",
       "      <td>257.353842</td>\n",
       "      <td>0.486592</td>\n",
       "      <td>0.836071</td>\n",
       "      <td>0.477990</td>\n",
       "      <td>50.593456</td>\n",
       "      <td>1.102743</td>\n",
       "      <td>0.806057</td>\n",
       "      <td>4.111230e+05</td>\n",
       "      <td>0.791503</td>\n",
       "    </tr>\n",
       "    <tr>\n",
       "      <th>min</th>\n",
       "      <td>1.000000</td>\n",
       "      <td>0.000000</td>\n",
       "      <td>1.000000</td>\n",
       "      <td>1.000000</td>\n",
       "      <td>1.000000</td>\n",
       "      <td>0.000000</td>\n",
       "      <td>0.000000</td>\n",
       "      <td>0.000000e+00</td>\n",
       "      <td>1.000000</td>\n",
       "    </tr>\n",
       "    <tr>\n",
       "      <th>25%</th>\n",
       "      <td>223.500000</td>\n",
       "      <td>0.000000</td>\n",
       "      <td>2.000000</td>\n",
       "      <td>1.000000</td>\n",
       "      <td>23.000000</td>\n",
       "      <td>0.000000</td>\n",
       "      <td>0.000000</td>\n",
       "      <td>1.610000e+02</td>\n",
       "      <td>2.000000</td>\n",
       "    </tr>\n",
       "    <tr>\n",
       "      <th>50%</th>\n",
       "      <td>446.000000</td>\n",
       "      <td>0.000000</td>\n",
       "      <td>3.000000</td>\n",
       "      <td>1.000000</td>\n",
       "      <td>33.000000</td>\n",
       "      <td>0.000000</td>\n",
       "      <td>0.000000</td>\n",
       "      <td>2.625000e+03</td>\n",
       "      <td>3.000000</td>\n",
       "    </tr>\n",
       "    <tr>\n",
       "      <th>75%</th>\n",
       "      <td>668.500000</td>\n",
       "      <td>1.000000</td>\n",
       "      <td>3.000000</td>\n",
       "      <td>2.000000</td>\n",
       "      <td>38.000000</td>\n",
       "      <td>1.000000</td>\n",
       "      <td>0.000000</td>\n",
       "      <td>7.895800e+04</td>\n",
       "      <td>3.000000</td>\n",
       "    </tr>\n",
       "    <tr>\n",
       "      <th>max</th>\n",
       "      <td>891.000000</td>\n",
       "      <td>1.000000</td>\n",
       "      <td>3.000000</td>\n",
       "      <td>2.000000</td>\n",
       "      <td>705.000000</td>\n",
       "      <td>8.000000</td>\n",
       "      <td>6.000000</td>\n",
       "      <td>5.123292e+06</td>\n",
       "      <td>3.000000</td>\n",
       "    </tr>\n",
       "  </tbody>\n",
       "</table>\n",
       "</div>"
      ],
      "text/plain": [
       "       PassengerId    Survived      Pclass         Sex         Age  \\\n",
       "count   891.000000  891.000000  891.000000  891.000000  891.000000   \n",
       "mean    446.000000    0.383838    2.308642    1.352413   38.336700   \n",
       "std     257.353842    0.486592    0.836071    0.477990   50.593456   \n",
       "min       1.000000    0.000000    1.000000    1.000000    1.000000   \n",
       "25%     223.500000    0.000000    2.000000    1.000000   23.000000   \n",
       "50%     446.000000    0.000000    3.000000    1.000000   33.000000   \n",
       "75%     668.500000    1.000000    3.000000    2.000000   38.000000   \n",
       "max     891.000000    1.000000    3.000000    2.000000  705.000000   \n",
       "\n",
       "            SibSp       Parch          Fare    Embarked  \n",
       "count  891.000000  891.000000  8.910000e+02  891.000000  \n",
       "mean     0.523008    0.381594  1.276607e+05    2.536476  \n",
       "std      1.102743    0.806057  4.111230e+05    0.791503  \n",
       "min      0.000000    0.000000  0.000000e+00    1.000000  \n",
       "25%      0.000000    0.000000  1.610000e+02    2.000000  \n",
       "50%      0.000000    0.000000  2.625000e+03    3.000000  \n",
       "75%      1.000000    0.000000  7.895800e+04    3.000000  \n",
       "max      8.000000    6.000000  5.123292e+06    3.000000  "
      ]
     },
<<<<<<< HEAD
     "execution_count": 42,
=======
<<<<<<< HEAD
<<<<<<< HEAD
<<<<<<< HEAD
     "execution_count": 42,
=======
     "execution_count": 95,
>>>>>>> 1d56431 (24-01-2025(previa))
=======
     "execution_count": 42,
>>>>>>> 2170714 (24-04-2025_Final)
=======
     "execution_count": 42,
>>>>>>> origin/main
>>>>>>> luiscargarcia/main
     "metadata": {},
     "output_type": "execute_result"
    }
   ],
   "source": [
<<<<<<< HEAD
    "dataframe1.describe()"
=======
<<<<<<< HEAD
<<<<<<< HEAD
<<<<<<< HEAD
    "dataframe1.describe()"
=======
    "dataframe.describe()"
>>>>>>> 1d56431 (24-01-2025(previa))
=======
    "dataframe1.describe()"
>>>>>>> 2170714 (24-04-2025_Final)
=======
    "dataframe1.describe()"
>>>>>>> origin/main
>>>>>>> luiscargarcia/main
   ]
  },
  {
   "cell_type": "markdown",
   "metadata": {
    "collapsed": false
   },
   "source": [
    "En este paso comprobamos cuantas observaciones tenemos de cada tipo usando la función groupby. Se observa que tenemos 86 usuarios “Clase 0”, es decir Windows, 40 usuarios Mac, \"Clase 1\" y 44 de Linux, \"Clase 2\"."
   ]
  },
  {
   "cell_type": "code",
<<<<<<< HEAD
   "execution_count": 43,
=======
<<<<<<< HEAD
<<<<<<< HEAD
<<<<<<< HEAD
   "execution_count": 43,
=======
   "execution_count": 96,
>>>>>>> 1d56431 (24-01-2025(previa))
=======
   "execution_count": 43,
>>>>>>> 2170714 (24-04-2025_Final)
=======
   "execution_count": 43,
>>>>>>> origin/main
>>>>>>> luiscargarcia/main
   "metadata": {},
   "outputs": [
    {
     "name": "stdout",
     "output_type": "stream",
     "text": [
      "Survived\n",
      "0    549\n",
      "1    342\n",
      "dtype: int64\n"
     ]
    }
   ],
   "source": [
<<<<<<< HEAD
    "print(dataframe1.groupby('Survived').size())"
=======
<<<<<<< HEAD
<<<<<<< HEAD
<<<<<<< HEAD
    "print(dataframe1.groupby('Survived').size())"
=======
    "print(dataframe.groupby('Survived').size())"
>>>>>>> 1d56431 (24-01-2025(previa))
=======
    "print(dataframe1.groupby('Survived').size())"
>>>>>>> 2170714 (24-04-2025_Final)
=======
    "print(dataframe1.groupby('Survived').size())"
>>>>>>> origin/main
>>>>>>> luiscargarcia/main
   ]
  },
  {
   "cell_type": "markdown",
   "metadata": {},
   "source": [
    "## <a id='toc1_3_'></a>[Visualizamos los datos](#toc0_)\n",
    "\n",
    "Graficamos los histogramas de las cuatro \"features\"(variables independientes o características) de entrada con los nombres “duración”, “páginas”,”acciones” y “valor”. Observamos entre qué valores se mueven sus mínimos y máximos y en qué intervalos concentran la mayor densidad de registros."
   ]
  },
  {
   "cell_type": "code",
<<<<<<< HEAD
   "execution_count": 44,
=======
<<<<<<< HEAD
<<<<<<< HEAD
<<<<<<< HEAD
   "execution_count": 44,
=======
   "execution_count": 97,
>>>>>>> 1d56431 (24-01-2025(previa))
=======
   "execution_count": 44,
>>>>>>> 2170714 (24-04-2025_Final)
=======
   "execution_count": 44,
>>>>>>> origin/main
>>>>>>> luiscargarcia/main
   "metadata": {},
   "outputs": [
    {
     "data": {
<<<<<<< HEAD
      "image/png": "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",
=======
<<<<<<< HEAD
<<<<<<< HEAD
<<<<<<< HEAD
      "image/png": "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",
=======
      "image/png": "iVBORw0KGgoAAAANSUhEUgAAAicAAAHFCAYAAAApNFnJAAAAOnRFWHRTb2Z0d2FyZQBNYXRwbG90bGliIHZlcnNpb24zLjEwLjAsIGh0dHBzOi8vbWF0cGxvdGxpYi5vcmcvlHJYcgAAAAlwSFlzAAAPYQAAD2EBqD+naQAAafRJREFUeJzt3X9cFNX+P/AXLLvLz0VBYEEBf6WIv0OF9fdPuIaaSf5OSc0+KVhKmtk1RS0xb2mlqNU1vHU1xNK6qSmIpilwNcxCLa6aiqaAPxJUclnZ8/2jL5MroIDAzi6v5+Oxjwdz5szMOcPZ4c2ZM2dshBACRERERDJha+4CEBEREd2LwQkRERHJCoMTIiIikhUGJ0RERCQrDE6IiIhIVhicEBERkawwOCEiIiJZYXBCREREssLghIiIiGSFwQmZ3bfffgsbGxt8++235i4Kycyzzz6Lpk2bmuXYNjY2iI2NNcuxyfKcO3cONjY22LBhg7mLYhUYnPx/GzZsgI2NjfSxt7dHq1atEB0djby8PHMXzyLZ2NggOjra3MWgKsjKysLTTz8Nf39/2Nvbo3Hjxhg0aBBWrVpl7qIR1Qpe++XJztwFkJvFixejWbNmuHPnDg4ePIi1a9di586dOH78OBwdHc1dPKJak5aWhn79+sHPzw9Tp06FVqvFhQsXkJGRgffeew8zZsyo8zJ99NFHMBqNdX5cqn947ZcXBif3GTx4MLp06QIAeO655+Du7o4VK1bgq6++wtixY81cOvkzGo0oLi6Gvb29uYtCVfTmm2/C1dUVR44cQYMGDUzW5efn18gxbt++DScnp0rnVyqVNXJcoofhtV9eeFvnIfr37w8AOHv2LN5++210794d7u7ucHBwQFBQED7//PMy26SkpKBnz55o0KABnJ2d0bp1a7z22msmeVatWoW2bdvC0dERDRs2RJcuXbBp0yaTPL/99hsmT54MLy8vqNVqtG3bFh9//LFJntLxGklJSXjzzTfRpEkT2NvbY8CAATh9+nSZssXHx6N58+ZwcHBAt27d8N1336Fv377o27evST69Xo+FCxeiZcuWUKvV8PX1xSuvvAK9Xm+Sr/TWzcaNG9G2bVuo1Wrs2rWrwvN58eJFDB8+HE5OTvD09MSsWbPK7JPM48yZM2jbtm2ZwAQAPD09ATz4vvr9YzRiY2NhY2ODkydPYty4cWjYsCF69uyJt99+GzY2Njh//nyZfcybNw8qlQq///47ANMxJwaDAW5ubpg0aVKZ7QoLC2Fvb4/Zs2dLaZVtw3q9HrNmzYKHhwdcXFwwbNgwXLx48WGni6zcvdd+ALhx4wZmzZqFpk2bQq1Wo0mTJpg4cSKuXr1a4T5++uknPPvss2jevDns7e2h1WoxefJkXLt2zSTfzZs3MXPmTGnfnp6eGDRoEI4ePSrlOXXqFCIiIqDVamFvb48mTZpgzJgxKCgoqIXamx97Th7izJkzAAB3d3e88cYbGDZsGMaPH4/i4mIkJiZi5MiR2L59O8LDwwEAJ06cwJAhQ9ChQwcsXrwYarUap0+fxqFDh6R9fvTRR3jxxRfx9NNP46WXXsKdO3fw008/4b///S/GjRsHAMjLy0NISIj0x9/DwwPffPMNpkyZgsLCQsycOdOknMuWLYOtrS1mz56NgoICLF++HOPHj8d///tfKc/atWsRHR2NXr16YdasWTh37hyGDx+Ohg0bokmTJlI+o9GIYcOG4eDBg3j++efRpk0bZGVlYeXKlfjf//6HL7/80uTYe/fuRVJSEqKjo9GoUaMKBzD+8ccfGDBgAHJycvDiiy/Cx8cHn376Kfbu3VvdXw/VIH9/f6Snp+P48eNo165dje135MiReOyxx7B06VIIITBkyBC88sorSEpKwpw5c0zyJiUlITQ0FA0bNiyzH6VSiaeeegpbt27FBx98AJVKJa378ssvodfrMWbMGABVa8PPPfcc/v3vf2PcuHHo3r079u7dK32fqf6699p/69Yt9OrVCz///DMmT56Mxx9/HFevXsV//vMfXLx4EY0aNSp3HykpKfj1118xadIkaLVanDhxAh9++CFOnDiBjIwM2NjYAABeeOEFfP7554iOjkZgYCCuXbuGgwcP4ueff8bjjz+O4uJihIWFQa/XY8aMGdBqtfjtt9+wfft23LhxA66urnV2XuqMICGEEAkJCQKA2LNnj7hy5Yq4cOGCSExMFO7u7sLBwUFcvHhRFBUVmWxTXFws2rVrJ/r37y+lrVy5UgAQV65cqfBYTz75pGjbtu0DyzNlyhTh7e0trl69apI+ZswY4erqKpVl3759AoBo06aN0Ov1Ur733ntPABBZWVlCCCH0er1wd3cXXbt2FQaDQcq3YcMGAUD06dNHSvv000+Fra2t+O6770yOvW7dOgFAHDp0SEoDIGxtbcWJEyfK1AGAiIqKkpbfffddAUAkJSVJabdv3xYtW7YUAMS+ffseeE6odiUnJwuFQiEUCoXQ6XTilVdeEbt37xbFxcVSnrNnzwoAIiEhocz2AMTChQul5YULFwoAYuzYsWXy6nQ6ERQUZJJ2+PBhAUB88sknUlpkZKTw9/eXlnfv3i0AiK+//tpk2yeeeEI0b95cWq5sGz527JgAIKZPn26Sb9y4cWXqQ9apMtf+BQsWCABi69atZbY3Go1CiPK/G/f/zRBCiM8++0wAEAcOHJDSXF1dTa6V9/vhhx8EALFly5ZHqKll4W2d+wwcOBAeHh7w9fXFmDFj4OzsjG3btqFx48ZwcHCQ8v3+++8oKChAr169TLreSrvEv/rqqwoH8jVo0AAXL17EkSNHyl0vhMAXX3yBoUOHQgiBq1evSp+wsDAUFBSYHBMAJk2aZPKfZK9evQAAv/76KwDg+++/x7Vr1zB16lTY2f3VYTZ+/Pgy/6Vu2bIFbdq0QUBAgMmxS7s59+3bZ5K/T58+CAwMLLcu99q5cye8vb3x9NNPS2mOjo54/vnnH7ot1b5BgwYhPT0dw4YNw48//ojly5cjLCwMjRs3xn/+859q7/eFF14okzZ69GhkZmZK/50CwObNm6FWq/Hkk09WuK/+/fujUaNG2Lx5s5T2+++/IyUlBaNHj5bSKtuGd+7cCQB48cUXTY5zf88kWb8HXfu/+OILdOzYEU899VSZ7Up7P8pz79+MO3fu4OrVqwgJCQGAMn83/vvf/+LSpUvl7qe0Z2T37t0oKiqqVv0sDYOT+8THxyMlJQX79u3DyZMn8euvvyIsLAwAsH37doSEhMDe3h5ubm7w8PDA2rVrTe75jR49Gj169MBzzz0HLy8vjBkzBklJSSaByty5c+Hs7Ixu3brhscceQ1RUlMltnytXruDGjRv48MMP4eHhYfIpvd9+/wBFPz8/k+XSgKP03n3p/f2WLVua5LOzsytzG+bUqVM4ceJEmWO3atWq3GM3a9asEmf2zzK0bNmyzJe5devWldqeal/Xrl2xdetW/P777zh8+DDmzZuHmzdv4umnn8bJkyertc/y2sfIkSNha2srBRlCCGzZsgWDBw+GRqOpcF92dnaIiIjAV199JY0d2bp1KwwGg0lwUtk2fP78edja2qJFixYmx2GbrH8edO0/c+ZMtW51Xr9+HS+99BK8vLzg4OAADw8P6ftw79+N5cuX4/jx4/D19UW3bt0QGxsr/WMJ/PkdiomJwT//+U80atQIYWFhiI+Pt9rxJgDHnJTRrVs3acT2vb777jsMGzYMvXv3xpo1a+Dt7Q2lUomEhASTgawODg44cOAA9u3bhx07dmDXrl3YvHkz+vfvj+TkZCgUCrRp0wbZ2dnYvn07du3ahS+++AJr1qzBggULsGjRIimQeeaZZxAZGVluOTt06GCyrFAoys0nhKjyOTAajWjfvj1WrFhR7npfX1+T5Xv/OyDroFKp0LVrV3Tt2hWtWrXCpEmTsGXLFjz77LPl5i8pKalwX+W1Dx8fH/Tq1QtJSUl47bXXkJGRgZycHLz11lsPLduYMWPwwQcf4JtvvsHw4cORlJSEgIAAdOzYUcpT1TZMVNG1/1GMGjUKaWlpmDNnDjp16gRnZ2cYjUb87W9/M/mHddSoUejVqxe2bduG5ORk/OMf/8Bbb72FrVu3YvDgwQCAd955B88++yy++uorJCcn48UXX0RcXBwyMjJMxgxaCwYnlfTFF1/A3t4eu3fvhlqtltITEhLK5LW1tcWAAQMwYMAArFixAkuXLsXf//537Nu3DwMHDgQAODk5YfTo0Rg9ejSKi4sxYsQIvPnmm5g3b5701EBJSYmU/1H5+/sDAE6fPo1+/fpJ6Xfv3sW5c+dMgp0WLVrgxx9/xIABAx7YZVmdMhw/fhxCCJP9Zmdn19gxqOaVXrAvX74s9cjduHHDJE95T948zOjRozF9+nRkZ2dj8+bNcHR0xNChQx+6Xe/eveHt7Y3NmzejZ8+e2Lt3L/7+97+b5KlsG/b394fRaMSZM2dMekvYJuleLVq0wPHjx6u0ze+//47U1FQsWrQICxYskNJPnTpVbn5vb29Mnz4d06dPR35+Ph5//HG8+eabUnACAO3bt0f79u0xf/58pKWloUePHli3bh3eeOON6lVMxnhbp5IUCgVsbGxM/kM8d+5cmSdXrl+/XmbbTp06AYDUDX3/Y2QqlQqBgYEQQsBgMEChUCAiIgJffPFFuV+IK1euVLn8Xbp0gbu7Oz766CPcvXtXSt+4caN066fUqFGj8Ntvv+Gjjz4qs58//vgDt2/frvLxAeCJJ57ApUuXTB6/Lioqwocfflit/VHN2rdvX7k9baXjMlq3bg2NRoNGjRrhwIEDJnnWrFlT5eNFRERAoVDgs88+w5YtWzBkyJBKzYFia2uLp59+Gl9//TU+/fRT3L171+SWDlD5Nlx64X///fdN8rz77rtVrg9Zr4iICPz444/Ytm1bmXUV9U6X9mbfv/7+tlVSUlLm9oynpyd8fHykvxmFhYUm123gz0DF1tbWaqdiYM9JJYWHh2PFihX429/+hnHjxiE/Px/x8fFo2bIlfvrpJynf4sWLceDAAYSHh8Pf3x/5+flYs2YNmjRpgp49ewIAQkNDodVq0aNHD3h5eeHnn3/G6tWrER4eDhcXFwB/Phq8b98+BAcHY+rUqQgMDMT169dx9OhR7Nmzp9wg6EFUKhViY2MxY8YM9O/fH6NGjcK5c+ewYcMGtGjRwuS/ywkTJiApKQkvvPAC9u3bhx49eqCkpAS//PILkpKSsHv37mp1f06dOhWrV6/GxIkTkZmZCW9vb3z66aecfVEmZsyYgaKiIjz11FMICAhAcXEx0tLSsHnzZjRt2lQa7/Tcc89h2bJleO6559ClSxccOHAA//vf/6p8PE9PT/Tr1w8rVqzAzZs3ywQYDzJ69GisWrUKCxcuRPv27dGmTRuT9ZVtw506dcLYsWOxZs0aFBQUoHv37khNTS13jiCqv+bMmYPPP/8cI0eOxOTJkxEUFITr16/jP//5D9atW2dyS7GURqNB7969sXz5chgMBjRu3BjJycnSvCmlbt68iSZNmuDpp59Gx44d4ezsjD179uDIkSN45513APw5XUN0dDRGjhyJVq1a4e7du/j000+lf2StktmeE5KZ0sfJjhw5UmGe9evXi8cee0yo1WoREBAgEhISpMclS6Wmpoonn3xS+Pj4CJVKJXx8fMTYsWPF//73PynPBx98IHr37i3c3d2FWq0WLVq0EHPmzBEFBQUmx8vLyxNRUVHC19dXKJVKodVqxYABA8SHH34o5Sl9lPj+R8wqeuTz/fffF/7+/kKtVotu3bqJQ4cOiaCgIPG3v/3NJF9xcbF46623RNu2bYVarRYNGzYUQUFBYtGiRSblxH2PC9+rvHXnz58Xw4YNE46OjqJRo0bipZdeErt27eKjxDLwzTffiMmTJ4uAgADh7OwsVCqVaNmypZgxY4bIy8uT8hUVFYkpU6YIV1dX4eLiIkaNGiXy8/MrfJT4QY/Vf/TRRwKAcHFxEX/88UeZ9fc/SlzKaDQKX19fAUC88cYb5e67sm34jz/+EC+++KJwd3cXTk5OYujQoeLChQt8lLieqMy1Xwghrl27JqKjo0Xjxo2FSqUSTZo0EZGRkdJ0D+Vdcy9evCieeuop0aBBA+Hq6ipGjhwpLl26ZNK29Hq9mDNnjujYsaNwcXERTk5OomPHjmLNmjXSfn799VcxefJk0aJFC2Fvby/c3NxEv379xJ49e2r8fMiFjRDVGDFJVsNoNMLDwwMjRowotwuciIiornHMST1y586dMvc/P/nkE1y/fr3M9PVERETmwp6TeuTbb7/FrFmzMHLkSLi7u+Po0aNYv3492rRpg8zMTJNJ3IiIiMyFA2LrkaZNm8LX1xfvv/8+rl+/Djc3N0ycOBHLli1jYEJERLLBnhMiIiKSFY45ISIiIllhcEJERESyYpFjToxGIy5dugQXF5canV6drIsQAjdv3oSPjw9sbeUZh7MtU2WwLZO1qGxbtsjg5NKlS3xxF1XahQsXZPtiLLZlqgq2ZbIWD2vLFhmclE7xfuHCBZPXqxsMBiQnJyM0NBRKpdJcxZOd+npeCgsL4evrK7UXOWJbLot1L1t3tmXLxLpXvy1bZHBS2mWo0WjKfAkcHR2h0WjqXUN4kPp+XuTcxcy2XBbrXnHd2ZYtC+te/bYsz5uXREREVG9ZZM8JWbemr+6oUv5zy8JrqSTm1y52N/Qllf9v2ZrPBRGZT1Wvy2qFwPJu1T+eVQYnVb2gW7vSRsLzQkREloC3dYiIiEhWGJwQERGRrDA4ISIiIllhcEJERESywuCEiIiIZIXBCREREckKgxMiIiKSFQYnREREJCsMToiIiEhWGJwQERGRrDA4ISIiIllhcEJERESywuCEiIiIZIXBCRGRFVm2bBlsbGwwc+ZMKe3OnTuIioqCu7s7nJ2dERERgby8PJPtcnJyEB4eDkdHR3h6emLOnDm4e/duHZee6E8MToiIrMSRI0fwwQcfoEOHDibps2bNwtdff40tW7Zg//79uHTpEkaMGCGtLykpQXh4OIqLi5GWloZ//etf2LBhAxYsWFDXVSACwOCEiMgq3Lp1C+PHj8dHH32Ehg0bSukFBQVYv349VqxYgf79+yMoKAgJCQlIS0tDRkYGACA5ORknT57Ev//9b3Tq1AmDBw/GkiVLEB8fj+LiYnNVieoxO3MXgIiIHl1UVBTCw8MxcOBAvPHGG1J6ZmYmDAYDBg4cKKUFBATAz88P6enpCAkJQXp6Otq3bw8vLy8pT1hYGKZNm4YTJ06gc+fOZY6n1+uh1+ul5cLCQgCAwWCAwWCQ0kt/vjetvrCmuqsVomr5bf/Mf3/dK3suGJwQEVm4xMREHD16FEeOHCmzLjc3FyqVCg0aNDBJ9/LyQm5urpTn3sCkdH3puvLExcVh0aJFZdKTk5Ph6OhYJj0lJaVSdbFG1lD35d2qt939dS8qKqrUdgxOiIgs2IULF/DSSy8hJSUF9vb2dXbcefPmISYmRlouLCyEr68vQkNDodFopHSDwYCUlBQMGjQISqWyzsonB9ZU93axu6uUX20rsKSLsUzdS3vYHobBCRGRBcvMzER+fj4ef/xxKa2kpAQHDhzA6tWrsXv3bhQXF+PGjRsmvSd5eXnQarUAAK1Wi8OHD5vst/RpntI891Or1VCr1WXSlUpluX+IK0qvD6yh7voSm2ptd3/dK3seOCCWiMiCDRgwAFlZWTh27Jj06dKlC8aPHy/9rFQqkZqaKm2TnZ2NnJwc6HQ6AIBOp0NWVhby8/OlPCkpKdBoNAgMDKzzOhExOCEC54Ygy+Xi4oJ27dqZfJycnODu7o527drB1dUVU6ZMQUxMDPbt24fMzExMmjQJOp0OISEhAIDQ0FAEBgZiwoQJ+PHHH7F7927Mnz8fUVFR5faOENU2BidU73FuCLJ2K1euxJAhQxAREYHevXtDq9Vi69at0nqFQoHt27dDoVBAp9PhmWeewcSJE7F48WIzlprqM445oXrt3rkh7n38snRuiE2bNqF///4AgISEBLRp0wYZGRkICQmR5obYs2cPvLy80KlTJyxZsgRz585FbGwsVCqVuapF9dy3335rsmxvb4/4+HjEx8dXuI2/vz927txZyyUjqhwGJ1SvyX1uiNK5AirLGuZTsKa5IaqqorrXx3NB9RuDE6q3LGFuiCVdjJWqSylr+s/XGuaGqK7qzg1BZC0YnFC9ZClzQ7z+vS30xso/wnc8NqxGy2sO1jQ3RFVVVPfKzg1BZC0YnFC9ZClzQ+iNNlWaX8Ca/phbw9wQ1VXduSGIrAWf1qF6iXNDEBHJF3tOqF4qnRviXvfODQFAmhvCzc0NGo0GM2bMqHBuiOXLlyM3N5dzQxAR1QAGJ0QVWLlyJWxtbREREQG9Xo+wsDCsWbNGWl86N8S0adOg0+ng5OSEyMhIzg1BRPSIGJwQ/X+cG4KISB445oSIiIhkhcEJERERyQqDEyIiIpIVjjkhIqolTV/dUaX8aoXA8m61VBgiC8KeEyIiIpIVBidEREQkKzUenMTGxsLGxsbkExAQIK2/c+cOoqKi4O7uDmdnZ0REREhTfhMRERHVSs9J27ZtcfnyZelz8OBBad2sWbPw9ddfY8uWLdi/fz8uXbqEESNG1EYxiIiIyALVyoBYOzu7cl98VlBQgPXr12PTpk3o378/ACAhIQFt2rRBRkaGNC04ERER1V+1EpycOnUKPj4+sLe3h06nQ1xcHPz8/JCZmQmDwYCBAwdKeQMCAuDn54f09PQKgxO9Xg+9Xi8tl74+3GAwwGAwSOmlP6ttRW1Uy2KVng9rPS/3toHKpBMRkbzVeHASHByMDRs2oHXr1rh8+TIWLVqEXr164fjx48jNzYVKpTJ5BT0AeHl5ITc3t8J9xsXFYdGiRWXSk5OT4ejoWCZ9SRfjI9fDGlnrealo+viioqI6LgkREdWEGg9OBg8eLP3coUMHBAcHw9/fH0lJSXBwcKjWPufNm4eYmBhpubCwEL6+vggNDYVGo5HSDQYDUlJS8Pr3ttAbbapfCSujthVY0sVotefleGxYuemlPWxERGRZan0StgYNGqBVq1Y4ffo0Bg0ahOLiYty4ccOk9yQvL6/cMSql1Gp1ua+gVyqVUCqVZdL1RhvoS6zvj/CjstbzUl4beFA6ERHJW63Pc3Lr1i2cOXMG3t7eCAoKglKpRGpqqrQ+OzsbOTk50Ol0tV0UIiIisgA13nMye/ZsDB06FP7+/rh06RIWLlwIhUKBsWPHwtXVFVOmTEFMTAzc3Nyg0WgwY8YM6HQ6PqlDREREAGohOLl48SLGjh2La9euwcPDAz179kRGRgY8PDwAACtXroStrS0iIiKg1+sRFhaGNWvW1HQxiIiIyELVeHCSmJj4wPX29vaIj49HfHx8TR+aiIiIrADfrUNERESywuCEiIiIZIXBCREREckKgxMiIiKSlVqfhI2IiGpPXFwctm7dil9++QUODg7o3r073nrrLbRu3VrKc+fOHbz88stITEw0eUrSy8tLypOTk4Np06Zh3759cHZ2RmRkJOLi4mBnVzN/JtrF7q7SJJDnloXXyHHJMrHnhIjIgu3fvx9RUVHIyMhASkoKDAYDQkNDcfv2bSnPrFmz8PXXX2PLli3Yv38/Ll26hBEjRkjrS0pKEB4ejuLiYqSlpeFf//oXNmzYgAULFpijSkTsOSEismS7du0yWd6wYQM8PT2RmZmJ3r17o6CgAOvXr8emTZvQv39/AEBCQgLatGmDjIwMhISEIDk5GSdPnsSePXvg5eWFTp06YcmSJZg7dy5iY2OhUqnKHLe23xZvDW8VL62DNdRFraja76/0931/3St7LhicEBFZkYKCAgCAm5sbACAzMxMGgwEDBw6U8gQEBMDPzw/p6ekICQlBeno62rdvb3KbJywsDNOmTcOJEyfQuXPnMsep7bfFV/S2cUuUkpJi7iI8suXdqrfd/XWv7NviGZxQvWQp9+mJqsJoNGLmzJno0aMH2rVrBwDIzc2FSqUyedkqAHh5eSE3N1fKc2+7Ll1fuq48tf22+IreNm5JSus+aNAgi38RabvY3VXKr7YVWNLFWKbulX1bPK+gVC+V3qfv2rUr7t69i9deew2hoaE4efIknJycAPx5n37Hjh3YsmULXF1dER0djREjRuDQoUMA/rpPr9VqkZaWhsuXL2PixIlQKpVYunSpOatH9VRUVBSOHz+OgwcP1vqxavtt8Zb+x/xeFZ0TS1LdN9rfX/fKngcGJ1Qvmes+PVFtiY6Oxvbt23HgwAE0adJEStdqtSguLsaNGzdMek/y8vKg1WqlPIcPHzbZX15enrSOqK4xOCFC3d2n5yDCh+MgwqoNIhRCYMaMGdi2bRu+/fZbNGvWzGR9UFAQlEolUlNTERERAQDIzs5GTk4OdDodAECn0+HNN99Efn4+PD09Afw5VkCj0SAwMLBKdaCy+Bh11TE4oXqvLu/TcxBh5XEQ4V8eNIgwKioKmzZtwldffQUXFxep7bm6usLBwQGurq6YMmUKYmJi4ObmBo1GgxkzZkCn0yEkJAQAEBoaisDAQEyYMAHLly9Hbm4u5s+fj6ioqHJv3RDVNgYnVO/V5X16DiJ8OA4irNogwrVr1wIA+vbta5KekJCAZ599FgCwcuVK2NraIiIiwmRwdymFQoHt27dj2rRp0Ol0cHJyQmRkJBYvXlyl8hPVFAYnVK/V9X16DiKsPA4irNwgQiEefuvI3t4e8fHxiI+PrzCPv7+/VfW8kWXjDLFULwkhEB0djW3btmHv3r0PvE9fqrz79FlZWcjPz5fy8D49EdGjY88J1Uu8T09EJF8MTqhe4n16IiL5YnBC9RLv0xMRyRfHnBAREZGsMDghIiIiWWFwQkRERLLC4ISIiIhkhcEJERERyQqDEyIiIpIVBidEREQkKwxOiIiISFYYnBAREZGsMDghIiIiWWFwQkRERLLC4ISIiIhkhcEJERERyQqDEyIiIpIVBidEREQkKwxOiIiISFYYnBAREZGsMDghIiIiWWFwQkRERLLC4ISIiIhkhcEJERERyQqDEyIiIpIVBidEREQkKwxOiIiISFbMFpzEx8ejadOmsLe3R3BwMA4fPmyuohA9ErZlsiZszyQHZglONm/ejJiYGCxcuBBHjx5Fx44dERYWhvz8fHMUh6ja2JbJmrA9k1yYJThZsWIFpk6dikmTJiEwMBDr1q2Do6MjPv74Y3MUh6ja2JbJmrA9k1zY1fUBi4uLkZmZiXnz5klptra2GDhwINLT08vdRq/XQ6/XS8sFBQUAgOvXr8NgMEjpBoMBRUVFsDPYosRoU0s1sDx2RoGiIqPVnpdr166Vm37z5k0AgBCiVo4rx7Zc0bmwJKV1v3btGpRKpbmL80js7t6uWv7//129v+613ZaBqrdntuWHs6a613lbFnXst99+EwBEWlqaSfqcOXNEt27dyt1m4cKFAgA//FTrc+HCBbZlfqziU1ttuTrtmW2Zn0f5PKwt13nPSXXMmzcPMTEx0rLRaMT169fh7u4OG5u/otHCwkL4+vriwoUL0Gg05iiqLNXX8yKEwM2bN+Hj42PuokjYlh+OdS9bd7Zly8S6V78t13lw0qhRIygUCuTl5Zmk5+XlQavVlruNWq2GWq02SWvQoEGFx9BoNPWuIVRGfTwvrq6utbZvtuXaxbqb1r022zJQ9fbMtlx5rHvV23KdD4hVqVQICgpCamqqlGY0GpGamgqdTlfXxSGqNrZlsiZszyQnZrmtExMTg8jISHTp0gXdunXDu+++i9u3b2PSpEnmKA5RtbEtkzVheya5MEtwMnr0aFy5cgULFixAbm4uOnXqhF27dsHLy+uR9qtWq7Fw4cIyXY31Hc9L7WFbrnmsu/nqXhvt2dx1MifWvfp1txGiFp9NIyIiIqoivluHiIiIZIXBCREREckKgxMiqnVNmzbFs88+Ky1v2LABNjY2+P77781XKCKZ4veDwYmsrVmzBjY2NggODjZ3UYgqlJWVhaeffhr+/v6wt7dH48aNMWjQIKxatapG9m80GvHJJ58gODgYbm5ucHFxQatWrTBx4kRkZGTUyDGIgL+CgtKPvb09WrVqhejo6DLzv1DtsogZYuurjRs3omnTpjh8+DBOnz6Nli1bmrtIRCbS0tLQr18/+Pn5YerUqdBqtbhw4QIyMjLw3nvvYcaMGQCA7Oxs2NpW73+hF198EfHx8XjyyScxfvx42NnZITs7G9988w2aN2+OkJCQmqwSERYvXoxmzZrhzp07OHjwINauXYudO3fi+PHjcHR0NHfx6oeaei+DHKxevVr4+/sLtVotunXrJv773/+au0jV9uuvvwoAYuvWrcLDw0PExsaarC/vvRatW7eW1v/xxx9i+vTpws3NTTg5OYkRI0aI3Nxck32cP39ePPHEE8LBwUF4eHiI2bNnC4PBUCf1o6q316SkJNG6dWuhVqtFu3btxI4dO+qopBV74oknhIeHh/j999/LrMvLy6twu2eeeUYAEEql8oF1z83NFTY2NmXaulqtFkaj8YHHkJv9+/eLIUOGCG9vbwFAbNu27aHb7Nu3T3Tu3FmoVCrRokULkZCQUOvlrEnVqbM5JSQkCADiyJEjJukxMTECgNi0aVOl9rN06VLRpUsX4ezsLDw8PMSTTz4pTp48Kf74449HKofcrVmzRrRv3164uLgIFxcXERISInbu3FmtfVnNbZ3NmzcjJiYGCxcuxNGjR9GxY0eEhYUhPz/f3EWrlo0bN6Jhw4YIDw/H008/jY0bN5bJ07p1a0RERMDZ2RkajQYdO3bEjz/+CBsbGwwePBhff/01tmzZgv379+PMmTMIDAyEm5sb7O3t0aVLF/Tq1QvFxcVIS0vDv/71L2zYsAELFiwwQ23rn6q217S0NIwdOxZTpkzBDz/8gOHDh2P48OE4fvx4HZfc1JkzZ9C2bdtypy339PSUfr53zMnmzZvx2WefAQD++c9/orCwECEhIXBxccHEiRPx+++/S9udPXsWQgjY29vj8uXL0uf8+fOwsbExOUZpl/yBAwfwf//3f3B3d4dGoymzT3O5ffs2OnbsiPj4+ErlP3v2LMLDw9GvXz8cO3YMM2fOxHPPPYfdu3fXcklrTlXrLFf9+/cH8Ofv5O2330b37t3h7u4OBwcHBAUF4fPPPzfJv3//fnz//fcYOnQoZs6cidTUVAQGBuLLL78EAPz222+YMmUKfHx8oFar0axZM0ybNg3FxcUm+9Hr9YiJiYGHhwecnJzw1FNP4cqVK3VS5+po0qQJli1bhszMTHz//ffo378/nnzySZw4caLqO6vZuMl8unXrJqKioqTlkpIS4ePjI+Li4sxYquoLCAgQU6ZMEUIIceDAAQFAHD58WFq/YMEC4ejoKBQKhYiOjharV68WgwYNEh07dhQAhEKhEFu2bBFCCHH8+HHh4uIiAIioqCixevVq0a5dOwFAfPzxx9I+165dKzQajdDr9XVb2Xqoqu111KhRIjw83CQtODhY/N///V+tlvNhQkNDhYuLi8jKynpgPn9/fxEZGSmE+LPu/fv3FwBE+/btRa9evYRGoxEhISHC1tZW9O7dWxiNRiGEEJcuXRIAhJ2dnbh9+/YDj1H632bpPt9//30RFRVVZp9ygEr0Irzyyiuibdu2JmmjR48WYWFhtViy2lOZOptbRT0W7733ngAg1q1bJ5o0aSKmT58uVq9eLVasWCG6desmAIjt27ebbANAtGnTRnh4eIhXXnlFABD//Oc/xW+//SZ8fHyEo6OjmDlzpli3bp14/fXXRZs2baQeyNJydO7cWfTv31+sWrVKvPzyy0KhUIhRo0bV1emoEQ0bNhT//Oc/q7ydVQQner1eKBSKMg1/4sSJYtiwYeYp1CP4/vvvBQCRkpIihBDCaDSKJk2aiJdeeknKM2rUKAFAaDQa0axZMzFu3Dhx9uxZ6aIPQGroAwYMEO3btxe+vr5ixYoVQggh5s+fLxwdHcVjjz0m7bP0VtLRo0frrK71UXXaq6+vr1i5cqVJ2oIFC0SHDh1qqZSVk5ycLBQKhVAoFEKn04lXXnlF7N69WxQXF5vkKw1OSus+Y8YMAUAEBQWJ4uJiqe7Lly8XAMRXX30lbdu9e3cBQNja2gp7e3sRGBgo/vOf/5QpS+kFvXSfpcrbp7lV5g91r169TL7zQgjx8ccfC41GU3sFq0WWFJzs2bNHXLlyRVy4cEEkJiYKd3d34eDgIC5evCiKiopMtikuLhbt2rUT/fv3N0kvbbMnTpwQp06dEgBEVlaWmDhxorC1tS33lk1pAF1ajoEDB5oE1bNmzRIKhULcuHGjFmpfs+7evSs+++wzoVKpxIkTJ6q8vVXc1rl69SpKSkrKTLHs5eWF3NxcM5Wq+jZu3AgvLy/069cPAGBjY4PRo0cjMTERJSUlAP58HbVCoUBycjLWrl2Ls2fPok+fPpg8eTIAQKFQoEGDBrh+/Tr27t2LUaNGwd3dHb/++iuuXr2K8+fPw9vbG6dOncJvv/0GANL5s8RzZkmq015zc3Nl2b4HDRqE9PR0DBs2DD/++COWL1+OsLAwNG7cGP/5z3/K5C+te+lbSp9//nkolUqpLtOmTYOdnR127twpbbN8+XJMmDABrVu3xp07d3Dy5EkMGzYMPXv2lNruvUr3Waq8fVqCin7nhYWF+OOPP8xUqvph4MCB8PDwgK+vL8aMGQNnZ2ds27YNjRs3hoODg5Tv999/R0FBAXr16oWjR4+W2U+fPn0QEBCAmTNnokePHtKtnaFDh6JLly5l8tvY2JgsP//88yZpvXr1QklJCc6fP1+Dta1ZWVlZcHZ2hlqtxgsvvIBt27YhMDCwyvvh0zoyU1JSgsTERPTr1w9nz56V0oODg/HOO+8gNTUVoaGhMBqNaNy4sfSYcXBwMPz9/XHq1CmT/Z0+fRpCCLz++usAgGPHjmH16tUmefLz89G4ceNarhlZq65du2Lr1q0oLi7Gjz/+iG3btmHlypV4+umncezYsQdemB577DGTZWdnZ3h7e+PcuXNSWo8ePdCjRw8AwLVr17B//35MmDABhw4dwpgxY/Ddd99VeZ9EDxIfH49WrVrBzs4OXl5eaN26tfS02fbt2/HGG2/g2LFj0Ov10jb3BxYA0KxZM0RFReH48eM4ePAgrly5gsLCQrRr165S5fDz8zNZbtiwIQDIYgxVRVq3bo1jx46hoKAAn3/+OSIjI7F///4qByhW0XPSqFEjKBSKMs+h5+XlQavVmqlU1bN3715cvnwZiYmJeOyxx6TPqFGjAKDcgbEA0KBBA7Rq1QoXLlwA8GeQc+PGDRiNRgDA7Nmz4enpiRdeeAEpKSkYP348mjdvjpSUFOkR5dLzZ2nnzNJUp71qtVrZt2+VSoWuXbti6dKlWLt2LQwGA7Zs2WKSp7TuhYWFJumVrYu7uztGjBiBJ554Ah4eHjh48KCs/4t8FBX9zjUajcl/71TzunXrhoEDB6Jv375o06aNFJh89913GDZsGOzt7bFmzRrs3LkTKSkpGDduHEQ5r6k7cuQItm/fjn379qFJkyZVLodCoSg3vbxjyYVKpULLli0RFBSEuLg4dOzYEe+9916V92MVwYlKpUJQUBBSU1OlNKPRiNTUVOh0OjOWrOo2btwIT09PbNmypcxn7Nix2LZtG/744w/4+/vj8uXLKCoqAgDcunULZ86ckfajUCiQmpqK5s2bA/jzNlB+fj4iIyMxcOBAjB8/HufOnUOHDh3g4uICAEhJSYFGo6lWFxxVXnXaq06nM8kP/Pn7kmv7Lu2yvnz5skl6ad1PnjwJADh16pRJ3W/duoXLly+jadOmFe67pKQEWVlZ0n+V9x/j/t7DyuxTjiztd14ffPHFF7C3t8fu3bsxefJkDB48GAMHDiyTrzR4OHPmDPbu3YtmzZoBADw8PKDRaMz+lF1dMhqNJj1MlVbDY2DMJjExUajVarFhwwZx8uRJ8fzzz4sGDRqUmdtDzoqKioSLi4uYPHlyuesPHTokAIjExEQxdOhQAUAsWLBAHDp0SAwcOFC4u7uLXr16CQCib9++ws/PT+zdu1cEBQUJOzs7ERQUJO3r7t27ol27dqJv377i2LFjYteuXcLDw0PMmzevrqpbrz2svU6YMEG8+uqrUv5Dhw4JOzs78fbbb4uff/5ZLFy4UCiVyoc+JVPb9u7dW+5TMG+99ZYAIA3AvvdpncTERGFnZycAiLZt24rnnntOqnvp4NURI0YIIYS4fPmyiIqKErt37xZnzpwRmZmZYsyYMUKtVouAgABha2srrly5IoR4+IDYL7/8spbPxoPdvHlT/PDDD+KHH36Qzs0PP/wgzp8/L4QQ4tVXXxUTJkyQ8v/666/C0dFRzJkzR/z8888iPj5eKBQKsWvXLnNVocoeVme5edj8IjExMcLR0dHkybGzZ88KR0dHce+f02nTpgkAYvjw4eLy5cvSp6ioqEoDYu/Ps2/fPgFA7Nu3rwZqW/NeffVVsX//fnH27Fnx008/iVdffVXY2NiI5OTkKu/LaoITIYRYtWqV8PPzEyqVSnTr1k1kZGSYu0hVkpiY+MCLaElJifDw8BBDhw4VI0eOFEqlUgAQTk5O4vHHHxc9e/YUnTp1EgDERx99JKZPny4aNmwo7O3thVKpFA0bNhSvvvqq+PDDD8WSJUtEv379hIuLi3BwcBCNGjUSL7/8Midhq0MPaq99+vSR/piXSkpKEq1atRIqlUq0bdtWFpOwtW3bVjRr1kzExMSIDz/8UKxevVqMGzdOKBQK0bRpU+mJsXuDEyGEGD9+vAAgbGxshIuLi3j55ZdFdHS0sLW1FRqNRkycOFEIIcSRI0ekSdcUCoXQaDSidevWolWrVgKAmDlzprTP+x8lXrVqlbTPnj17mv1R4tI/LPd/Ss9LZGSk6NOnT5ltOnXqJFQqlWjevLnFTcL2sDrLzcOCk9TUVAFA9OrVS6xdu1YsWrRIeHp6ig4dOpgEJ+XVGYBISEgQFy9eFFqtVnqU+IMPPhCxsbGibdu2ZR4ltrTgZPLkycLf31+oVCrh4eEhBgwYUK3ARAgrC04s3dChQ4W9vf0D53N49tlnhVKpFFevXhVXrlwR48aNEy4uLsLV1VU8++yzJr0r9zpz5oyYOHGi0Gq1QqlUisaNG4shQ4aIzz//vLarRVbsm2++EZMnTxYBAQHC2dlZqFQq0bJlSzFjxgyT2VvvD05KL7779+8Xzz//vGjYsKFwdnYW48ePF9euXZPyFRYWivfee0+EhYWJJk2aCKVSKVxcXIROpxMfffSRScBR2X0SVaQyM7OuX79ePPbYY1LvXUJCgjRj973w/+eVKs/58+fFxIkThYeHh1Cr1aJ58+YiKipKmmPKUoOTmmQjhIxH1lCVffnll3jqqadw8OBB6QkHovpgw4YNmDRpEo4cOVLuY5pEZDmsYkBsfXX/XAclJSVYtWoVNBoNHn/8cTOVioiI6NFwnhMLNmPGDPzxxx/Q6XTQ6/XYunUr0tLSsHTpUj5qSEREFovBiQXr378/3nnnHWzfvh137txBy5YtsWrVKkRHR5u7aERERNXGMSdEREQkKxxzQkRERLLC4ISIiIhkxSLHnBiNRly6dAkuLi7lvmyJCPhzCumbN2/Cx8dHejeG3LAtU2WwLZO1qGxbtsjg5NKlS/D19TV3MchCXLhwoVov3aoLbMtUFWzLZC0e1pYtMjgpfVHdhQsXoNFopHSDwYDk5GSEhoZCqVSaq3hWzZLOcWFhIXx9faX2IkdsyzXPGs8d27K8WFud6rI+lW3LFhmclHYZajSaMl8CR0dHaDQaq2gwcmSJ51jOXcxsyzXPms8d27I8WFudzFGfh7Vled68JCIionqLwQkRERHJikXe1nmYdrG7oS+pfPfnuWXhtVgaoupjWyZrwbZMVcGeEyIiIpIVBidEREQkKwxOiIiISFYYnBAREZGsMDghIiIiWWFwQkRERLLC4ISIiIhkhcEJERERyQqDEyIiIpIVBidEREQkKwxOiIiISFYYnBAREZGsMDghIiIiWWFwQvVSbGwsbGxsTD4BAQHS+jt37iAqKgru7u5wdnZGREQE8vLyTPaRk5OD8PBwODo6wtPTE3PmzMHdu3fruipERFbHztwFIDKXtm3bYs+ePdKynd1fX4dZs2Zhx44d2LJlC1xdXREdHY0RI0bg0KFDAICSkhKEh4dDq9UiLS0Nly9fxsSJE6FUKrF06dI6rwsRkTVhcEL1lp2dHbRabZn0goICrF+/Hps2bUL//v0BAAkJCWjTpg0yMjIQEhKC5ORknDx5Env27IGXlxc6deqEJUuWYO7cuYiNjYVKpSr3mHq9Hnq9XlouLCwEABgMBhgMBim99Ge1rahSne7dR31Veg6s6VxYU12IKoPBCdVbp06dgo+PD+zt7aHT6RAXFwc/Pz9kZmbCYDBg4MCBUt6AgAD4+fkhPT0dISEhSE9PR/v27eHl5SXlCQsLw7Rp03DixAl07ty53GPGxcVh0aJFZdKTk5Ph6OhYJn1JF2OV6rRz584q5bdmKSkp5i5CjSkqKjJ3EYjqFIMTqpeCg4OxYcMGtG7dGpcvX8aiRYvQq1cvHD9+HLm5uVCpVGjQoIHJNl5eXsjNzQUA5ObmmgQmpetL11Vk3rx5iImJkZYLCwvh6+uL0NBQaDQaKd1gMCAlJQWvf28LvdGm0vU6HhtW6bzWqvTcDRo0CEql0tzFqRGlPWxE9QWDE6qXBg8eLP3coUMHBAcHw9/fH0lJSXBwcKi146rVaqjV6jLpSqWy3D+keqMN9CWVD06s5Y9xTajonFoia6kHUWXxaR0iAA0aNECrVq1w+vRpaLVaFBcX48aNGyZ58vLypDEqWq22zNM7pcvljWMhIqLKY3BCBODWrVs4c+YMvL29ERQUBKVSidTUVGl9dnY2cnJyoNPpAAA6nQ5ZWVnIz8+X8qSkpECj0SAwMLDOy09EZE0YnFC9NHv2bOzfvx/nzp1DWloannrqKSgUCowdOxaurq6YMmUKYmJisG/fPmRmZmLSpEnQ6XQICQkBAISGhiIwMBATJkzAjz/+iN27d2P+/PmIiooq97YNUW3hnD1kjTjmhOqlixcvYuzYsbh27Ro8PDzQs2dPZGRkwMPDAwCwcuVK2NraIiIiAnq9HmFhYVizZo20vUKhwPbt2zFt2jTodDo4OTkhMjISixcvNleVqB7jnD1kbRicUL2UmJj4wPX29vaIj49HfHx8hXn8/f356C7Jgjnm7CGqTQxOiIgsnDnm7KnPEwpa20R/dVmfyh6DwQkRkQUz15w9nFDQuib6A+qmPpWdUJDBCRGRBTPXnD31eUJBa5vory7rU9kJBRmcEBFZkXvn7Bk0aJA0Z8+9vSf3z9lz+PBhk31UZs4eTihoXRP9AXVTn8run48SExFZEc7ZQ9aAPSdERBZs9uzZGDp0KPz9/XHp0iUsXLiw3Dl73NzcoNFoMGPGjArn7Fm+fDlyc3M5Zw+ZHYMTIiILxjl7yBoxOCEismCcs4esEcecEBERkawwOCEiIiJZYXBCREREssLghIiIiGSFwQkRERHJSpWCk9jYWNjY2Jh8AgICpPV37txBVFQU3N3d4ezsjIiICGmmwVI5OTkIDw+Ho6MjPD09MWfOHNy9e7dmakNEREQWr8qPErdt2xZ79uz5awd2f+1i1qxZ2LFjB7Zs2QJXV1dER0djxIgROHToEACgpKQE4eHh0Gq1SEtLw+XLlzFx4kQolUosXbq0BqpDRERElq7KwYmdnV2571soKCjA+vXrsWnTJvTv3x8AkJCQgDZt2iAjIwMhISFITk7GyZMnsWfPHnh5eaFTp05YsmQJ5s6di9jYWKhUqnKPWZ9fzS03lvSqcEsoIxERlVXl4OTUqVPw8fGBvb09dDod4uLi4Ofnh8zMTBgMBgwcOFDKGxAQAD8/P6SnpyMkJATp6elo3769yeu5w8LCMG3aNJw4cQKdO3cu95h8Nbf8WMKrwiv7am4iIpKXKgUnwcHB2LBhA1q3bo3Lly9j0aJF6NWrF44fP47c3FyoVCqTN18CgJeXF3JzcwEAubm5JoFJ6frSdRWpz6/mlhtLelV4ZV/NTURE8lKl4GTw4MHSzx06dEBwcDD8/f2RlJQEBweHGi9cKb6aW34s4VXhci8fERGV75EeJW7QoAFatWqF06dPQ6vVori4GDdu3DDJk5eXJ41R0Wq1ZZ7eKV0ubxwLERER1T+PFJzcunULZ86cgbe3N4KCgqBUKpGamiqtz87ORk5ODnQ6HQBAp9MhKysL+fn5Up6UlBRoNBoEBgY+SlGIiIjISlTpts7s2bMxdOhQ+Pv749KlS1i4cCEUCgXGjh0LV1dXTJkyBTExMXBzc4NGo8GMGTOg0+kQEhICAAgNDUVgYCAmTJiA5cuXIzc3F/Pnz0dUVFS5t22IiIio/qlScHLx4kWMHTsW165dg4eHB3r27ImMjAx4eHgAAFauXAlbW1tERERAr9cjLCwMa9askbZXKBTYvn07pk2bBp1OBycnJ0RGRmLx4sU1WysiIiKyWFUKThITEx+43t7eHvHx8YiPj68wj7+/Px/dJSIiogrx3TpEREQkKwxOiIiISFYYnBAREZGsMDghIiIiWWFwQkRERLLC4ITqpbi4OHTt2hUuLi7w9PTE8OHDkZ2dbZKnb9++sLGxMfm88MILJnlycnIQHh4OR0dHeHp6Ys6cObh7925dVoWIyOpU+a3ERNZg//79iIqKQteuXXH37l289tprCA0NxcmTJ+Hk5CTlmzp1qsk8PPe+BbukpATh4eHQarVIS0vD5cuXMXHiRCiVSixdurRO60NEZE0YnFC9tGvXLpPlDRs2wNPTE5mZmejdu7eU7ujoWOF7n5KTk3Hy5Ens2bMHXl5e6NSpE5YsWYK5c+ciNjYWKpWqzDZ6vR56vV5aLn1zssFggMFgkNJLf1bbiirV69591Fel58CazoU11YWoMhicEAEoKCgAALi5uZmkb9y4Ef/+97+h1WoxdOhQvP7661LvSXp6Otq3bw8vLy8pf1hYGKZNm4YTJ06gc+fOZY4TFxeHRYsWlUlPTk426ZUptaSLsUr14ASHf0lJSTF3EWpMUVGRuYtAVKcYnFC9ZzQaMXPmTPTo0QPt2rWT0seNGwd/f3/4+Pjgp59+wty5c5GdnY2tW7cCAHJzc00CEwDScm5ubrnHmjdvHmJiYqTlwsJC+Pr6IjQ0FBqNRko3GAxISUnB69/bQm+0qXRdjseGVTqvtSo9d4MGDYJSqTR3cWpEaQ9beeLi4rB161b88ssvcHBwQPfu3fHWW2+hdevWUp6+ffti//79Jtv93//9H9atWyct5+TkYNq0adi3bx+cnZ0RGRmJuLg42NnxzwTVPbY6qveioqJw/PhxHDx40CT9+eefl35u3749vL29MWDAAJw5cwYtWrSo1rHUanW5L7lUKpXl/iHVG22gL6l8cGItf4xrQkXn1BI9qB4cP0XWiMEJ1WvR0dHYvn07Dhw4gCZNmjwwb3BwMADg9OnTaNGiBbRaLQ4fPmySJy8vDwAqHKdCVNPMNX6KqDYxOKF6SQiBGTNmYNu2bfj222/RrFmzh25z7NgxAIC3tzcAQKfT4c0330R+fj48PT0B/DnOQaPRIDAwsNbKTvQgdTV+qj4P7ra2Qdd1WZ/KHoPBCdVLUVFR2LRpE7766iu4uLhIY0RcXV3h4OCAM2fOYNOmTXjiiSfg7u6On376CbNmzULv3r3RoUMHAEBoaCgCAwMxYcIELF++HLm5uZg/fz6ioqLKvXVDVNvqcvwUB3db16BroG7qU9nB3QxOqF5au3YtgD8HCt4rISEBzz77LFQqFfbs2YN3330Xt2/fhq+vLyIiIjB//nwpr0KhwPbt2zFt2jTodDo4OTkhMjLS5L4+UV2qy/FT9Xlwt7UNuq7L+jxocPe9GJxQvSTEg7uYfX19yzzdUB5/f39Z/YfX9NUdVcp/bll4LZWE6lpdj5/i4G7rGnQN1E19Krt/Tl9PRGTBhBCIjo7Gtm3bsHfv3mqPn8rKykJ+fr6Uh+OnyJzYc0JEZME4foqsEXtOiIgs2Nq1a1FQUIC+ffvC29tb+mzevBkApPFToaGhCAgIwMsvv4yIiAh8/fXX0j5Kx08pFArodDo888wzmDhxIsdPkdmw54SIyIJZ6/gpqt/Yc0JERESywuCEiIiIZIXBCREREckKgxMiIiKSFQYnREREJCsMToiIiEhWGJwQERGRrDA4ISIiIllhcEJERESywuCEiIiIZIXBCREREckKgxMiIiKSFb74j4iIZKfpqzuqvM25ZeG1UBIyB/acEBERkawwOCEiIiJZYXBCREREssLghIiIiGSFA2KJiKhe4qBb+WLPCREREckKgxMiIiKSFQYnREREJCsMToiIiEhWGJwQERGRrDA4ISIiIlnho8RE9RgfpSQiOTJbz0l8fDyaNm0Ke3t7BAcH4/Dhw+YqCtEjYVsma8L2THJglp6TzZs3IyYmBuvWrUNwcDDeffddhIWFITs7G56enuYoElG11Me2XNXelur0tNTFMais+tieSZ7M0nOyYsUKTJ06FZMmTUJgYCDWrVsHR0dHfPzxx+YoDlG1sS2TNWF7Jrmo856T4uJiZGZmYt68eVKara0tBg4ciPT09HK30ev10Ov10nJBQQEA4Pr16zAYDFK6wWBAUVER7Ay2KDHaVLpMLWcnVbUa9dbB2b1RVFSEa9euQalUmrs4D3Tz5k0AgBCiVvYvx7YsR9euXavyNnZ3b1cp/73fYbWtwPzORnT6+1boH3Du/jtvQJXLVVXBcalV3qa8ctV2Wwaq3p7l2Jar2taq2s5Kj1Fap8pcB6vTBqqqOm353nJV5jtTU9+XSrdlUcd+++03AUCkpaWZpM+ZM0d069at3G0WLlwoAPDDT7U+Fy5cYFvmxyo+tdWWq9Oe2Zb5eZTPw9qyRTytM2/ePMTExEjLRqMR169fh7u7O2xs/oryCgsL4evriwsXLkCj0ZijqFbPks6xEAI3b96Ej4+PuYsiYVuufdZ47tiW5cXa6lSX9alsW67z4KRRo0ZQKBTIy8szSc/Ly4NWqy13G7VaDbVabZLWoEGDCo+h0WisosHImaWcY1dX11rbN9uyvFnbuavNtgxUvT2zLVtfneqqPpVpy3U+IFalUiEoKAipqX/d7zIajUhNTYVOp6vr4hBVG9syWRO2Z5ITs9zWiYmJQWRkJLp06YJu3brh3Xffxe3btzFp0iRzFIeo2tiWyZqwPZNcmCU4GT16NK5cuYIFCxYgNzcXnTp1wq5du+Dl5fVI+1Wr1Vi4cGGZrkaqOTzHptiW5Yfnrvpqoz1b4+/D2uokx/rYCFGLz6YRERERVRFf/EdERESywuCEiIiIZIXBCRHVmqZNm2LIkCF1cqwNGzbAxsYG33//fa0ex8bGBrGxsbV6DKL6jsGJjJReXMv7vPrqq+YuHlmRB7U1GxsbZGRkmLuIRFSPWVVwYi2v+l68eDE+/fRTk8+YMWNq7XixsbFl/jgFBARI6+/cuYOoqCi4u7vD2dkZERERZSZqysnJQXh4OBwdHeHp6Yk5c+bg7t27tVZma1dXbbm8tvbpp5+iZcuWtXK82hIbGys97tq1a9cybZhqV1Xb65YtWxAQEAB7e3u0b98eO3furKOSPlxcXBy6du0KFxcXeHp6Yvjw4cjOzn7gNuUF+/b29nVU4gd72PW9PHL4/VjE9PWVYU2v+h48eDC6dOlSY/u7ffs2nJycHpinbdu22LNnj7RsZ/dX05g1axZ27NiBLVu2wNXVFdHR0RgxYgQOHToEACgpKUF4eDi0Wi3S0tJw+fJlTJw4EUqlEkuXLq2xetQXddmWa7qtmcOdO3cghICPjw8uXbqEb775Bp06dTJpw1R7qtpe09LSMHbsWMTFxWHIkCHYtGkThg8fjqNHj6Jdu3ZmqIGp/fv3IyoqCl27dsXdu3fx2muvITQ0FCdPnnzgdVSj0ZgEMfdO4W9uD7q+3082v58aemeU2XXr1k1ERUVJyyUlJcLHx0fExcWZsVRVk5CQIACII0eOlFl37tw5MW3aNNGqVSthb28v3NzcxNNPPy3Onj1b7j6+/fZbMW3aNOHh4SEaNGggrd+5c6fo2bOncHR0FM7OzuKJJ54Q06ZNEx07diy3TDdu3BBKpVJs2bJFSvv5558FAJGeni7t09bWVuTm5kp51q5dKzQajdDr9Y9wRuqnumjLD2prpc6ePSsAiH/84x9i9erVolmzZsLBwUEMGjRI5OTkCKPRKBYvXiwaN24s7O3txbBhw8S1a9dM9uHv7y/Cw8PF7t27RceOHYVarRZt2rQRX3zxhUm+a9euiZdfflm0a9dOODk5CRcXF/G3v/1NHDt2zCTfvn37BADx2Wefib///e/Cx8dH2NjYiLlz5wpfX98ydbp+/bro2rWraNy4sfjll1+EEELcuXNHLFiwQLRo0UKoVCrRpEkTMWfOHHHnzh2TY925c0fMnDlTNGrUSDg7O4uhQ4eKCxcuCABi4cKF1TntVqmq7XXUqFEiPDzcJC04OFj83//9X62Ws7ry8/MFALF///4K8yQkJAhXV9e6K1QVLFy4sMLre3nk8vuxits6pa/6HjhwoJT2sFfXy1lBQQGuXr1q8jly5AjS0tIwZswYvP/++3jhhReQmpqKvn37oqioqMw+pk+fjpMnT2LBggXSeJVPP/0U4eHhcHZ2xltvvYXXX38dJ0+eREJCArKzs+Hj44PmzZtj/PjxyMnJAQBkZmbCYDCYnNuAgAD4+flJ5zY9PR3t27c3magpLCwMhYWFOHHiRG2eKqtT1225vLZ2/2vnN27ciDVr1mDGjBl4+eWXsX//fowaNQrz58/Hrl27MHfuXDz//PP4+uuvMXv27DLHOHXqFEaPHo3BgwcjLi4OdnZ2GDlyJFJSUqQ8v/76K7788ksMGTIEK1aswJw5c5CVlYU+ffrg0qVLZfa5ZMkS7NixA7Nnz8bSpUtN3gnz5JNPYvz48Th27Bj69++PvLw87N+/H61bt4bRaMSwYcPw9ttvY+jQoVi1ahWGDx+OlStXYvTo0SbHeO655/Duu+8iNDQUy5Ytg1KpRHh4eE2cdqtRnfaanp5ukh/483oh12t1QUEBAMDNze2B+W7dugV/f3/4+vriySeflNW179SpU+Ve38sjm99PnYZCtaQ6r66Xo9L/Zsv7FBUVlcmfnp4uAIhPPvmkzD569uwp7t69K6XfvHlTNGjQQEydOtVkH7m5ucLJyUkMGDBA/Pjjj2LXrl1Cp9MJPz8/UVhYKDZu3ChUKlWZY3ft2lW88sorQgghpk6dKkJDQ03W3759WwAQO3fufKRzUt/UVVt+UFtTq9VCiL96Tjw8PMSNGzekbefNmycAiI4dOwqDwSCljx07VqhUKpMeCH9/fwHApKekoKBAeHt7i86dO0tpd+7cESUlJSZlPHv2rFCr1WLx4sVSWmnPSfPmzU2+Ezt37hTTp08XAMT7778vgoKChFKpFE2bNhXnzp2T8n366afC1tZWfPfddybHWrdunQAgDh06JIQQ4tixYwKAmD59ukm+cePGsefkHtVpr0qlUmzatMkkLT4+Xnh6etZaOaurpKREhIeHix49ejwwX1pamvjXv/4lfvjhB/Htt9+KIUOGCI1GIy5cuFBHJa3Yzp07RVJSUrnX9/LI5ffDm7IyFB8fj1atWpmkOTg4SD8bDAYUFhaiZcuWaNCgAY4ePYoJEyaY5J86dSoUCoW0nJKSghs3bmDs2LG4evWqlK5QKNCjRw/8+uuv6NChAzp06IDg4GD4+/sjKSnJ5Lhkfcpra/e2GwAYOXKkyVtEg4ODAQDPPPOMyb3r4OBgfPbZZ/jtt9/QvHlzKd3HxwdPPfWUtKzRaDBx4kS89dZbyM3NhVarNZk2u6SkBDdu3ICzszNat26No0ePlil3ZGSkSdscPHiw1HPi6+uLgoIClJSUICoqCv7+/lK+LVu2oE2bNggICDD5HvTv3x8AsG/fPnTv3l0aAPjiiy+aHHfmzJnYtGlTmfKQdYqKisLx48dx8ODBB+bT6XQmL0fs3r072rRpgw8++ABLliyp7WI+0ODBg6Wf77++T5kyxYwlezCrCE6q8+p6OevWrVuZQYp//PEH4uLikJCQgN9++w3inrcOlHY73qtZs2Ymy6dOnQLw10X4fve+JrtBgwZo1aoVTp8+jUGDBqG4uBg3btwweR36vedWq9WWGZ1f+ruwxPNvTnXdlstra/fz8/MzWS4NVHx9fctN//33303SW7ZsWWZwYGlAdO7cOWi1WhiNRrz33ntYs2YNzp49i5KSEimvu7t7mTLd377vNWHCBNjZ2aF9+/ZlblGdOnUKP//8Mzw8PMrdNj8/HwBw/vx52NraokWLFibrW7duXeFx66PqtFetVmsR1+ro6Ghs374dBw4cQJMmTaq0rVKpROfOnXH69OlaKl313Xt9L49cfj9WMeakPrzqe8aMGXjzzTcxatQoJCUlITk5GSkpKXB3d4fRaCyT//4ej9I8n376KVJSUsp8vvrqKynvrVu3cObMGXh7eyMoKAhKpdLk3GZnZyMnJ0c6tzqdDllZWdKFHfizp0aj0SAwMLBGz4O1k2Nbvr8n5WHpohqv61q6dCliYmLQu3dv/Pvf/8bu3buRkpKCtm3bVqp932vEiBG4ceMGsrOz4e3tbbLOaDSiffv25X4HUlJSMH369CqXvT6rTnvV6XQm+YE/rxdyuVYLIRAdHY1t27Zh7969DwyEK1JSUoKsrKwy7U8O7r2+l0cuvx+r6DkBrP9V359//jkiIyPxzjvvSGl37tzBjRs3KrV96X+Anp6eZQY7zZ49G0OHDsW5c+dw6dIlLFy4EAqFAmPHjoWrqyumTJmCmJgYuLm5QaPRYMaMGdDpdAgJCQEAhIaGIjAwEBMmTMDy5cuRm5uL+fPnIyoqSlZvubQU1taWT58+DSGESe/J//73PwB/ziAL/Nm++/Xrh/Xr15tse+PGDTRq1Oihx5g9e7Z0i6l37944ePAgfv31V1y5csUkX4sWLfDjjz9iwIABD3zU09/fH0ajEWfOnDHpLXnYfBf10cPa68SJE9G4cWPExcUBAF566SX06dMH77zzDsLDw5GYmIjvv/8eH374oTmrIYmKisKmTZvw1VdfwcXFBbm5uQD+7BksDYrvr9PixYsREhKCli1b4saNG/jHP/6B8+fP47nnnjNbPUqVXt/9/f3LXN8BGf9+6nSESy1btWqV8PPzEyqVSnTr1k1kZGSYu0hV8qDHO93c3MSzzz5rkrZ8+XIBQERGRj50HwUFBUKj0Yg+ffqI4uJik3WjR48Wnp6eQqVSicaNG4vRo0eL06dPS+v/+OMPMX36dNGwYUPh6OgonnrqKXH58mWTfZw7d04MHjxYODg4iEaNGomXX37ZZLAkVU1tt+WqPkp8r9JBqfc+Xl7RPh80ILZTp05S2uOPPy769u1rsr+kpCQBQPTp0+ehxx49erRwdXWVBvCOHj1aPPfccwKAWLNmjZRvw4YNAoD44IMPytS3qKhI3Lp1SwghxA8//MABsVXwoPbap08fk2uUEH/+blu1aiVUKpVo27at2LFjRx2XuGKoYKB4QkKClOf+Os2cOVOqv5eXl3jiiSfE0aNH677w5Rg9erTw9vau8Pou19+P1fScAH/eI4yOjjZ3MWrFkCFD8Omnn8LV1RWBgYFIT0/Hnj17yr0fXx6NRoO1a9diwoQJePzxxzFmzBh4eHggJycH2dnZGDlyJFavXl3utvb29oiPj0d8fHyF+/f395fVLI+Wrq7a8jfffINffvmlTHr37t1ha1szd31btWqFKVOm4MiRI/Dy8sLHH3+MvLw8JCQkSHmGDBmCxYsXY9KkSejevTuysrKwceNGk4G1D5KYmIgNGzZg0qRJ2LlzpzSOxsbGBlFRUXBxccEzzzyDCRMmICkpCS+88AL27duHHj16oKSkBL/88guSkpKwe/dudOnSBZ06dcLYsWOxZs0aFBQUoHv37khNTZXlGAI5eFB7/fbbb8ukjRw5EiNHjqzlUlWPqMRtyfvrtHLlSqxcubKWSvRoEhMTH7herr8fqwpOrNl7770HhUKBjRs34s6dO+jRowf27NmDsLCwSu9j3Lhx8PHxwbJly/CPf/wDer0ejRs3Rq9evSz2lgE9mgULFpSbnpCQgL59+9bIMR577DGsWrUKc+bMQXZ2Npo1a4bNmzebtN3XXnsNt2/fxqZNm7B582Y8/vjj2LFjxyO/U2rdunW4desWJk2aBBcXFzz55JP48ssvsXLlSnzyySfYtm0bHB0d0bx5c7z00ksmTy59/PHH8PDwwMaNG/Hll1+if//+2LFjR5mBwERU82xEZcJEIiIiojpiFU/rEBERkfVgcEJERESywuCEiIiIZIXBCREREckKgxMiIiKSFYt8lNhoNOLSpUtwcXF54CyPVL8JIXDz5k34+PjU2JwdNY1tmSrDEtoyUU2yyODk0qVLnGuAKu3ChQtVfnFXXWFbpqqQc1smqkkWGZy4uLgA+POLeu/bdA0GA5KTkxEaGgqlUmmu4j0S1qHmFBYWwtfXV2ovcmTNbbm6WPeydbeEtkxUkywyOCnt/tZoNGUu6I6OjtBoNBZ7UWMdap6cb5dYc1uuLta94rrLuS0T1STevCQiIiJZYXBCREREsmKRt3Uepl3sbuhLKt/9eW5ZeC2Whojqq6av7qhSfrVCYHm3WioMkQVhzwkRERHJCoMTIiIikhUGJ0RERCQrDE6IiIhIVhicEBERkawwOCEiIiJZYXBCREREssLghIiIiGSFwQkRERHJCoMTIiIikhUGJ0RERCQrDE6IiIhIVhicEBERkawwOCEiIiJZYXBCREREssLghIiIiGSFwQkRERHJCoMTIiIikhUGJ1QvxcbGwsbGxuQTEBAgrb9z5w6ioqLg7u4OZ2dnREREIC8vz2QfOTk5CA8Ph6OjIzw9PTFnzhzcvXu3rqtCRGR17MxdACJzadu2Lfbs2SMt29n99XWYNWsWduzYgS1btsDV1RXR0dEYMWIEDh06BAAoKSlBeHg4tFot0tLScPnyZUycOBFKpRJLly6t87oQEVkTBidUb9nZ2UGr1ZZJLygowPr167Fp0yb0798fAJCQkIA2bdogIyMDISEhSE5OxsmTJ7Fnzx54eXmhU6dOWLJkCebOnYvY2FioVKpyj6nX66HX66XlwsJCAIDBYIDBYJDSS3++N62+sKa6qxWiavlt/8x/f92t4VwQVQWDE6q3Tp06BR8fH9jb20On0yEuLg5+fn7IzMyEwWDAwIEDpbwBAQHw8/NDeno6QkJCkJ6ejvbt28PLy0vKExYWhmnTpuHEiRPo3LlzuceMi4vDokWLyqQnJyfD0dGxTHpKSkoN1NQyWUPdl3er3nb3172oqKgGSkNkORicUL0UHByMDRs2oHXr1rh8+TIWLVqEXr164fjx48jNzYVKpUKDBg1MtvHy8kJubi4AIDc31yQwKV1fuq4i8+bNQ0xMjLRcWFgIX19fhIaGQqPRSOkGgwEpKSkYNGgQlErlo1bXolhT3dvF7q5SfrWtwJIuxjJ1L+1hI6ovGJxQvTR48GDp5w4dOiA4OBj+/v5ISkqCg4NDrR1XrVZDrVaXSVcqleX+Ia4ovT6whrrrS2yqtd39dbf080BUVXxahwhAgwYN0KpVK5w+fRparRbFxcW4ceOGSZ68vDxpjIpWqy3z9E7pcnnjWIiIqPIYnBABuHXrFs6cOQNvb28EBQVBqVQiNTVVWp+dnY2cnBzodDoAgE6nQ1ZWFvLz86U8KSkp0Gg0CAwMrPPyExFZE97WoXpp9uzZGDp0KPz9/XHp0iUsXLgQCoUCY8eOhaurK6ZMmYKYmBi4ublBo9FgxowZ0Ol0CAkJAQCEhoYiMDAQEyZMwPLly5Gbm4v58+cjKiqq3Ns2RERUeQxOqF66ePEixo4di2vXrsHDwwM9e/ZERkYGPDw8AAArV66Era0tIiIioNfrERYWhjVr1kjbKxQKbN++HdOmTYNOp4OTkxMiIyOxePFic1WJiMhqMDiheikxMfGB6+3t7REfH4/4+PgK8/j7+2Pnzp01XTQionqPY06IiIhIVhicEBERkawwOCEiIiJZYXBCREREssLghIiIiGSlSsFJbGwsbGxsTD4BAQHS+jt37iAqKgru7u5wdnZGREREmVk0c3JyEB4eDkdHR3h6emLOnDm4e/duzdSGiIiILF6VHyVu27Yt9uzZ89cO7P7axaxZs7Bjxw5s2bIFrq6uiI6OxogRI3Do0CEAQElJCcLDw6HVapGWlobLly9j4sSJUCqVWLp0aQ1Uh4iIiCxdlYMTOzu7ct8dUlBQgPXr12PTpk3o378/ACAhIQFt2rRBRkYGQkJCkJycjJMnT2LPnj3w8vJCp06dsGTJEsydOxexsbFQqVSPXiMiIiKyaFUOTk6dOgUfHx/Y29tDp9MhLi4Ofn5+yMzMhMFgwMCBA6W8AQEB8PPzQ3p6OkJCQpCeno727dubvGo+LCwM06ZNw4kTJ9C5c+dyj6nX66HX66Xl0teHGwwGGAwGKb30Z7WtqFKd7t2HuZWWRU5lqiq51MHcxyciouqpUnASHByMDRs2oHXr1rh8+TIWLVqEXr164fjx48jNzYVKpUKDBg1MtvHy8kJubi4AIDc31yQwKV1fuq4icXFxWLRoUZn05ORkODo6lklf0sVYlWrJcpbPlJQUcxfhkZm7DkVFRWY9PhERVU+VgpPBgwdLP3fo0AHBwcHw9/dHUlISHBwcarxwpebNm4eYmBhpubCwEL6+vggNDYVGo5HSDQYDUlJS8Pr3ttAbbSq9/+OxYTVa3kdRWodBgwZBqVSauzjVIpc6lPawERGRZXmkd+s0aNAArVq1wunTpzFo0CAUFxfjxo0bJr0neXl50hgVrVaLw4cPm+yj9Gme8saxlFKr1eW+6VWpVJb7x09vtIG+pPLBiRyDgIrqZknMXQdLP39ERPXVI81zcuvWLZw5cwbe3t4ICgqCUqlEamqqtD47Oxs5OTnQ6XQAAJ1Oh6ysLOTn50t5UlJSoNFoEBgY+ChFISIiIitRpZ6T2bNnY+jQofD398elS5ewcOFCKBQKjB07Fq6urpgyZQpiYmLg5uYGjUaDGTNmQKfTISQkBAAQGhqKwMBATJgwAcuXL0dubi7mz5+PqKiocntGiIiIqP6pUnBy8eJFjB07FteuXYOHhwd69uyJjIwMeHh4AABWrlwJW1tbREREQK/XIywsDGvWrJG2VygU2L59O6ZNmwadTgcnJydERkZi8eLFNVsrIiIislhVCk4SExMfuN7e3h7x8fGIj4+vMI+/v78sn44hIiIieeC7dYiIiEhWGJwQERGRrDA4ISIiIllhcEJERESywuCEiIiIZIXBCREREckKgxMiIiKSFQYnREREJCsMToiIiEhWGJwQERGRrDA4ISIiIllhcEL1UlxcHLp27QoXFxd4enpi+PDhyM7ONsnTt29f2NjYmHxeeOEFkzw5OTkIDw+Ho6MjPD09MWfOHNy9e7cuq0JEZHWq9OI/Imuxf/9+REVFoWvXrrh79y5ee+01hIaG4uTJk3BycpLyTZ061eSt2Y6OjtLPJSUlCA8Ph1arRVpaGi5fvoyJEydCqVRi6dKldVofIiJrwuCE6qVdu3aZLG/YsAGenp7IzMxE7969pXRHR0dotdpy95GcnIyTJ09iz5498PLyQqdOnbBkyRLMnTsXsbGxUKlUZbbR6/XQ6/XScmFhIQDAYDDAYDBI6aU/35tWX1hT3dUKUbX8tn/mv7/u1nAuiKqCwQkRgIKCAgCAm5ubSfrGjRvx73//G1qtFkOHDsXrr78u9Z6kp6ejffv28PLykvKHhYVh2rRpOHHiBDp37lzmOHFxcVi0aFGZ9OTkZJNemVIpKSmPVC9LZg11X96tetvdX/eioqIaKA2R5WBwQvWe0WjEzJkz0aNHD7Rr105KHzduHPz9/eHj44OffvoJc+fORXZ2NrZu3QoAyM3NNQlMAEjLubm55R5r3rx5iImJkZYLCwvh6+uL0NBQaDQaKd1gMCAlJQWDBg2CUqmssbpaAmuqe7vY3VXKr7YVWNLFWKbupT1sRPUFgxOq96KionD8+HEcPHjQJP3555+Xfm7fvj28vb0xYMAAnDlzBi1atKjWsdRqNdRqdZl0pVJZ7h/iitLrA2uou77Eplrb3V93Sz8PRFXFp3WoXouOjsb27duxb98+NGnS5IF5g4ODAQCnT58GAGi1WuTl5ZnkKV2uaJwKERE9HIMTqpeEEIiOjsa2bduwd+9eNGvW7KHbHDt2DADg7e0NANDpdMjKykJ+fr6UJyUlBRqNBoGBgbVSbiKi+oC3daheioqKwqZNm/DVV1/BxcVFGiPi6uoKBwcHnDlzBps2bcITTzwBd3d3/PTTT5g1axZ69+6NDh06AABCQ0MRGBiICRMmYPny5cjNzcX8+fMRFRVV7q0bIiKqHPacUL20du1aFBQUoG/fvvD29pY+mzdvBgCoVCrs2bMHoaGhCAgIwMsvv4yIiAh8/fXX0j4UCgW2b98OhUIBnU6HZ555BhMnTjSZF4WIiKqOPSdULwnx4PknfH19sX///ofux9/fHzt37qypYhEREdhzQkRERDLD4ISIiIhkhcEJERERyQqDEyIiIpIVBidEREQkK3xah0jG2sXurtIU6OeWhddiaYiI6gZ7ToiIiEhWGJwQERGRrDA4ISIiIllhcEJERESywuCEiIiIZIXBCREREckKgxMiIiKSFQYnREREJCsMToiIiEhWGJwQERGRrDA4ISIiIllhcEJERESywhf/EZEsVeWlh3zhIZF1Yc8JERERyQqDEyIiIpIVBidEREQkKwxOiIiISFYYnBAREZGsMDghIiIiWeGjxACavrqjSvn52CIREVHtMVvPSXx8PJo2bQp7e3sEBwfj8OHD5ioK0SNhWyYiqllmCU42b96MmJgYLFy4EEePHkXHjh0RFhaG/Px8cxSHqNrYlomIap5ZgpMVK1Zg6tSpmDRpEgIDA7Fu3To4Ojri448/NkdxiKqNbZmIqObV+ZiT4uJiZGZmYt68eVKara0tBg4ciPT09HK30ev10Ov10nJBQQEA4Pr16zAYDFK6wWBAUVER7Ay2KDFWbtrr6mg5O6nK2/x33oBK5SutQ6e/b4W+inWo7DFqW2kdrl27BqVSabZy3Lx5EwAghKiV/cuxLV+7dq2q1ZCd6tRdrvW2u3u7avmNAkVFxjLfndpuy0RyU+fBydWrV1FSUgIvLy+TdC8vL/zyyy/lbhMXF4dFixaVSW/WrFmtlLE2NHrHOo5hiW7evAlXV9ca368c23J9bQPWVO9xD1hXW22ZSG4s4mmdefPmISYmRlo2Go24fv063N3dYWPz139WhYWF8PX1xYULF6DRaMxR1EfGOtQcIQRu3rwJHx8fs5XhfvWpLVcX61627nJsy0S1qc6Dk0aNGkGhUCAvL88kPS8vD1qtttxt1Go11Gq1SVqDBg0qPIZGo7H4ixrrUDNq879MtuXaxbqb1p09JlSf1PmAWJVKhaCgIKSmpkppRqMRqamp0Ol0dV0compjWyYiqh1mua0TExODyMhIdOnSBd26dcO7776L27dvY9KkSeYoDlG1sS0TEdU8swQno0ePxpUrV7BgwQLk5uaiU6dO2LVrV5mBhVWlVquxcOHCMt3mloR1sCxsyzWPda+fdSe6l43gs2lEREQkI3zxHxEREckKgxMiIiKSFQYnREREJCsMToiIiEhWGJwQERGRrFhVcBIfH4+mTZvC3t4ewcHBOHz4sLmLVGlxcXHo2rUrXFxc4OnpieHDhyM7O9vcxaq2ZcuWwcbGBjNnzjR3USzKgQMHMHToUPj4+MDGxgZffvmluYtUZ6ztO1BZa9euRYcOHaRZYXU6Hb755htzF4vIrKwmONm8eTNiYmKwcOFCHD16FB07dkRYWBjy8/PNXbRK2b9/P6KiopCRkYGUlBQYDAaEhobi9u2qvdVUDo4cOYIPPvgAHTp0MHdRLM7t27fRsWNHxMfHm7sodc6avgNV0aRJEyxbtgyZmZn4/vvv0b9/fzz55JM4ceKEuYtGZDZWM89JcHAwunbtitWrVwP4cxpxX19fzJgxA6+++qqZS1d1V65cgaenJ/bv34/evXubuziVduvWLTz++ONYs2YN3njjDXTq1AnvvvuuuYtlkWxsbLBt2zYMHz7c3EUxC0v9DtQENzc3/OMf/8CUKVPMXRQis7CKnpPi4mJkZmZi4MCBUpqtrS0GDhyI9PR0M5as+goKCgD8eZGyJFFRUQgPDzf5XRBVh6V+Bx5FSUkJEhMTcfv2bb6fieo1s0xfX9OuXr2KkpKSMlOGe3l54ZdffjFTqarPaDRi5syZ6NGjB9q1a2fu4lRaYmIijh49iiNHjpi7KGThLPU7UF1ZWVnQ6XS4c+cOnJ2dsW3bNgQGBpq7WERmYxXBibWJiorC8ePHcfDgQXMXpdIuXLiAl156CSkpKbC3tzd3ccjCWeJ34FG0bt0ax44dQ0FBAT7//HNERkZi//79DFCo3rKK4KRRo0ZQKBTIy8szSc/Ly4NWqzVTqaonOjoa27dvx4EDB9CkSRNzF6fSMjMzkZ+fj8cff1xKKykpwYEDB7B69Wro9XooFAozlpAshaV+Bx6FSqVCy5YtAQBBQUE4cuQI3nvvPXzwwQdmLhmReVjFmBOVSoWgoCCkpqZKaUajEampqRZz31YIgejoaGzbtg179+5Fs2bNzF2kKhkwYACysrJw7Ngx6dOlSxeMHz8ex44dY2BCD2Xp34GaZDQaodfrzV0MIrOxip4TAIiJiUFkZCS6dOmCbt264d1338Xt27cxadIkcxetUqKiorBp0yZ89dVXcHFxQW5uLgDA1dUVDg4OZi7dw7m4uJQZG+Dk5AR3d/d6MWagpty6dQunT5+Wls+ePYtjx47Bzc0Nfn5+ZixZ7bP070B1zZs3D4MHD4afnx9u3ryJTZs24dtvv8Xu3bvNXTQi8xFWZNWqVcLPz0+oVCrRrVs3kZGRYe4iVRqAcj8JCQnmLlq19enTR7z00kvmLoZF2bdvX7ntIDIy0txFq3XW+B2ojMmTJwt/f3+hUqmEh4eHGDBggEhOTjZ3sYjMymrmOSEiIiLrYBVjToiIiMh6MDghIiIiWWFwQkRERLLC4ISIiIhkhcEJERERyQqDEyIiIpIVBidEREQkKwxOyGwOHDiAoUOHwsfHBzY2Nvjyyy+rvA8hBN5++220atUKarUajRs3xptvvlnzhSUiojpjNdPXk+W5ffs2OnbsiMmTJ2PEiBHV2sdLL72E5ORkvP3222jfvj2uX7+O69ev13BJiYioLnGGWJIFGxsbbNu2DcOHD5fS9Ho9/v73v+Ozzz7DjRs30K5dO7z11lvo27cvAODnn39Ghw4dcPz4cbRu3do8BSciohrH2zokW9HR0UhPT0diYiJ++uknjBw5En/7299w6tQpAMDXX3+N5s2bY/v27WjWrBmaNm2K5557jj0nREQWjsEJyVJOTg4SEhKwZcsW9OrVCy1atMDs2bPRs2dPJCQkAAB+/fVXnD9/Hlu2bMEnn3yCDRs2IDMzE08//bSZS09ERI+CY05IlrKyslBSUoJWrVqZpOv1eri7uwMAjEYj9Ho9PvnkEynf+vXrERQUhOzsbN7qISKyUAxOSJZu3boFhUKBzMxMKBQKk3XOzs4AAG9vb9jZ2ZkEMG3atAHwZ88LgxMiIsvE4IRkqXPnzigpKUF+fj569epVbp4ePXrg7t27OHPmDFq0aAEA+N///gcA8Pf3r7OyEhFRzeLTOmQ2t27dwunTpwH8GYysWLEC/fr1g5ubG/z8/PDMM8/g0KFDeOedd9C5c2dcuXIFqamp6NChA8LDw2E0GtG1a1c4Ozvj3XffhdFoRFRUFDQaDZKTk81cOyIiqi4GJ2Q23377Lfr161cmPTIyEhs2bIDBYMAbb7yBTz75BL/99hsaNWqEkJAQLFq0CO3btwcAXLp0CTNmzEBycjKcnJwwePBgvPPOO3Bzc6vr6hARUQ1hcEJERESywkeJiYiISFYYnBAREZGsMDghIiIiWWFwQkRERLLC4ISIiIhkhcEJERERyQqDEyIiIpIVBidEREQkKwxOiIiISFYYnBAREZGsMDghIiIiWfl/E8L0DeinT/8AAAAASUVORK5CYII=",
>>>>>>> 1d56431 (24-01-2025(previa))
=======
      "image/png": "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",
>>>>>>> 2170714 (24-04-2025_Final)
=======
      "image/png": "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",
>>>>>>> origin/main
>>>>>>> luiscargarcia/main
      "text/plain": [
       "<Figure size 640x480 with 9 Axes>"
      ]
     },
     "metadata": {},
     "output_type": "display_data"
    }
   ],
   "source": [
<<<<<<< HEAD
    "dataframe1.drop(['Survived'],axis=1).hist()\n",
=======
<<<<<<< HEAD
<<<<<<< HEAD
<<<<<<< HEAD
    "dataframe1.drop(['Survived'],axis=1).hist()\n",
=======
    "dataframe.drop(['Sex'],axis=1).hist()\n",
>>>>>>> 1d56431 (24-01-2025(previa))
=======
    "dataframe1.drop(['Survived'],axis=1).hist()\n",
>>>>>>> 2170714 (24-04-2025_Final)
=======
    "dataframe1.drop(['Survived'],axis=1).hist()\n",
>>>>>>> origin/main
>>>>>>> luiscargarcia/main
    "plt.show()"
   ]
  },
  {
   "cell_type": "markdown",
   "metadata": {},
   "source": [
    "## <a id='toc1_4_'></a>[Creamos el modelo](#toc0_)\n",
    "\n",
    "Cargamos las variables de las 4 columnas de entrada en **X** (conjunto de variables independientes y, por tanto, variables de entrada) excluyendo la columna “clase” (variable de salida) usando el método drop().  \n",
    "Para comprobar las predicciones, agregamos la columna “clase” en la variable **y** (variable de salida).   \n",
    "Con la función **X.shape()** comprobamos la dimensión de nuestra matriz con datos de entrada (170 registros/filas por 4 columnas).\n",
    "\n"
   ]
  },
  {
   "cell_type": "code",
<<<<<<< HEAD
   "execution_count": 45,
=======
<<<<<<< HEAD
<<<<<<< HEAD
<<<<<<< HEAD
   "execution_count": 45,
=======
   "execution_count": 128,
>>>>>>> 1d56431 (24-01-2025(previa))
=======
   "execution_count": 45,
>>>>>>> 2170714 (24-04-2025_Final)
=======
   "execution_count": 45,
>>>>>>> origin/main
>>>>>>> luiscargarcia/main
   "metadata": {
    "ExecuteTime": {
     "end_time": "2024-02-02T15:49:29.553614900Z",
     "start_time": "2024-02-02T15:49:29.548120100Z"
    },
    "collapsed": false
   },
   "outputs": [
    {
     "data": {
      "text/plain": [
       "(891, 8)"
      ]
     },
<<<<<<< HEAD
     "execution_count": 45,
=======
<<<<<<< HEAD
<<<<<<< HEAD
<<<<<<< HEAD
     "execution_count": 45,
=======
     "execution_count": 128,
>>>>>>> 1d56431 (24-01-2025(previa))
=======
     "execution_count": 45,
>>>>>>> 2170714 (24-04-2025_Final)
=======
     "execution_count": 45,
>>>>>>> origin/main
>>>>>>> luiscargarcia/main
     "metadata": {},
     "output_type": "execute_result"
    }
   ],
   "source": [
<<<<<<< HEAD
    "x = np.array(dataframe1.drop(['Survived'],axis=1))\n",
    "y = np.array(dataframe1['Survived'])\n",
    "x.shape"
=======
<<<<<<< HEAD
<<<<<<< HEAD
<<<<<<< HEAD
    "x = np.array(dataframe1.drop(['Survived'],axis=1))\n",
    "y = np.array(dataframe1['Survived'])\n",
    "x.shape"
=======
    "X = np.array(dataframe.drop(['Survived'],axis=1))\n",
    "y = np.array(dataframe['Survived'])\n",
    "X.shape"
>>>>>>> 1d56431 (24-01-2025(previa))
=======
    "x = np.array(dataframe1.drop(['Survived'],axis=1))\n",
    "y = np.array(dataframe1['Survived'])\n",
    "x.shape"
>>>>>>> 2170714 (24-04-2025_Final)
=======
    "x = np.array(dataframe1.drop(['Survived'],axis=1))\n",
    "y = np.array(dataframe1['Survived'])\n",
    "x.shape"
>>>>>>> origin/main
>>>>>>> luiscargarcia/main
   ]
  },
  {
   "cell_type": "markdown",
   "metadata": {
    "collapsed": false
   },
   "source": [
    "Pasamos a crear y entrenar nuestro modelo de Regresión Logística"
   ]
  },
  {
   "cell_type": "code",
<<<<<<< HEAD
   "execution_count": 46,
=======
<<<<<<< HEAD
<<<<<<< HEAD
<<<<<<< HEAD
   "execution_count": 46,
=======
   "execution_count": 135,
>>>>>>> 1d56431 (24-01-2025(previa))
=======
   "execution_count": 46,
>>>>>>> 2170714 (24-04-2025_Final)
=======
   "execution_count": 46,
>>>>>>> origin/main
>>>>>>> luiscargarcia/main
   "metadata": {
    "ExecuteTime": {
     "end_time": "2024-02-02T15:49:31.892109800Z",
     "start_time": "2024-02-02T15:49:31.863689400Z"
    },
    "collapsed": false
   },
   "outputs": [
    {
     "data": {
      "text/html": [
<<<<<<< HEAD
       "<style>#sk-container-id-3 {\n",
=======
<<<<<<< HEAD
<<<<<<< HEAD
<<<<<<< HEAD
       "<style>#sk-container-id-3 {\n",
=======
       "<style>#sk-container-id-8 {\n",
>>>>>>> 1d56431 (24-01-2025(previa))
=======
       "<style>#sk-container-id-3 {\n",
>>>>>>> 2170714 (24-04-2025_Final)
=======
       "<style>#sk-container-id-3 {\n",
>>>>>>> origin/main
>>>>>>> luiscargarcia/main
       "  /* Definition of color scheme common for light and dark mode */\n",
       "  --sklearn-color-text: #000;\n",
       "  --sklearn-color-text-muted: #666;\n",
       "  --sklearn-color-line: gray;\n",
       "  /* Definition of color scheme for unfitted estimators */\n",
       "  --sklearn-color-unfitted-level-0: #fff5e6;\n",
       "  --sklearn-color-unfitted-level-1: #f6e4d2;\n",
       "  --sklearn-color-unfitted-level-2: #ffe0b3;\n",
       "  --sklearn-color-unfitted-level-3: chocolate;\n",
       "  /* Definition of color scheme for fitted estimators */\n",
       "  --sklearn-color-fitted-level-0: #f0f8ff;\n",
       "  --sklearn-color-fitted-level-1: #d4ebff;\n",
       "  --sklearn-color-fitted-level-2: #b3dbfd;\n",
       "  --sklearn-color-fitted-level-3: cornflowerblue;\n",
       "\n",
       "  /* Specific color for light theme */\n",
       "  --sklearn-color-text-on-default-background: var(--sg-text-color, var(--theme-code-foreground, var(--jp-content-font-color1, black)));\n",
       "  --sklearn-color-background: var(--sg-background-color, var(--theme-background, var(--jp-layout-color0, white)));\n",
       "  --sklearn-color-border-box: var(--sg-text-color, var(--theme-code-foreground, var(--jp-content-font-color1, black)));\n",
       "  --sklearn-color-icon: #696969;\n",
       "\n",
       "  @media (prefers-color-scheme: dark) {\n",
       "    /* Redefinition of color scheme for dark theme */\n",
       "    --sklearn-color-text-on-default-background: var(--sg-text-color, var(--theme-code-foreground, var(--jp-content-font-color1, white)));\n",
       "    --sklearn-color-background: var(--sg-background-color, var(--theme-background, var(--jp-layout-color0, #111)));\n",
       "    --sklearn-color-border-box: var(--sg-text-color, var(--theme-code-foreground, var(--jp-content-font-color1, white)));\n",
       "    --sklearn-color-icon: #878787;\n",
       "  }\n",
       "}\n",
       "\n",
<<<<<<< HEAD
=======
<<<<<<< HEAD
<<<<<<< HEAD
<<<<<<< HEAD
=======
>>>>>>> origin/main
>>>>>>> luiscargarcia/main
       "#sk-container-id-3 {\n",
       "  color: var(--sklearn-color-text);\n",
       "}\n",
       "\n",
       "#sk-container-id-3 pre {\n",
       "  padding: 0;\n",
       "}\n",
       "\n",
       "#sk-container-id-3 input.sk-hidden--visually {\n",
<<<<<<< HEAD
=======
<<<<<<< HEAD
=======
       "#sk-container-id-8 {\n",
=======
       "#sk-container-id-3 {\n",
>>>>>>> 2170714 (24-04-2025_Final)
       "  color: var(--sklearn-color-text);\n",
       "}\n",
       "\n",
       "#sk-container-id-3 pre {\n",
       "  padding: 0;\n",
       "}\n",
       "\n",
<<<<<<< HEAD
       "#sk-container-id-8 input.sk-hidden--visually {\n",
>>>>>>> 1d56431 (24-01-2025(previa))
=======
       "#sk-container-id-3 input.sk-hidden--visually {\n",
>>>>>>> 2170714 (24-04-2025_Final)
=======
>>>>>>> origin/main
>>>>>>> luiscargarcia/main
       "  border: 0;\n",
       "  clip: rect(1px 1px 1px 1px);\n",
       "  clip: rect(1px, 1px, 1px, 1px);\n",
       "  height: 1px;\n",
       "  margin: -1px;\n",
       "  overflow: hidden;\n",
       "  padding: 0;\n",
       "  position: absolute;\n",
       "  width: 1px;\n",
       "}\n",
       "\n",
<<<<<<< HEAD
       "#sk-container-id-3 div.sk-dashed-wrapped {\n",
=======
<<<<<<< HEAD
<<<<<<< HEAD
<<<<<<< HEAD
       "#sk-container-id-3 div.sk-dashed-wrapped {\n",
=======
       "#sk-container-id-8 div.sk-dashed-wrapped {\n",
>>>>>>> 1d56431 (24-01-2025(previa))
=======
       "#sk-container-id-3 div.sk-dashed-wrapped {\n",
>>>>>>> 2170714 (24-04-2025_Final)
=======
       "#sk-container-id-3 div.sk-dashed-wrapped {\n",
>>>>>>> origin/main
>>>>>>> luiscargarcia/main
       "  border: 1px dashed var(--sklearn-color-line);\n",
       "  margin: 0 0.4em 0.5em 0.4em;\n",
       "  box-sizing: border-box;\n",
       "  padding-bottom: 0.4em;\n",
       "  background-color: var(--sklearn-color-background);\n",
       "}\n",
       "\n",
<<<<<<< HEAD
       "#sk-container-id-3 div.sk-container {\n",
=======
<<<<<<< HEAD
<<<<<<< HEAD
<<<<<<< HEAD
       "#sk-container-id-3 div.sk-container {\n",
=======
       "#sk-container-id-8 div.sk-container {\n",
>>>>>>> 1d56431 (24-01-2025(previa))
=======
       "#sk-container-id-3 div.sk-container {\n",
>>>>>>> 2170714 (24-04-2025_Final)
=======
       "#sk-container-id-3 div.sk-container {\n",
>>>>>>> origin/main
>>>>>>> luiscargarcia/main
       "  /* jupyter's `normalize.less` sets `[hidden] { display: none; }`\n",
       "     but bootstrap.min.css set `[hidden] { display: none !important; }`\n",
       "     so we also need the `!important` here to be able to override the\n",
       "     default hidden behavior on the sphinx rendered scikit-learn.org.\n",
       "     See: https://github.com/scikit-learn/scikit-learn/issues/21755 */\n",
       "  display: inline-block !important;\n",
       "  position: relative;\n",
       "}\n",
       "\n",
<<<<<<< HEAD
       "#sk-container-id-3 div.sk-text-repr-fallback {\n",
=======
<<<<<<< HEAD
<<<<<<< HEAD
<<<<<<< HEAD
       "#sk-container-id-3 div.sk-text-repr-fallback {\n",
=======
       "#sk-container-id-8 div.sk-text-repr-fallback {\n",
>>>>>>> 1d56431 (24-01-2025(previa))
=======
       "#sk-container-id-3 div.sk-text-repr-fallback {\n",
>>>>>>> 2170714 (24-04-2025_Final)
=======
       "#sk-container-id-3 div.sk-text-repr-fallback {\n",
>>>>>>> origin/main
>>>>>>> luiscargarcia/main
       "  display: none;\n",
       "}\n",
       "\n",
       "div.sk-parallel-item,\n",
       "div.sk-serial,\n",
       "div.sk-item {\n",
       "  /* draw centered vertical line to link estimators */\n",
       "  background-image: linear-gradient(var(--sklearn-color-text-on-default-background), var(--sklearn-color-text-on-default-background));\n",
       "  background-size: 2px 100%;\n",
       "  background-repeat: no-repeat;\n",
       "  background-position: center center;\n",
       "}\n",
       "\n",
       "/* Parallel-specific style estimator block */\n",
       "\n",
<<<<<<< HEAD
       "#sk-container-id-3 div.sk-parallel-item::after {\n",
=======
<<<<<<< HEAD
<<<<<<< HEAD
<<<<<<< HEAD
       "#sk-container-id-3 div.sk-parallel-item::after {\n",
=======
       "#sk-container-id-8 div.sk-parallel-item::after {\n",
>>>>>>> 1d56431 (24-01-2025(previa))
=======
       "#sk-container-id-3 div.sk-parallel-item::after {\n",
>>>>>>> 2170714 (24-04-2025_Final)
=======
       "#sk-container-id-3 div.sk-parallel-item::after {\n",
>>>>>>> origin/main
>>>>>>> luiscargarcia/main
       "  content: \"\";\n",
       "  width: 100%;\n",
       "  border-bottom: 2px solid var(--sklearn-color-text-on-default-background);\n",
       "  flex-grow: 1;\n",
       "}\n",
       "\n",
<<<<<<< HEAD
       "#sk-container-id-3 div.sk-parallel {\n",
=======
<<<<<<< HEAD
<<<<<<< HEAD
<<<<<<< HEAD
       "#sk-container-id-3 div.sk-parallel {\n",
=======
       "#sk-container-id-8 div.sk-parallel {\n",
>>>>>>> 1d56431 (24-01-2025(previa))
=======
       "#sk-container-id-3 div.sk-parallel {\n",
>>>>>>> 2170714 (24-04-2025_Final)
=======
       "#sk-container-id-3 div.sk-parallel {\n",
>>>>>>> origin/main
>>>>>>> luiscargarcia/main
       "  display: flex;\n",
       "  align-items: stretch;\n",
       "  justify-content: center;\n",
       "  background-color: var(--sklearn-color-background);\n",
       "  position: relative;\n",
       "}\n",
       "\n",
<<<<<<< HEAD
       "#sk-container-id-3 div.sk-parallel-item {\n",
=======
<<<<<<< HEAD
<<<<<<< HEAD
<<<<<<< HEAD
       "#sk-container-id-3 div.sk-parallel-item {\n",
=======
       "#sk-container-id-8 div.sk-parallel-item {\n",
>>>>>>> 1d56431 (24-01-2025(previa))
=======
       "#sk-container-id-3 div.sk-parallel-item {\n",
>>>>>>> 2170714 (24-04-2025_Final)
=======
       "#sk-container-id-3 div.sk-parallel-item {\n",
>>>>>>> origin/main
>>>>>>> luiscargarcia/main
       "  display: flex;\n",
       "  flex-direction: column;\n",
       "}\n",
       "\n",
<<<<<<< HEAD
       "#sk-container-id-3 div.sk-parallel-item:first-child::after {\n",
=======
<<<<<<< HEAD
<<<<<<< HEAD
<<<<<<< HEAD
       "#sk-container-id-3 div.sk-parallel-item:first-child::after {\n",
=======
       "#sk-container-id-8 div.sk-parallel-item:first-child::after {\n",
>>>>>>> 1d56431 (24-01-2025(previa))
=======
       "#sk-container-id-3 div.sk-parallel-item:first-child::after {\n",
>>>>>>> 2170714 (24-04-2025_Final)
=======
       "#sk-container-id-3 div.sk-parallel-item:first-child::after {\n",
>>>>>>> origin/main
>>>>>>> luiscargarcia/main
       "  align-self: flex-end;\n",
       "  width: 50%;\n",
       "}\n",
       "\n",
<<<<<<< HEAD
       "#sk-container-id-3 div.sk-parallel-item:last-child::after {\n",
=======
<<<<<<< HEAD
<<<<<<< HEAD
<<<<<<< HEAD
       "#sk-container-id-3 div.sk-parallel-item:last-child::after {\n",
=======
       "#sk-container-id-8 div.sk-parallel-item:last-child::after {\n",
>>>>>>> 1d56431 (24-01-2025(previa))
=======
       "#sk-container-id-3 div.sk-parallel-item:last-child::after {\n",
>>>>>>> 2170714 (24-04-2025_Final)
=======
       "#sk-container-id-3 div.sk-parallel-item:last-child::after {\n",
>>>>>>> origin/main
>>>>>>> luiscargarcia/main
       "  align-self: flex-start;\n",
       "  width: 50%;\n",
       "}\n",
       "\n",
<<<<<<< HEAD
       "#sk-container-id-3 div.sk-parallel-item:only-child::after {\n",
=======
<<<<<<< HEAD
<<<<<<< HEAD
<<<<<<< HEAD
       "#sk-container-id-3 div.sk-parallel-item:only-child::after {\n",
=======
       "#sk-container-id-8 div.sk-parallel-item:only-child::after {\n",
>>>>>>> 1d56431 (24-01-2025(previa))
=======
       "#sk-container-id-3 div.sk-parallel-item:only-child::after {\n",
>>>>>>> 2170714 (24-04-2025_Final)
=======
       "#sk-container-id-3 div.sk-parallel-item:only-child::after {\n",
>>>>>>> origin/main
>>>>>>> luiscargarcia/main
       "  width: 0;\n",
       "}\n",
       "\n",
       "/* Serial-specific style estimator block */\n",
       "\n",
<<<<<<< HEAD
       "#sk-container-id-3 div.sk-serial {\n",
=======
<<<<<<< HEAD
<<<<<<< HEAD
<<<<<<< HEAD
       "#sk-container-id-3 div.sk-serial {\n",
=======
       "#sk-container-id-8 div.sk-serial {\n",
>>>>>>> 1d56431 (24-01-2025(previa))
=======
       "#sk-container-id-3 div.sk-serial {\n",
>>>>>>> 2170714 (24-04-2025_Final)
=======
       "#sk-container-id-3 div.sk-serial {\n",
>>>>>>> origin/main
>>>>>>> luiscargarcia/main
       "  display: flex;\n",
       "  flex-direction: column;\n",
       "  align-items: center;\n",
       "  background-color: var(--sklearn-color-background);\n",
       "  padding-right: 1em;\n",
       "  padding-left: 1em;\n",
       "}\n",
       "\n",
       "\n",
       "/* Toggleable style: style used for estimator/Pipeline/ColumnTransformer box that is\n",
       "clickable and can be expanded/collapsed.\n",
       "- Pipeline and ColumnTransformer use this feature and define the default style\n",
       "- Estimators will overwrite some part of the style using the `sk-estimator` class\n",
       "*/\n",
       "\n",
       "/* Pipeline and ColumnTransformer style (default) */\n",
       "\n",
<<<<<<< HEAD
       "#sk-container-id-3 div.sk-toggleable {\n",
=======
<<<<<<< HEAD
<<<<<<< HEAD
<<<<<<< HEAD
       "#sk-container-id-3 div.sk-toggleable {\n",
=======
       "#sk-container-id-8 div.sk-toggleable {\n",
>>>>>>> 1d56431 (24-01-2025(previa))
=======
       "#sk-container-id-3 div.sk-toggleable {\n",
>>>>>>> 2170714 (24-04-2025_Final)
=======
       "#sk-container-id-3 div.sk-toggleable {\n",
>>>>>>> origin/main
>>>>>>> luiscargarcia/main
       "  /* Default theme specific background. It is overwritten whether we have a\n",
       "  specific estimator or a Pipeline/ColumnTransformer */\n",
       "  background-color: var(--sklearn-color-background);\n",
       "}\n",
       "\n",
       "/* Toggleable label */\n",
<<<<<<< HEAD
       "#sk-container-id-3 label.sk-toggleable__label {\n",
=======
<<<<<<< HEAD
<<<<<<< HEAD
<<<<<<< HEAD
       "#sk-container-id-3 label.sk-toggleable__label {\n",
=======
       "#sk-container-id-8 label.sk-toggleable__label {\n",
>>>>>>> 1d56431 (24-01-2025(previa))
=======
       "#sk-container-id-3 label.sk-toggleable__label {\n",
>>>>>>> 2170714 (24-04-2025_Final)
=======
       "#sk-container-id-3 label.sk-toggleable__label {\n",
>>>>>>> origin/main
>>>>>>> luiscargarcia/main
       "  cursor: pointer;\n",
       "  display: flex;\n",
       "  width: 100%;\n",
       "  margin-bottom: 0;\n",
       "  padding: 0.5em;\n",
       "  box-sizing: border-box;\n",
       "  text-align: center;\n",
       "  align-items: start;\n",
       "  justify-content: space-between;\n",
       "  gap: 0.5em;\n",
       "}\n",
       "\n",
<<<<<<< HEAD
       "#sk-container-id-3 label.sk-toggleable__label .caption {\n",
=======
<<<<<<< HEAD
<<<<<<< HEAD
<<<<<<< HEAD
       "#sk-container-id-3 label.sk-toggleable__label .caption {\n",
=======
       "#sk-container-id-8 label.sk-toggleable__label .caption {\n",
>>>>>>> 1d56431 (24-01-2025(previa))
=======
       "#sk-container-id-3 label.sk-toggleable__label .caption {\n",
>>>>>>> 2170714 (24-04-2025_Final)
=======
       "#sk-container-id-3 label.sk-toggleable__label .caption {\n",
>>>>>>> origin/main
>>>>>>> luiscargarcia/main
       "  font-size: 0.6rem;\n",
       "  font-weight: lighter;\n",
       "  color: var(--sklearn-color-text-muted);\n",
       "}\n",
       "\n",
<<<<<<< HEAD
       "#sk-container-id-3 label.sk-toggleable__label-arrow:before {\n",
=======
<<<<<<< HEAD
<<<<<<< HEAD
<<<<<<< HEAD
       "#sk-container-id-3 label.sk-toggleable__label-arrow:before {\n",
=======
       "#sk-container-id-8 label.sk-toggleable__label-arrow:before {\n",
>>>>>>> 1d56431 (24-01-2025(previa))
=======
       "#sk-container-id-3 label.sk-toggleable__label-arrow:before {\n",
>>>>>>> 2170714 (24-04-2025_Final)
=======
       "#sk-container-id-3 label.sk-toggleable__label-arrow:before {\n",
>>>>>>> origin/main
>>>>>>> luiscargarcia/main
       "  /* Arrow on the left of the label */\n",
       "  content: \"▸\";\n",
       "  float: left;\n",
       "  margin-right: 0.25em;\n",
       "  color: var(--sklearn-color-icon);\n",
       "}\n",
       "\n",
<<<<<<< HEAD
       "#sk-container-id-3 label.sk-toggleable__label-arrow:hover:before {\n",
=======
<<<<<<< HEAD
<<<<<<< HEAD
<<<<<<< HEAD
       "#sk-container-id-3 label.sk-toggleable__label-arrow:hover:before {\n",
=======
       "#sk-container-id-8 label.sk-toggleable__label-arrow:hover:before {\n",
>>>>>>> 1d56431 (24-01-2025(previa))
=======
       "#sk-container-id-3 label.sk-toggleable__label-arrow:hover:before {\n",
>>>>>>> 2170714 (24-04-2025_Final)
=======
       "#sk-container-id-3 label.sk-toggleable__label-arrow:hover:before {\n",
>>>>>>> origin/main
>>>>>>> luiscargarcia/main
       "  color: var(--sklearn-color-text);\n",
       "}\n",
       "\n",
       "/* Toggleable content - dropdown */\n",
       "\n",
<<<<<<< HEAD
       "#sk-container-id-3 div.sk-toggleable__content {\n",
=======
<<<<<<< HEAD
<<<<<<< HEAD
<<<<<<< HEAD
       "#sk-container-id-3 div.sk-toggleable__content {\n",
=======
       "#sk-container-id-8 div.sk-toggleable__content {\n",
>>>>>>> 1d56431 (24-01-2025(previa))
=======
       "#sk-container-id-3 div.sk-toggleable__content {\n",
>>>>>>> 2170714 (24-04-2025_Final)
=======
       "#sk-container-id-3 div.sk-toggleable__content {\n",
>>>>>>> origin/main
>>>>>>> luiscargarcia/main
       "  max-height: 0;\n",
       "  max-width: 0;\n",
       "  overflow: hidden;\n",
       "  text-align: left;\n",
       "  /* unfitted */\n",
       "  background-color: var(--sklearn-color-unfitted-level-0);\n",
       "}\n",
       "\n",
<<<<<<< HEAD
       "#sk-container-id-3 div.sk-toggleable__content.fitted {\n",
=======
<<<<<<< HEAD
<<<<<<< HEAD
<<<<<<< HEAD
       "#sk-container-id-3 div.sk-toggleable__content.fitted {\n",
=======
       "#sk-container-id-8 div.sk-toggleable__content.fitted {\n",
>>>>>>> 1d56431 (24-01-2025(previa))
=======
       "#sk-container-id-3 div.sk-toggleable__content.fitted {\n",
>>>>>>> 2170714 (24-04-2025_Final)
=======
       "#sk-container-id-3 div.sk-toggleable__content.fitted {\n",
>>>>>>> origin/main
>>>>>>> luiscargarcia/main
       "  /* fitted */\n",
       "  background-color: var(--sklearn-color-fitted-level-0);\n",
       "}\n",
       "\n",
<<<<<<< HEAD
       "#sk-container-id-3 div.sk-toggleable__content pre {\n",
=======
<<<<<<< HEAD
<<<<<<< HEAD
<<<<<<< HEAD
       "#sk-container-id-3 div.sk-toggleable__content pre {\n",
=======
       "#sk-container-id-8 div.sk-toggleable__content pre {\n",
>>>>>>> 1d56431 (24-01-2025(previa))
=======
       "#sk-container-id-3 div.sk-toggleable__content pre {\n",
>>>>>>> 2170714 (24-04-2025_Final)
=======
       "#sk-container-id-3 div.sk-toggleable__content pre {\n",
>>>>>>> origin/main
>>>>>>> luiscargarcia/main
       "  margin: 0.2em;\n",
       "  border-radius: 0.25em;\n",
       "  color: var(--sklearn-color-text);\n",
       "  /* unfitted */\n",
       "  background-color: var(--sklearn-color-unfitted-level-0);\n",
       "}\n",
       "\n",
<<<<<<< HEAD
       "#sk-container-id-3 div.sk-toggleable__content.fitted pre {\n",
=======
<<<<<<< HEAD
<<<<<<< HEAD
<<<<<<< HEAD
       "#sk-container-id-3 div.sk-toggleable__content.fitted pre {\n",
=======
       "#sk-container-id-8 div.sk-toggleable__content.fitted pre {\n",
>>>>>>> 1d56431 (24-01-2025(previa))
=======
       "#sk-container-id-3 div.sk-toggleable__content.fitted pre {\n",
>>>>>>> 2170714 (24-04-2025_Final)
=======
       "#sk-container-id-3 div.sk-toggleable__content.fitted pre {\n",
>>>>>>> origin/main
>>>>>>> luiscargarcia/main
       "  /* unfitted */\n",
       "  background-color: var(--sklearn-color-fitted-level-0);\n",
       "}\n",
       "\n",
<<<<<<< HEAD
       "#sk-container-id-3 input.sk-toggleable__control:checked~div.sk-toggleable__content {\n",
=======
<<<<<<< HEAD
<<<<<<< HEAD
<<<<<<< HEAD
       "#sk-container-id-3 input.sk-toggleable__control:checked~div.sk-toggleable__content {\n",
=======
       "#sk-container-id-8 input.sk-toggleable__control:checked~div.sk-toggleable__content {\n",
>>>>>>> 1d56431 (24-01-2025(previa))
=======
       "#sk-container-id-3 input.sk-toggleable__control:checked~div.sk-toggleable__content {\n",
>>>>>>> 2170714 (24-04-2025_Final)
=======
       "#sk-container-id-3 input.sk-toggleable__control:checked~div.sk-toggleable__content {\n",
>>>>>>> origin/main
>>>>>>> luiscargarcia/main
       "  /* Expand drop-down */\n",
       "  max-height: 200px;\n",
       "  max-width: 100%;\n",
       "  overflow: auto;\n",
       "}\n",
       "\n",
<<<<<<< HEAD
       "#sk-container-id-3 input.sk-toggleable__control:checked~label.sk-toggleable__label-arrow:before {\n",
=======
<<<<<<< HEAD
<<<<<<< HEAD
<<<<<<< HEAD
       "#sk-container-id-3 input.sk-toggleable__control:checked~label.sk-toggleable__label-arrow:before {\n",
=======
       "#sk-container-id-8 input.sk-toggleable__control:checked~label.sk-toggleable__label-arrow:before {\n",
>>>>>>> 1d56431 (24-01-2025(previa))
=======
       "#sk-container-id-3 input.sk-toggleable__control:checked~label.sk-toggleable__label-arrow:before {\n",
>>>>>>> 2170714 (24-04-2025_Final)
=======
       "#sk-container-id-3 input.sk-toggleable__control:checked~label.sk-toggleable__label-arrow:before {\n",
>>>>>>> origin/main
>>>>>>> luiscargarcia/main
       "  content: \"▾\";\n",
       "}\n",
       "\n",
       "/* Pipeline/ColumnTransformer-specific style */\n",
       "\n",
<<<<<<< HEAD
       "#sk-container-id-3 div.sk-label input.sk-toggleable__control:checked~label.sk-toggleable__label {\n",
=======
<<<<<<< HEAD
<<<<<<< HEAD
<<<<<<< HEAD
       "#sk-container-id-3 div.sk-label input.sk-toggleable__control:checked~label.sk-toggleable__label {\n",
=======
       "#sk-container-id-8 div.sk-label input.sk-toggleable__control:checked~label.sk-toggleable__label {\n",
>>>>>>> 1d56431 (24-01-2025(previa))
=======
       "#sk-container-id-3 div.sk-label input.sk-toggleable__control:checked~label.sk-toggleable__label {\n",
>>>>>>> 2170714 (24-04-2025_Final)
=======
       "#sk-container-id-3 div.sk-label input.sk-toggleable__control:checked~label.sk-toggleable__label {\n",
>>>>>>> origin/main
>>>>>>> luiscargarcia/main
       "  color: var(--sklearn-color-text);\n",
       "  background-color: var(--sklearn-color-unfitted-level-2);\n",
       "}\n",
       "\n",
<<<<<<< HEAD
       "#sk-container-id-3 div.sk-label.fitted input.sk-toggleable__control:checked~label.sk-toggleable__label {\n",
=======
<<<<<<< HEAD
<<<<<<< HEAD
<<<<<<< HEAD
       "#sk-container-id-3 div.sk-label.fitted input.sk-toggleable__control:checked~label.sk-toggleable__label {\n",
=======
       "#sk-container-id-8 div.sk-label.fitted input.sk-toggleable__control:checked~label.sk-toggleable__label {\n",
>>>>>>> 1d56431 (24-01-2025(previa))
=======
       "#sk-container-id-3 div.sk-label.fitted input.sk-toggleable__control:checked~label.sk-toggleable__label {\n",
>>>>>>> 2170714 (24-04-2025_Final)
=======
       "#sk-container-id-3 div.sk-label.fitted input.sk-toggleable__control:checked~label.sk-toggleable__label {\n",
>>>>>>> origin/main
>>>>>>> luiscargarcia/main
       "  background-color: var(--sklearn-color-fitted-level-2);\n",
       "}\n",
       "\n",
       "/* Estimator-specific style */\n",
       "\n",
       "/* Colorize estimator box */\n",
<<<<<<< HEAD
       "#sk-container-id-3 div.sk-estimator input.sk-toggleable__control:checked~label.sk-toggleable__label {\n",
=======
<<<<<<< HEAD
<<<<<<< HEAD
<<<<<<< HEAD
       "#sk-container-id-3 div.sk-estimator input.sk-toggleable__control:checked~label.sk-toggleable__label {\n",
=======
       "#sk-container-id-8 div.sk-estimator input.sk-toggleable__control:checked~label.sk-toggleable__label {\n",
>>>>>>> 1d56431 (24-01-2025(previa))
=======
       "#sk-container-id-3 div.sk-estimator input.sk-toggleable__control:checked~label.sk-toggleable__label {\n",
>>>>>>> 2170714 (24-04-2025_Final)
=======
       "#sk-container-id-3 div.sk-estimator input.sk-toggleable__control:checked~label.sk-toggleable__label {\n",
>>>>>>> origin/main
>>>>>>> luiscargarcia/main
       "  /* unfitted */\n",
       "  background-color: var(--sklearn-color-unfitted-level-2);\n",
       "}\n",
       "\n",
<<<<<<< HEAD
       "#sk-container-id-3 div.sk-estimator.fitted input.sk-toggleable__control:checked~label.sk-toggleable__label {\n",
=======
<<<<<<< HEAD
<<<<<<< HEAD
<<<<<<< HEAD
       "#sk-container-id-3 div.sk-estimator.fitted input.sk-toggleable__control:checked~label.sk-toggleable__label {\n",
=======
       "#sk-container-id-8 div.sk-estimator.fitted input.sk-toggleable__control:checked~label.sk-toggleable__label {\n",
>>>>>>> 1d56431 (24-01-2025(previa))
=======
       "#sk-container-id-3 div.sk-estimator.fitted input.sk-toggleable__control:checked~label.sk-toggleable__label {\n",
>>>>>>> 2170714 (24-04-2025_Final)
=======
       "#sk-container-id-3 div.sk-estimator.fitted input.sk-toggleable__control:checked~label.sk-toggleable__label {\n",
>>>>>>> origin/main
>>>>>>> luiscargarcia/main
       "  /* fitted */\n",
       "  background-color: var(--sklearn-color-fitted-level-2);\n",
       "}\n",
       "\n",
<<<<<<< HEAD
       "#sk-container-id-3 div.sk-label label.sk-toggleable__label,\n",
       "#sk-container-id-3 div.sk-label label {\n",
=======
<<<<<<< HEAD
<<<<<<< HEAD
<<<<<<< HEAD
       "#sk-container-id-3 div.sk-label label.sk-toggleable__label,\n",
       "#sk-container-id-3 div.sk-label label {\n",
=======
       "#sk-container-id-8 div.sk-label label.sk-toggleable__label,\n",
       "#sk-container-id-8 div.sk-label label {\n",
>>>>>>> 1d56431 (24-01-2025(previa))
=======
       "#sk-container-id-3 div.sk-label label.sk-toggleable__label,\n",
       "#sk-container-id-3 div.sk-label label {\n",
>>>>>>> 2170714 (24-04-2025_Final)
=======
       "#sk-container-id-3 div.sk-label label.sk-toggleable__label,\n",
       "#sk-container-id-3 div.sk-label label {\n",
>>>>>>> origin/main
>>>>>>> luiscargarcia/main
       "  /* The background is the default theme color */\n",
       "  color: var(--sklearn-color-text-on-default-background);\n",
       "}\n",
       "\n",
       "/* On hover, darken the color of the background */\n",
<<<<<<< HEAD
       "#sk-container-id-3 div.sk-label:hover label.sk-toggleable__label {\n",
=======
<<<<<<< HEAD
<<<<<<< HEAD
<<<<<<< HEAD
       "#sk-container-id-3 div.sk-label:hover label.sk-toggleable__label {\n",
=======
       "#sk-container-id-8 div.sk-label:hover label.sk-toggleable__label {\n",
>>>>>>> 1d56431 (24-01-2025(previa))
=======
       "#sk-container-id-3 div.sk-label:hover label.sk-toggleable__label {\n",
>>>>>>> 2170714 (24-04-2025_Final)
=======
       "#sk-container-id-3 div.sk-label:hover label.sk-toggleable__label {\n",
>>>>>>> origin/main
>>>>>>> luiscargarcia/main
       "  color: var(--sklearn-color-text);\n",
       "  background-color: var(--sklearn-color-unfitted-level-2);\n",
       "}\n",
       "\n",
       "/* Label box, darken color on hover, fitted */\n",
<<<<<<< HEAD
       "#sk-container-id-3 div.sk-label.fitted:hover label.sk-toggleable__label.fitted {\n",
=======
<<<<<<< HEAD
<<<<<<< HEAD
<<<<<<< HEAD
       "#sk-container-id-3 div.sk-label.fitted:hover label.sk-toggleable__label.fitted {\n",
=======
       "#sk-container-id-8 div.sk-label.fitted:hover label.sk-toggleable__label.fitted {\n",
>>>>>>> 1d56431 (24-01-2025(previa))
=======
       "#sk-container-id-3 div.sk-label.fitted:hover label.sk-toggleable__label.fitted {\n",
>>>>>>> 2170714 (24-04-2025_Final)
=======
       "#sk-container-id-3 div.sk-label.fitted:hover label.sk-toggleable__label.fitted {\n",
>>>>>>> origin/main
>>>>>>> luiscargarcia/main
       "  color: var(--sklearn-color-text);\n",
       "  background-color: var(--sklearn-color-fitted-level-2);\n",
       "}\n",
       "\n",
       "/* Estimator label */\n",
       "\n",
<<<<<<< HEAD
       "#sk-container-id-3 div.sk-label label {\n",
=======
<<<<<<< HEAD
<<<<<<< HEAD
<<<<<<< HEAD
       "#sk-container-id-3 div.sk-label label {\n",
=======
       "#sk-container-id-8 div.sk-label label {\n",
>>>>>>> 1d56431 (24-01-2025(previa))
=======
       "#sk-container-id-3 div.sk-label label {\n",
>>>>>>> 2170714 (24-04-2025_Final)
=======
       "#sk-container-id-3 div.sk-label label {\n",
>>>>>>> origin/main
>>>>>>> luiscargarcia/main
       "  font-family: monospace;\n",
       "  font-weight: bold;\n",
       "  display: inline-block;\n",
       "  line-height: 1.2em;\n",
       "}\n",
       "\n",
<<<<<<< HEAD
       "#sk-container-id-3 div.sk-label-container {\n",
=======
<<<<<<< HEAD
<<<<<<< HEAD
<<<<<<< HEAD
       "#sk-container-id-3 div.sk-label-container {\n",
=======
       "#sk-container-id-8 div.sk-label-container {\n",
>>>>>>> 1d56431 (24-01-2025(previa))
=======
       "#sk-container-id-3 div.sk-label-container {\n",
>>>>>>> 2170714 (24-04-2025_Final)
=======
       "#sk-container-id-3 div.sk-label-container {\n",
>>>>>>> origin/main
>>>>>>> luiscargarcia/main
       "  text-align: center;\n",
       "}\n",
       "\n",
       "/* Estimator-specific */\n",
<<<<<<< HEAD
       "#sk-container-id-3 div.sk-estimator {\n",
=======
<<<<<<< HEAD
<<<<<<< HEAD
<<<<<<< HEAD
       "#sk-container-id-3 div.sk-estimator {\n",
=======
       "#sk-container-id-8 div.sk-estimator {\n",
>>>>>>> 1d56431 (24-01-2025(previa))
=======
       "#sk-container-id-3 div.sk-estimator {\n",
>>>>>>> 2170714 (24-04-2025_Final)
=======
       "#sk-container-id-3 div.sk-estimator {\n",
>>>>>>> origin/main
>>>>>>> luiscargarcia/main
       "  font-family: monospace;\n",
       "  border: 1px dotted var(--sklearn-color-border-box);\n",
       "  border-radius: 0.25em;\n",
       "  box-sizing: border-box;\n",
       "  margin-bottom: 0.5em;\n",
       "  /* unfitted */\n",
       "  background-color: var(--sklearn-color-unfitted-level-0);\n",
       "}\n",
       "\n",
<<<<<<< HEAD
       "#sk-container-id-3 div.sk-estimator.fitted {\n",
=======
<<<<<<< HEAD
<<<<<<< HEAD
<<<<<<< HEAD
       "#sk-container-id-3 div.sk-estimator.fitted {\n",
=======
       "#sk-container-id-8 div.sk-estimator.fitted {\n",
>>>>>>> 1d56431 (24-01-2025(previa))
=======
       "#sk-container-id-3 div.sk-estimator.fitted {\n",
>>>>>>> 2170714 (24-04-2025_Final)
=======
       "#sk-container-id-3 div.sk-estimator.fitted {\n",
>>>>>>> origin/main
>>>>>>> luiscargarcia/main
       "  /* fitted */\n",
       "  background-color: var(--sklearn-color-fitted-level-0);\n",
       "}\n",
       "\n",
       "/* on hover */\n",
<<<<<<< HEAD
       "#sk-container-id-3 div.sk-estimator:hover {\n",
=======
<<<<<<< HEAD
<<<<<<< HEAD
<<<<<<< HEAD
       "#sk-container-id-3 div.sk-estimator:hover {\n",
=======
       "#sk-container-id-8 div.sk-estimator:hover {\n",
>>>>>>> 1d56431 (24-01-2025(previa))
=======
       "#sk-container-id-3 div.sk-estimator:hover {\n",
>>>>>>> 2170714 (24-04-2025_Final)
=======
       "#sk-container-id-3 div.sk-estimator:hover {\n",
>>>>>>> origin/main
>>>>>>> luiscargarcia/main
       "  /* unfitted */\n",
       "  background-color: var(--sklearn-color-unfitted-level-2);\n",
       "}\n",
       "\n",
<<<<<<< HEAD
       "#sk-container-id-3 div.sk-estimator.fitted:hover {\n",
=======
<<<<<<< HEAD
<<<<<<< HEAD
<<<<<<< HEAD
       "#sk-container-id-3 div.sk-estimator.fitted:hover {\n",
=======
       "#sk-container-id-8 div.sk-estimator.fitted:hover {\n",
>>>>>>> 1d56431 (24-01-2025(previa))
=======
       "#sk-container-id-3 div.sk-estimator.fitted:hover {\n",
>>>>>>> 2170714 (24-04-2025_Final)
=======
       "#sk-container-id-3 div.sk-estimator.fitted:hover {\n",
>>>>>>> origin/main
>>>>>>> luiscargarcia/main
       "  /* fitted */\n",
       "  background-color: var(--sklearn-color-fitted-level-2);\n",
       "}\n",
       "\n",
       "/* Specification for estimator info (e.g. \"i\" and \"?\") */\n",
       "\n",
       "/* Common style for \"i\" and \"?\" */\n",
       "\n",
       ".sk-estimator-doc-link,\n",
       "a:link.sk-estimator-doc-link,\n",
       "a:visited.sk-estimator-doc-link {\n",
       "  float: right;\n",
       "  font-size: smaller;\n",
       "  line-height: 1em;\n",
       "  font-family: monospace;\n",
       "  background-color: var(--sklearn-color-background);\n",
       "  border-radius: 1em;\n",
       "  height: 1em;\n",
       "  width: 1em;\n",
       "  text-decoration: none !important;\n",
       "  margin-left: 0.5em;\n",
       "  text-align: center;\n",
       "  /* unfitted */\n",
       "  border: var(--sklearn-color-unfitted-level-1) 1pt solid;\n",
       "  color: var(--sklearn-color-unfitted-level-1);\n",
       "}\n",
       "\n",
       ".sk-estimator-doc-link.fitted,\n",
       "a:link.sk-estimator-doc-link.fitted,\n",
       "a:visited.sk-estimator-doc-link.fitted {\n",
       "  /* fitted */\n",
       "  border: var(--sklearn-color-fitted-level-1) 1pt solid;\n",
       "  color: var(--sklearn-color-fitted-level-1);\n",
       "}\n",
       "\n",
       "/* On hover */\n",
       "div.sk-estimator:hover .sk-estimator-doc-link:hover,\n",
       ".sk-estimator-doc-link:hover,\n",
       "div.sk-label-container:hover .sk-estimator-doc-link:hover,\n",
       ".sk-estimator-doc-link:hover {\n",
       "  /* unfitted */\n",
       "  background-color: var(--sklearn-color-unfitted-level-3);\n",
       "  color: var(--sklearn-color-background);\n",
       "  text-decoration: none;\n",
       "}\n",
       "\n",
       "div.sk-estimator.fitted:hover .sk-estimator-doc-link.fitted:hover,\n",
       ".sk-estimator-doc-link.fitted:hover,\n",
       "div.sk-label-container:hover .sk-estimator-doc-link.fitted:hover,\n",
       ".sk-estimator-doc-link.fitted:hover {\n",
       "  /* fitted */\n",
       "  background-color: var(--sklearn-color-fitted-level-3);\n",
       "  color: var(--sklearn-color-background);\n",
       "  text-decoration: none;\n",
       "}\n",
       "\n",
       "/* Span, style for the box shown on hovering the info icon */\n",
       ".sk-estimator-doc-link span {\n",
       "  display: none;\n",
       "  z-index: 9999;\n",
       "  position: relative;\n",
       "  font-weight: normal;\n",
       "  right: .2ex;\n",
       "  padding: .5ex;\n",
       "  margin: .5ex;\n",
       "  width: min-content;\n",
       "  min-width: 20ex;\n",
       "  max-width: 50ex;\n",
       "  color: var(--sklearn-color-text);\n",
       "  box-shadow: 2pt 2pt 4pt #999;\n",
       "  /* unfitted */\n",
       "  background: var(--sklearn-color-unfitted-level-0);\n",
       "  border: .5pt solid var(--sklearn-color-unfitted-level-3);\n",
       "}\n",
       "\n",
       ".sk-estimator-doc-link.fitted span {\n",
       "  /* fitted */\n",
       "  background: var(--sklearn-color-fitted-level-0);\n",
       "  border: var(--sklearn-color-fitted-level-3);\n",
       "}\n",
       "\n",
       ".sk-estimator-doc-link:hover span {\n",
       "  display: block;\n",
       "}\n",
       "\n",
       "/* \"?\"-specific style due to the `<a>` HTML tag */\n",
       "\n",
<<<<<<< HEAD
       "#sk-container-id-3 a.estimator_doc_link {\n",
=======
<<<<<<< HEAD
<<<<<<< HEAD
<<<<<<< HEAD
       "#sk-container-id-3 a.estimator_doc_link {\n",
=======
       "#sk-container-id-8 a.estimator_doc_link {\n",
>>>>>>> 1d56431 (24-01-2025(previa))
=======
       "#sk-container-id-3 a.estimator_doc_link {\n",
>>>>>>> 2170714 (24-04-2025_Final)
=======
       "#sk-container-id-3 a.estimator_doc_link {\n",
>>>>>>> origin/main
>>>>>>> luiscargarcia/main
       "  float: right;\n",
       "  font-size: 1rem;\n",
       "  line-height: 1em;\n",
       "  font-family: monospace;\n",
       "  background-color: var(--sklearn-color-background);\n",
       "  border-radius: 1rem;\n",
       "  height: 1rem;\n",
       "  width: 1rem;\n",
       "  text-decoration: none;\n",
       "  /* unfitted */\n",
       "  color: var(--sklearn-color-unfitted-level-1);\n",
       "  border: var(--sklearn-color-unfitted-level-1) 1pt solid;\n",
       "}\n",
       "\n",
<<<<<<< HEAD
       "#sk-container-id-3 a.estimator_doc_link.fitted {\n",
=======
<<<<<<< HEAD
<<<<<<< HEAD
<<<<<<< HEAD
       "#sk-container-id-3 a.estimator_doc_link.fitted {\n",
=======
       "#sk-container-id-8 a.estimator_doc_link.fitted {\n",
>>>>>>> 1d56431 (24-01-2025(previa))
=======
       "#sk-container-id-3 a.estimator_doc_link.fitted {\n",
>>>>>>> 2170714 (24-04-2025_Final)
=======
       "#sk-container-id-3 a.estimator_doc_link.fitted {\n",
>>>>>>> origin/main
>>>>>>> luiscargarcia/main
       "  /* fitted */\n",
       "  border: var(--sklearn-color-fitted-level-1) 1pt solid;\n",
       "  color: var(--sklearn-color-fitted-level-1);\n",
       "}\n",
       "\n",
       "/* On hover */\n",
<<<<<<< HEAD
       "#sk-container-id-3 a.estimator_doc_link:hover {\n",
=======
<<<<<<< HEAD
<<<<<<< HEAD
<<<<<<< HEAD
       "#sk-container-id-3 a.estimator_doc_link:hover {\n",
=======
       "#sk-container-id-8 a.estimator_doc_link:hover {\n",
>>>>>>> 1d56431 (24-01-2025(previa))
=======
       "#sk-container-id-3 a.estimator_doc_link:hover {\n",
>>>>>>> 2170714 (24-04-2025_Final)
=======
       "#sk-container-id-3 a.estimator_doc_link:hover {\n",
>>>>>>> origin/main
>>>>>>> luiscargarcia/main
       "  /* unfitted */\n",
       "  background-color: var(--sklearn-color-unfitted-level-3);\n",
       "  color: var(--sklearn-color-background);\n",
       "  text-decoration: none;\n",
       "}\n",
       "\n",
<<<<<<< HEAD
=======
<<<<<<< HEAD
<<<<<<< HEAD
<<<<<<< HEAD
=======
>>>>>>> origin/main
>>>>>>> luiscargarcia/main
       "#sk-container-id-3 a.estimator_doc_link.fitted:hover {\n",
       "  /* fitted */\n",
       "  background-color: var(--sklearn-color-fitted-level-3);\n",
       "}\n",
       "</style><div id=\"sk-container-id-3\" class=\"sk-top-container\"><div class=\"sk-text-repr-fallback\"><pre>LogisticRegression()</pre><b>In a Jupyter environment, please rerun this cell to show the HTML representation or trust the notebook. <br />On GitHub, the HTML representation is unable to render, please try loading this page with nbviewer.org.</b></div><div class=\"sk-container\" hidden><div class=\"sk-item\"><div class=\"sk-estimator fitted sk-toggleable\"><input class=\"sk-toggleable__control sk-hidden--visually\" id=\"sk-estimator-id-3\" type=\"checkbox\" checked><label for=\"sk-estimator-id-3\" class=\"sk-toggleable__label fitted sk-toggleable__label-arrow\"><div><div>LogisticRegression</div></div><div><a class=\"sk-estimator-doc-link fitted\" rel=\"noreferrer\" target=\"_blank\" href=\"https://scikit-learn.org/1.6/modules/generated/sklearn.linear_model.LogisticRegression.html\">?<span>Documentation for LogisticRegression</span></a><span class=\"sk-estimator-doc-link fitted\">i<span>Fitted</span></span></div></label><div class=\"sk-toggleable__content fitted\"><pre>LogisticRegression()</pre></div> </div></div></div></div>"
<<<<<<< HEAD
=======
<<<<<<< HEAD
=======
       "#sk-container-id-8 a.estimator_doc_link.fitted:hover {\n",
       "  /* fitted */\n",
       "  background-color: var(--sklearn-color-fitted-level-3);\n",
       "}\n",
       "</style><div id=\"sk-container-id-8\" class=\"sk-top-container\"><div class=\"sk-text-repr-fallback\"><pre>LogisticRegression()</pre><b>In a Jupyter environment, please rerun this cell to show the HTML representation or trust the notebook. <br />On GitHub, the HTML representation is unable to render, please try loading this page with nbviewer.org.</b></div><div class=\"sk-container\" hidden><div class=\"sk-item\"><div class=\"sk-estimator fitted sk-toggleable\"><input class=\"sk-toggleable__control sk-hidden--visually\" id=\"sk-estimator-id-8\" type=\"checkbox\" checked><label for=\"sk-estimator-id-8\" class=\"sk-toggleable__label fitted sk-toggleable__label-arrow\"><div><div>LogisticRegression</div></div><div><a class=\"sk-estimator-doc-link fitted\" rel=\"noreferrer\" target=\"_blank\" href=\"https://scikit-learn.org/1.6/modules/generated/sklearn.linear_model.LogisticRegression.html\">?<span>Documentation for LogisticRegression</span></a><span class=\"sk-estimator-doc-link fitted\">i<span>Fitted</span></span></div></label><div class=\"sk-toggleable__content fitted\"><pre>LogisticRegression()</pre></div> </div></div></div></div>"
>>>>>>> 1d56431 (24-01-2025(previa))
=======
       "#sk-container-id-3 a.estimator_doc_link.fitted:hover {\n",
       "  /* fitted */\n",
       "  background-color: var(--sklearn-color-fitted-level-3);\n",
       "}\n",
       "</style><div id=\"sk-container-id-3\" class=\"sk-top-container\"><div class=\"sk-text-repr-fallback\"><pre>LogisticRegression()</pre><b>In a Jupyter environment, please rerun this cell to show the HTML representation or trust the notebook. <br />On GitHub, the HTML representation is unable to render, please try loading this page with nbviewer.org.</b></div><div class=\"sk-container\" hidden><div class=\"sk-item\"><div class=\"sk-estimator fitted sk-toggleable\"><input class=\"sk-toggleable__control sk-hidden--visually\" id=\"sk-estimator-id-3\" type=\"checkbox\" checked><label for=\"sk-estimator-id-3\" class=\"sk-toggleable__label fitted sk-toggleable__label-arrow\"><div><div>LogisticRegression</div></div><div><a class=\"sk-estimator-doc-link fitted\" rel=\"noreferrer\" target=\"_blank\" href=\"https://scikit-learn.org/1.6/modules/generated/sklearn.linear_model.LogisticRegression.html\">?<span>Documentation for LogisticRegression</span></a><span class=\"sk-estimator-doc-link fitted\">i<span>Fitted</span></span></div></label><div class=\"sk-toggleable__content fitted\"><pre>LogisticRegression()</pre></div> </div></div></div></div>"
>>>>>>> 2170714 (24-04-2025_Final)
=======
>>>>>>> origin/main
>>>>>>> luiscargarcia/main
      ],
      "text/plain": [
       "LogisticRegression()"
      ]
     },
<<<<<<< HEAD
     "execution_count": 46,
=======
<<<<<<< HEAD
<<<<<<< HEAD
<<<<<<< HEAD
     "execution_count": 46,
=======
     "execution_count": 135,
>>>>>>> 1d56431 (24-01-2025(previa))
=======
     "execution_count": 46,
>>>>>>> 2170714 (24-04-2025_Final)
=======
     "execution_count": 46,
>>>>>>> origin/main
>>>>>>> luiscargarcia/main
     "metadata": {},
     "output_type": "execute_result"
    }
   ],
   "source": [
    "model = linear_model.LogisticRegression()\n",
<<<<<<< HEAD
    "model.fit(x,y)"
=======
<<<<<<< HEAD
<<<<<<< HEAD
<<<<<<< HEAD
    "model.fit(x,y)"
=======
    "model.fit(X,y)"
>>>>>>> 1d56431 (24-01-2025(previa))
=======
    "model.fit(x,y)"
>>>>>>> 2170714 (24-04-2025_Final)
=======
    "model.fit(x,y)"
>>>>>>> origin/main
>>>>>>> luiscargarcia/main
   ]
  },
  {
   "cell_type": "code",
<<<<<<< HEAD
=======
<<<<<<< HEAD
<<<<<<< HEAD
<<<<<<< HEAD
=======
>>>>>>> origin/main
>>>>>>> luiscargarcia/main
   "execution_count": 47,
   "metadata": {},
   "outputs": [
    {
     "data": {
      "text/html": [
       "<div>\n",
       "<style scoped>\n",
       "    .dataframe tbody tr th:only-of-type {\n",
       "        vertical-align: middle;\n",
       "    }\n",
       "\n",
       "    .dataframe tbody tr th {\n",
       "        vertical-align: top;\n",
       "    }\n",
       "\n",
       "    .dataframe thead th {\n",
       "        text-align: right;\n",
       "    }\n",
       "</style>\n",
       "<table border=\"1\" class=\"dataframe\">\n",
       "  <thead>\n",
       "    <tr style=\"text-align: right;\">\n",
       "      <th></th>\n",
       "      <th>PassengerId</th>\n",
       "      <th>Pclass</th>\n",
       "      <th>Sex</th>\n",
       "      <th>Age</th>\n",
       "      <th>SibSp</th>\n",
       "      <th>Parch</th>\n",
       "      <th>Fare</th>\n",
       "      <th>Embarked</th>\n",
       "      <th>Survived</th>\n",
       "    </tr>\n",
       "  </thead>\n",
       "  <tbody>\n",
       "    <tr>\n",
       "      <th>0</th>\n",
       "      <td>892</td>\n",
       "      <td>3</td>\n",
       "      <td>1</td>\n",
       "      <td>345</td>\n",
       "      <td>0</td>\n",
       "      <td>0</td>\n",
       "      <td>78292</td>\n",
       "      <td>2</td>\n",
       "      <td>NaN</td>\n",
       "    </tr>\n",
       "    <tr>\n",
       "      <th>1</th>\n",
       "      <td>893</td>\n",
       "      <td>3</td>\n",
       "      <td>2</td>\n",
       "      <td>47</td>\n",
       "      <td>1</td>\n",
       "      <td>0</td>\n",
       "      <td>7</td>\n",
       "      <td>3</td>\n",
       "      <td>NaN</td>\n",
       "    </tr>\n",
       "    <tr>\n",
       "      <th>2</th>\n",
       "      <td>894</td>\n",
       "      <td>2</td>\n",
       "      <td>1</td>\n",
       "      <td>62</td>\n",
       "      <td>0</td>\n",
       "      <td>0</td>\n",
       "      <td>96875</td>\n",
       "      <td>2</td>\n",
       "      <td>NaN</td>\n",
       "    </tr>\n",
       "    <tr>\n",
       "      <th>3</th>\n",
       "      <td>895</td>\n",
       "      <td>3</td>\n",
       "      <td>1</td>\n",
       "      <td>27</td>\n",
       "      <td>0</td>\n",
       "      <td>0</td>\n",
       "      <td>86625</td>\n",
       "      <td>3</td>\n",
       "      <td>NaN</td>\n",
       "    </tr>\n",
       "    <tr>\n",
       "      <th>4</th>\n",
       "      <td>896</td>\n",
       "      <td>3</td>\n",
       "      <td>2</td>\n",
       "      <td>22</td>\n",
       "      <td>1</td>\n",
       "      <td>1</td>\n",
       "      <td>122875</td>\n",
       "      <td>3</td>\n",
       "      <td>NaN</td>\n",
       "    </tr>\n",
       "    <tr>\n",
       "      <th>5</th>\n",
       "      <td>897</td>\n",
       "      <td>3</td>\n",
       "      <td>1</td>\n",
       "      <td>14</td>\n",
       "      <td>0</td>\n",
       "      <td>0</td>\n",
       "      <td>9225</td>\n",
       "      <td>3</td>\n",
       "      <td>NaN</td>\n",
       "    </tr>\n",
       "    <tr>\n",
       "      <th>6</th>\n",
       "      <td>898</td>\n",
       "      <td>3</td>\n",
       "      <td>2</td>\n",
       "      <td>30</td>\n",
       "      <td>0</td>\n",
       "      <td>0</td>\n",
       "      <td>76292</td>\n",
       "      <td>2</td>\n",
       "      <td>NaN</td>\n",
       "    </tr>\n",
       "    <tr>\n",
       "      <th>7</th>\n",
       "      <td>899</td>\n",
       "      <td>2</td>\n",
       "      <td>1</td>\n",
       "      <td>26</td>\n",
       "      <td>1</td>\n",
       "      <td>1</td>\n",
       "      <td>29</td>\n",
       "      <td>3</td>\n",
       "      <td>NaN</td>\n",
       "    </tr>\n",
       "    <tr>\n",
       "      <th>8</th>\n",
       "      <td>900</td>\n",
       "      <td>3</td>\n",
       "      <td>2</td>\n",
       "      <td>18</td>\n",
       "      <td>0</td>\n",
       "      <td>0</td>\n",
       "      <td>72292</td>\n",
       "      <td>1</td>\n",
       "      <td>NaN</td>\n",
       "    </tr>\n",
       "    <tr>\n",
       "      <th>9</th>\n",
       "      <td>901</td>\n",
       "      <td>3</td>\n",
       "      <td>1</td>\n",
       "      <td>21</td>\n",
       "      <td>2</td>\n",
       "      <td>0</td>\n",
       "      <td>2415</td>\n",
       "      <td>3</td>\n",
       "      <td>NaN</td>\n",
       "    </tr>\n",
       "    <tr>\n",
       "      <th>10</th>\n",
       "      <td>902</td>\n",
       "      <td>3</td>\n",
       "      <td>1</td>\n",
       "      <td>38</td>\n",
       "      <td>0</td>\n",
       "      <td>0</td>\n",
       "      <td>78958</td>\n",
       "      <td>3</td>\n",
       "      <td>NaN</td>\n",
       "    </tr>\n",
       "    <tr>\n",
       "      <th>11</th>\n",
       "      <td>903</td>\n",
       "      <td>1</td>\n",
       "      <td>1</td>\n",
       "      <td>46</td>\n",
       "      <td>0</td>\n",
       "      <td>0</td>\n",
       "      <td>26</td>\n",
       "      <td>3</td>\n",
       "      <td>NaN</td>\n",
       "    </tr>\n",
       "    <tr>\n",
       "      <th>12</th>\n",
       "      <td>904</td>\n",
       "      <td>1</td>\n",
       "      <td>2</td>\n",
       "      <td>23</td>\n",
       "      <td>1</td>\n",
       "      <td>0</td>\n",
       "      <td>822667</td>\n",
       "      <td>3</td>\n",
       "      <td>NaN</td>\n",
       "    </tr>\n",
       "    <tr>\n",
       "      <th>13</th>\n",
       "      <td>905</td>\n",
       "      <td>2</td>\n",
       "      <td>1</td>\n",
       "      <td>63</td>\n",
       "      <td>1</td>\n",
       "      <td>0</td>\n",
       "      <td>26</td>\n",
       "      <td>3</td>\n",
       "      <td>NaN</td>\n",
       "    </tr>\n",
       "    <tr>\n",
       "      <th>14</th>\n",
       "      <td>906</td>\n",
       "      <td>1</td>\n",
       "      <td>2</td>\n",
       "      <td>47</td>\n",
       "      <td>1</td>\n",
       "      <td>0</td>\n",
       "      <td>61175</td>\n",
       "      <td>3</td>\n",
       "      <td>NaN</td>\n",
       "    </tr>\n",
       "    <tr>\n",
       "      <th>15</th>\n",
       "      <td>907</td>\n",
       "      <td>2</td>\n",
       "      <td>2</td>\n",
       "      <td>24</td>\n",
       "      <td>1</td>\n",
       "      <td>0</td>\n",
       "      <td>277208</td>\n",
       "      <td>1</td>\n",
       "      <td>NaN</td>\n",
       "    </tr>\n",
       "    <tr>\n",
       "      <th>16</th>\n",
       "      <td>908</td>\n",
       "      <td>2</td>\n",
       "      <td>1</td>\n",
       "      <td>35</td>\n",
       "      <td>0</td>\n",
       "      <td>0</td>\n",
       "      <td>1235</td>\n",
       "      <td>2</td>\n",
       "      <td>NaN</td>\n",
       "    </tr>\n",
       "    <tr>\n",
       "      <th>17</th>\n",
       "      <td>909</td>\n",
       "      <td>3</td>\n",
       "      <td>1</td>\n",
       "      <td>21</td>\n",
       "      <td>0</td>\n",
       "      <td>0</td>\n",
       "      <td>7225</td>\n",
       "      <td>1</td>\n",
       "      <td>NaN</td>\n",
       "    </tr>\n",
       "    <tr>\n",
       "      <th>18</th>\n",
       "      <td>910</td>\n",
       "      <td>3</td>\n",
       "      <td>2</td>\n",
       "      <td>27</td>\n",
       "      <td>1</td>\n",
       "      <td>0</td>\n",
       "      <td>7925</td>\n",
       "      <td>3</td>\n",
       "      <td>NaN</td>\n",
       "    </tr>\n",
       "    <tr>\n",
       "      <th>19</th>\n",
       "      <td>911</td>\n",
       "      <td>3</td>\n",
       "      <td>2</td>\n",
       "      <td>45</td>\n",
       "      <td>0</td>\n",
       "      <td>0</td>\n",
       "      <td>7225</td>\n",
       "      <td>1</td>\n",
       "      <td>NaN</td>\n",
       "    </tr>\n",
       "  </tbody>\n",
       "</table>\n",
       "</div>"
      ],
      "text/plain": [
       "    PassengerId  Pclass  Sex  Age  SibSp  Parch    Fare  Embarked  Survived\n",
       "0           892       3    1  345      0      0   78292         2       NaN\n",
       "1           893       3    2   47      1      0       7         3       NaN\n",
       "2           894       2    1   62      0      0   96875         2       NaN\n",
       "3           895       3    1   27      0      0   86625         3       NaN\n",
       "4           896       3    2   22      1      1  122875         3       NaN\n",
       "5           897       3    1   14      0      0    9225         3       NaN\n",
       "6           898       3    2   30      0      0   76292         2       NaN\n",
       "7           899       2    1   26      1      1      29         3       NaN\n",
       "8           900       3    2   18      0      0   72292         1       NaN\n",
       "9           901       3    1   21      2      0    2415         3       NaN\n",
       "10          902       3    1   38      0      0   78958         3       NaN\n",
       "11          903       1    1   46      0      0      26         3       NaN\n",
       "12          904       1    2   23      1      0  822667         3       NaN\n",
       "13          905       2    1   63      1      0      26         3       NaN\n",
       "14          906       1    2   47      1      0   61175         3       NaN\n",
       "15          907       2    2   24      1      0  277208         1       NaN\n",
       "16          908       2    1   35      0      0    1235         2       NaN\n",
       "17          909       3    1   21      0      0    7225         1       NaN\n",
       "18          910       3    2   27      1      0    7925         3       NaN\n",
       "19          911       3    2   45      0      0    7225         1       NaN"
      ]
     },
     "execution_count": 47,
     "metadata": {},
     "output_type": "execute_result"
    }
   ],
   "source": [
    "dataframe2 = pd.read_csv(\"./datasets/test2.csv\")\n",
    "dataframe2.head(20)\n"
   ]
  },
  {
   "cell_type": "code",
   "execution_count": 48,
   "metadata": {},
   "outputs": [
    {
     "data": {
      "text/html": [
       "<div>\n",
       "<style scoped>\n",
       "    .dataframe tbody tr th:only-of-type {\n",
       "        vertical-align: middle;\n",
       "    }\n",
       "\n",
       "    .dataframe tbody tr th {\n",
       "        vertical-align: top;\n",
       "    }\n",
       "\n",
       "    .dataframe thead th {\n",
       "        text-align: right;\n",
       "    }\n",
       "</style>\n",
       "<table border=\"1\" class=\"dataframe\">\n",
       "  <thead>\n",
       "    <tr style=\"text-align: right;\">\n",
       "      <th></th>\n",
       "      <th>PassengerId</th>\n",
       "      <th>Survived</th>\n",
       "    </tr>\n",
       "  </thead>\n",
       "  <tbody>\n",
       "    <tr>\n",
       "      <th>0</th>\n",
       "      <td>892</td>\n",
       "      <td>0</td>\n",
       "    </tr>\n",
       "    <tr>\n",
       "      <th>1</th>\n",
       "      <td>893</td>\n",
       "      <td>1</td>\n",
       "    </tr>\n",
       "    <tr>\n",
       "      <th>2</th>\n",
       "      <td>894</td>\n",
       "      <td>0</td>\n",
       "    </tr>\n",
       "    <tr>\n",
       "      <th>3</th>\n",
       "      <td>895</td>\n",
       "      <td>0</td>\n",
       "    </tr>\n",
       "    <tr>\n",
       "      <th>4</th>\n",
       "      <td>896</td>\n",
       "      <td>1</td>\n",
       "    </tr>\n",
       "    <tr>\n",
       "      <th>5</th>\n",
       "      <td>897</td>\n",
       "      <td>0</td>\n",
       "    </tr>\n",
       "    <tr>\n",
       "      <th>6</th>\n",
       "      <td>898</td>\n",
       "      <td>1</td>\n",
       "    </tr>\n",
       "    <tr>\n",
       "      <th>7</th>\n",
       "      <td>899</td>\n",
       "      <td>0</td>\n",
       "    </tr>\n",
       "    <tr>\n",
       "      <th>8</th>\n",
       "      <td>900</td>\n",
       "      <td>1</td>\n",
       "    </tr>\n",
       "    <tr>\n",
       "      <th>9</th>\n",
       "      <td>901</td>\n",
       "      <td>0</td>\n",
       "    </tr>\n",
       "    <tr>\n",
       "      <th>10</th>\n",
       "      <td>902</td>\n",
       "      <td>0</td>\n",
       "    </tr>\n",
       "    <tr>\n",
       "      <th>11</th>\n",
       "      <td>903</td>\n",
       "      <td>0</td>\n",
       "    </tr>\n",
       "    <tr>\n",
       "      <th>12</th>\n",
       "      <td>904</td>\n",
       "      <td>1</td>\n",
       "    </tr>\n",
       "    <tr>\n",
       "      <th>13</th>\n",
       "      <td>905</td>\n",
       "      <td>0</td>\n",
       "    </tr>\n",
       "    <tr>\n",
       "      <th>14</th>\n",
       "      <td>906</td>\n",
       "      <td>1</td>\n",
       "    </tr>\n",
       "    <tr>\n",
       "      <th>15</th>\n",
       "      <td>907</td>\n",
       "      <td>1</td>\n",
       "    </tr>\n",
       "    <tr>\n",
       "      <th>16</th>\n",
       "      <td>908</td>\n",
       "      <td>0</td>\n",
       "    </tr>\n",
       "    <tr>\n",
       "      <th>17</th>\n",
       "      <td>909</td>\n",
       "      <td>0</td>\n",
       "    </tr>\n",
       "    <tr>\n",
       "      <th>18</th>\n",
       "      <td>910</td>\n",
       "      <td>1</td>\n",
       "    </tr>\n",
       "    <tr>\n",
       "      <th>19</th>\n",
       "      <td>911</td>\n",
       "      <td>1</td>\n",
       "    </tr>\n",
       "  </tbody>\n",
       "</table>\n",
       "</div>"
      ],
      "text/plain": [
       "    PassengerId  Survived\n",
       "0           892         0\n",
       "1           893         1\n",
       "2           894         0\n",
       "3           895         0\n",
       "4           896         1\n",
       "5           897         0\n",
       "6           898         1\n",
       "7           899         0\n",
       "8           900         1\n",
       "9           901         0\n",
       "10          902         0\n",
       "11          903         0\n",
       "12          904         1\n",
       "13          905         0\n",
       "14          906         1\n",
       "15          907         1\n",
       "16          908         0\n",
       "17          909         0\n",
       "18          910         1\n",
       "19          911         1"
      ]
     },
     "execution_count": 48,
     "metadata": {},
     "output_type": "execute_result"
    }
   ],
   "source": [
    "dataframe3 = pd.read_csv('datasets/gender_submission.csv')\n",
    "dataframe3.head(20)"
   ]
  },
  {
   "cell_type": "code",
   "execution_count": 49,
   "metadata": {},
   "outputs": [
    {
     "data": {
      "text/plain": [
       "(418, 8)"
      ]
     },
     "execution_count": 49,
     "metadata": {},
     "output_type": "execute_result"
    }
   ],
   "source": [
    "x_test = np.array(dataframe2.drop(['Survived'],axis=1))\n",
    "y_test = np.array(dataframe3['Survived'])\n",
    "x_test.shape"
   ]
  },
  {
   "cell_type": "code",
   "execution_count": 50,
   "metadata": {},
   "outputs": [
    {
     "data": {
      "text/plain": [
       "(418,)"
      ]
     },
     "execution_count": 50,
     "metadata": {},
     "output_type": "execute_result"
    }
   ],
   "source": [
    "y_test.shape"
<<<<<<< HEAD
=======
<<<<<<< HEAD
=======
   "execution_count": 136,
=======
   "execution_count": 47,
>>>>>>> 2170714 (24-04-2025_Final)
   "metadata": {},
   "outputs": [
    {
     "data": {
      "text/html": [
       "<div>\n",
       "<style scoped>\n",
       "    .dataframe tbody tr th:only-of-type {\n",
       "        vertical-align: middle;\n",
       "    }\n",
       "\n",
       "    .dataframe tbody tr th {\n",
       "        vertical-align: top;\n",
       "    }\n",
       "\n",
       "    .dataframe thead th {\n",
       "        text-align: right;\n",
       "    }\n",
       "</style>\n",
       "<table border=\"1\" class=\"dataframe\">\n",
       "  <thead>\n",
       "    <tr style=\"text-align: right;\">\n",
       "      <th></th>\n",
       "      <th>PassengerId</th>\n",
       "      <th>Pclass</th>\n",
       "      <th>Sex</th>\n",
       "      <th>Age</th>\n",
       "      <th>SibSp</th>\n",
       "      <th>Parch</th>\n",
       "      <th>Fare</th>\n",
       "      <th>Embarked</th>\n",
       "      <th>Survived</th>\n",
       "    </tr>\n",
       "  </thead>\n",
       "  <tbody>\n",
       "    <tr>\n",
       "      <th>0</th>\n",
       "      <td>892</td>\n",
       "      <td>3</td>\n",
       "      <td>1</td>\n",
       "      <td>345</td>\n",
       "      <td>0</td>\n",
       "      <td>0</td>\n",
       "      <td>78292</td>\n",
       "      <td>2</td>\n",
       "      <td>NaN</td>\n",
       "    </tr>\n",
       "    <tr>\n",
       "      <th>1</th>\n",
       "      <td>893</td>\n",
       "      <td>3</td>\n",
       "      <td>2</td>\n",
       "      <td>47</td>\n",
       "      <td>1</td>\n",
       "      <td>0</td>\n",
       "      <td>7</td>\n",
       "      <td>3</td>\n",
       "      <td>NaN</td>\n",
       "    </tr>\n",
       "    <tr>\n",
       "      <th>2</th>\n",
       "      <td>894</td>\n",
       "      <td>2</td>\n",
       "      <td>1</td>\n",
       "      <td>62</td>\n",
       "      <td>0</td>\n",
       "      <td>0</td>\n",
       "      <td>96875</td>\n",
       "      <td>2</td>\n",
       "      <td>NaN</td>\n",
       "    </tr>\n",
       "    <tr>\n",
       "      <th>3</th>\n",
       "      <td>895</td>\n",
       "      <td>3</td>\n",
       "      <td>1</td>\n",
       "      <td>27</td>\n",
       "      <td>0</td>\n",
       "      <td>0</td>\n",
       "      <td>86625</td>\n",
       "      <td>3</td>\n",
       "      <td>NaN</td>\n",
       "    </tr>\n",
       "    <tr>\n",
       "      <th>4</th>\n",
       "      <td>896</td>\n",
       "      <td>3</td>\n",
       "      <td>2</td>\n",
       "      <td>22</td>\n",
       "      <td>1</td>\n",
       "      <td>1</td>\n",
       "      <td>122875</td>\n",
       "      <td>3</td>\n",
       "      <td>NaN</td>\n",
       "    </tr>\n",
       "    <tr>\n",
       "      <th>5</th>\n",
       "      <td>897</td>\n",
       "      <td>3</td>\n",
       "      <td>1</td>\n",
       "      <td>14</td>\n",
       "      <td>0</td>\n",
       "      <td>0</td>\n",
       "      <td>9225</td>\n",
       "      <td>3</td>\n",
       "      <td>NaN</td>\n",
       "    </tr>\n",
       "    <tr>\n",
       "      <th>6</th>\n",
       "      <td>898</td>\n",
       "      <td>3</td>\n",
       "      <td>2</td>\n",
       "      <td>30</td>\n",
       "      <td>0</td>\n",
       "      <td>0</td>\n",
       "      <td>76292</td>\n",
       "      <td>2</td>\n",
       "      <td>NaN</td>\n",
       "    </tr>\n",
       "    <tr>\n",
       "      <th>7</th>\n",
       "      <td>899</td>\n",
       "      <td>2</td>\n",
       "      <td>1</td>\n",
       "      <td>26</td>\n",
       "      <td>1</td>\n",
       "      <td>1</td>\n",
       "      <td>29</td>\n",
       "      <td>3</td>\n",
       "      <td>NaN</td>\n",
       "    </tr>\n",
       "    <tr>\n",
       "      <th>8</th>\n",
       "      <td>900</td>\n",
       "      <td>3</td>\n",
       "      <td>2</td>\n",
       "      <td>18</td>\n",
       "      <td>0</td>\n",
       "      <td>0</td>\n",
       "      <td>72292</td>\n",
       "      <td>1</td>\n",
       "      <td>NaN</td>\n",
       "    </tr>\n",
       "    <tr>\n",
       "      <th>9</th>\n",
       "      <td>901</td>\n",
       "      <td>3</td>\n",
       "      <td>1</td>\n",
       "      <td>21</td>\n",
       "      <td>2</td>\n",
       "      <td>0</td>\n",
       "      <td>2415</td>\n",
       "      <td>3</td>\n",
       "      <td>NaN</td>\n",
       "    </tr>\n",
       "    <tr>\n",
       "      <th>10</th>\n",
       "      <td>902</td>\n",
       "      <td>3</td>\n",
       "      <td>1</td>\n",
       "      <td>38</td>\n",
       "      <td>0</td>\n",
       "      <td>0</td>\n",
       "      <td>78958</td>\n",
       "      <td>3</td>\n",
       "      <td>NaN</td>\n",
       "    </tr>\n",
       "    <tr>\n",
       "      <th>11</th>\n",
       "      <td>903</td>\n",
       "      <td>1</td>\n",
       "      <td>1</td>\n",
       "      <td>46</td>\n",
       "      <td>0</td>\n",
       "      <td>0</td>\n",
       "      <td>26</td>\n",
       "      <td>3</td>\n",
       "      <td>NaN</td>\n",
       "    </tr>\n",
       "    <tr>\n",
       "      <th>12</th>\n",
       "      <td>904</td>\n",
       "      <td>1</td>\n",
       "      <td>2</td>\n",
       "      <td>23</td>\n",
       "      <td>1</td>\n",
       "      <td>0</td>\n",
       "      <td>822667</td>\n",
       "      <td>3</td>\n",
       "      <td>NaN</td>\n",
       "    </tr>\n",
       "    <tr>\n",
       "      <th>13</th>\n",
       "      <td>905</td>\n",
       "      <td>2</td>\n",
       "      <td>1</td>\n",
       "      <td>63</td>\n",
       "      <td>1</td>\n",
       "      <td>0</td>\n",
       "      <td>26</td>\n",
       "      <td>3</td>\n",
       "      <td>NaN</td>\n",
       "    </tr>\n",
       "    <tr>\n",
       "      <th>14</th>\n",
       "      <td>906</td>\n",
       "      <td>1</td>\n",
       "      <td>2</td>\n",
       "      <td>47</td>\n",
       "      <td>1</td>\n",
       "      <td>0</td>\n",
       "      <td>61175</td>\n",
       "      <td>3</td>\n",
       "      <td>NaN</td>\n",
       "    </tr>\n",
       "    <tr>\n",
       "      <th>15</th>\n",
       "      <td>907</td>\n",
       "      <td>2</td>\n",
       "      <td>2</td>\n",
       "      <td>24</td>\n",
       "      <td>1</td>\n",
       "      <td>0</td>\n",
       "      <td>277208</td>\n",
       "      <td>1</td>\n",
       "      <td>NaN</td>\n",
       "    </tr>\n",
       "    <tr>\n",
       "      <th>16</th>\n",
       "      <td>908</td>\n",
       "      <td>2</td>\n",
       "      <td>1</td>\n",
       "      <td>35</td>\n",
       "      <td>0</td>\n",
       "      <td>0</td>\n",
       "      <td>1235</td>\n",
       "      <td>2</td>\n",
       "      <td>NaN</td>\n",
       "    </tr>\n",
       "    <tr>\n",
       "      <th>17</th>\n",
       "      <td>909</td>\n",
       "      <td>3</td>\n",
       "      <td>1</td>\n",
       "      <td>21</td>\n",
       "      <td>0</td>\n",
       "      <td>0</td>\n",
       "      <td>7225</td>\n",
       "      <td>1</td>\n",
       "      <td>NaN</td>\n",
       "    </tr>\n",
       "    <tr>\n",
       "      <th>18</th>\n",
       "      <td>910</td>\n",
       "      <td>3</td>\n",
       "      <td>2</td>\n",
       "      <td>27</td>\n",
       "      <td>1</td>\n",
       "      <td>0</td>\n",
       "      <td>7925</td>\n",
       "      <td>3</td>\n",
       "      <td>NaN</td>\n",
       "    </tr>\n",
       "    <tr>\n",
       "      <th>19</th>\n",
       "      <td>911</td>\n",
       "      <td>3</td>\n",
       "      <td>2</td>\n",
       "      <td>45</td>\n",
       "      <td>0</td>\n",
       "      <td>0</td>\n",
       "      <td>7225</td>\n",
       "      <td>1</td>\n",
       "      <td>NaN</td>\n",
       "    </tr>\n",
       "  </tbody>\n",
       "</table>\n",
       "</div>"
      ],
      "text/plain": [
       "    PassengerId  Pclass  Sex  Age  SibSp  Parch    Fare  Embarked  Survived\n",
       "0           892       3    1  345      0      0   78292         2       NaN\n",
       "1           893       3    2   47      1      0       7         3       NaN\n",
       "2           894       2    1   62      0      0   96875         2       NaN\n",
       "3           895       3    1   27      0      0   86625         3       NaN\n",
       "4           896       3    2   22      1      1  122875         3       NaN\n",
       "5           897       3    1   14      0      0    9225         3       NaN\n",
       "6           898       3    2   30      0      0   76292         2       NaN\n",
       "7           899       2    1   26      1      1      29         3       NaN\n",
       "8           900       3    2   18      0      0   72292         1       NaN\n",
       "9           901       3    1   21      2      0    2415         3       NaN\n",
       "10          902       3    1   38      0      0   78958         3       NaN\n",
       "11          903       1    1   46      0      0      26         3       NaN\n",
       "12          904       1    2   23      1      0  822667         3       NaN\n",
       "13          905       2    1   63      1      0      26         3       NaN\n",
       "14          906       1    2   47      1      0   61175         3       NaN\n",
       "15          907       2    2   24      1      0  277208         1       NaN\n",
       "16          908       2    1   35      0      0    1235         2       NaN\n",
       "17          909       3    1   21      0      0    7225         1       NaN\n",
       "18          910       3    2   27      1      0    7925         3       NaN\n",
       "19          911       3    2   45      0      0    7225         1       NaN"
      ]
     },
     "execution_count": 47,
     "metadata": {},
     "output_type": "execute_result"
    }
   ],
   "source": [
    "dataframe2 = pd.read_csv(\"./datasets/test2.csv\")\n",
    "dataframe2.head(20)\n"
   ]
  },
  {
   "cell_type": "code",
   "execution_count": 48,
   "metadata": {},
   "outputs": [
    {
     "data": {
      "text/html": [
       "<div>\n",
       "<style scoped>\n",
       "    .dataframe tbody tr th:only-of-type {\n",
       "        vertical-align: middle;\n",
       "    }\n",
       "\n",
       "    .dataframe tbody tr th {\n",
       "        vertical-align: top;\n",
       "    }\n",
       "\n",
       "    .dataframe thead th {\n",
       "        text-align: right;\n",
       "    }\n",
       "</style>\n",
       "<table border=\"1\" class=\"dataframe\">\n",
       "  <thead>\n",
       "    <tr style=\"text-align: right;\">\n",
       "      <th></th>\n",
       "      <th>PassengerId</th>\n",
       "      <th>Survived</th>\n",
       "    </tr>\n",
       "  </thead>\n",
       "  <tbody>\n",
       "    <tr>\n",
       "      <th>0</th>\n",
       "      <td>892</td>\n",
       "      <td>0</td>\n",
       "    </tr>\n",
       "    <tr>\n",
       "      <th>1</th>\n",
       "      <td>893</td>\n",
       "      <td>1</td>\n",
       "    </tr>\n",
       "    <tr>\n",
       "      <th>2</th>\n",
       "      <td>894</td>\n",
       "      <td>0</td>\n",
       "    </tr>\n",
       "    <tr>\n",
       "      <th>3</th>\n",
       "      <td>895</td>\n",
       "      <td>0</td>\n",
       "    </tr>\n",
       "    <tr>\n",
       "      <th>4</th>\n",
       "      <td>896</td>\n",
       "      <td>1</td>\n",
       "    </tr>\n",
       "    <tr>\n",
       "      <th>5</th>\n",
       "      <td>897</td>\n",
       "      <td>0</td>\n",
       "    </tr>\n",
       "    <tr>\n",
       "      <th>6</th>\n",
       "      <td>898</td>\n",
       "      <td>1</td>\n",
       "    </tr>\n",
       "    <tr>\n",
       "      <th>7</th>\n",
       "      <td>899</td>\n",
       "      <td>0</td>\n",
       "    </tr>\n",
       "    <tr>\n",
       "      <th>8</th>\n",
       "      <td>900</td>\n",
       "      <td>1</td>\n",
       "    </tr>\n",
       "    <tr>\n",
       "      <th>9</th>\n",
       "      <td>901</td>\n",
       "      <td>0</td>\n",
       "    </tr>\n",
       "    <tr>\n",
       "      <th>10</th>\n",
       "      <td>902</td>\n",
       "      <td>0</td>\n",
       "    </tr>\n",
       "    <tr>\n",
       "      <th>11</th>\n",
       "      <td>903</td>\n",
       "      <td>0</td>\n",
       "    </tr>\n",
       "    <tr>\n",
       "      <th>12</th>\n",
       "      <td>904</td>\n",
       "      <td>1</td>\n",
       "    </tr>\n",
       "    <tr>\n",
       "      <th>13</th>\n",
       "      <td>905</td>\n",
       "      <td>0</td>\n",
       "    </tr>\n",
       "    <tr>\n",
       "      <th>14</th>\n",
       "      <td>906</td>\n",
       "      <td>1</td>\n",
       "    </tr>\n",
       "    <tr>\n",
       "      <th>15</th>\n",
       "      <td>907</td>\n",
       "      <td>1</td>\n",
       "    </tr>\n",
       "    <tr>\n",
       "      <th>16</th>\n",
       "      <td>908</td>\n",
       "      <td>0</td>\n",
       "    </tr>\n",
       "    <tr>\n",
       "      <th>17</th>\n",
       "      <td>909</td>\n",
       "      <td>0</td>\n",
       "    </tr>\n",
       "    <tr>\n",
       "      <th>18</th>\n",
       "      <td>910</td>\n",
       "      <td>1</td>\n",
       "    </tr>\n",
       "    <tr>\n",
       "      <th>19</th>\n",
       "      <td>911</td>\n",
       "      <td>1</td>\n",
       "    </tr>\n",
       "  </tbody>\n",
       "</table>\n",
       "</div>"
      ],
      "text/plain": [
       "    PassengerId  Survived\n",
       "0           892         0\n",
       "1           893         1\n",
       "2           894         0\n",
       "3           895         0\n",
       "4           896         1\n",
       "5           897         0\n",
       "6           898         1\n",
       "7           899         0\n",
       "8           900         1\n",
       "9           901         0\n",
       "10          902         0\n",
       "11          903         0\n",
       "12          904         1\n",
       "13          905         0\n",
       "14          906         1\n",
       "15          907         1\n",
       "16          908         0\n",
       "17          909         0\n",
       "18          910         1\n",
       "19          911         1"
      ]
     },
     "execution_count": 48,
     "metadata": {},
     "output_type": "execute_result"
    }
   ],
   "source": [
    "dataframe3 = pd.read_csv('datasets/gender_submission.csv')\n",
<<<<<<< HEAD
    "y_test = np.array(dataframe3['Survived'])"
>>>>>>> 1d56431 (24-01-2025(previa))
=======
    "dataframe3.head(20)"
   ]
  },
  {
   "cell_type": "code",
   "execution_count": 49,
   "metadata": {},
   "outputs": [
    {
     "data": {
      "text/plain": [
       "(418, 8)"
      ]
     },
     "execution_count": 49,
     "metadata": {},
     "output_type": "execute_result"
    }
   ],
   "source": [
    "x_test = np.array(dataframe2.drop(['Survived'],axis=1))\n",
    "y_test = np.array(dataframe3['Survived'])\n",
    "x_test.shape"
   ]
  },
  {
   "cell_type": "code",
   "execution_count": 50,
   "metadata": {},
   "outputs": [
    {
     "data": {
      "text/plain": [
       "(418,)"
      ]
     },
     "execution_count": 50,
     "metadata": {},
     "output_type": "execute_result"
    }
   ],
   "source": [
    "y_test.shape"
>>>>>>> 2170714 (24-04-2025_Final)
=======
>>>>>>> origin/main
>>>>>>> luiscargarcia/main
   ]
  },
  {
   "cell_type": "markdown",
   "metadata": {
    "collapsed": false
   },
   "source": [
    "Lanzamos las predicciones y tomamos como muestra las 5 primeras"
   ]
  },
  {
   "cell_type": "code",
<<<<<<< HEAD
   "execution_count": 51,
=======
<<<<<<< HEAD
<<<<<<< HEAD
<<<<<<< HEAD
   "execution_count": 51,
=======
   "execution_count": 138,
>>>>>>> 1d56431 (24-01-2025(previa))
=======
   "execution_count": 51,
>>>>>>> 2170714 (24-04-2025_Final)
=======
   "execution_count": 51,
>>>>>>> origin/main
>>>>>>> luiscargarcia/main
   "metadata": {},
   "outputs": [
    {
     "data": {
      "text/plain": [
<<<<<<< HEAD
=======
<<<<<<< HEAD
<<<<<<< HEAD
<<<<<<< HEAD
=======
>>>>>>> origin/main
>>>>>>> luiscargarcia/main
       "(418, 1)"
      ]
     },
     "execution_count": 51,
<<<<<<< HEAD
=======
<<<<<<< HEAD
=======
       "array([0, 0, 0, 0, 0, 0, 0, 0, 1, 0, 0, 1, 1, 0, 1, 1, 1, 0, 0, 1, 1, 0,\n",
       "       1, 1, 1, 0, 1, 0, 1, 0, 0, 0, 0, 0, 1, 0, 0, 0, 0, 0, 1, 1, 0, 1,\n",
       "       1, 0, 1, 0, 1, 0, 1, 1, 1, 1, 1, 0, 0, 0, 0, 1, 0, 0, 0, 1, 1, 1,\n",
       "       1, 1, 1, 1, 0, 0, 0, 1, 1, 0, 0, 1, 0, 1, 1, 1, 1, 0, 1, 0, 1, 0,\n",
       "       0, 0, 0, 0, 1, 0, 1, 0, 1, 0, 0, 0, 1, 0, 0, 0, 1, 0, 0, 0, 0, 0,\n",
       "       1, 1, 1, 0, 1, 1, 0, 0, 1, 1, 1, 0, 1, 0, 0, 0, 0, 0, 0, 0, 0, 1,\n",
       "       1, 0, 0, 0, 0, 0, 0, 0, 0, 1, 1, 0, 1, 0, 1, 0, 1, 0, 1, 1, 0, 1,\n",
       "       0, 0, 1, 0, 1, 0, 1, 1, 1, 0, 0, 0, 1, 0, 1, 0, 0, 1, 0, 1, 0, 1,\n",
       "       1, 1, 1, 1, 1, 1, 1, 0, 1, 0, 1, 0, 0, 0, 0, 1, 0, 1, 1, 0, 1, 0,\n",
       "       1, 0, 1, 0, 1, 1, 1, 1, 1, 1, 1, 0, 0, 0, 1, 1, 0, 1, 1, 1, 1, 0,\n",
       "       1, 0, 1, 0, 1, 1, 0, 1, 0, 1, 1, 1, 0, 0, 1, 0, 1, 1, 1, 1, 1, 1,\n",
       "       1, 0, 0, 1, 1, 0, 1, 1, 1, 0, 1, 0, 0, 0, 0, 0, 1, 0, 0, 0, 1, 1,\n",
       "       1, 0, 1, 0, 0, 0, 1, 0, 1, 1, 1, 1, 1, 0, 1, 1, 1, 0, 1, 1, 1, 0,\n",
       "       0, 1, 1, 0, 1, 1, 1, 1, 0, 0, 1, 1, 1, 0, 0, 1, 1, 0, 1, 1, 1, 0,\n",
       "       1, 1, 0, 1, 0, 1, 1, 1, 1, 1, 0, 1, 0, 1, 1, 1, 1, 0, 1, 1, 1, 1,\n",
       "       1, 1, 1, 1, 0, 1, 1, 1, 1, 1, 1, 0, 1, 1, 0, 1, 1, 1, 1, 1, 1, 1,\n",
       "       1, 1, 1, 1, 1, 0, 1, 1, 0, 1, 1, 0, 1, 1, 1, 1, 1, 1, 1, 1, 1, 1,\n",
       "       1, 1, 1, 1, 1, 0, 1, 1, 1, 1, 1, 1, 0, 1, 1, 0, 1, 1, 1, 1, 0, 1,\n",
       "       1, 1, 0, 1, 1, 1, 1, 1, 1, 1, 1, 1, 1, 1, 1, 1, 1, 0, 1, 0, 0, 1])"
      ]
     },
     "execution_count": 138,
>>>>>>> 1d56431 (24-01-2025(previa))
=======
       "(418, 1)"
      ]
     },
     "execution_count": 51,
>>>>>>> 2170714 (24-04-2025_Final)
=======
>>>>>>> origin/main
>>>>>>> luiscargarcia/main
     "metadata": {},
     "output_type": "execute_result"
    }
   ],
   "source": [
<<<<<<< HEAD
    "x_job = np.array(dataframe3.drop(['Survived'],axis=1))\n",
    "y_job = np.array(dataframe3['Survived'])\n",
    "x_job.shape"
=======
<<<<<<< HEAD
<<<<<<< HEAD
<<<<<<< HEAD
    "x_job = np.array(dataframe3.drop(['Survived'],axis=1))\n",
    "y_job = np.array(dataframe3['Survived'])\n",
    "x_job.shape"
=======
    "y_predictions = model.predict(X_test)\n",
    "y_predictions"
>>>>>>> 1d56431 (24-01-2025(previa))
=======
    "x_job = np.array(dataframe3.drop(['Survived'],axis=1))\n",
    "y_job = np.array(dataframe3['Survived'])\n",
    "x_job.shape"
>>>>>>> 2170714 (24-04-2025_Final)
=======
    "x_job = np.array(dataframe3.drop(['Survived'],axis=1))\n",
    "y_job = np.array(dataframe3['Survived'])\n",
    "x_job.shape"
>>>>>>> origin/main
>>>>>>> luiscargarcia/main
   ]
  },
  {
   "cell_type": "code",
<<<<<<< HEAD
=======
<<<<<<< HEAD
<<<<<<< HEAD
<<<<<<< HEAD
=======
>>>>>>> 2170714 (24-04-2025_Final)
=======
>>>>>>> origin/main
>>>>>>> luiscargarcia/main
   "execution_count": 52,
   "metadata": {},
   "outputs": [
    {
     "name": "stdout",
     "output_type": "stream",
     "text": [
      "[0 0 0 0 0 0 0 0 1 0 0 1 1 0 1 1 1 0 0 1 1 0 1 1 1 0 1 0 1 0 0 0 0 0 1 0 0\n",
      " 0 0 0 1 1 0 1 1 0 1 0 1 0 1 1 1 1 1 0 0 0 0 1 0 0 0 1 1 1 1 1 1 1 0 0 0 1\n",
      " 1 0 0 1 0 1 1 1 1 0 1 0 1 0 0 0 0 0 1 0 1 0 1 0 0 0 1 0 0 0 1 0 0 0 0 0 1\n",
      " 1 1 0 1 1 0 0 1 1 1 0 1 0 0 0 0 0 0 0 0 1 1 0 0 0 0 0 0 0 0 1 1 0 1 0 1 0\n",
      " 1 0 1 1 0 1 0 0 1 0 1 0 1 1 1 0 0 0 1 0 1 0 0 1 0 1 0 1 1 1 1 1 1 1 1 0 1\n",
      " 0 1 0 0 0 0 1 0 1 1 0 1 0 1 0 1 0 1 1 1 1 1 1 1 0 0 0 1 1 0 1 1 1 1 0 1 0\n",
      " 1 0 1 1 0 1 0 1 1 1 0 0 1 0 1 1 1 1 1 1 1 0 0 1 1 0 1 1 1 0 1 0 0 0 0 0 1\n",
      " 0 0 0 1 1 1 0 1 0 0 0 1 0 1 1 1 1 1 0 1 1 1 0 1 1 1 0 0 1 1 0 1 1 1 1 0 0\n",
      " 1 1 1 0 0 1 1 0 1 1 1 0 1 1 0 1 0 1 1 1 1 1 0 1 0 1 1 1 1 0 1 1 1 1 1 1 1\n",
      " 1 0 1 1 1 1 1 1 0 1 1 0 1 1 1 1 1 1 1 1 1 1 1 1 0 1 1 0 1 1 0 1 1 1 1 1 1\n",
      " 1 1 1 1 1 1 1 1 1 0 1 1 1 1 1 1 0 1 1 0 1 1 1 1 0 1 1 1 0 1 1 1 1 1 1 1 1\n",
      " 1 1 1 1 1 1 0 1 0 0 1]\n"
     ]
    }
   ],
   "source": [
    "predictions_test = model.predict(x_test)\n",
    "print(predictions_test)"
   ]
  },
  {
   "cell_type": "code",
   "execution_count": 53,
   "metadata": {},
   "outputs": [
    {
     "data": {
      "text/plain": [
       "array([[   892,      3,      1, ...,      0,  78292,      2],\n",
       "       [   893,      3,      2, ...,      0,      7,      3],\n",
       "       [   894,      2,      1, ...,      0,  96875,      2],\n",
       "       ...,\n",
       "       [  1307,      3,      1, ...,      0,    725,      3],\n",
       "       [  1308,      3,      1, ...,      0,    805,      3],\n",
       "       [  1309,      3,      1, ...,      1, 223583,      1]])"
      ]
     },
     "execution_count": 53,
     "metadata": {},
     "output_type": "execute_result"
    }
   ],
   "source": [
    "x_test"
   ]
  },
  {
   "cell_type": "code",
   "execution_count": 54,
<<<<<<< HEAD
=======
<<<<<<< HEAD
<<<<<<< HEAD
=======
   "execution_count": 140,
>>>>>>> 1d56431 (24-01-2025(previa))
=======
>>>>>>> 2170714 (24-04-2025_Final)
=======
>>>>>>> origin/main
>>>>>>> luiscargarcia/main
   "metadata": {},
   "outputs": [
    {
     "data": {
      "text/plain": [
       "array([0, 1, 0, 0, 1, 0, 1, 0, 1, 0, 0, 0, 1, 0, 1, 1, 0, 0, 1, 1, 0, 0,\n",
       "       1, 0, 1, 0, 1, 0, 0, 0, 0, 0, 1, 1, 0, 0, 1, 1, 0, 0, 0, 0, 0, 1,\n",
       "       1, 0, 0, 0, 1, 1, 0, 0, 1, 1, 0, 0, 0, 0, 0, 1, 0, 0, 0, 1, 0, 1,\n",
       "       1, 0, 0, 1, 1, 0, 1, 0, 1, 0, 0, 1, 0, 1, 0, 0, 0, 0, 0, 0, 1, 1,\n",
       "       1, 0, 1, 0, 1, 0, 0, 0, 1, 0, 1, 0, 1, 0, 0, 0, 1, 0, 0, 0, 0, 0,\n",
       "       0, 1, 1, 1, 1, 0, 0, 1, 0, 1, 1, 0, 1, 0, 0, 1, 0, 1, 0, 0, 0, 0,\n",
       "       1, 0, 0, 0, 0, 0, 1, 0, 1, 1, 0, 0, 0, 0, 0, 0, 0, 0, 1, 0, 0, 1,\n",
       "       0, 0, 1, 1, 0, 1, 1, 0, 1, 0, 0, 1, 0, 0, 1, 1, 0, 0, 0, 0, 0, 1,\n",
       "       1, 0, 1, 1, 0, 0, 1, 0, 1, 0, 1, 0, 1, 0, 0, 0, 0, 0, 0, 0, 0, 1,\n",
       "       0, 1, 1, 0, 0, 1, 0, 0, 1, 0, 1, 0, 0, 0, 0, 1, 1, 0, 1, 0, 1, 0,\n",
       "       1, 0, 1, 0, 1, 1, 0, 1, 0, 0, 0, 1, 0, 0, 0, 0, 0, 0, 1, 1, 1, 1,\n",
       "       0, 0, 0, 0, 1, 0, 1, 1, 1, 0, 0, 0, 0, 0, 0, 0, 1, 0, 0, 0, 1, 1,\n",
       "       0, 0, 0, 0, 1, 0, 0, 0, 1, 1, 0, 1, 0, 0, 0, 0, 1, 0, 1, 1, 1, 0,\n",
       "       0, 0, 0, 0, 0, 1, 0, 0, 0, 0, 1, 0, 0, 0, 0, 0, 0, 0, 1, 1, 0, 0,\n",
       "       0, 1, 0, 0, 0, 1, 1, 1, 0, 0, 0, 0, 0, 0, 0, 0, 1, 0, 1, 0, 0, 0,\n",
       "       1, 0, 0, 1, 0, 0, 0, 0, 0, 0, 0, 0, 0, 1, 0, 1, 0, 1, 0, 1, 1, 0,\n",
       "       0, 0, 1, 0, 1, 0, 0, 1, 0, 1, 1, 0, 1, 1, 0, 1, 1, 0, 0, 1, 0, 0,\n",
       "       1, 1, 1, 0, 0, 0, 0, 0, 1, 1, 0, 1, 0, 0, 0, 0, 0, 1, 0, 0, 0, 1,\n",
       "       0, 1, 0, 0, 1, 0, 1, 0, 0, 0, 0, 0, 1, 1, 1, 1, 1, 0, 1, 0, 0, 0])"
      ]
     },
<<<<<<< HEAD
     "execution_count": 54,
=======
<<<<<<< HEAD
<<<<<<< HEAD
<<<<<<< HEAD
     "execution_count": 54,
=======
     "execution_count": 140,
>>>>>>> 1d56431 (24-01-2025(previa))
=======
     "execution_count": 54,
>>>>>>> 2170714 (24-04-2025_Final)
=======
     "execution_count": 54,
>>>>>>> origin/main
>>>>>>> luiscargarcia/main
     "metadata": {},
     "output_type": "execute_result"
    }
   ],
   "source": [
    "y_test"
   ]
  },
  {
   "cell_type": "code",
<<<<<<< HEAD
   "execution_count": 55,
=======
<<<<<<< HEAD
<<<<<<< HEAD
<<<<<<< HEAD
   "execution_count": 55,
=======
   "execution_count": 142,
>>>>>>> 1d56431 (24-01-2025(previa))
=======
   "execution_count": 55,
>>>>>>> 2170714 (24-04-2025_Final)
=======
   "execution_count": 55,
>>>>>>> origin/main
>>>>>>> luiscargarcia/main
   "metadata": {},
   "outputs": [
    {
     "data": {
      "text/plain": [
       "array([[140, 126],\n",
       "       [ 30, 122]])"
      ]
     },
<<<<<<< HEAD
     "execution_count": 55,
=======
<<<<<<< HEAD
<<<<<<< HEAD
<<<<<<< HEAD
     "execution_count": 55,
=======
     "execution_count": 142,
>>>>>>> 1d56431 (24-01-2025(previa))
=======
     "execution_count": 55,
>>>>>>> 2170714 (24-04-2025_Final)
=======
     "execution_count": 55,
>>>>>>> origin/main
>>>>>>> luiscargarcia/main
     "metadata": {},
     "output_type": "execute_result"
    }
   ],
   "source": [
    "from sklearn import metrics\n",
    "\n",
<<<<<<< HEAD
    "cnf_matrix = metrics.confusion_matrix(y_job, predictions_test)\n",
=======
<<<<<<< HEAD
<<<<<<< HEAD
<<<<<<< HEAD
    "cnf_matrix = metrics.confusion_matrix(y_job, predictions_test)\n",
=======
    "cnf_matrix = metrics.confusion_matrix(y_test, y_predictions)\n",
>>>>>>> 1d56431 (24-01-2025(previa))
=======
    "cnf_matrix = metrics.confusion_matrix(y_job, predictions_test)\n",
>>>>>>> 2170714 (24-04-2025_Final)
=======
    "cnf_matrix = metrics.confusion_matrix(y_job, predictions_test)\n",
>>>>>>> origin/main
>>>>>>> luiscargarcia/main
    "cnf_matrix"
   ]
  },
  {
   "cell_type": "markdown",
   "metadata": {},
   "source": [
    "## <a id='toc1_5_'></a>[Reporte de resultados](#toc0_)"
   ]
  },
  {
   "cell_type": "markdown",
   "metadata": {
    "collapsed": false
   },
   "source": [
    "Comprobamos, usando la función **score()**, la precisión media de las predicciones del modelo"
   ]
  },
  {
   "cell_type": "code",
<<<<<<< HEAD
   "execution_count": 56,
=======
<<<<<<< HEAD
<<<<<<< HEAD
<<<<<<< HEAD
   "execution_count": 56,
=======
   "execution_count": 143,
>>>>>>> 1d56431 (24-01-2025(previa))
=======
   "execution_count": 56,
>>>>>>> 2170714 (24-04-2025_Final)
=======
   "execution_count": 56,
>>>>>>> origin/main
>>>>>>> luiscargarcia/main
   "metadata": {
    "ExecuteTime": {
     "end_time": "2024-02-02T15:49:37.923206800Z",
     "start_time": "2024-02-02T15:49:37.916806200Z"
    },
    "collapsed": false
   },
   "outputs": [
    {
<<<<<<< HEAD
=======
<<<<<<< HEAD
<<<<<<< HEAD
<<<<<<< HEAD
=======
>>>>>>> 2170714 (24-04-2025_Final)
=======
>>>>>>> origin/main
>>>>>>> luiscargarcia/main
     "data": {
      "text/plain": [
       "0.6267942583732058"
      ]
     },
     "execution_count": 56,
     "metadata": {},
     "output_type": "execute_result"
<<<<<<< HEAD
=======
<<<<<<< HEAD
<<<<<<< HEAD
=======
>>>>>>> origin/main
>>>>>>> luiscargarcia/main
    }
   ],
   "source": [
    "model.score(x_test,y_job)"
<<<<<<< HEAD
=======
<<<<<<< HEAD
=======
     "ename": "ValueError",
     "evalue": "Expected 2D array, got 1D array instead:\narray=[0 1 0 0 1 0 1 0 1 0 0 0 1 0 1 1 0 0 1 1 0 0 1 0 1 0 1 0 0 0 0 0 1 1 0 0 1\n 1 0 0 0 0 0 1 1 0 0 0 1 1 0 0 1 1 0 0 0 0 0 1 0 0 0 1 0 1 1 0 0 1 1 0 1 0\n 1 0 0 1 0 1 0 0 0 0 0 0 1 1 1 0 1 0 1 0 0 0 1 0 1 0 1 0 0 0 1 0 0 0 0 0 0\n 1 1 1 1 0 0 1 0 1 1 0 1 0 0 1 0 1 0 0 0 0 1 0 0 0 0 0 1 0 1 1 0 0 0 0 0 0\n 0 0 1 0 0 1 0 0 1 1 0 1 1 0 1 0 0 1 0 0 1 1 0 0 0 0 0 1 1 0 1 1 0 0 1 0 1\n 0 1 0 1 0 0 0 0 0 0 0 0 1 0 1 1 0 0 1 0 0 1 0 1 0 0 0 0 1 1 0 1 0 1 0 1 0\n 1 0 1 1 0 1 0 0 0 1 0 0 0 0 0 0 1 1 1 1 0 0 0 0 1 0 1 1 1 0 0 0 0 0 0 0 1\n 0 0 0 1 1 0 0 0 0 1 0 0 0 1 1 0 1 0 0 0 0 1 0 1 1 1 0 0 0 0 0 0 1 0 0 0 0\n 1 0 0 0 0 0 0 0 1 1 0 0 0 1 0 0 0 1 1 1 0 0 0 0 0 0 0 0 1 0 1 0 0 0 1 0 0\n 1 0 0 0 0 0 0 0 0 0 1 0 1 0 1 0 1 1 0 0 0 1 0 1 0 0 1 0 1 1 0 1 1 0 1 1 0\n 0 1 0 0 1 1 1 0 0 0 0 0 1 1 0 1 0 0 0 0 0 1 0 0 0 1 0 1 0 0 1 0 1 0 0 0 0\n 0 1 1 1 1 1 0 1 0 0 0].\nReshape your data either using array.reshape(-1, 1) if your data has a single feature or array.reshape(1, -1) if it contains a single sample.",
     "output_type": "error",
     "traceback": [
      "\u001b[0;31m---------------------------------------------------------------------------\u001b[0m",
      "\u001b[0;31mValueError\u001b[0m                                Traceback (most recent call last)",
      "Cell \u001b[0;32mIn[143], line 1\u001b[0m\n\u001b[0;32m----> 1\u001b[0m \u001b[43mmodel\u001b[49m\u001b[38;5;241;43m.\u001b[39;49m\u001b[43mscore\u001b[49m\u001b[43m(\u001b[49m\u001b[43my_test\u001b[49m\u001b[43m,\u001b[49m\u001b[43mmodel\u001b[49m\u001b[38;5;241;43m.\u001b[39;49m\u001b[43mpredict\u001b[49m\u001b[43m(\u001b[49m\u001b[43mX_test\u001b[49m\u001b[43m)\u001b[49m\u001b[43m)\u001b[49m\n",
      "File \u001b[0;32m/usr/local/lib/python3.11/site-packages/sklearn/base.py:572\u001b[0m, in \u001b[0;36mClassifierMixin.score\u001b[0;34m(self, X, y, sample_weight)\u001b[0m\n\u001b[1;32m    547\u001b[0m \u001b[38;5;250m\u001b[39m\u001b[38;5;124;03m\"\"\"\u001b[39;00m\n\u001b[1;32m    548\u001b[0m \u001b[38;5;124;03mReturn the mean accuracy on the given test data and labels.\u001b[39;00m\n\u001b[1;32m    549\u001b[0m \n\u001b[0;32m   (...)\u001b[0m\n\u001b[1;32m    568\u001b[0m \u001b[38;5;124;03m    Mean accuracy of ``self.predict(X)`` w.r.t. `y`.\u001b[39;00m\n\u001b[1;32m    569\u001b[0m \u001b[38;5;124;03m\"\"\"\u001b[39;00m\n\u001b[1;32m    570\u001b[0m \u001b[38;5;28;01mfrom\u001b[39;00m\u001b[38;5;250m \u001b[39m\u001b[38;5;21;01m.\u001b[39;00m\u001b[38;5;21;01mmetrics\u001b[39;00m\u001b[38;5;250m \u001b[39m\u001b[38;5;28;01mimport\u001b[39;00m accuracy_score\n\u001b[0;32m--> 572\u001b[0m \u001b[38;5;28;01mreturn\u001b[39;00m accuracy_score(y, \u001b[38;5;28;43mself\u001b[39;49m\u001b[38;5;241;43m.\u001b[39;49m\u001b[43mpredict\u001b[49m\u001b[43m(\u001b[49m\u001b[43mX\u001b[49m\u001b[43m)\u001b[49m, sample_weight\u001b[38;5;241m=\u001b[39msample_weight)\n",
      "File \u001b[0;32m/usr/local/lib/python3.11/site-packages/sklearn/linear_model/_base.py:374\u001b[0m, in \u001b[0;36mLinearClassifierMixin.predict\u001b[0;34m(self, X)\u001b[0m\n\u001b[1;32m    360\u001b[0m \u001b[38;5;250m\u001b[39m\u001b[38;5;124;03m\"\"\"\u001b[39;00m\n\u001b[1;32m    361\u001b[0m \u001b[38;5;124;03mPredict class labels for samples in X.\u001b[39;00m\n\u001b[1;32m    362\u001b[0m \n\u001b[0;32m   (...)\u001b[0m\n\u001b[1;32m    371\u001b[0m \u001b[38;5;124;03m    Vector containing the class labels for each sample.\u001b[39;00m\n\u001b[1;32m    372\u001b[0m \u001b[38;5;124;03m\"\"\"\u001b[39;00m\n\u001b[1;32m    373\u001b[0m xp, _ \u001b[38;5;241m=\u001b[39m get_namespace(X)\n\u001b[0;32m--> 374\u001b[0m scores \u001b[38;5;241m=\u001b[39m \u001b[38;5;28;43mself\u001b[39;49m\u001b[38;5;241;43m.\u001b[39;49m\u001b[43mdecision_function\u001b[49m\u001b[43m(\u001b[49m\u001b[43mX\u001b[49m\u001b[43m)\u001b[49m\n\u001b[1;32m    375\u001b[0m \u001b[38;5;28;01mif\u001b[39;00m \u001b[38;5;28mlen\u001b[39m(scores\u001b[38;5;241m.\u001b[39mshape) \u001b[38;5;241m==\u001b[39m \u001b[38;5;241m1\u001b[39m:\n\u001b[1;32m    376\u001b[0m     indices \u001b[38;5;241m=\u001b[39m xp\u001b[38;5;241m.\u001b[39mastype(scores \u001b[38;5;241m>\u001b[39m \u001b[38;5;241m0\u001b[39m, indexing_dtype(xp))\n",
      "File \u001b[0;32m/usr/local/lib/python3.11/site-packages/sklearn/linear_model/_base.py:351\u001b[0m, in \u001b[0;36mLinearClassifierMixin.decision_function\u001b[0;34m(self, X)\u001b[0m\n\u001b[1;32m    348\u001b[0m check_is_fitted(\u001b[38;5;28mself\u001b[39m)\n\u001b[1;32m    349\u001b[0m xp, _ \u001b[38;5;241m=\u001b[39m get_namespace(X)\n\u001b[0;32m--> 351\u001b[0m X \u001b[38;5;241m=\u001b[39m \u001b[43mvalidate_data\u001b[49m\u001b[43m(\u001b[49m\u001b[38;5;28;43mself\u001b[39;49m\u001b[43m,\u001b[49m\u001b[43m \u001b[49m\u001b[43mX\u001b[49m\u001b[43m,\u001b[49m\u001b[43m \u001b[49m\u001b[43maccept_sparse\u001b[49m\u001b[38;5;241;43m=\u001b[39;49m\u001b[38;5;124;43m\"\u001b[39;49m\u001b[38;5;124;43mcsr\u001b[39;49m\u001b[38;5;124;43m\"\u001b[39;49m\u001b[43m,\u001b[49m\u001b[43m \u001b[49m\u001b[43mreset\u001b[49m\u001b[38;5;241;43m=\u001b[39;49m\u001b[38;5;28;43;01mFalse\u001b[39;49;00m\u001b[43m)\u001b[49m\n\u001b[1;32m    352\u001b[0m scores \u001b[38;5;241m=\u001b[39m safe_sparse_dot(X, \u001b[38;5;28mself\u001b[39m\u001b[38;5;241m.\u001b[39mcoef_\u001b[38;5;241m.\u001b[39mT, dense_output\u001b[38;5;241m=\u001b[39m\u001b[38;5;28;01mTrue\u001b[39;00m) \u001b[38;5;241m+\u001b[39m \u001b[38;5;28mself\u001b[39m\u001b[38;5;241m.\u001b[39mintercept_\n\u001b[1;32m    353\u001b[0m \u001b[38;5;28;01mreturn\u001b[39;00m (\n\u001b[1;32m    354\u001b[0m     xp\u001b[38;5;241m.\u001b[39mreshape(scores, (\u001b[38;5;241m-\u001b[39m\u001b[38;5;241m1\u001b[39m,))\n\u001b[1;32m    355\u001b[0m     \u001b[38;5;28;01mif\u001b[39;00m (scores\u001b[38;5;241m.\u001b[39mndim \u001b[38;5;241m>\u001b[39m \u001b[38;5;241m1\u001b[39m \u001b[38;5;129;01mand\u001b[39;00m scores\u001b[38;5;241m.\u001b[39mshape[\u001b[38;5;241m1\u001b[39m] \u001b[38;5;241m==\u001b[39m \u001b[38;5;241m1\u001b[39m)\n\u001b[1;32m    356\u001b[0m     \u001b[38;5;28;01melse\u001b[39;00m scores\n\u001b[1;32m    357\u001b[0m )\n",
      "File \u001b[0;32m/usr/local/lib/python3.11/site-packages/sklearn/utils/validation.py:2944\u001b[0m, in \u001b[0;36mvalidate_data\u001b[0;34m(_estimator, X, y, reset, validate_separately, skip_check_array, **check_params)\u001b[0m\n\u001b[1;32m   2942\u001b[0m         out \u001b[38;5;241m=\u001b[39m X, y\n\u001b[1;32m   2943\u001b[0m \u001b[38;5;28;01melif\u001b[39;00m \u001b[38;5;129;01mnot\u001b[39;00m no_val_X \u001b[38;5;129;01mand\u001b[39;00m no_val_y:\n\u001b[0;32m-> 2944\u001b[0m     out \u001b[38;5;241m=\u001b[39m \u001b[43mcheck_array\u001b[49m\u001b[43m(\u001b[49m\u001b[43mX\u001b[49m\u001b[43m,\u001b[49m\u001b[43m \u001b[49m\u001b[43minput_name\u001b[49m\u001b[38;5;241;43m=\u001b[39;49m\u001b[38;5;124;43m\"\u001b[39;49m\u001b[38;5;124;43mX\u001b[39;49m\u001b[38;5;124;43m\"\u001b[39;49m\u001b[43m,\u001b[49m\u001b[43m \u001b[49m\u001b[38;5;241;43m*\u001b[39;49m\u001b[38;5;241;43m*\u001b[39;49m\u001b[43mcheck_params\u001b[49m\u001b[43m)\u001b[49m\n\u001b[1;32m   2945\u001b[0m \u001b[38;5;28;01melif\u001b[39;00m no_val_X \u001b[38;5;129;01mand\u001b[39;00m \u001b[38;5;129;01mnot\u001b[39;00m no_val_y:\n\u001b[1;32m   2946\u001b[0m     out \u001b[38;5;241m=\u001b[39m _check_y(y, \u001b[38;5;241m*\u001b[39m\u001b[38;5;241m*\u001b[39mcheck_params)\n",
      "File \u001b[0;32m/usr/local/lib/python3.11/site-packages/sklearn/utils/validation.py:1093\u001b[0m, in \u001b[0;36mcheck_array\u001b[0;34m(array, accept_sparse, accept_large_sparse, dtype, order, copy, force_writeable, force_all_finite, ensure_all_finite, ensure_non_negative, ensure_2d, allow_nd, ensure_min_samples, ensure_min_features, estimator, input_name)\u001b[0m\n\u001b[1;32m   1086\u001b[0m         \u001b[38;5;28;01melse\u001b[39;00m:\n\u001b[1;32m   1087\u001b[0m             msg \u001b[38;5;241m=\u001b[39m (\n\u001b[1;32m   1088\u001b[0m                 \u001b[38;5;124mf\u001b[39m\u001b[38;5;124m\"\u001b[39m\u001b[38;5;124mExpected 2D array, got 1D array instead:\u001b[39m\u001b[38;5;130;01m\\n\u001b[39;00m\u001b[38;5;124marray=\u001b[39m\u001b[38;5;132;01m{\u001b[39;00marray\u001b[38;5;132;01m}\u001b[39;00m\u001b[38;5;124m.\u001b[39m\u001b[38;5;130;01m\\n\u001b[39;00m\u001b[38;5;124m\"\u001b[39m\n\u001b[1;32m   1089\u001b[0m                 \u001b[38;5;124m\"\u001b[39m\u001b[38;5;124mReshape your data either using array.reshape(-1, 1) if \u001b[39m\u001b[38;5;124m\"\u001b[39m\n\u001b[1;32m   1090\u001b[0m                 \u001b[38;5;124m\"\u001b[39m\u001b[38;5;124myour data has a single feature or array.reshape(1, -1) \u001b[39m\u001b[38;5;124m\"\u001b[39m\n\u001b[1;32m   1091\u001b[0m                 \u001b[38;5;124m\"\u001b[39m\u001b[38;5;124mif it contains a single sample.\u001b[39m\u001b[38;5;124m\"\u001b[39m\n\u001b[1;32m   1092\u001b[0m             )\n\u001b[0;32m-> 1093\u001b[0m         \u001b[38;5;28;01mraise\u001b[39;00m \u001b[38;5;167;01mValueError\u001b[39;00m(msg)\n\u001b[1;32m   1095\u001b[0m \u001b[38;5;28;01mif\u001b[39;00m dtype_numeric \u001b[38;5;129;01mand\u001b[39;00m \u001b[38;5;28mhasattr\u001b[39m(array\u001b[38;5;241m.\u001b[39mdtype, \u001b[38;5;124m\"\u001b[39m\u001b[38;5;124mkind\u001b[39m\u001b[38;5;124m\"\u001b[39m) \u001b[38;5;129;01mand\u001b[39;00m array\u001b[38;5;241m.\u001b[39mdtype\u001b[38;5;241m.\u001b[39mkind \u001b[38;5;129;01min\u001b[39;00m \u001b[38;5;124m\"\u001b[39m\u001b[38;5;124mUSV\u001b[39m\u001b[38;5;124m\"\u001b[39m:\n\u001b[1;32m   1096\u001b[0m     \u001b[38;5;28;01mraise\u001b[39;00m \u001b[38;5;167;01mValueError\u001b[39;00m(\n\u001b[1;32m   1097\u001b[0m         \u001b[38;5;124m\"\u001b[39m\u001b[38;5;124mdtype=\u001b[39m\u001b[38;5;124m'\u001b[39m\u001b[38;5;124mnumeric\u001b[39m\u001b[38;5;124m'\u001b[39m\u001b[38;5;124m is not compatible with arrays of bytes/strings.\u001b[39m\u001b[38;5;124m\"\u001b[39m\n\u001b[1;32m   1098\u001b[0m         \u001b[38;5;124m\"\u001b[39m\u001b[38;5;124mConvert your data to numeric values explicitly instead.\u001b[39m\u001b[38;5;124m\"\u001b[39m\n\u001b[1;32m   1099\u001b[0m     )\n",
      "\u001b[0;31mValueError\u001b[0m: Expected 2D array, got 1D array instead:\narray=[0 1 0 0 1 0 1 0 1 0 0 0 1 0 1 1 0 0 1 1 0 0 1 0 1 0 1 0 0 0 0 0 1 1 0 0 1\n 1 0 0 0 0 0 1 1 0 0 0 1 1 0 0 1 1 0 0 0 0 0 1 0 0 0 1 0 1 1 0 0 1 1 0 1 0\n 1 0 0 1 0 1 0 0 0 0 0 0 1 1 1 0 1 0 1 0 0 0 1 0 1 0 1 0 0 0 1 0 0 0 0 0 0\n 1 1 1 1 0 0 1 0 1 1 0 1 0 0 1 0 1 0 0 0 0 1 0 0 0 0 0 1 0 1 1 0 0 0 0 0 0\n 0 0 1 0 0 1 0 0 1 1 0 1 1 0 1 0 0 1 0 0 1 1 0 0 0 0 0 1 1 0 1 1 0 0 1 0 1\n 0 1 0 1 0 0 0 0 0 0 0 0 1 0 1 1 0 0 1 0 0 1 0 1 0 0 0 0 1 1 0 1 0 1 0 1 0\n 1 0 1 1 0 1 0 0 0 1 0 0 0 0 0 0 1 1 1 1 0 0 0 0 1 0 1 1 1 0 0 0 0 0 0 0 1\n 0 0 0 1 1 0 0 0 0 1 0 0 0 1 1 0 1 0 0 0 0 1 0 1 1 1 0 0 0 0 0 0 1 0 0 0 0\n 1 0 0 0 0 0 0 0 1 1 0 0 0 1 0 0 0 1 1 1 0 0 0 0 0 0 0 0 1 0 1 0 0 0 1 0 0\n 1 0 0 0 0 0 0 0 0 0 1 0 1 0 1 0 1 1 0 0 0 1 0 1 0 0 1 0 1 1 0 1 1 0 1 1 0\n 0 1 0 0 1 1 1 0 0 0 0 0 1 1 0 1 0 0 0 0 0 1 0 0 0 1 0 1 0 0 1 0 1 0 0 0 0\n 0 1 1 1 1 1 0 1 0 0 0].\nReshape your data either using array.reshape(-1, 1) if your data has a single feature or array.reshape(1, -1) if it contains a single sample."
     ]
    }
   ],
   "source": [
    "\n",
    "model.score(y_test,model.predict(X_test))"
>>>>>>> 1d56431 (24-01-2025(previa))
=======
    }
   ],
   "source": [
    "model.score(x_test,y_job)"
>>>>>>> 2170714 (24-04-2025_Final)
=======
>>>>>>> origin/main
>>>>>>> luiscargarcia/main
   ]
  },
  {
   "cell_type": "markdown",
   "metadata": {
    "collapsed": false
   },
   "source": [
    "Comprobamos la EXACTITUD o ACCURACY  \n",
    "\n",
    "Es la proporción de todas las clasificaciones correctas, ya sean positivas o negativas. Se define matemáticamente de la siguiente manera:   \n",
    "\n",
    "<math xmlns=\"http://www.w3.org/1998/Math/MathML\" display=\"block\">\n",
    "  <mtext>Accuracy</mtext>\n",
    "  <mo>=</mo>\n",
    "  <mfrac>\n",
    "    <mtext>clasificaciones correctas</mtext>\n",
    "    <mtext>clasificaciones totales</mtext>\n",
    "  </mfrac>\n",
    "  <mo>=</mo>\n",
    "  <mfrac>\n",
    "    <mrow>\n",
    "      <mi>T</mi>\n",
    "      <mi>P</mi>\n",
    "      <mo>+</mo>\n",
    "      <mi>T</mi>\n",
    "      <mi>N</mi>\n",
    "    </mrow>\n",
    "    <mrow>\n",
    "      <mi>T</mi>\n",
    "      <mi>P</mi>\n",
    "      <mo>+</mo>\n",
    "      <mi>T</mi>\n",
    "      <mi>N</mi>\n",
    "      <mo>+</mo>\n",
    "      <mi>F</mi>\n",
    "      <mi>P</mi>\n",
    "      <mo>+</mo>\n",
    "      <mi>F</mi>\n",
    "      <mi>N</mi>\n",
    "    </mrow>\n",
    "  </mfrac>\n",
    "</math>\n"
   ]
  },
  {
   "cell_type": "code",
<<<<<<< HEAD
   "execution_count": 57,
=======
<<<<<<< HEAD
<<<<<<< HEAD
<<<<<<< HEAD
   "execution_count": 57,
=======
   "execution_count": 102,
>>>>>>> 1d56431 (24-01-2025(previa))
=======
   "execution_count": 57,
>>>>>>> 2170714 (24-04-2025_Final)
=======
   "execution_count": 57,
>>>>>>> origin/main
>>>>>>> luiscargarcia/main
   "metadata": {
    "ExecuteTime": {
     "end_time": "2024-02-02T15:49:38.846321400Z",
     "start_time": "2024-02-02T15:49:38.841145100Z"
    },
    "collapsed": false
   },
   "outputs": [
    {
     "name": "stdout",
     "output_type": "stream",
     "text": [
<<<<<<< HEAD
      "0.6267942583732058\n"
=======
<<<<<<< HEAD
<<<<<<< HEAD
<<<<<<< HEAD
      "0.6267942583732058\n"
=======
      "0.9494949494949495\n"
>>>>>>> 1d56431 (24-01-2025(previa))
=======
      "0.6267942583732058\n"
>>>>>>> 2170714 (24-04-2025_Final)
=======
      "0.6267942583732058\n"
>>>>>>> origin/main
>>>>>>> luiscargarcia/main
     ]
    }
   ],
   "source": [
<<<<<<< HEAD
    "print(accuracy_score(y_job, predictions_test))"
=======
<<<<<<< HEAD
<<<<<<< HEAD
<<<<<<< HEAD
    "print(accuracy_score(y_job, predictions_test))"
=======
    "print(accuracy_score(y, predictions))"
>>>>>>> 1d56431 (24-01-2025(previa))
=======
    "print(accuracy_score(y_job, predictions_test))"
>>>>>>> 2170714 (24-04-2025_Final)
=======
    "print(accuracy_score(y_job, predictions_test))"
>>>>>>> origin/main
>>>>>>> luiscargarcia/main
   ]
  },
  {
   "cell_type": "markdown",
   "metadata": {
    "collapsed": false
   },
   "source": [
    "Comprobamos la SENSIBILIDAD del modelo.   \n",
    "\n",
    "La sensibilidad o tasa de verdaderos positivos (TPR) (Recall en inglés), se corresponde con la proporción de todos los positivos reales que se clasificaron correctamente como positivos.\n",
    "\n",
    "<math xmlns=\"http://www.w3.org/1998/Math/MathML\" display=\"block\">\n",
    "  <mtext>Recall (or TPR)</mtext>\n",
    "  <mo>=</mo>\n",
    "  <mfrac>\n",
    "    <mtext>positivos reales clasificados correctamente</mtext>\n",
    "    <mtext>todos los positivos reales</mtext>\n",
    "  </mfrac>\n",
    "  <mo>=</mo>\n",
    "  <mfrac>\n",
    "    <mrow>\n",
    "      <mi>T</mi>\n",
    "      <mi>P</mi>\n",
    "    </mrow>\n",
    "    <mrow>\n",
    "      <mi>T</mi>\n",
    "      <mi>P</mi>\n",
    "      <mo>+</mo>\n",
    "      <mi>F</mi>\n",
    "      <mi>N</mi>\n",
    "    </mrow>\n",
    "  </mfrac>\n",
    "</math>"
   ]
  },
  {
   "cell_type": "code",
<<<<<<< HEAD
   "execution_count": 58,
=======
<<<<<<< HEAD
<<<<<<< HEAD
<<<<<<< HEAD
   "execution_count": 58,
=======
   "execution_count": 103,
>>>>>>> 1d56431 (24-01-2025(previa))
=======
   "execution_count": 58,
>>>>>>> 2170714 (24-04-2025_Final)
=======
   "execution_count": 58,
>>>>>>> origin/main
>>>>>>> luiscargarcia/main
   "metadata": {
    "ExecuteTime": {
     "end_time": "2024-02-02T15:57:12.732570200Z",
     "start_time": "2024-02-02T15:57:12.720364800Z"
    },
    "collapsed": false
   },
   "outputs": [
    {
     "name": "stdout",
     "output_type": "stream",
     "text": [
<<<<<<< HEAD
      "0.6267942583732058\n"
=======
<<<<<<< HEAD
<<<<<<< HEAD
<<<<<<< HEAD
      "0.6267942583732058\n"
=======
      "0.9494949494949495\n"
>>>>>>> 1d56431 (24-01-2025(previa))
=======
      "0.6267942583732058\n"
>>>>>>> 2170714 (24-04-2025_Final)
=======
      "0.6267942583732058\n"
>>>>>>> origin/main
>>>>>>> luiscargarcia/main
     ]
    }
   ],
   "source": [
<<<<<<< HEAD
    "print(recall_score(y_job, predictions_test, average='weighted'))"
=======
<<<<<<< HEAD
<<<<<<< HEAD
<<<<<<< HEAD
    "print(recall_score(y_job, predictions_test, average='weighted'))"
=======
    "print(recall_score(y, predictions, average='weighted'))"
>>>>>>> 1d56431 (24-01-2025(previa))
=======
    "print(recall_score(y_job, predictions_test, average='weighted'))"
>>>>>>> 2170714 (24-04-2025_Final)
=======
    "print(recall_score(y_job, predictions_test, average='weighted'))"
>>>>>>> origin/main
>>>>>>> luiscargarcia/main
   ]
  },
  {
   "cell_type": "markdown",
   "metadata": {},
   "source": [
    "Comprobamos la PRECISION del modelo.   \n",
    "\n",
    "Es la proporción de todas las clasificaciones positivas del modelo que realmente son positivas. Matemáticamente, se define de la siguiente manera:\n",
    "\n",
    "\n",
    "<math xmlns=\"http://www.w3.org/1998/Math/MathML\" display=\"block\">\n",
    "  <mtext>Precision</mtext>\n",
    "  <mo>=</mo>\n",
    "  <mfrac>\n",
    "    <mtext>positivos reales clasificados correctamente</mtext>\n",
    "    <mtext>todos los clasificados como positivos</mtext>\n",
    "  </mfrac>\n",
    "  <mo>=</mo>\n",
    "  <mfrac>\n",
    "    <mrow>\n",
    "      <mi>T</mi>\n",
    "      <mi>P</mi>\n",
    "    </mrow>\n",
    "    <mrow>\n",
    "      <mi>T</mi>\n",
    "      <mi>P</mi>\n",
    "      <mo>+</mo>\n",
    "      <mi>F</mi>\n",
    "      <mi>P</mi>\n",
    "    </mrow>\n",
    "  </mfrac>\n",
    "</math>"
   ]
  },
  {
   "cell_type": "code",
<<<<<<< HEAD
   "execution_count": 59,
=======
<<<<<<< HEAD
<<<<<<< HEAD
<<<<<<< HEAD
   "execution_count": 59,
=======
   "execution_count": 104,
>>>>>>> 1d56431 (24-01-2025(previa))
=======
   "execution_count": 59,
>>>>>>> 2170714 (24-04-2025_Final)
=======
   "execution_count": 59,
>>>>>>> origin/main
>>>>>>> luiscargarcia/main
   "metadata": {},
   "outputs": [
    {
     "name": "stdout",
     "output_type": "stream",
     "text": [
<<<<<<< HEAD
      "0.7029498016215284\n"
=======
<<<<<<< HEAD
<<<<<<< HEAD
<<<<<<< HEAD
      "0.7029498016215284\n"
=======
      "0.9513079902428125\n"
>>>>>>> 1d56431 (24-01-2025(previa))
=======
      "0.7029498016215284\n"
>>>>>>> 2170714 (24-04-2025_Final)
=======
      "0.7029498016215284\n"
>>>>>>> origin/main
>>>>>>> luiscargarcia/main
     ]
    }
   ],
   "source": [
<<<<<<< HEAD
    "print(precision_score(y_job, predictions_test, average='weighted'))"
=======
<<<<<<< HEAD
<<<<<<< HEAD
<<<<<<< HEAD
    "print(precision_score(y_job, predictions_test, average='weighted'))"
=======
    "print(precision_score(y, predictions, average='weighted'))"
>>>>>>> 1d56431 (24-01-2025(previa))
=======
    "print(precision_score(y_job, predictions_test, average='weighted'))"
>>>>>>> 2170714 (24-04-2025_Final)
=======
    "print(precision_score(y_job, predictions_test, average='weighted'))"
>>>>>>> origin/main
>>>>>>> luiscargarcia/main
   ]
  },
  {
   "cell_type": "markdown",
   "metadata": {
    "collapsed": false
   },
   "source": [
    "Revisamos el valor de la PUNTUACIÓN F1.   \n",
    "\n",
    "El F1-score, también llamado F-score o medida F, es un estimador de la capacidad de clasificación. \n",
    "\n",
    "Los valores posibles del F1-score oscilan entre 0 y 1. Una clasificador perfecto tiene un F1-score = 1. En el otro extremo, el valor mínimo posible es 0, que indica que el clasificador, realmente, no lleva a cabo su trabajo."
   ]
  },
  {
   "cell_type": "code",
<<<<<<< HEAD
   "execution_count": 60,
=======
<<<<<<< HEAD
<<<<<<< HEAD
<<<<<<< HEAD
   "execution_count": 60,
=======
   "execution_count": 105,
>>>>>>> 1d56431 (24-01-2025(previa))
=======
   "execution_count": 60,
>>>>>>> 2170714 (24-04-2025_Final)
=======
   "execution_count": 60,
>>>>>>> origin/main
>>>>>>> luiscargarcia/main
   "metadata": {
    "ExecuteTime": {
     "end_time": "2024-02-02T15:56:26.282227600Z",
     "start_time": "2024-02-02T15:56:26.269858300Z"
    },
    "collapsed": false
   },
   "outputs": [
    {
     "name": "stdout",
     "output_type": "stream",
     "text": [
<<<<<<< HEAD
      "0.6304920767306088\n"
=======
<<<<<<< HEAD
<<<<<<< HEAD
<<<<<<< HEAD
      "0.6304920767306088\n"
=======
      "0.9498440052989996\n"
>>>>>>> 1d56431 (24-01-2025(previa))
=======
      "0.6304920767306088\n"
>>>>>>> 2170714 (24-04-2025_Final)
=======
      "0.6304920767306088\n"
>>>>>>> origin/main
>>>>>>> luiscargarcia/main
     ]
    }
   ],
   "source": [
<<<<<<< HEAD
    "print(f1_score(y_test, predictions_test, average='weighted'))"
=======
<<<<<<< HEAD
<<<<<<< HEAD
<<<<<<< HEAD
    "print(f1_score(y_test, predictions_test, average='weighted'))"
=======
    "print(f1_score(y, predictions, average='weighted'))"
>>>>>>> 1d56431 (24-01-2025(previa))
=======
    "print(f1_score(y_test, predictions_test, average='weighted'))"
>>>>>>> 2170714 (24-04-2025_Final)
=======
    "print(f1_score(y_test, predictions_test, average='weighted'))"
>>>>>>> origin/main
>>>>>>> luiscargarcia/main
   ]
  },
  {
   "cell_type": "markdown",
   "metadata": {
    "collapsed": false
   },
   "source": [
    "Por último, revisamos y mostramos la MATRIZ DE CONFUSIÓN"
   ]
  },
  {
   "cell_type": "code",
<<<<<<< HEAD
   "execution_count": 61,
=======
<<<<<<< HEAD
<<<<<<< HEAD
<<<<<<< HEAD
   "execution_count": 61,
=======
   "execution_count": 106,
>>>>>>> 1d56431 (24-01-2025(previa))
=======
   "execution_count": 61,
>>>>>>> 2170714 (24-04-2025_Final)
=======
   "execution_count": 61,
>>>>>>> origin/main
>>>>>>> luiscargarcia/main
   "metadata": {
    "ExecuteTime": {
     "end_time": "2024-02-02T15:49:40.625807800Z",
     "start_time": "2024-02-02T15:49:40.619703300Z"
    },
    "collapsed": false
   },
   "outputs": [
    {
     "name": "stdout",
     "output_type": "stream",
     "text": [
<<<<<<< HEAD
      "[[140 126]\n",
      " [ 30 122]]\n"
=======
<<<<<<< HEAD
<<<<<<< HEAD
<<<<<<< HEAD
      "[[140 126]\n",
      " [ 30 122]]\n"
=======
      "[[544  33]\n",
      " [ 12 302]]\n"
>>>>>>> 1d56431 (24-01-2025(previa))
=======
      "[[140 126]\n",
      " [ 30 122]]\n"
>>>>>>> 2170714 (24-04-2025_Final)
=======
      "[[140 126]\n",
      " [ 30 122]]\n"
>>>>>>> origin/main
>>>>>>> luiscargarcia/main
     ]
    }
   ],
   "source": [
<<<<<<< HEAD
    "print(confusion_matrix(y_test, predictions_test))"
=======
<<<<<<< HEAD
<<<<<<< HEAD
<<<<<<< HEAD
    "print(confusion_matrix(y_test, predictions_test))"
=======
    "print(confusion_matrix(y, predictions))"
>>>>>>> 1d56431 (24-01-2025(previa))
=======
    "print(confusion_matrix(y_test, predictions_test))"
>>>>>>> 2170714 (24-04-2025_Final)
=======
    "print(confusion_matrix(y_test, predictions_test))"
>>>>>>> origin/main
>>>>>>> luiscargarcia/main
   ]
  },
  {
   "cell_type": "code",
<<<<<<< HEAD
   "execution_count": 62,
=======
<<<<<<< HEAD
<<<<<<< HEAD
<<<<<<< HEAD
   "execution_count": 62,
=======
   "execution_count": 107,
>>>>>>> 1d56431 (24-01-2025(previa))
=======
   "execution_count": 62,
>>>>>>> 2170714 (24-04-2025_Final)
=======
   "execution_count": 62,
>>>>>>> origin/main
>>>>>>> luiscargarcia/main
   "metadata": {
    "ExecuteTime": {
     "end_time": "2024-02-02T15:49:41.822281400Z",
     "start_time": "2024-02-02T15:49:41.619944900Z"
    },
    "collapsed": false
   },
   "outputs": [
    {
     "data": {
<<<<<<< HEAD
      "image/png": "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",
=======
<<<<<<< HEAD
<<<<<<< HEAD
<<<<<<< HEAD
      "image/png": "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",
=======
      "image/png": "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",
>>>>>>> 1d56431 (24-01-2025(previa))
=======
      "image/png": "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",
>>>>>>> 2170714 (24-04-2025_Final)
=======
      "image/png": "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",
>>>>>>> origin/main
>>>>>>> luiscargarcia/main
      "text/plain": [
       "<Figure size 640x480 with 2 Axes>"
      ]
     },
     "metadata": {},
     "output_type": "display_data"
    }
   ],
   "source": [
    "from sklearn.metrics import ConfusionMatrixDisplay\n",
    "\n",
<<<<<<< HEAD
    "cm_display = ConfusionMatrixDisplay(confusion_matrix(y_test,predictions_test)).plot()"
=======
<<<<<<< HEAD
<<<<<<< HEAD
<<<<<<< HEAD
    "cm_display = ConfusionMatrixDisplay(confusion_matrix(y_test,predictions_test)).plot()"
=======
    "cm_display = ConfusionMatrixDisplay(confusion_matrix(y,predictions)).plot()"
>>>>>>> 1d56431 (24-01-2025(previa))
=======
    "cm_display = ConfusionMatrixDisplay(confusion_matrix(y_test,predictions_test)).plot()"
>>>>>>> 2170714 (24-04-2025_Final)
=======
    "cm_display = ConfusionMatrixDisplay(confusion_matrix(y_test,predictions_test)).plot()"
>>>>>>> origin/main
>>>>>>> luiscargarcia/main
   ]
  },
  {
   "cell_type": "code",
<<<<<<< HEAD
   "execution_count": 63,
=======
<<<<<<< HEAD
<<<<<<< HEAD
<<<<<<< HEAD
   "execution_count": 63,
=======
   "execution_count": 108,
>>>>>>> 1d56431 (24-01-2025(previa))
=======
   "execution_count": 63,
>>>>>>> 2170714 (24-04-2025_Final)
=======
   "execution_count": 63,
>>>>>>> origin/main
>>>>>>> luiscargarcia/main
   "metadata": {},
   "outputs": [
    {
     "name": "stdout",
     "output_type": "stream",
     "text": [
      "              precision    recall  f1-score   support\n",
      "\n",
<<<<<<< HEAD
=======
<<<<<<< HEAD
<<<<<<< HEAD
<<<<<<< HEAD
=======
>>>>>>> origin/main
>>>>>>> luiscargarcia/main
      "           0       0.82      0.53      0.64       266\n",
      "           1       0.49      0.80      0.61       152\n",
      "\n",
      "    accuracy                           0.63       418\n",
      "   macro avg       0.66      0.66      0.63       418\n",
      "weighted avg       0.70      0.63      0.63       418\n",
<<<<<<< HEAD
=======
<<<<<<< HEAD
=======
      "           1       0.98      0.94      0.96       577\n",
      "           2       0.90      0.96      0.93       314\n",
      "\n",
      "    accuracy                           0.95       891\n",
      "   macro avg       0.94      0.95      0.95       891\n",
      "weighted avg       0.95      0.95      0.95       891\n",
>>>>>>> 1d56431 (24-01-2025(previa))
=======
      "           0       0.82      0.53      0.64       266\n",
      "           1       0.49      0.80      0.61       152\n",
      "\n",
      "    accuracy                           0.63       418\n",
      "   macro avg       0.66      0.66      0.63       418\n",
      "weighted avg       0.70      0.63      0.63       418\n",
>>>>>>> 2170714 (24-04-2025_Final)
=======
>>>>>>> origin/main
>>>>>>> luiscargarcia/main
      "\n"
     ]
    }
   ],
   "source": [
<<<<<<< HEAD
    "print(classification_report(y_test, predictions_test))"
   ]
=======
<<<<<<< HEAD
<<<<<<< HEAD
<<<<<<< HEAD
    "print(classification_report(y_test, predictions_test))"
   ]
=======
    "print(classification_report(y, predictions))"
   ]
  },
  {
   "cell_type": "markdown",
   "metadata": {},
   "source": [
    "# <a id='toc2_'></a>[Clasificación de nuevos registros](#toc0_)"
   ]
  },
  {
   "cell_type": "markdown",
   "metadata": {
    "collapsed": false
   },
   "source": [
    "Como último paso, vamos a inventar los datos de entrada de  navegación de un usuario ficticio que tiene estos valores:\n",
    "\n",
    "Tiempo Duración: 10\n",
    "Paginas visitadas: 3\n",
    "Acciones al navegar: 5\n",
    "Valoración: 9  \n",
    "\n",
    "Lo probamos en nuestro modelo y vemos que lo clasifica como un usuario tipo 2, es decir, de Linux."
   ]
  },
  {
   "cell_type": "code",
   "execution_count": 109,
   "metadata": {
    "ExecuteTime": {
     "end_time": "2024-02-02T15:49:48.001640500Z",
     "start_time": "2024-02-02T15:49:47.998643600Z"
    },
    "collapsed": false
   },
   "outputs": [
    {
     "ename": "ValueError",
     "evalue": "X has 4 features, but LogisticRegression is expecting 8 features as input.",
     "output_type": "error",
     "traceback": [
      "\u001b[0;31m---------------------------------------------------------------------------\u001b[0m",
      "\u001b[0;31mValueError\u001b[0m                                Traceback (most recent call last)",
      "Cell \u001b[0;32mIn[109], line 2\u001b[0m\n\u001b[1;32m      1\u001b[0m X_new \u001b[38;5;241m=\u001b[39m pd\u001b[38;5;241m.\u001b[39mDataFrame({\u001b[38;5;124m'\u001b[39m\u001b[38;5;124mduracion\u001b[39m\u001b[38;5;124m'\u001b[39m: [\u001b[38;5;241m10\u001b[39m], \u001b[38;5;124m'\u001b[39m\u001b[38;5;124mpaginas\u001b[39m\u001b[38;5;124m'\u001b[39m: [\u001b[38;5;241m3\u001b[39m], \u001b[38;5;124m'\u001b[39m\u001b[38;5;124macciones\u001b[39m\u001b[38;5;124m'\u001b[39m: [\u001b[38;5;241m5\u001b[39m], \u001b[38;5;124m'\u001b[39m\u001b[38;5;124mvalor\u001b[39m\u001b[38;5;124m'\u001b[39m: [\u001b[38;5;241m9\u001b[39m]})\n\u001b[0;32m----> 2\u001b[0m prediccion \u001b[38;5;241m=\u001b[39m \u001b[43mmodel\u001b[49m\u001b[38;5;241;43m.\u001b[39;49m\u001b[43mpredict\u001b[49m\u001b[43m(\u001b[49m\u001b[43mX_new\u001b[49m\u001b[43m)\u001b[49m\n\u001b[1;32m      3\u001b[0m \u001b[38;5;28mprint\u001b[39m(prediccion)\n",
      "File \u001b[0;32m/usr/local/lib/python3.11/site-packages/sklearn/linear_model/_base.py:374\u001b[0m, in \u001b[0;36mLinearClassifierMixin.predict\u001b[0;34m(self, X)\u001b[0m\n\u001b[1;32m    360\u001b[0m \u001b[38;5;250m\u001b[39m\u001b[38;5;124;03m\"\"\"\u001b[39;00m\n\u001b[1;32m    361\u001b[0m \u001b[38;5;124;03mPredict class labels for samples in X.\u001b[39;00m\n\u001b[1;32m    362\u001b[0m \n\u001b[0;32m   (...)\u001b[0m\n\u001b[1;32m    371\u001b[0m \u001b[38;5;124;03m    Vector containing the class labels for each sample.\u001b[39;00m\n\u001b[1;32m    372\u001b[0m \u001b[38;5;124;03m\"\"\"\u001b[39;00m\n\u001b[1;32m    373\u001b[0m xp, _ \u001b[38;5;241m=\u001b[39m get_namespace(X)\n\u001b[0;32m--> 374\u001b[0m scores \u001b[38;5;241m=\u001b[39m \u001b[38;5;28;43mself\u001b[39;49m\u001b[38;5;241;43m.\u001b[39;49m\u001b[43mdecision_function\u001b[49m\u001b[43m(\u001b[49m\u001b[43mX\u001b[49m\u001b[43m)\u001b[49m\n\u001b[1;32m    375\u001b[0m \u001b[38;5;28;01mif\u001b[39;00m \u001b[38;5;28mlen\u001b[39m(scores\u001b[38;5;241m.\u001b[39mshape) \u001b[38;5;241m==\u001b[39m \u001b[38;5;241m1\u001b[39m:\n\u001b[1;32m    376\u001b[0m     indices \u001b[38;5;241m=\u001b[39m xp\u001b[38;5;241m.\u001b[39mastype(scores \u001b[38;5;241m>\u001b[39m \u001b[38;5;241m0\u001b[39m, indexing_dtype(xp))\n",
      "File \u001b[0;32m/usr/local/lib/python3.11/site-packages/sklearn/linear_model/_base.py:351\u001b[0m, in \u001b[0;36mLinearClassifierMixin.decision_function\u001b[0;34m(self, X)\u001b[0m\n\u001b[1;32m    348\u001b[0m check_is_fitted(\u001b[38;5;28mself\u001b[39m)\n\u001b[1;32m    349\u001b[0m xp, _ \u001b[38;5;241m=\u001b[39m get_namespace(X)\n\u001b[0;32m--> 351\u001b[0m X \u001b[38;5;241m=\u001b[39m \u001b[43mvalidate_data\u001b[49m\u001b[43m(\u001b[49m\u001b[38;5;28;43mself\u001b[39;49m\u001b[43m,\u001b[49m\u001b[43m \u001b[49m\u001b[43mX\u001b[49m\u001b[43m,\u001b[49m\u001b[43m \u001b[49m\u001b[43maccept_sparse\u001b[49m\u001b[38;5;241;43m=\u001b[39;49m\u001b[38;5;124;43m\"\u001b[39;49m\u001b[38;5;124;43mcsr\u001b[39;49m\u001b[38;5;124;43m\"\u001b[39;49m\u001b[43m,\u001b[49m\u001b[43m \u001b[49m\u001b[43mreset\u001b[49m\u001b[38;5;241;43m=\u001b[39;49m\u001b[38;5;28;43;01mFalse\u001b[39;49;00m\u001b[43m)\u001b[49m\n\u001b[1;32m    352\u001b[0m scores \u001b[38;5;241m=\u001b[39m safe_sparse_dot(X, \u001b[38;5;28mself\u001b[39m\u001b[38;5;241m.\u001b[39mcoef_\u001b[38;5;241m.\u001b[39mT, dense_output\u001b[38;5;241m=\u001b[39m\u001b[38;5;28;01mTrue\u001b[39;00m) \u001b[38;5;241m+\u001b[39m \u001b[38;5;28mself\u001b[39m\u001b[38;5;241m.\u001b[39mintercept_\n\u001b[1;32m    353\u001b[0m \u001b[38;5;28;01mreturn\u001b[39;00m (\n\u001b[1;32m    354\u001b[0m     xp\u001b[38;5;241m.\u001b[39mreshape(scores, (\u001b[38;5;241m-\u001b[39m\u001b[38;5;241m1\u001b[39m,))\n\u001b[1;32m    355\u001b[0m     \u001b[38;5;28;01mif\u001b[39;00m (scores\u001b[38;5;241m.\u001b[39mndim \u001b[38;5;241m>\u001b[39m \u001b[38;5;241m1\u001b[39m \u001b[38;5;129;01mand\u001b[39;00m scores\u001b[38;5;241m.\u001b[39mshape[\u001b[38;5;241m1\u001b[39m] \u001b[38;5;241m==\u001b[39m \u001b[38;5;241m1\u001b[39m)\n\u001b[1;32m    356\u001b[0m     \u001b[38;5;28;01melse\u001b[39;00m scores\n\u001b[1;32m    357\u001b[0m )\n",
      "File \u001b[0;32m/usr/local/lib/python3.11/site-packages/sklearn/utils/validation.py:2965\u001b[0m, in \u001b[0;36mvalidate_data\u001b[0;34m(_estimator, X, y, reset, validate_separately, skip_check_array, **check_params)\u001b[0m\n\u001b[1;32m   2962\u001b[0m     out \u001b[38;5;241m=\u001b[39m X, y\n\u001b[1;32m   2964\u001b[0m \u001b[38;5;28;01mif\u001b[39;00m \u001b[38;5;129;01mnot\u001b[39;00m no_val_X \u001b[38;5;129;01mand\u001b[39;00m check_params\u001b[38;5;241m.\u001b[39mget(\u001b[38;5;124m\"\u001b[39m\u001b[38;5;124mensure_2d\u001b[39m\u001b[38;5;124m\"\u001b[39m, \u001b[38;5;28;01mTrue\u001b[39;00m):\n\u001b[0;32m-> 2965\u001b[0m     \u001b[43m_check_n_features\u001b[49m\u001b[43m(\u001b[49m\u001b[43m_estimator\u001b[49m\u001b[43m,\u001b[49m\u001b[43m \u001b[49m\u001b[43mX\u001b[49m\u001b[43m,\u001b[49m\u001b[43m \u001b[49m\u001b[43mreset\u001b[49m\u001b[38;5;241;43m=\u001b[39;49m\u001b[43mreset\u001b[49m\u001b[43m)\u001b[49m\n\u001b[1;32m   2967\u001b[0m \u001b[38;5;28;01mreturn\u001b[39;00m out\n",
      "File \u001b[0;32m/usr/local/lib/python3.11/site-packages/sklearn/utils/validation.py:2829\u001b[0m, in \u001b[0;36m_check_n_features\u001b[0;34m(estimator, X, reset)\u001b[0m\n\u001b[1;32m   2826\u001b[0m     \u001b[38;5;28;01mreturn\u001b[39;00m\n\u001b[1;32m   2828\u001b[0m \u001b[38;5;28;01mif\u001b[39;00m n_features \u001b[38;5;241m!=\u001b[39m estimator\u001b[38;5;241m.\u001b[39mn_features_in_:\n\u001b[0;32m-> 2829\u001b[0m     \u001b[38;5;28;01mraise\u001b[39;00m \u001b[38;5;167;01mValueError\u001b[39;00m(\n\u001b[1;32m   2830\u001b[0m         \u001b[38;5;124mf\u001b[39m\u001b[38;5;124m\"\u001b[39m\u001b[38;5;124mX has \u001b[39m\u001b[38;5;132;01m{\u001b[39;00mn_features\u001b[38;5;132;01m}\u001b[39;00m\u001b[38;5;124m features, but \u001b[39m\u001b[38;5;132;01m{\u001b[39;00mestimator\u001b[38;5;241m.\u001b[39m\u001b[38;5;18m__class__\u001b[39m\u001b[38;5;241m.\u001b[39m\u001b[38;5;18m__name__\u001b[39m\u001b[38;5;132;01m}\u001b[39;00m\u001b[38;5;124m \u001b[39m\u001b[38;5;124m\"\u001b[39m\n\u001b[1;32m   2831\u001b[0m         \u001b[38;5;124mf\u001b[39m\u001b[38;5;124m\"\u001b[39m\u001b[38;5;124mis expecting \u001b[39m\u001b[38;5;132;01m{\u001b[39;00mestimator\u001b[38;5;241m.\u001b[39mn_features_in_\u001b[38;5;132;01m}\u001b[39;00m\u001b[38;5;124m features as input.\u001b[39m\u001b[38;5;124m\"\u001b[39m\n\u001b[1;32m   2832\u001b[0m     )\n",
      "\u001b[0;31mValueError\u001b[0m: X has 4 features, but LogisticRegression is expecting 8 features as input."
     ]
    }
   ],
   "source": [
    "X_new = pd.DataFrame({'duracion': [10], 'paginas': [3], 'acciones': [5], 'valor': [9]})\n",
    "prediccion = model.predict(X_new)\n",
    "print(prediccion)"
   ]
  },
  {
   "cell_type": "code",
   "execution_count": null,
   "metadata": {
    "collapsed": false
   },
   "outputs": [],
   "source": []
>>>>>>> 1d56431 (24-01-2025(previa))
=======
    "print(classification_report(y_test, predictions_test))"
   ]
>>>>>>> 2170714 (24-04-2025_Final)
=======
    "print(classification_report(y_test, predictions_test))"
   ]
>>>>>>> origin/main
>>>>>>> luiscargarcia/main
  }
 ],
 "metadata": {
  "kernelspec": {
   "display_name": "Python 3",
   "language": "python",
   "name": "python3"
  },
  "language_info": {
   "codemirror_mode": {
    "name": "ipython",
    "version": 3
   },
   "file_extension": ".py",
   "mimetype": "text/x-python",
   "name": "python",
   "nbconvert_exporter": "python",
   "pygments_lexer": "ipython3",
   "version": "3.11.11"
  }
 },
 "nbformat": 4,
 "nbformat_minor": 2
}
