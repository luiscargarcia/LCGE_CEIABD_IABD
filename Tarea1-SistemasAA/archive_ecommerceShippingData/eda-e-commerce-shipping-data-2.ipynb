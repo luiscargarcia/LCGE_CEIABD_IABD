{
   "source": [
    "### Mode of shipment"
   ]
  },
  {
   "cell_type": "code",
   "execution_count": null,
   "id": "71c8997a",
   "metadata": {
    "execution": {
     "iopub.execute_input": "2021-09-14T05:49:03.087552Z",
     "iopub.status.busy": "2021-09-14T05:49:03.068289Z",
     "iopub.status.idle": "2021-09-14T05:49:03.123704Z",
     "shell.execute_reply": "2021-09-14T05:49:03.124200Z",
     "shell.execute_reply.started": "2021-08-08T07:49:59.752404Z"
    },
    "papermill": {
     "duration": 0.151287,
     "end_time": "2021-09-14T05:49:03.124380",
     "exception": false,
     "start_time": "2021-09-14T05:49:02.973093",
     "status": "completed"
    },
    "tags": []
   },
   "outputs": [],
   "source": [
    "# looking at the mode of shipment column and what are the categories present in it\n",
    "\n",
    "mode = object_columns['Mode_of_Shipment'].value_counts().reset_index()\n",
    "mode.columns = ['Mode_of_Shipment', 'value_counts']\n",
    "fig = px.pie(mode, names = 'Mode_of_Shipment', values = 'value_counts', color_discrete_sequence = \n",
    "            px.colors.sequential.Darkmint_r, width = 650, height = 400, hole = 0.5)\n",
    "fig.update_traces(textinfo = 'percent+label')"
   ]
  },
  {
   "cell_type": "code",
   "execution_count": null,
   "id": "31bddf09",
   "metadata": {
    "execution": {
     "iopub.execute_input": "2021-09-14T05:49:03.315185Z",
     "iopub.status.busy": "2021-09-14T05:49:03.314078Z",
     "iopub.status.idle": "2021-09-14T05:49:03.476057Z",
     "shell.execute_reply": "2021-09-14T05:49:03.475375Z",
     "shell.execute_reply.started": "2021-08-08T07:49:59.822022Z"
    },
    "papermill": {
     "duration": 0.265417,
     "end_time": "2021-09-14T05:49:03.476196",
     "exception": false,
     "start_time": "2021-09-14T05:49:03.210779",
     "status": "completed"
    },
    "tags": []
   },
   "outputs": [],
   "source": [
    "# making a countplot of mode of shipment column and see the effect of Reached on time or not on the warehouse column.\n",
    "\n",
    "plt.figure(figsize = (17, 6))\n",
    "sns.countplot('Mode_of_Shipment', hue = 'Reached.on.Time_Y.N', data = df, palette='rocket')\n",
    "plt.show()"
   ]
  },
  {
   "cell_type": "markdown",
   "id": "fbddaa33",
   "metadata": {
    "papermill": {
     "duration": 0.086648,
     "end_time": "2021-09-14T05:49:03.650020",
     "exception": false,
     "start_time": "2021-09-14T05:49:03.563372",
     "status": "completed"
    },
    "tags": []
   },
   "source": [
    "### Product importance"
   ]
  },
  {
   "cell_type": "code",
   "execution_count": null,
   "id": "561aec24",
   "metadata": {
    "execution": {
     "iopub.execute_input": "2021-09-14T05:49:03.871865Z",
     "iopub.status.busy": "2021-09-14T05:49:03.866660Z",
     "iopub.status.idle": "2021-09-14T05:49:03.887421Z",
     "shell.execute_reply": "2021-09-14T05:49:03.886763Z",
     "shell.execute_reply.started": "2021-08-08T07:50:00.007874Z"
    },
    "papermill": {
     "duration": 0.150772,
     "end_time": "2021-09-14T05:49:03.887571",
     "exception": false,
     "start_time": "2021-09-14T05:49:03.736799",
     "status": "completed"
    },
    "tags": []
   },
   "outputs": [],
   "source": [
    "# looking at the product importance column and what are the categories present in it\n",
    "\n",
    "product_imp = object_columns['Product_importance'].value_counts().reset_index()\n",
    "product_imp.columns = ['Product_importance', 'value_counts']\n",
    "fig = px.pie(product_imp, names = 'Product_importance', values = 'value_counts',\n",
    "             color_discrete_sequence = px.colors.sequential.Darkmint_r, width = 650, height = 400,\n",
    "             hole = 0.5)\n",
    "fig.update_traces(textinfo = 'percent+label')"
   ]
  },
  {
   "cell_type": "code",
   "execution_count": null,
   "id": "a3bd3d52",
   "metadata": {
    "execution": {
     "iopub.execute_input": "2021-09-14T05:49:04.078037Z",
     "iopub.status.busy": "2021-09-14T05:49:04.077101Z",
     "iopub.status.idle": "2021-09-14T05:49:04.256726Z",
     "shell.execute_reply": "2021-09-14T05:49:04.257228Z",
     "shell.execute_reply.started": "2021-08-08T07:50:00.076399Z"
    },
    "papermill": {
     "duration": 0.281803,
     "end_time": "2021-09-14T05:49:04.257398",
     "exception": false,
     "start_time": "2021-09-14T05:49:03.975595",
     "status": "completed"
    },
    "tags": []
   },
   "outputs": [],
   "source": [
    "# making a countplot of product importance column and see the effect of Reached on time or not on the warehouse column.\n",
    "\n",
    "plt.figure(figsize = (17, 6))\n",
    "sns.countplot('Product_importance', hue = 'Reached.on.Time_Y.N', data = df, palette='rocket')\n",
    "plt.show()"
   ]
  },
  {
   "cell_type": "markdown",
   "id": "5cf4f135",
   "metadata": {
    "papermill": {
     "duration": 0.087869,
     "end_time": "2021-09-14T05:49:04.432740",
     "exception": false,
     "start_time": "2021-09-14T05:49:04.344871",
     "status": "completed"
    },
    "tags": []
   },
   "source": [
    "### Exploring relation of continuous columns with reached on time or not"
   ]
  },
  {
   "cell_type": "code",
   "execution_count": null,
   "id": "5c2a28a3",
   "metadata": {
    "execution": {
     "iopub.execute_input": "2021-09-14T05:49:04.623779Z",
     "iopub.status.busy": "2021-09-14T05:49:04.622898Z",
     "iopub.status.idle": "2021-09-14T05:49:04.628324Z",
     "shell.execute_reply": "2021-09-14T05:49:04.627755Z",
     "shell.execute_reply.started": "2021-08-08T07:50:00.288334Z"
    },
    "papermill": {
     "duration": 0.107884,
     "end_time": "2021-09-14T05:49:04.628465",
     "exception": false,
     "start_time": "2021-09-14T05:49:04.520581",
     "status": "completed"
    },
    "tags": []
   },
   "outputs": [],
   "source": [
    "# creating a list of continuous columns\n",
    "\n",
    "integer_columns = df.select_dtypes(include = ['int64'])\n",
    "integer_columns.head()"
   ]
  },
  {
   "cell_type": "markdown",
   "id": "26da3839",
   "metadata": {
    "papermill": {
     "duration": 0.089985,
     "end_time": "2021-09-14T05:49:04.809755",
     "exception": false,
     "start_time": "2021-09-14T05:49:04.719770",
     "status": "completed"
    },
    "tags": []
   },
   "source": [
    "### Customer_care calls"
   ]
  },
  {
   "cell_type": "code",
   "execution_count": null,
   "id": "f1a588a9",
   "metadata": {
    "execution": {
     "iopub.execute_input": "2021-09-14T05:49:04.994351Z",
     "iopub.status.busy": "2021-09-14T05:49:04.992701Z",
     "iopub.status.idle": "2021-09-14T05:49:05.048400Z",
     "shell.execute_reply": "2021-09-14T05:49:05.047822Z",
     "shell.execute_reply.started": "2021-08-08T07:50:00.306784Z"
    },
    "papermill": {
     "duration": 0.150076,
     "end_time": "2021-09-14T05:49:05.048587",
     "exception": false,
     "start_time": "2021-09-14T05:49:04.898511",
     "status": "completed"
    },
    "tags": []
   },
   "outputs": [],
   "source": [
    "# looking at the customer care calls column and what are the categories present in it\n",
    "\n",
    "customer_care = integer_columns['Customer_care_calls'].value_counts().reset_index()\n",
    "customer_care.columns = ['Customer_care_calls', 'value_counts']\n",
    "fig = px.pie(customer_care, names = 'Customer_care_calls', values = 'value_counts',\n",
    "             color_discrete_sequence = px.colors.sequential.matter_r, width = 650, height = 400,\n",
    "            hole = 0.5)\n",
    "fig.update_traces(textinfo = 'percent+label')"
   ]
  },
  {
   "cell_type": "code",
   "execution_count": null,
   "id": "a0db5f6f",
   "metadata": {
    "execution": {
     "iopub.execute_input": "2021-09-14T05:49:05.254898Z",
     "iopub.status.busy": "2021-09-14T05:49:05.254211Z",
     "iopub.status.idle": "2021-09-14T05:49:05.467962Z",
     "shell.execute_reply": "2021-09-14T05:49:05.468466Z",
     "shell.execute_reply.started": "2021-08-08T07:50:00.372658Z"
    },
    "papermill": {
     "duration": 0.329014,
     "end_time": "2021-09-14T05:49:05.468657",
     "exception": false,
     "start_time": "2021-09-14T05:49:05.139643",
     "status": "completed"
    },
    "tags": []
   },
   "outputs": [],
   "source": [
    "# making a countplot of customer care calls column and see the effect of Reached on time or not on the warehouse column.\n",
    "\n",
    "plt.figure(figsize = (17, 6))\n",
    "sns.countplot('Customer_care_calls', hue = 'Reached.on.Time_Y.N', data = df, palette='rocket')\n",
    "plt.show()"
   ]
  },
  {
   "cell_type": "markdown",
   "id": "15775b88",
   "metadata": {
    "papermill": {
     "duration": 0.091194,
     "end_time": "2021-09-14T05:49:05.649743",
     "exception": false,
     "start_time": "2021-09-14T05:49:05.558549",
     "status": "completed"
    },
    "tags": []
   },
   "source": [
    "### Customer ratings"
   ]
  },
  {
   "cell_type": "code",
   "execution_count": null,
   "id": "8910bc0b",
   "metadata": {
    "execution": {
     "iopub.execute_input": "2021-09-14T05:49:05.865793Z",
     "iopub.status.busy": "2021-09-14T05:49:05.836512Z",
     "iopub.status.idle": "2021-09-14T05:49:05.891593Z",
     "shell.execute_reply": "2021-09-14T05:49:05.890944Z",
     "shell.execute_reply.started": "2021-08-08T07:50:00.603228Z"
    },
    "papermill": {
     "duration": 0.152085,
     "end_time": "2021-09-14T05:49:05.891733",
     "exception": false,
     "start_time": "2021-09-14T05:49:05.739648",
     "status": "completed"
    },
    "tags": []
   },
   "outputs": [],
   "source": [
    "# looking at the customer ratings column and what are the categories present in it\n",
    "\n",
    "customer_ratings = integer_columns['Customer_rating'].value_counts().reset_index()\n",
    "customer_ratings.columns = ['Customer_rating', 'value_counts']\n",
    "fig = px.pie(customer_ratings, names = 'Customer_rating', values = 'value_counts',\n",
    "             color_discrete_sequence = px.colors.sequential.matter_r, width = 650, height = 400,\n",
    "            hole = 0.5)\n",
    "fig.update_traces(textinfo = 'percent+label')"
   ]
  },
  {
   "cell_type": "code",
   "execution_count": null,
   "id": "8639a2ea",
   "metadata": {
    "execution": {
     "iopub.execute_input": "2021-09-14T05:49:06.086418Z",
     "iopub.status.busy": "2021-09-14T05:49:06.085590Z",
     "iopub.status.idle": "2021-09-14T05:49:06.287687Z",
     "shell.execute_reply": "2021-09-14T05:49:06.287162Z",
     "shell.execute_reply.started": "2021-08-08T07:50:00.66814Z"
    },
    "papermill": {
     "duration": 0.301306,
     "end_time": "2021-09-14T05:49:06.287821",
     "exception": false,
     "start_time": "2021-09-14T05:49:05.986515",
     "status": "completed"
    },
    "tags": []
   },
   "outputs": [],
   "source": [
    "# making a countplot of customer ratings calls column and see the effect of Reached on time or not on the warehouse column.\n",
    "\n",
    "plt.figure(figsize = (17, 6))\n",
    "sns.countplot('Customer_rating', hue = 'Reached.on.Time_Y.N', data = df, palette='rocket')\n",
    "plt.show()"
   ]
  },
  {
   "cell_type": "markdown",
   "id": "5772d464",
   "metadata": {
    "papermill": {
     "duration": 0.090944,
     "end_time": "2021-09-14T05:49:06.470709",
     "exception": false,
     "start_time": "2021-09-14T05:49:06.379765",
     "status": "completed"
    },
    "tags": []
   },
   "source": [
    "### Prior_Purchases"
   ]
  },
  {
   "cell_type": "code",
   "execution_count": null,
   "id": "38cb7cd7",
   "metadata": {
    "execution": {
     "iopub.execute_input": "2021-09-14T05:49:06.675856Z",
     "iopub.status.busy": "2021-09-14T05:49:06.660416Z",
     "iopub.status.idle": "2021-09-14T05:49:06.715403Z",
     "shell.execute_reply": "2021-09-14T05:49:06.714764Z",
     "shell.execute_reply.started": "2021-08-08T07:50:00.885594Z"
    },
    "papermill": {
     "duration": 0.153253,
     "end_time": "2021-09-14T05:49:06.715540",
     "exception": false,
     "start_time": "2021-09-14T05:49:06.562287",
     "status": "completed"
    },
    "tags": []
   },
   "outputs": [],
   "source": [
    "# looking at the prior purchases column and what are the categories present in it\n",
    "\n",
    "prior_purchases = integer_columns['Prior_purchases'].value_counts().reset_index()\n",
    "prior_purchases.columns = ['Prior_purchases', 'value_counts']\n",
    "fig = px.pie(prior_purchases, names = 'Prior_purchases', values = 'value_counts',\n",
    "             color_discrete_sequence = px.colors.sequential.matter_r, width = 650, height = 400,\n",
    "            hole = 0.5)\n",
    "fig.update_traces(textinfo = 'percent+label')"
   ]
  },
  {
   "cell_type": "code",
   "execution_count": null,
   "id": "e106f49c",
   "metadata": {
    "execution": {
     "iopub.execute_input": "2021-09-14T05:49:06.908872Z",
     "iopub.status.busy": "2021-09-14T05:49:06.908249Z",
     "iopub.status.idle": "2021-09-14T05:49:07.127399Z",
     "shell.execute_reply": "2021-09-14T05:49:07.127919Z",
     "shell.execute_reply.started": "2021-08-08T07:50:00.948455Z"
    },
    "papermill": {
     "duration": 0.319925,
     "end_time": "2021-09-14T05:49:07.128159",
     "exception": false,
     "start_time": "2021-09-14T05:49:06.808234",
     "status": "completed"
    },
    "tags": []
   },
   "outputs": [],
   "source": [
    "# making a countplot of prior purchases column and see the effect of Reached on time or not on the warehouse column.\n",
    "\n",
    "plt.figure(figsize = (17, 6))\n",
    "sns.countplot('Prior_purchases', hue = 'Reached.on.Time_Y.N', data = df, palette='rocket')\n",
    "plt.show()"
   ]
  },
  {
   "cell_type": "markdown",
   "id": "35a8c9df",
   "metadata": {
    "papermill": {
     "duration": 0.092887,
     "end_time": "2021-09-14T05:49:07.314248",
     "exception": false,
     "start_time": "2021-09-14T05:49:07.221361",
     "status": "completed"
    },
    "tags": []
   },
   "source": [
    "### Reached on Time Delivery"
   ]
  },
  {
   "cell_type": "code",
   "execution_count": null,
   "id": "4db0280b",
   "metadata": {
    "execution": {
     "iopub.execute_input": "2021-09-14T05:49:07.503950Z",
     "iopub.status.busy": "2021-09-14T05:49:07.503317Z",
     "iopub.status.idle": "2021-09-14T05:49:07.558073Z",
     "shell.execute_reply": "2021-09-14T05:49:07.558623Z",
     "shell.execute_reply.started": "2021-08-08T07:50:01.183875Z"
    },
    "papermill": {
     "duration": 0.151069,
     "end_time": "2021-09-14T05:49:07.558800",
     "exception": false,
     "start_time": "2021-09-14T05:49:07.407731",
     "status": "completed"
    },
    "tags": []
   },
   "outputs": [],
   "source": [
    "# looking at the reached on time or not column and what are the categories present in it\n",
    "\n",
    "reached_on_time_y_n = integer_columns['Reached.on.Time_Y.N'].value_counts().reset_index()\n",
    "reached_on_time_y_n.columns = ['Reached.on.Time_Y.N', 'value_counts']\n",
    "fig = px.pie(reached_on_time_y_n, names = 'Reached.on.Time_Y.N', values = 'value_counts',\n",
    "             color_discrete_sequence = px.colors.sequential.Darkmint_r, width = 650, height = 400,\n",
    "            hole = 0.5)\n",
    "fig.update_traces(textinfo = 'percent+label')"
   ]
  },
  {
   "cell_type": "markdown",
   "id": "ad226df4",
   "metadata": {
    "papermill": {
     "duration": 0.094129,
     "end_time": "2021-09-14T05:49:07.748236",
     "exception": false,
     "start_time": "2021-09-14T05:49:07.654107",
     "status": "completed"
    },
    "tags": []
   },
   "source": [
    "### Cost of the product"
   ]
  },
  {
   "cell_type": "code",
   "execution_count": null,
   "id": "ad247f6a",
   "metadata": {
    "execution": {
     "iopub.execute_input": "2021-09-14T05:49:07.938704Z",
     "iopub.status.busy": "2021-09-14T05:49:07.938095Z",
     "iopub.status.idle": "2021-09-14T05:49:08.569834Z",
     "shell.execute_reply": "2021-09-14T05:49:08.570345Z",
     "shell.execute_reply.started": "2021-08-08T07:50:01.243724Z"
    },
    "papermill": {
     "duration": 0.728576,
     "end_time": "2021-09-14T05:49:08.570519",
     "exception": false,
     "start_time": "2021-09-14T05:49:07.841943",
     "status": "completed"
    },
    "tags": []
   },
   "outputs": [],
   "source": [
    "# making a distplot of cost of the product column\n",
    "\n",
    "plt.figure(figsize = (15, 7))\n",
    "ax = sns.distplot(df['Cost_of_the_Product'], bins = 100, color = 'y')\n",
    "\n",
    "plt.show()"
   ]
  },
  {
   "cell_type": "code",
   "execution_count": null,
   "id": "1e532750",
   "metadata": {
    "execution": {
     "iopub.execute_input": "2021-09-14T05:49:08.767505Z",
     "iopub.status.busy": "2021-09-14T05:49:08.766837Z",
     "iopub.status.idle": "2021-09-14T05:49:08.939473Z",
     "shell.execute_reply": "2021-09-14T05:49:08.940025Z",
     "shell.execute_reply.started": "2021-08-08T07:50:01.866061Z"
    },
    "papermill": {
     "duration": 0.273327,
     "end_time": "2021-09-14T05:49:08.940198",
     "exception": false,
     "start_time": "2021-09-14T05:49:08.666871",
     "status": "completed"
    },
    "tags": []
   },
   "outputs": [],
   "source": [
    "# looking at the relation between cost of the product and whether the product reached on time or not using boxplot\n",
    "\n",
    "px.box(data_frame = df, x = 'Reached.on.Time_Y.N', y = 'Cost_of_the_Product', \n",
    "       color = 'Reached.on.Time_Y.N', template = 'plotly_dark')"
   ]
  },
  {
   "cell_type": "markdown",
   "id": "0e7415f3",
   "metadata": {
    "papermill": {
     "duration": 0.098489,
     "end_time": "2021-09-14T05:49:09.139117",
     "exception": false,
     "start_time": "2021-09-14T05:49:09.040628",
     "status": "completed"
    },
    "tags": []
   },
   "source": [
    "### Discount Offered"
   ]
  },
  {
   "cell_type": "code",
   "execution_count": null,
   "id": "aef39ba1",
   "metadata": {
    "execution": {
     "iopub.execute_input": "2021-09-14T05:49:09.335776Z",
     "iopub.status.busy": "2021-09-14T05:49:09.335161Z",
     "iopub.status.idle": "2021-09-14T05:49:09.741863Z",
     "shell.execute_reply": "2021-09-14T05:49:09.741306Z",
     "shell.execute_reply.started": "2021-08-08T07:50:02.052157Z"
    },
    "papermill": {
     "duration": 0.50588,
     "end_time": "2021-09-14T05:49:09.742029",
     "exception": false,
     "start_time": "2021-09-14T05:49:09.236149",
     "status": "completed"
    },
    "tags": []
   },
   "outputs": [],
   "source": [
    "# making a distplot of discount offered column\n",
    "\n",
    "plt.figure(figsize = (15, 7))\n",
    "ax = sns.distplot(df['Discount_offered'], color = 'y')\n",
    "\n",
    "plt.show()"
   ]
  },
  {
   "cell_type": "code",
   "execution_count": null,
   "id": "4f33bd99",
   "metadata": {
    "execution": {
     "iopub.execute_input": "2021-09-14T05:49:09.954681Z",
     "iopub.status.busy": "2021-09-14T05:49:09.953841Z",
     "iopub.status.idle": "2021-09-14T05:49:10.055785Z",
     "shell.execute_reply": "2021-09-14T05:49:10.056304Z",
     "shell.execute_reply.started": "2021-08-08T07:50:02.45861Z"
    },
    "papermill": {
     "duration": 0.214582,
     "end_time": "2021-09-14T05:49:10.056474",
     "exception": false,
     "start_time": "2021-09-14T05:49:09.841892",
     "status": "completed"
    },
    "tags": []
   },
   "outputs": [],
   "source": [
    "# looking at the relation between discount offered and whether the product reached on time or not using boxplot\n",
    "\n",
    "px.box(data_frame = df, x = 'Reached.on.Time_Y.N', y = 'Discount_offered', \n",
    "       color = 'Reached.on.Time_Y.N', template = 'plotly_dark')"
   ]
  },
  {
   "cell_type": "markdown",
   "id": "9d9df870",
   "metadata": {
    "papermill": {
     "duration": 0.099471,
     "end_time": "2021-09-14T05:49:10.255806",
     "exception": false,
     "start_time": "2021-09-14T05:49:10.156335",
     "status": "completed"
    },
    "tags": []
   },
   "source": [
    "### Weights in Grams"
   ]
  },
  {
   "cell_type": "code",
   "execution_count": null,
   "id": "05fb9708",
   "metadata": {
    "execution": {
     "iopub.execute_input": "2021-09-14T05:49:10.480977Z",
     "iopub.status.busy": "2021-09-14T05:49:10.480330Z",
     "iopub.status.idle": "2021-09-14T05:49:11.110609Z",
     "shell.execute_reply": "2021-09-14T05:49:11.110108Z",
     "shell.execute_reply.started": "2021-08-08T07:50:02.743172Z"
    },
    "papermill": {
     "duration": 0.755491,
     "end_time": "2021-09-14T05:49:11.110747",
     "exception": false,
     "start_time": "2021-09-14T05:49:10.355256",
     "status": "completed"
    },
    "tags": []
   },
   "outputs": [],
   "source": [
    "# making a distplot of weights in gram column\n",
    "\n",
    "plt.figure(figsize = (15, 7))\n",
    "ax = sns.distplot(df['Weight_in_gms'], bins = 100, color = 'y')\n",
    "\n",
    "plt.show()"
   ]
  },
  {
   "cell_type": "code",
   "execution_count": null,
   "id": "8fc3eb85",
   "metadata": {
    "execution": {
     "iopub.execute_input": "2021-09-14T05:49:11.324106Z",
     "iopub.status.busy": "2021-09-14T05:49:11.322736Z",
     "iopub.status.idle": "2021-09-14T05:49:11.428796Z",
     "shell.execute_reply": "2021-09-14T05:49:11.428223Z",
     "shell.execute_reply.started": "2021-08-08T07:50:03.240457Z"
    },
    "papermill": {
     "duration": 0.215768,
     "end_time": "2021-09-14T05:49:11.428937",
     "exception": false,
     "start_time": "2021-09-14T05:49:11.213169",
     "status": "completed"
    },
    "tags": []
   },
   "outputs": [],
   "source": [
    "# looking at the relation between weights in grams and whether the product reached on time or not using boxplot\\\n",
    "\n",
    "px.box(data_frame = df, x = 'Reached.on.Time_Y.N', y = 'Weight_in_gms', \n",
    "       color = 'Reached.on.Time_Y.N', template = 'plotly_dark')"
   ]
  },
  {
   "cell_type": "code",
   "execution_count": null,
   "id": "2492d06a",
   "metadata": {
    "execution": {
     "iopub.execute_input": "2021-09-14T05:49:11.701616Z",
     "iopub.status.busy": "2021-09-14T05:49:11.700943Z",
     "iopub.status.idle": "2021-09-14T05:49:11.705077Z",
     "shell.execute_reply": "2021-09-14T05:49:11.705512Z",
     "shell.execute_reply.started": "2021-08-08T07:50:03.353308Z"
    },
    "papermill": {
     "duration": 0.172844,
     "end_time": "2021-09-14T05:49:11.705711",
     "exception": false,
     "start_time": "2021-09-14T05:49:11.532867",
     "status": "completed"
    },
    "tags": []
   },
   "outputs": [],
   "source": [
    "df.head() # looking at first five rows of the data"
   ]
  },
  {
   "cell_type": "markdown",
   "id": "04bd9fbd",
   "metadata": {
    "papermill": {
     "duration": 0.105752,
     "end_time": "2021-09-14T05:49:11.917689",
     "exception": false,
     "start_time": "2021-09-14T05:49:11.811937",
     "status": "completed"
    },
    "tags": []
   }
}
