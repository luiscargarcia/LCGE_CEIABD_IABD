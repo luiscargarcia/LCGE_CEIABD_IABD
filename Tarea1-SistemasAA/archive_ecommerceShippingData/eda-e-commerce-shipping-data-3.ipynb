{
 "cells": [
  {
   "cell_type": "markdown",
   "id": "3180b09e",
   "metadata": {
    "papermill": {
     "duration": 0.074464,
     "end_time": "2021-09-14T05:48:51.716117",
     "exception": false,
     "start_time": "2021-09-14T05:48:51.641653",
     "status": "completed"
    },
    "tags": []
   },
   "source": [
    "# EDA on E-Commerce Shipping Data"
   ]
  },
  {
   "cell_type": "markdown",
   "id": "66048f31",
   "metadata": {
    "papermill": {
     "duration": 0.071611,
     "end_time": "2021-09-14T05:48:51.859540",
     "exception": false,
     "start_time": "2021-09-14T05:48:51.787929",
     "status": "completed"
    },
    "tags": []
   },
   "source": [
    "### Data Description\n",
    "- ID: ID Number of Customers.\n",
    "- Warehouse block:- The Company have big Warehouse which is divided in to block such as A,B,C,D,E.\n",
    "- Mode of shipment:-The Company Ships the products in multiple way such as Ship, Flight and Road.\n",
    "- Customer care calls:- The number of calls made from enquiry for enquiry of the shipment.\n",
    "- Customer rating:- The company has rated from every customer. 1 is the lowest (Worst), 5 is the highest (Best).\n",
    "- Cost of the product-: Cost of the Product in US Dollars.\n",
    "- Prior purchases:- The Number of Prior Purchase.\n",
    "- Product importance:- The company has categorized the product in the various parameter such as low, medium, high.\n",
    "- Gender:- Male and Female.\n",
    "- Discount offered:- Discount offered on that specific product.\n",
    "- Weight in gms:- It is the weight in grams.\n",
    "- Reached on time:- It is the target variable, where 1 Indicates that the product has NOT reached on time and 0 indicates it has reached on time."
   ]
  },
  {
   "cell_type": "code",
   "execution_count": null,
   "id": "73713878",
   "metadata": {
    "execution": {
     "iopub.execute_input": "2021-09-14T05:48:52.016659Z",
     "iopub.status.busy": "2021-09-14T05:48:52.015843Z",
     "iopub.status.idle": "2021-09-14T05:48:54.499505Z",
     "shell.execute_reply": "2021-09-14T05:48:54.500033Z",
     "shell.execute_reply.started": "2021-08-08T07:49:52.504819Z"
    },
    "papermill": {
     "duration": 2.568721,
     "end_time": "2021-09-14T05:48:54.500353",
     "exception": false,
     "start_time": "2021-09-14T05:48:51.931632",
     "status": "completed"
    },
    "tags": []
   },
   "outputs": [],
   "source": [
    "# necessary imports\n",
    "\n",
    "import pandas as pd\n",
    "import numpy as np\n",
    "import matplotlib.pyplot as plt\n",
    "import seaborn as sns\n",
    "import plotly.express as px\n",
    "\n",
    "import warnings\n",
    "warnings.filterwarnings('ignore')\n",
    "\n",
    "plt.style.use('fivethirtyeight')\n",
    "%matplotlib inline"
   ]
  },
  {
   "cell_type": "code",
   "execution_count": null,
   "id": "1d62abb4",
   "metadata": {
    "execution": {
     "iopub.execute_input": "2021-09-14T05:48:54.647054Z",
     "iopub.status.busy": "2021-09-14T05:48:54.646127Z",
     "iopub.status.idle": "2021-09-14T05:48:54.720168Z",
     "shell.execute_reply": "2021-09-14T05:48:54.720670Z",
     "shell.execute_reply.started": "2021-08-08T07:49:55.010391Z"
    },
    "papermill": {
     "duration": 0.149149,
     "end_time": "2021-09-14T05:48:54.720840",
     "exception": false,
     "start_time": "2021-09-14T05:48:54.571691",
     "status": "completed"
    },
    "tags": []
   },
   "outputs": [],
   "source": [
    "# loading data\n",
    "\n",
    "df = pd.read_csv('../input/customer-analytics/Train.csv')\n",
    "df.head()"
   ]
  },
  {
   "cell_type": "code",
   "execution_count": null,
   "id": "673c6be9",
   "metadata": {
    "execution": {
     "iopub.execute_input": "2021-09-14T05:48:54.869139Z",
     "iopub.status.busy": "2021-09-14T05:48:54.868149Z",
     "iopub.status.idle": "2021-09-14T05:48:54.873813Z",
     "shell.execute_reply": "2021-09-14T05:48:54.874313Z",
     "shell.execute_reply.started": "2021-08-08T07:49:55.075565Z"
    },
    "papermill": {
     "duration": 0.081026,
     "end_time": "2021-09-14T05:48:54.874504",
     "exception": false,
     "start_time": "2021-09-14T05:48:54.793478",
     "status": "completed"
    },
    "tags": []
   },
   "outputs": [],
   "source": [
    "df.shape # looking at the shape of data"
   ]
  },
  {
   "cell_type": "code",
   "execution_count": null,
   "id": "425566af",
   "metadata": {
    "execution": {
     "iopub.execute_input": "2021-09-14T05:48:55.029844Z",
     "iopub.status.busy": "2021-09-14T05:48:55.028945Z",
     "iopub.status.idle": "2021-09-14T05:48:55.063191Z",
     "shell.execute_reply": "2021-09-14T05:48:55.063705Z",
     "shell.execute_reply.started": "2021-08-08T07:49:55.083418Z"
    },
    "papermill": {
     "duration": 0.116754,
     "end_time": "2021-09-14T05:48:55.063872",
     "exception": false,
     "start_time": "2021-09-14T05:48:54.947118",
     "status": "completed"
    },
    "tags": []
   },
   "outputs": [],
   "source": [
    "df.describe() # getting description of data"
   ]
  },
  {
   "cell_type": "code",
   "execution_count": null,
   "id": "0261ae75",
   "metadata": {
    "execution": {
     "iopub.execute_input": "2021-09-14T05:48:55.211515Z",
     "iopub.status.busy": "2021-09-14T05:48:55.210565Z",
     "iopub.status.idle": "2021-09-14T05:48:55.232083Z",
     "shell.execute_reply": "2021-09-14T05:48:55.232788Z",
     "shell.execute_reply.started": "2021-08-08T07:49:55.1322Z"
    },
    "papermill": {
     "duration": 0.097205,
     "end_time": "2021-09-14T05:48:55.233033",
     "exception": false,
     "start_time": "2021-09-14T05:48:55.135828",
     "status": "completed"
    },
    "tags": []
   },
   "outputs": [],
   "source": [
    "df.info() # taking a look at info of the data."
   ]
  },
  {
   "cell_type": "code",
   "execution_count": null,
   "id": "697f5672",
   "metadata": {
    "execution": {
     "iopub.execute_input": "2021-09-14T05:48:55.385878Z",
     "iopub.status.busy": "2021-09-14T05:48:55.384928Z",
     "iopub.status.idle": "2021-09-14T05:48:56.466443Z",
     "shell.execute_reply": "2021-09-14T05:48:56.465785Z",
     "shell.execute_reply.started": "2021-08-08T07:49:55.158987Z"
    },
    "papermill": {
     "duration": 1.15822,
     "end_time": "2021-09-14T05:48:56.466631",
     "exception": false,
     "start_time": "2021-09-14T05:48:55.308411",
     "status": "completed"
    },
    "tags": []
   },
   "outputs": [],
   "source": [
    "# checking for null values using missingno module\n",
    "\n",
    "import missingno as msno\n",
    "msno.bar(df, color = 'lightblue')\n",
    "plt.title('Checking for Null Values\\n', fontsize = 40)\n",
    "plt.show()"
   ]
  },
  {
   "cell_type": "code",
   "execution_count": null,
   "id": "65929709",
   "metadata": {
    "execution": {
     "iopub.execute_input": "2021-09-14T05:48:56.621900Z",
     "iopub.status.busy": "2021-09-14T05:48:56.621287Z",
     "iopub.status.idle": "2021-09-14T05:48:56.639279Z",
     "shell.execute_reply": "2021-09-14T05:48:56.638746Z",
     "shell.execute_reply.started": "2021-08-08T07:49:56.072708Z"
    },
    "papermill": {
     "duration": 0.096032,
     "end_time": "2021-09-14T05:48:56.639422",
     "exception": false,
     "start_time": "2021-09-14T05:48:56.543390",
     "status": "completed"
    },
    "tags": []
   },
   "outputs": [],
   "source": [
    "# dropping unwanted column using drop method\n",
    "\n",
    "df.drop('ID', axis = 1, inplace = True)\n",
    "df.head()"
   ]
  },
  {
   "cell_type": "code",
   "execution_count": null,
   "id": "cfb2a13e",
   "metadata": {
    "execution": {
     "iopub.execute_input": "2021-09-14T05:48:56.798245Z",
     "iopub.status.busy": "2021-09-14T05:48:56.797539Z",
     "iopub.status.idle": "2021-09-14T05:48:57.351279Z",
     "shell.execute_reply": "2021-09-14T05:48:57.350710Z",
     "shell.execute_reply.started": "2021-08-08T07:49:56.095282Z"
    },
    "papermill": {
     "duration": 0.635968,
     "end_time": "2021-09-14T05:48:57.351415",
     "exception": false,
     "start_time": "2021-09-14T05:48:56.715447",
     "status": "completed"
    },
    "tags": []
   },
   "outputs": [],
   "source": [
    "# heatmap of the data for checking the correlation between the features and target column.\n",
    "\n",
    "plt.figure(figsize = (18, 7))\n",
    "sns.heatmap(df.corr(), annot = True, fmt = '0.2f', annot_kws = {'size' : 15}, linewidth = 5, linecolor = 'orange')\n",
    "plt.show()"
   ]
  },
  {
   "cell_type": "markdown",
   "id": "b9868ec9",
   "metadata": {
    "papermill": {
     "duration": 0.076569,
     "end_time": "2021-09-14T05:48:57.505339",
     "exception": false,
     "start_time": "2021-09-14T05:48:57.428770",
     "status": "completed"
    },
    "tags": []
   },
   "source": [
    "Conclusions from Correlation matrix :-\n",
    "- Discount Offered have high positive correlation with Reached on Time or Not of 40%.\n",
    "- Weights in gram have negative correlation with Reached on Time or Not -27%.\n",
    "- Discount Offered and weights in grams have negative correlation -38%.\n",
    "- Customer care calls and weights in grams havenegative correlation -28%.\n",
    "- Customer care calls and cost of the product have positive correlation of 32%.\n",
    "- Prior Purchases and Customer care calls have slightly positive correlation."
   ]
  },
  {
   "cell_type": "code",
   "execution_count": null,
   "id": "a0da0c72",
   "metadata": {
    "execution": {
     "iopub.execute_input": "2021-09-14T05:48:57.678354Z",
     "iopub.status.busy": "2021-09-14T05:48:57.677698Z",
     "iopub.status.idle": "2021-09-14T05:48:57.681152Z",
     "shell.execute_reply": "2021-09-14T05:48:57.681629Z",
     "shell.execute_reply.started": "2021-08-08T07:49:56.619983Z"
    },
    "papermill": {
     "duration": 0.09797,
     "end_time": "2021-09-14T05:48:57.681809",
     "exception": false,
     "start_time": "2021-09-14T05:48:57.583839",
     "status": "completed"
    },
    "tags": []
   },
   "outputs": [],
   "source": [
    "df.head() # looking at first five rows of the data"
   ]
  },
  {
   "cell_type": "markdown",
   "id": "11289406",
   "metadata": {
    "papermill": {
     "duration": 0.077189,
     "end_time": "2021-09-14T05:48:57.837122",
     "exception": false,
     "start_time": "2021-09-14T05:48:57.759933",
     "status": "completed"
    },
    "tags": []
   },
   "source": [
    "## Exploratory Data Analysis (EDA)"
   ]
  },
  {
   "cell_type": "markdown",
   "id": "05d555f4",
   "metadata": {
    "papermill": {
     "duration": 0.07716,
     "end_time": "2021-09-14T05:48:57.992807",
     "exception": false,
     "start_time": "2021-09-14T05:48:57.915647",
     "status": "completed"
    },
    "tags": []
   },
   "source": [
    "**Checking value counts of categorical columns**"
   ]
  },
  {
   "cell_type": "code",
   "execution_count": null,
   "id": "a21d9147",
   "metadata": {
    "execution": {
     "iopub.execute_input": "2021-09-14T05:48:58.154022Z",
     "iopub.status.busy": "2021-09-14T05:48:58.153339Z",
     "iopub.status.idle": "2021-09-14T05:48:59.518608Z",
     "shell.execute_reply": "2021-09-14T05:48:59.519067Z",
     "shell.execute_reply.started": "2021-08-08T07:49:56.635411Z"
    },
    "papermill": {
     "duration": 1.447336,
     "end_time": "2021-09-14T05:48:59.519243",
     "exception": false,
     "start_time": "2021-09-14T05:48:58.071907",
     "status": "completed"
    },
    "tags": []
   },
   "outputs": [],
   "source": [
    "# here by these plots we are lookin at the counts of each categories in the categorical columns\n",
    "# creating a list of categorical coumns\n",
    "cols = ['Warehouse_block', 'Mode_of_Shipment', 'Customer_care_calls', 'Customer_rating',\n",
    "        'Prior_purchases', 'Product_importance', 'Gender', 'Reached.on.Time_Y.N']\n",
    "\n",
    "plt.figure(figsize = (16, 20))\n",
    "plotnumber = 1\n",
    "\n",
    "# plotting the countplot of each categorical column.\n",
    "\n",
    "for i in range(len(cols)):\n",
    "    if plotnumber <= 8:\n",
    "        ax = plt.subplot(4, 2, plotnumber)\n",
    "        sns.countplot(x = cols[i], data = df, ax = ax, palette='rocket')\n",
    "        plt.title(f\"\\n{cols[i]} Value Counts\\n\", fontsize = 20)\n",
    "        \n",
    "    plotnumber += 1\n",
    "\n",
    "plt.tight_layout()\n",
    "plt.show()"
   ]
  },
  {
   "cell_type": "markdown",
   "id": "205ab3a2",
   "metadata": {
    "papermill": {
     "duration": 0.08092,
     "end_time": "2021-09-14T05:48:59.684069",
     "exception": false,
     "start_time": "2021-09-14T05:48:59.603149",
     "status": "completed"
    },
    "tags": []
   },
   "source": [
    "From the above plots, we can conclude following:-\n",
    "- Warehouse block F have has more values than all other Warehouse blocks.\n",
    "- In mode of shipment columns we can clearly see that ship delivers the most of products to the customers.\n",
    "- Most of the customers calls 3 or 4 times to the customer care centers.\n",
    "- Customer Ratings does not have much variation.\n",
    "- Most of the customers have 3 prior purchases.\n",
    "- We can say that mopst of the products are of low Importance.\n",
    "- Gender Column doesn't have much variance.\n",
    "- More products doesn't reach on time than products reached on time.\n"
   ]
  },
  {
   "cell_type": "markdown",
   "id": "9a01d04e",
   "metadata": {
    "papermill": {
     "duration": 0.080688,
     "end_time": "2021-09-14T05:48:59.845909",
     "exception": false,
     "start_time": "2021-09-14T05:48:59.765221",
     "status": "completed"
    },
    "tags": []
   },
   "source": [
    "### Exploring relation of categorical columns with reached on time or not"
   ]
  },
  {
   "cell_type": "code",
   "execution_count": null,
   "id": "f7476f1f",
   "metadata": {
    "execution": {
     "iopub.execute_input": "2021-09-14T05:49:00.016525Z",
     "iopub.status.busy": "2021-09-14T05:49:00.015546Z",
     "iopub.status.idle": "2021-09-14T05:49:00.026299Z",
     "shell.execute_reply": "2021-09-14T05:49:00.026738Z",
     "shell.execute_reply.started": "2021-08-08T07:49:57.958169Z"
    },
    "papermill": {
     "duration": 0.099693,
     "end_time": "2021-09-14T05:49:00.026910",
     "exception": false,
     "start_time": "2021-09-14T05:48:59.927217",
     "status": "completed"
    },
    "tags": []
   },
   "outputs": [],
   "source": [
    "# creating a list of categorical coumns\n",
    "\n",
    "object_columns = df.select_dtypes(include = ['object'])\n",
    "object_columns.head()"
   ]
  },
  {
   "cell_type": "markdown",
   "id": "a274a5c2",
   "metadata": {
    "papermill": {
     "duration": 0.081146,
     "end_time": "2021-09-14T05:49:00.190279",
     "exception": false,
     "start_time": "2021-09-14T05:49:00.109133",
     "status": "completed"
    },
    "tags": []
   },
   "source": [
    "### Ware_house block"
   ]
  },
  {
   "cell_type": "code",
   "execution_count": null,
   "id": "9952e0bd",
   "metadata": {
    "execution": {
     "iopub.execute_input": "2021-09-14T05:49:00.357892Z",
     "iopub.status.busy": "2021-09-14T05:49:00.356944Z",
     "iopub.status.idle": "2021-09-14T05:49:01.587363Z",
     "shell.execute_reply": "2021-09-14T05:49:01.586750Z",
     "shell.execute_reply.started": "2021-08-08T07:49:57.979018Z"
    },
    "papermill": {
     "duration": 1.315047,
     "end_time": "2021-09-14T05:49:01.587518",
     "exception": false,
     "start_time": "2021-09-14T05:49:00.272471",
     "status": "completed"
    },
    "tags": []
   },
   "outputs": [],
   "source": [
    "# looking at the warehouse column and what are the categories present in it\n",
    "\n",
    "warehouse = object_columns['Warehouse_block'].value_counts().reset_index()\n",
    "warehouse.columns = ['warehouse', 'value_counts']\n",
    "fig = px.pie(warehouse, names = 'warehouse', values = 'value_counts', \n",
    "             color_discrete_sequence = px.colors.sequential.matter_r, width = 650, height = 400,\n",
    "             hole = 0.5)\n",
    "fig.update_traces(textinfo = 'percent+label')"
   ]
  },
  {
   "cell_type": "code",
   "execution_count": null,
   "id": "db36edde",
   "metadata": {
    "execution": {
     "iopub.execute_input": "2021-09-14T05:49:01.776996Z",
     "iopub.status.busy": "2021-09-14T05:49:01.772087Z",
     "iopub.status.idle": "2021-09-14T05:49:01.964509Z",
     "shell.execute_reply": "2021-09-14T05:49:01.963883Z",
     "shell.execute_reply.started": "2021-08-08T07:49:59.251285Z"
    },
    "papermill": {
     "duration": 0.292654,
     "end_time": "2021-09-14T05:49:01.964642",
     "exception": false,
     "start_time": "2021-09-14T05:49:01.671988",
     "status": "completed"
    },
    "tags": []
   },
   "outputs": [],
   "source": [
    "# making a countplot of warehouse column and see the effect of Reached on time or not on the warehouse column.\n",
    "\n",
    "plt.figure(figsize = (17, 6))\n",
    "sns.countplot('Warehouse_block', hue = 'Reached.on.Time_Y.N', data = df, palette='rocket')\n",
    "plt.show()"
   ]
  },
  {
   "cell_type": "markdown",
   "id": "85cdd4db",
   "metadata": {
    "papermill": {
     "duration": 0.086636,
     "end_time": "2021-09-14T05:49:02.135571",
     "exception": false,
     "start_time": "2021-09-14T05:49:02.048935",
     "status": "completed"
    },
    "tags": []
   },
   "source": [
    "### gender"
   ]
  },
  {
   "cell_type": "code",
   "execution_count": null,
   "id": "81a28cf2",
   "metadata": {
    "execution": {
     "iopub.execute_input": "2021-09-14T05:49:02.331990Z",
     "iopub.status.busy": "2021-09-14T05:49:02.316793Z",
     "iopub.status.idle": "2021-09-14T05:49:02.370972Z",
     "shell.execute_reply": "2021-09-14T05:49:02.370309Z",
     "shell.execute_reply.started": "2021-08-08T07:49:59.483015Z"
    },
    "papermill": {
     "duration": 0.146583,
     "end_time": "2021-09-14T05:49:02.371124",
     "exception": false,
     "start_time": "2021-09-14T05:49:02.224541",
     "status": "completed"
    },
    "tags": []
   },
   "outputs": [],
   "source": [
    "# looking at the gender column and what are the categories present in it\n",
    "\n",
    "gender = object_columns['Gender'].value_counts().reset_index()\n",
    "gender.columns = ['Gender', 'value_counts']\n",
    "fig = px.pie(gender, names = 'Gender', values = 'value_counts', color_discrete_sequence = \n",
    "            px.colors.sequential.Darkmint_r, width = 650, height = 400, hole = 0.5)\n",
    "fig.update_traces(textinfo = 'percent+label')"
   ]
  },
  {
   "cell_type": "code",
   "execution_count": null,
   "id": "92d4a495",
   "metadata": {
    "execution": {
     "iopub.execute_input": "2021-09-14T05:49:02.554040Z",
     "iopub.status.busy": "2021-09-14T05:49:02.553373Z",
     "iopub.status.idle": "2021-09-14T05:49:02.717688Z",
     "shell.execute_reply": "2021-09-14T05:49:02.717187Z",
     "shell.execute_reply.started": "2021-08-08T07:49:59.553665Z"
    },
    "papermill": {
     "duration": 0.261881,
     "end_time": "2021-09-14T05:49:02.717828",
     "exception": false,
     "start_time": "2021-09-14T05:49:02.455947",
     "status": "completed"
    },
    "tags": []
   },
   "outputs": [],
   "source": [
    "# making a countplot of gender column and see the effect of Reached on time or not on the warehouse column.\n",
    "\n",
    "plt.figure(figsize = (17, 6))\n",
    "sns.countplot('Gender', hue = 'Reached.on.Time_Y.N', data = df, palette='rocket')\n",
    "plt.show()"
   ]
  },
  {
   "cell_type": "markdown",
   "id": "17c038ff",
   "metadata": {
    "papermill": {
     "duration": 0.084365,
     "end_time": "2021-09-14T05:49:02.887099",
     "exception": false,
     "start_time": "2021-09-14T05:49:02.802734",
     "status": "completed"
    },
    "tags": []
   },
   "source": [
    "### Mode of shipment"
   ]
  },
  {
   "cell_type": "code",
   "execution_count": null,
   "id": "71c8997a",
   "metadata": {
    "execution": {
     "iopub.execute_input": "2021-09-14T05:49:03.087552Z",
     "iopub.status.busy": "2021-09-14T05:49:03.068289Z",
     "iopub.status.idle": "2021-09-14T05:49:03.123704Z",
     "shell.execute_reply": "2021-09-14T05:49:03.124200Z",
     "shell.execute_reply.started": "2021-08-08T07:49:59.752404Z"
    },
    "papermill": {
     "duration": 0.151287,
     "end_time": "2021-09-14T05:49:03.124380",
     "exception": false,
     "start_time": "2021-09-14T05:49:02.973093",
     "status": "completed"
    },
    "tags": []
   },
   "outputs": [],
   "source": [
    "# looking at the mode of shipment column and what are the categories present in it\n",
    "\n",
    "mode = object_columns['Mode_of_Shipment'].value_counts().reset_index()\n",
    "mode.columns = ['Mode_of_Shipment', 'value_counts']\n",
    "fig = px.pie(mode, names = 'Mode_of_Shipment', values = 'value_counts', color_discrete_sequence = \n",
    "            px.colors.sequential.Darkmint_r, width = 650, height = 400, hole = 0.5)\n",
    "fig.update_traces(textinfo = 'percent+label')"
   ]
  },
  {
   "cell_type": "code",
   "execution_count": null,
   "id": "31bddf09",
   "metadata": {
    "execution": {
     "iopub.execute_input": "2021-09-14T05:49:03.315185Z",
     "iopub.status.busy": "2021-09-14T05:49:03.314078Z",
     "iopub.status.idle": "2021-09-14T05:49:03.476057Z",
     "shell.execute_reply": "2021-09-14T05:49:03.475375Z",
     "shell.execute_reply.started": "2021-08-08T07:49:59.822022Z"
    },
    "papermill": {
     "duration": 0.265417,
     "end_time": "2021-09-14T05:49:03.476196",
     "exception": false,
     "start_time": "2021-09-14T05:49:03.210779",
     "status": "completed"
    },
    "tags": []
   },
   "outputs": [],
   "source": [
    "# making a countplot of mode of shipment column and see the effect of Reached on time or not on the warehouse column.\n",
    "\n",
    "plt.figure(figsize = (17, 6))\n",
    "sns.countplot('Mode_of_Shipment', hue = 'Reached.on.Time_Y.N', data = df, palette='rocket')\n",
    "plt.show()"
   ]
  },
  {
   "cell_type": "markdown",
   "id": "fbddaa33",
   "metadata": {
    "papermill": {
     "duration": 0.086648,
     "end_time": "2021-09-14T05:49:03.650020",
     "exception": false,
     "start_time": "2021-09-14T05:49:03.563372",
     "status": "completed"
    },
    "tags": []
   },
   "source": [
    "### Product importance"
   ]
  },
  {
   "cell_type": "code",
   "execution_count": null,
   "id": "561aec24",
   "metadata": {
    "execution": {
     "iopub.execute_input": "2021-09-14T05:49:03.871865Z",
     "iopub.status.busy": "2021-09-14T05:49:03.866660Z",
     "iopub.status.idle": "2021-09-14T05:49:03.887421Z",
     "shell.execute_reply": "2021-09-14T05:49:03.886763Z",
     "shell.execute_reply.started": "2021-08-08T07:50:00.007874Z"
    },
    "papermill": {
     "duration": 0.150772,
     "end_time": "2021-09-14T05:49:03.887571",
     "exception": false,
     "start_time": "2021-09-14T05:49:03.736799",
     "status": "completed"
    },
    "tags": []
   },
   "outputs": [],
   "source": [
    "# looking at the product importance column and what are the categories present in it\n",
    "\n",
    "product_imp = object_columns['Product_importance'].value_counts().reset_index()\n",
    "product_imp.columns = ['Product_importance', 'value_counts']\n",
    "fig = px.pie(product_imp, names = 'Product_importance', values = 'value_counts',\n",
    "             color_discrete_sequence = px.colors.sequential.Darkmint_r, width = 650, height = 400,\n",
    "             hole = 0.5)\n",
    "fig.update_traces(textinfo = 'percent+label')"
   ]
  },
  {
   "cell_type": "code",
   "execution_count": null,
   "id": "a3bd3d52",
   "metadata": {
    "execution": {
     "iopub.execute_input": "2021-09-14T05:49:04.078037Z",
     "iopub.status.busy": "2021-09-14T05:49:04.077101Z",
     "iopub.status.idle": "2021-09-14T05:49:04.256726Z",
     "shell.execute_reply": "2021-09-14T05:49:04.257228Z",
     "shell.execute_reply.started": "2021-08-08T07:50:00.076399Z"
    },
    "papermill": {
     "duration": 0.281803,
     "end_time": "2021-09-14T05:49:04.257398",
     "exception": false,
     "start_time": "2021-09-14T05:49:03.975595",
     "status": "completed"
    },
    "tags": []
   },
   "outputs": [],
   "source": [
    "# making a countplot of product importance column and see the effect of Reached on time or not on the warehouse column.\n",
    "\n",
    "plt.figure(figsize = (17, 6))\n",
    "sns.countplot('Product_importance', hue = 'Reached.on.Time_Y.N', data = df, palette='rocket')\n",
    "plt.show()"
   ]
  },
  {
   "cell_type": "markdown",
   "id": "5cf4f135",
   "metadata": {
    "papermill": {
     "duration": 0.087869,
     "end_time": "2021-09-14T05:49:04.432740",
     "exception": false,
     "start_time": "2021-09-14T05:49:04.344871",
     "status": "completed"
    },
    "tags": []
   },
   "source": [
    "### Exploring relation of continuous columns with reached on time or not"
   ]
  },
  {
   "cell_type": "code",
   "execution_count": null,
   "id": "5c2a28a3",
   "metadata": {
    "execution": {
     "iopub.execute_input": "2021-09-14T05:49:04.623779Z",
     "iopub.status.busy": "2021-09-14T05:49:04.622898Z",
     "iopub.status.idle": "2021-09-14T05:49:04.628324Z",
     "shell.execute_reply": "2021-09-14T05:49:04.627755Z",
     "shell.execute_reply.started": "2021-08-08T07:50:00.288334Z"
    },
    "papermill": {
     "duration": 0.107884,
     "end_time": "2021-09-14T05:49:04.628465",
     "exception": false,
     "start_time": "2021-09-14T05:49:04.520581",
     "status": "completed"
    },
    "tags": []
   },
   "outputs": [],
   "source": [
    "# creating a list of continuous columns\n",
    "\n",
    "integer_columns = df.select_dtypes(include = ['int64'])\n",
    "integer_columns.head()"
   ]
  },
  {
   "cell_type": "markdown",
   "id": "26da3839",
   "metadata": {
    "papermill": {
     "duration": 0.089985,
     "end_time": "2021-09-14T05:49:04.809755",
     "exception": false,
     "start_time": "2021-09-14T05:49:04.719770",
     "status": "completed"
    },
    "tags": []
   },
   "source": [
    "### Customer_care calls"
   ]
  },
  {
   "cell_type": "code",
   "execution_count": null,
   "id": "f1a588a9",
   "metadata": {
    "execution": {
     "iopub.execute_input": "2021-09-14T05:49:04.994351Z",
     "iopub.status.busy": "2021-09-14T05:49:04.992701Z",
     "iopub.status.idle": "2021-09-14T05:49:05.048400Z",
     "shell.execute_reply": "2021-09-14T05:49:05.047822Z",
     "shell.execute_reply.started": "2021-08-08T07:50:00.306784Z"
    },
    "papermill": {
     "duration": 0.150076,
     "end_time": "2021-09-14T05:49:05.048587",
     "exception": false,
     "start_time": "2021-09-14T05:49:04.898511",
     "status": "completed"
    },
    "tags": []
   },
   "outputs": [],
   "source": [
    "# looking at the customer care calls column and what are the categories present in it\n",
    "\n",
    "customer_care = integer_columns['Customer_care_calls'].value_counts().reset_index()\n",
    "customer_care.columns = ['Customer_care_calls', 'value_counts']\n",
    "fig = px.pie(customer_care, names = 'Customer_care_calls', values = 'value_counts',\n",
    "             color_discrete_sequence = px.colors.sequential.matter_r, width = 650, height = 400,\n",
    "            hole = 0.5)\n",
    "fig.update_traces(textinfo = 'percent+label')"
   ]
  },
  {
   "cell_type": "code",
   "execution_count": null,
   "id": "a0db5f6f",
   "metadata": {
    "execution": {
     "iopub.execute_input": "2021-09-14T05:49:05.254898Z",
     "iopub.status.busy": "2021-09-14T05:49:05.254211Z",
     "iopub.status.idle": "2021-09-14T05:49:05.467962Z",
     "shell.execute_reply": "2021-09-14T05:49:05.468466Z",
     "shell.execute_reply.started": "2021-08-08T07:50:00.372658Z"
    },
    "papermill": {
     "duration": 0.329014,
     "end_time": "2021-09-14T05:49:05.468657",
     "exception": false,
     "start_time": "2021-09-14T05:49:05.139643",
     "status": "completed"
    },
    "tags": []
   },
   "outputs": [],
   "source": [
    "# making a countplot of customer care calls column and see the effect of Reached on time or not on the warehouse column.\n",
    "\n",
    "plt.figure(figsize = (17, 6))\n",
    "sns.countplot('Customer_care_calls', hue = 'Reached.on.Time_Y.N', data = df, palette='rocket')\n",
    "plt.show()"
   ]
  },
  {
   "cell_type": "markdown",
   "id": "15775b88",
   "metadata": {
    "papermill": {
     "duration": 0.091194,
     "end_time": "2021-09-14T05:49:05.649743",
     "exception": false,
     "start_time": "2021-09-14T05:49:05.558549",
     "status": "completed"
    },
    "tags": []
   },
   "source": [
    "### Customer ratings"
   ]
  },
  {
   "cell_type": "code",
   "execution_count": null,
   "id": "8910bc0b",
   "metadata": {
    "execution": {
     "iopub.execute_input": "2021-09-14T05:49:05.865793Z",
     "iopub.status.busy": "2021-09-14T05:49:05.836512Z",
     "iopub.status.idle": "2021-09-14T05:49:05.891593Z",
     "shell.execute_reply": "2021-09-14T05:49:05.890944Z",
     "shell.execute_reply.started": "2021-08-08T07:50:00.603228Z"
    },
    "papermill": {
     "duration": 0.152085,
     "end_time": "2021-09-14T05:49:05.891733",
     "exception": false,
     "start_time": "2021-09-14T05:49:05.739648",
     "status": "completed"
    },
    "tags": []
   },
   "outputs": [],
   "source": [
    "# looking at the customer ratings column and what are the categories present in it\n",
    "\n",
    "customer_ratings = integer_columns['Customer_rating'].value_counts().reset_index()\n",
    "customer_ratings.columns = ['Customer_rating', 'value_counts']\n",
    "fig = px.pie(customer_ratings, names = 'Customer_rating', values = 'value_counts',\n",
    "             color_discrete_sequence = px.colors.sequential.matter_r, width = 650, height = 400,\n",
    "            hole = 0.5)\n",
    "fig.update_traces(textinfo = 'percent+label')"
   ]
  },
  {
   "cell_type": "code",
   "execution_count": null,
   "id": "8639a2ea",
   "metadata": {
    "execution": {
     "iopub.execute_input": "2021-09-14T05:49:06.086418Z",
     "iopub.status.busy": "2021-09-14T05:49:06.085590Z",
     "iopub.status.idle": "2021-09-14T05:49:06.287687Z",
     "shell.execute_reply": "2021-09-14T05:49:06.287162Z",
     "shell.execute_reply.started": "2021-08-08T07:50:00.66814Z"
    },
    "papermill": {
     "duration": 0.301306,
     "end_time": "2021-09-14T05:49:06.287821",
     "exception": false,
     "start_time": "2021-09-14T05:49:05.986515",
     "status": "completed"
    },
    "tags": []
   },
   "outputs": [],
   "source": [
    "# making a countplot of customer ratings calls column and see the effect of Reached on time or not on the warehouse column.\n",
    "\n",
    "plt.figure(figsize = (17, 6))\n",
    "sns.countplot('Customer_rating', hue = 'Reached.on.Time_Y.N', data = df, palette='rocket')\n",
    "plt.show()"
   ]
  },
  {
   "cell_type": "markdown",
   "id": "5772d464",
   "metadata": {
    "papermill": {
     "duration": 0.090944,
     "end_time": "2021-09-14T05:49:06.470709",
     "exception": false,
     "start_time": "2021-09-14T05:49:06.379765",
     "status": "completed"
    },
    "tags": []
   },
   "source": [
    "### Prior_Purchases"
   ]
  },
  {
   "cell_type": "code",
   "execution_count": null,
   "id": "38cb7cd7",
   "metadata": {
    "execution": {
     "iopub.execute_input": "2021-09-14T05:49:06.675856Z",
     "iopub.status.busy": "2021-09-14T05:49:06.660416Z",
     "iopub.status.idle": "2021-09-14T05:49:06.715403Z",
     "shell.execute_reply": "2021-09-14T05:49:06.714764Z",
     "shell.execute_reply.started": "2021-08-08T07:50:00.885594Z"
    },
    "papermill": {
     "duration": 0.153253,
     "end_time": "2021-09-14T05:49:06.715540",
     "exception": false,
     "start_time": "2021-09-14T05:49:06.562287",
     "status": "completed"
    },
    "tags": []
   },
   "outputs": [],
   "source": [
    "# looking at the prior purchases column and what are the categories present in it\n",
    "\n",
    "prior_purchases = integer_columns['Prior_purchases'].value_counts().reset_index()\n",
    "prior_purchases.columns = ['Prior_purchases', 'value_counts']\n",
    "fig = px.pie(prior_purchases, names = 'Prior_purchases', values = 'value_counts',\n",
    "             color_discrete_sequence = px.colors.sequential.matter_r, width = 650, height = 400,\n",
    "            hole = 0.5)\n",
    "fig.update_traces(textinfo = 'percent+label')"
   ]
  },
  {
   "cell_type": "code",
   "execution_count": null,
   "id": "e106f49c",
   "metadata": {
    "execution": {
     "iopub.execute_input": "2021-09-14T05:49:06.908872Z",
     "iopub.status.busy": "2021-09-14T05:49:06.908249Z",
     "iopub.status.idle": "2021-09-14T05:49:07.127399Z",
     "shell.execute_reply": "2021-09-14T05:49:07.127919Z",
     "shell.execute_reply.started": "2021-08-08T07:50:00.948455Z"
    },
    "papermill": {
     "duration": 0.319925,
     "end_time": "2021-09-14T05:49:07.128159",
     "exception": false,
     "start_time": "2021-09-14T05:49:06.808234",
     "status": "completed"
    },
    "tags": []
   },
   "outputs": [],
   "source": [
    "# making a countplot of prior purchases column and see the effect of Reached on time or not on the warehouse column.\n",
    "\n",
    "plt.figure(figsize = (17, 6))\n",
    "sns.countplot('Prior_purchases', hue = 'Reached.on.Time_Y.N', data = df, palette='rocket')\n",
    "plt.show()"
   ]
  },
  {
   "cell_type": "markdown",
   "id": "35a8c9df",
   "metadata": {
    "papermill": {
     "duration": 0.092887,
     "end_time": "2021-09-14T05:49:07.314248",
     "exception": false,
     "start_time": "2021-09-14T05:49:07.221361",
     "status": "completed"
    },
    "tags": []
   },
   "source": [
    "### Reached on Time Delivery"
   ]
  },
  {
   "cell_type": "code",
   "execution_count": null,
   "id": "4db0280b",
   "metadata": {
    "execution": {
     "iopub.execute_input": "2021-09-14T05:49:07.503950Z",
     "iopub.status.busy": "2021-09-14T05:49:07.503317Z",
     "iopub.status.idle": "2021-09-14T05:49:07.558073Z",
     "shell.execute_reply": "2021-09-14T05:49:07.558623Z",
     "shell.execute_reply.started": "2021-08-08T07:50:01.183875Z"
    },
    "papermill": {
     "duration": 0.151069,
     "end_time": "2021-09-14T05:49:07.558800",
     "exception": false,
     "start_time": "2021-09-14T05:49:07.407731",
     "status": "completed"
    },
    "tags": []
   },
   "outputs": [],
   "source": [
    "# looking at the reached on time or not column and what are the categories present in it\n",
    "\n",
    "reached_on_time_y_n = integer_columns['Reached.on.Time_Y.N'].value_counts().reset_index()\n",
    "reached_on_time_y_n.columns = ['Reached.on.Time_Y.N', 'value_counts']\n",
    "fig = px.pie(reached_on_time_y_n, names = 'Reached.on.Time_Y.N', values = 'value_counts',\n",
    "             color_discrete_sequence = px.colors.sequential.Darkmint_r, width = 650, height = 400,\n",
    "            hole = 0.5)\n",
    "fig.update_traces(textinfo = 'percent+label')"
   ]
  },
  {
   "cell_type": "markdown",
   "id": "ad226df4",
   "metadata": {
    "papermill": {
     "duration": 0.094129,
     "end_time": "2021-09-14T05:49:07.748236",
     "exception": false,
     "start_time": "2021-09-14T05:49:07.654107",
     "status": "completed"
    },
    "tags": []
   },
   "source": [
    "### Cost of the product"
   ]
  },
  {
   "cell_type": "code",
   "execution_count": null,
   "id": "ad247f6a",
   "metadata": {
    "execution": {
     "iopub.execute_input": "2021-09-14T05:49:07.938704Z",
     "iopub.status.busy": "2021-09-14T05:49:07.938095Z",
     "iopub.status.idle": "2021-09-14T05:49:08.569834Z",
     "shell.execute_reply": "2021-09-14T05:49:08.570345Z",
     "shell.execute_reply.started": "2021-08-08T07:50:01.243724Z"
    },
    "papermill": {
     "duration": 0.728576,
     "end_time": "2021-09-14T05:49:08.570519",
     "exception": false,
     "start_time": "2021-09-14T05:49:07.841943",
     "status": "completed"
    },
    "tags": []
   },
   "outputs": [],
   "source": [
    "# making a distplot of cost of the product column\n",
    "\n",
    "plt.figure(figsize = (15, 7))\n",
    "ax = sns.distplot(df['Cost_of_the_Product'], bins = 100, color = 'y')\n",
    "\n",
    "plt.show()"
   ]
  },
  {
   "cell_type": "code",
   "execution_count": null,
   "id": "1e532750",
   "metadata": {
    "execution": {
     "iopub.execute_input": "2021-09-14T05:49:08.767505Z",
     "iopub.status.busy": "2021-09-14T05:49:08.766837Z",
     "iopub.status.idle": "2021-09-14T05:49:08.939473Z",
     "shell.execute_reply": "2021-09-14T05:49:08.940025Z",
     "shell.execute_reply.started": "2021-08-08T07:50:01.866061Z"
    },
    "papermill": {
     "duration": 0.273327,
     "end_time": "2021-09-14T05:49:08.940198",
     "exception": false,
     "start_time": "2021-09-14T05:49:08.666871",
     "status": "completed"
    },
    "tags": []
   },
   "outputs": [],
   "source": [
    "# looking at the relation between cost of the product and whether the product reached on time or not using boxplot\n",
    "\n",
    "px.box(data_frame = df, x = 'Reached.on.Time_Y.N', y = 'Cost_of_the_Product', \n",
    "       color = 'Reached.on.Time_Y.N', template = 'plotly_dark')"
   ]
  },
  {
   "cell_type": "markdown",
   "id": "0e7415f3",
   "metadata": {
    "papermill": {
     "duration": 0.098489,
     "end_time": "2021-09-14T05:49:09.139117",
     "exception": false,
     "start_time": "2021-09-14T05:49:09.040628",
     "status": "completed"
    },
    "tags": []
   },
   "source": [
    "### Discount Offered"
   ]
  },
  {
   "cell_type": "code",
   "execution_count": null,
   "id": "aef39ba1",
   "metadata": {
    "execution": {
     "iopub.execute_input": "2021-09-14T05:49:09.335776Z",
     "iopub.status.busy": "2021-09-14T05:49:09.335161Z",
     "iopub.status.idle": "2021-09-14T05:49:09.741863Z",
     "shell.execute_reply": "2021-09-14T05:49:09.741306Z",
     "shell.execute_reply.started": "2021-08-08T07:50:02.052157Z"
    },
    "papermill": {
     "duration": 0.50588,
     "end_time": "2021-09-14T05:49:09.742029",
     "exception": false,
     "start_time": "2021-09-14T05:49:09.236149",
     "status": "completed"
    },
    "tags": []
   },
   "outputs": [],
   "source": [
    "# making a distplot of discount offered column\n",
    "\n",
    "plt.figure(figsize = (15, 7))\n",
    "ax = sns.distplot(df['Discount_offered'], color = 'y')\n",
    "\n",
    "plt.show()"
   ]
  },
  {
   "cell_type": "code",
   "execution_count": null,
   "id": "4f33bd99",
   "metadata": {
    "execution": {
     "iopub.execute_input": "2021-09-14T05:49:09.954681Z",
     "iopub.status.busy": "2021-09-14T05:49:09.953841Z",
     "iopub.status.idle": "2021-09-14T05:49:10.055785Z",
     "shell.execute_reply": "2021-09-14T05:49:10.056304Z",
     "shell.execute_reply.started": "2021-08-08T07:50:02.45861Z"
    },
    "papermill": {
     "duration": 0.214582,
     "end_time": "2021-09-14T05:49:10.056474",
     "exception": false,
     "start_time": "2021-09-14T05:49:09.841892",
     "status": "completed"
    },
    "tags": []
   },
   "outputs": [],
   "source": [
    "# looking at the relation between discount offered and whether the product reached on time or not using boxplot\n",
    "\n",
    "px.box(data_frame = df, x = 'Reached.on.Time_Y.N', y = 'Discount_offered', \n",
    "       color = 'Reached.on.Time_Y.N', template = 'plotly_dark')"
   ]
  },
  {
   "cell_type": "markdown",
   "id": "9d9df870",
   "metadata": {
    "papermill": {
     "duration": 0.099471,
     "end_time": "2021-09-14T05:49:10.255806",
     "exception": false,
     "start_time": "2021-09-14T05:49:10.156335",
     "status": "completed"
    },
    "tags": []
   },
   "source": [
    "### Weights in Grams"
   ]
  },
  {
   "cell_type": "code",
   "execution_count": null,
   "id": "05fb9708",
   "metadata": {
    "execution": {
     "iopub.execute_input": "2021-09-14T05:49:10.480977Z",
     "iopub.status.busy": "2021-09-14T05:49:10.480330Z",
     "iopub.status.idle": "2021-09-14T05:49:11.110609Z",
     "shell.execute_reply": "2021-09-14T05:49:11.110108Z",
     "shell.execute_reply.started": "2021-08-08T07:50:02.743172Z"
    },
    "papermill": {
     "duration": 0.755491,
     "end_time": "2021-09-14T05:49:11.110747",
     "exception": false,
     "start_time": "2021-09-14T05:49:10.355256",
     "status": "completed"
    },
    "tags": []
   },
   "outputs": [],
   "source": [
    "# making a distplot of weights in gram column\n",
    "\n",
    "plt.figure(figsize = (15, 7))\n",
    "ax = sns.distplot(df['Weight_in_gms'], bins = 100, color = 'y')\n",
    "\n",
    "plt.show()"
   ]
  },
  {
   "cell_type": "code",
   "execution_count": null,
   "id": "8fc3eb85",
   "metadata": {
    "execution": {
     "iopub.execute_input": "2021-09-14T05:49:11.324106Z",
     "iopub.status.busy": "2021-09-14T05:49:11.322736Z",
     "iopub.status.idle": "2021-09-14T05:49:11.428796Z",
     "shell.execute_reply": "2021-09-14T05:49:11.428223Z",
     "shell.execute_reply.started": "2021-08-08T07:50:03.240457Z"
    },
    "papermill": {
     "duration": 0.215768,
     "end_time": "2021-09-14T05:49:11.428937",
     "exception": false,
     "start_time": "2021-09-14T05:49:11.213169",
     "status": "completed"
    },
    "tags": []
   },
   "outputs": [],
   "source": [
    "# looking at the relation between weights in grams and whether the product reached on time or not using boxplot\\\n",
    "\n",
    "px.box(data_frame = df, x = 'Reached.on.Time_Y.N', y = 'Weight_in_gms', \n",
    "       color = 'Reached.on.Time_Y.N', template = 'plotly_dark')"
   ]
  },
  {
   "cell_type": "code",
   "execution_count": null,
   "id": "2492d06a",
   "metadata": {
    "execution": {
     "iopub.execute_input": "2021-09-14T05:49:11.701616Z",
     "iopub.status.busy": "2021-09-14T05:49:11.700943Z",
     "iopub.status.idle": "2021-09-14T05:49:11.705077Z",
     "shell.execute_reply": "2021-09-14T05:49:11.705512Z",
     "shell.execute_reply.started": "2021-08-08T07:50:03.353308Z"
    },
    "papermill": {
     "duration": 0.172844,
     "end_time": "2021-09-14T05:49:11.705711",
     "exception": false,
     "start_time": "2021-09-14T05:49:11.532867",
     "status": "completed"
    },
    "tags": []
   },
   "outputs": [],
   "source": [
    "df.head() # looking at first five rows of the data"
   ]
  },
  {
   "cell_type": "markdown",
   "id": "04bd9fbd",
   "metadata": {
    "papermill": {
     "duration": 0.105752,
     "end_time": "2021-09-14T05:49:11.917689",
     "exception": false,
     "start_time": "2021-09-14T05:49:11.811937",
     "status": "completed"
    },
    "tags": []
   },
   "source": [
    "## Which type of warehouse contains most weights ?"
   ]
  },
  {
   "cell_type": "code",
   "execution_count": null,
   "id": "eac81cba",
   "metadata": {
    "execution": {
     "iopub.execute_input": "2021-09-14T05:49:12.136667Z",
     "iopub.status.busy": "2021-09-14T05:49:12.134995Z",
     "iopub.status.idle": "2021-09-14T05:49:12.151438Z",
     "shell.execute_reply": "2021-09-14T05:49:12.152111Z",
     "shell.execute_reply.started": "2021-08-08T07:50:03.372241Z"
    },
    "papermill": {
     "duration": 0.129399,
     "end_time": "2021-09-14T05:49:12.152302",
     "exception": false,
     "start_time": "2021-09-14T05:49:12.022903",
     "status": "completed"
    },
    "tags": []
   },
   "outputs": [],
   "source": [
    "# creating a dataframe of warehouse block and weights in gram columns \n",
    "\n",
    "ware_block_weight = df.groupby(['Warehouse_block'])['Weight_in_gms'].sum().reset_index()\n",
    "ware_block_weight"
   ]
  },
  {
   "cell_type": "code",
   "execution_count": null,
   "id": "0876435b",
   "metadata": {
    "execution": {
     "iopub.execute_input": "2021-09-14T05:49:12.367384Z",
     "iopub.status.busy": "2021-09-14T05:49:12.366733Z",
     "iopub.status.idle": "2021-09-14T05:49:12.563769Z",
     "shell.execute_reply": "2021-09-14T05:49:12.564224Z",
     "shell.execute_reply.started": "2021-08-08T07:50:03.39681Z"
    },
    "papermill": {
     "duration": 0.306497,
     "end_time": "2021-09-14T05:49:12.564398",
     "exception": false,
     "start_time": "2021-09-14T05:49:12.257901",
     "status": "completed"
    },
    "tags": []
   },
   "outputs": [],
   "source": [
    "# checking which type of warehouse contains the most weights \n",
    "\n",
    "px.histogram(data_frame = df, x = 'Weight_in_gms', nbins = 100, color = 'Warehouse_block',\n",
    "             marginal = 'box', template = 'plotly_dark')"
   ]
  },
  {
   "cell_type": "markdown",
   "id": "ba726a22",
   "metadata": {
    "papermill": {
     "duration": 0.108884,
     "end_time": "2021-09-14T05:49:12.782725",
     "exception": false,
     "start_time": "2021-09-14T05:49:12.673841",
     "status": "completed"
    },
    "tags": []
   },
   "source": [
    "- From above plots we can conclude that warehouse F conatins the most weights."
   ]
  },
  {
   "cell_type": "markdown",
   "id": "ef2fd5d9",
   "metadata": {
    "papermill": {
     "duration": 0.109167,
     "end_time": "2021-09-14T05:49:13.000999",
     "exception": false,
     "start_time": "2021-09-14T05:49:12.891832",
     "status": "completed"
    },
    "tags": []
   },
   "source": [
    "## Which mode of shipmemnt carries most weights ?"
   ]
  },
  {
   "cell_type": "code",
   "execution_count": null,
   "id": "ce2a668c",
   "metadata": {
    "execution": {
     "iopub.execute_input": "2021-09-14T05:49:13.225478Z",
     "iopub.status.busy": "2021-09-14T05:49:13.224799Z",
     "iopub.status.idle": "2021-09-14T05:49:13.235183Z",
     "shell.execute_reply": "2021-09-14T05:49:13.235709Z",
     "shell.execute_reply.started": "2021-08-08T07:50:03.602995Z"
    },
    "papermill": {
     "duration": 0.124785,
     "end_time": "2021-09-14T05:49:13.235876",
     "exception": false,
     "start_time": "2021-09-14T05:49:13.111091",
     "status": "completed"
    },
    "tags": []
   },
   "outputs": [],
   "source": [
    "# creating a dataframe of mode of shipment and weights in gram columns \n",
    "\n",
    "shipment_mode_weight = df.groupby(['Mode_of_Shipment'])['Weight_in_gms'].sum().reset_index()\n",
    "shipment_mode_weight"
   ]
  },
  {
   "cell_type": "code",
   "execution_count": null,
   "id": "4da73a73",
   "metadata": {
    "execution": {
     "iopub.execute_input": "2021-09-14T05:49:13.455147Z",
     "iopub.status.busy": "2021-09-14T05:49:13.454532Z",
     "iopub.status.idle": "2021-09-14T05:49:13.603588Z",
     "shell.execute_reply": "2021-09-14T05:49:13.603060Z",
     "shell.execute_reply.started": "2021-08-08T07:50:03.61992Z"
    },
    "papermill": {
     "duration": 0.259477,
     "end_time": "2021-09-14T05:49:13.603733",
     "exception": false,
     "start_time": "2021-09-14T05:49:13.344256",
     "status": "completed"
    },
    "tags": []
   },
   "outputs": [],
   "source": [
    "# checking which type of shipments carries the most weights \n",
    "\n",
    "px.histogram(data_frame = df, x = 'Weight_in_gms', nbins = 100, color = 'Mode_of_Shipment',\n",
    "             marginal = 'box', template = 'plotly_dark')"
   ]
  },
  {
   "cell_type": "markdown",
   "id": "61926709",
   "metadata": {
    "papermill": {
     "duration": 0.11154,
     "end_time": "2021-09-14T05:49:13.828739",
     "exception": false,
     "start_time": "2021-09-14T05:49:13.717199",
     "status": "completed"
    },
    "tags": []
   },
   "source": [
    "- Ship is the mode of shipment throuh which most of the products were delivered"
   ]
  },
  {
   "cell_type": "markdown",
   "id": "46551d24",
   "metadata": {
    "papermill": {
     "duration": 0.111811,
     "end_time": "2021-09-14T05:49:14.053924",
     "exception": false,
     "start_time": "2021-09-14T05:49:13.942113",
     "status": "completed"
    },
    "tags": []
   },
   "source": [
    "### Effect of Warehouse on Cost of Product "
   ]
  },
  {
   "cell_type": "code",
   "execution_count": null,
   "id": "48e29b0c",
   "metadata": {
    "execution": {
     "iopub.execute_input": "2021-09-14T05:49:14.286557Z",
     "iopub.status.busy": "2021-09-14T05:49:14.285881Z",
     "iopub.status.idle": "2021-09-14T05:49:14.295716Z",
     "shell.execute_reply": "2021-09-14T05:49:14.296226Z",
     "shell.execute_reply.started": "2021-08-08T07:50:03.773858Z"
    },
    "papermill": {
     "duration": 0.127963,
     "end_time": "2021-09-14T05:49:14.296402",
     "exception": false,
     "start_time": "2021-09-14T05:49:14.168439",
     "status": "completed"
    },
    "tags": []
   },
   "outputs": [],
   "source": [
    "# creating a dataframe of warehouse block and cost of the product columns \n",
    "\n",
    "warehouse_weight = df.groupby(['Warehouse_block'])['Cost_of_the_Product'].sum().reset_index()\n",
    "warehouse_weight"
   ]
  },
  {
   "cell_type": "code",
   "execution_count": null,
   "id": "6e60a800",
   "metadata": {
    "execution": {
     "iopub.execute_input": "2021-09-14T05:49:14.523774Z",
     "iopub.status.busy": "2021-09-14T05:49:14.523095Z",
     "iopub.status.idle": "2021-09-14T05:49:14.690064Z",
     "shell.execute_reply": "2021-09-14T05:49:14.690646Z",
     "shell.execute_reply.started": "2021-08-08T07:50:03.791998Z"
    },
    "papermill": {
     "duration": 0.283421,
     "end_time": "2021-09-14T05:49:14.690811",
     "exception": false,
     "start_time": "2021-09-14T05:49:14.407390",
     "status": "completed"
    },
    "tags": []
   },
   "outputs": [],
   "source": [
    "# checking whether or not the warehouse block effects the cost of the product\n",
    "\n",
    "px.histogram(data_frame = df, x = 'Cost_of_the_Product', nbins = 100, color = 'Warehouse_block',\n",
    "             marginal = 'box', template = 'plotly_dark')"
   ]
  },
  {
   "cell_type": "markdown",
   "id": "3ab90a7b",
   "metadata": {
    "papermill": {
     "duration": 0.116264,
     "end_time": "2021-09-14T05:49:14.922568",
     "exception": false,
     "start_time": "2021-09-14T05:49:14.806304",
     "status": "completed"
    },
    "tags": []
   },
   "source": [
    "- Products from warehouse F have the high costs."
   ]
  },
  {
   "cell_type": "markdown",
   "id": "12d96bdf",
   "metadata": {
    "papermill": {
     "duration": 0.120402,
     "end_time": "2021-09-14T05:49:15.160641",
     "exception": false,
     "start_time": "2021-09-14T05:49:15.040239",
     "status": "completed"
    },
    "tags": []
   },
   "source": [
    "### Does Mode of Shipment effect Cost of Product ?"
   ]
  },
  {
   "cell_type": "code",
   "execution_count": null,
   "id": "f7429b3f",
   "metadata": {
    "execution": {
     "iopub.execute_input": "2021-09-14T05:49:15.399452Z",
     "iopub.status.busy": "2021-09-14T05:49:15.398757Z",
     "iopub.status.idle": "2021-09-14T05:49:15.411132Z",
     "shell.execute_reply": "2021-09-14T05:49:15.411592Z",
     "shell.execute_reply.started": "2021-08-08T07:50:03.961991Z"
    },
    "papermill": {
     "duration": 0.134559,
     "end_time": "2021-09-14T05:49:15.411774",
     "exception": false,
     "start_time": "2021-09-14T05:49:15.277215",
     "status": "completed"
    },
    "tags": []
   },
   "outputs": [],
   "source": [
    "# creating a dataframe of mode of shipment and cost of the product columns \n",
    "\n",
    "mode_shipment_cost = df.groupby(['Mode_of_Shipment'])['Cost_of_the_Product'].sum().reset_index()\n",
    "mode_shipment_cost"
   ]
  },
  {
   "cell_type": "code",
   "execution_count": null,
   "id": "2fe9eb9b",
   "metadata": {
    "execution": {
     "iopub.execute_input": "2021-09-14T05:49:15.647085Z",
     "iopub.status.busy": "2021-09-14T05:49:15.646443Z",
     "iopub.status.idle": "2021-09-14T05:49:15.792792Z",
     "shell.execute_reply": "2021-09-14T05:49:15.793278Z",
     "shell.execute_reply.started": "2021-08-08T07:50:03.980099Z"
    },
    "papermill": {
     "duration": 0.265933,
     "end_time": "2021-09-14T05:49:15.793455",
     "exception": false,
     "start_time": "2021-09-14T05:49:15.527522",
     "status": "completed"
    },
    "tags": []
   },
   "outputs": [],
   "source": [
    "# checking whether or not the mode of shipment effects the cost of the product\n",
    "\n",
    "px.histogram(data_frame = df, x = 'Cost_of_the_Product', nbins = 100, color = 'Mode_of_Shipment',\n",
    "             marginal = 'box', template = 'plotly_dark')"
   ]
  },
  {
   "cell_type": "markdown",
   "id": "85415222",
   "metadata": {
    "papermill": {
     "duration": 0.122849,
     "end_time": "2021-09-14T05:49:16.035498",
     "exception": false,
     "start_time": "2021-09-14T05:49:15.912649",
     "status": "completed"
    },
    "tags": []
   },
   "source": [
    "### Does Customer calls effect Ratings ?"
   ]
  },
  {
   "cell_type": "code",
   "execution_count": null,
   "id": "133937f6",
   "metadata": {
    "execution": {
     "iopub.execute_input": "2021-09-14T05:49:16.312055Z",
     "iopub.status.busy": "2021-09-14T05:49:16.311364Z",
     "iopub.status.idle": "2021-09-14T05:49:17.098359Z",
     "shell.execute_reply": "2021-09-14T05:49:17.098855Z",
     "shell.execute_reply.started": "2021-08-08T07:50:04.134235Z"
    },
    "papermill": {
     "duration": 0.941645,
     "end_time": "2021-09-14T05:49:17.099034",
     "exception": false,
     "start_time": "2021-09-14T05:49:16.157389",
     "status": "completed"
    },
    "tags": []
   },
   "outputs": [],
   "source": [
    "# making a lineplot to check the relation between customer care calls, customer ratings and gender\n",
    "\n",
    "plt.figure(figsize = (18, 9))\n",
    "sns.lineplot(x = 'Customer_care_calls', y = 'Customer_rating', hue = 'Gender', data = df,\n",
    "             palette = 'rocket', ci = 0)\n",
    "plt.title('Relation between Customer Care Calls and Customer Rating of Males and Females\\n',\n",
    "          fontsize = 15)\n",
    "plt.show()"
   ]
  },
  {
   "cell_type": "code",
   "execution_count": null,
   "id": "bf8e89a9",
   "metadata": {
    "execution": {
     "iopub.execute_input": "2021-09-14T05:49:17.342764Z",
     "iopub.status.busy": "2021-09-14T05:49:17.342131Z",
     "iopub.status.idle": "2021-09-14T05:49:18.074300Z",
     "shell.execute_reply": "2021-09-14T05:49:18.074767Z",
     "shell.execute_reply.started": "2021-08-08T07:50:04.920278Z"
    },
    "papermill": {
     "duration": 0.85546,
     "end_time": "2021-09-14T05:49:18.074936",
     "exception": false,
     "start_time": "2021-09-14T05:49:17.219476",
     "status": "completed"
    },
    "tags": []
   },
   "outputs": [],
   "source": [
    "# checking the relation between customer care calls, customer ratings and whether or not the product will reach on time.\n",
    "\n",
    "plt.figure(figsize = (18, 7))\n",
    "sns.barplot(x = 'Customer_care_calls', y = 'Customer_rating', hue = 'Reached.on.Time_Y.N', data = df, palette = 'rocket')\n",
    "plt.ylim(0, 5)\n",
    "plt.show()"
   ]
  },
  {
   "cell_type": "markdown",
   "id": "0ccdd0f3",
   "metadata": {
    "papermill": {
     "duration": 0.119943,
     "end_time": "2021-09-14T05:49:18.315938",
     "exception": false,
     "start_time": "2021-09-14T05:49:18.195995",
     "status": "completed"
    },
    "tags": []
   },
   "source": [
    "- Customers calls were more when the product doesn't reach on time and when the product reaches at time then the calls were less."
   ]
  },
  {
   "cell_type": "markdown",
   "id": "43183989",
   "metadata": {
    "papermill": {
     "duration": 0.120876,
     "end_time": "2021-09-14T05:49:18.557303",
     "exception": false,
     "start_time": "2021-09-14T05:49:18.436427",
     "status": "completed"
    },
    "tags": []
   },
   "source": [
    "### Relation Between Customer Care Calls, Product importance and Prior Purchases"
   ]
  },
  {
   "cell_type": "code",
   "execution_count": null,
   "id": "bc0e750c",
   "metadata": {
    "execution": {
     "iopub.execute_input": "2021-09-14T05:49:18.808931Z",
     "iopub.status.busy": "2021-09-14T05:49:18.808304Z",
     "iopub.status.idle": "2021-09-14T05:49:20.022082Z",
     "shell.execute_reply": "2021-09-14T05:49:20.021527Z",
     "shell.execute_reply.started": "2021-08-08T07:50:05.658076Z"
    },
    "papermill": {
     "duration": 1.341348,
     "end_time": "2021-09-14T05:49:20.022228",
     "exception": false,
     "start_time": "2021-09-14T05:49:18.680880",
     "status": "completed"
    },
    "tags": []
   },
   "outputs": [],
   "source": [
    "# making a barlot to check the relation between prior purchases, customer care calls and product importance\n",
    "\n",
    "plt.figure(figsize = (18, 8))\n",
    "sns.barplot(x = 'Prior_purchases', y = 'Customer_care_calls', data = df, hue = 'Product_importance',\n",
    "            palette = 'rocket')\n",
    "plt.show()"
   ]
  },
  {
   "cell_type": "code",
   "execution_count": null,
   "id": "1fe094db",
   "metadata": {
    "execution": {
     "iopub.execute_input": "2021-09-14T05:49:20.279968Z",
     "iopub.status.busy": "2021-09-14T05:49:20.279271Z",
     "iopub.status.idle": "2021-09-14T05:49:20.815430Z",
     "shell.execute_reply": "2021-09-14T05:49:20.814832Z",
     "shell.execute_reply.started": "2021-08-08T07:50:06.875736Z"
    },
    "papermill": {
     "duration": 0.669163,
     "end_time": "2021-09-14T05:49:20.815576",
     "exception": false,
     "start_time": "2021-09-14T05:49:20.146413",
     "status": "completed"
    },
    "tags": []
   },
   "outputs": [],
   "source": [
    "# making a barlot to check the relation between product importance, customer care calls and whether or not the product will\n",
    "# reach on time or not\n",
    "\n",
    "plt.figure(figsize = (18, 10))\n",
    "sns.barplot('Product_importance', y = 'Customer_care_calls', hue = 'Reached.on.Time_Y.N', data = df, palette = 'rocket')\n",
    "plt.show()"
   ]
  },
  {
   "cell_type": "markdown",
   "id": "6aae9dc9",
   "metadata": {
    "papermill": {
     "duration": 0.123709,
     "end_time": "2021-09-14T05:49:21.064569",
     "exception": false,
     "start_time": "2021-09-14T05:49:20.940860",
     "status": "completed"
    },
    "tags": []
   },
   "source": [
    "- Customer care were more when product importance is less.\n",
    "- When importance of product is low or medium then more of the products weren't reached on time but when importance of product is high then products reached on time or not reached on time are almost equal."
   ]
  },
  {
   "cell_type": "markdown",
   "id": "b2e9a864",
   "metadata": {
    "papermill": {
     "duration": 0.123063,
     "end_time": "2021-09-14T05:49:21.312548",
     "exception": false,
     "start_time": "2021-09-14T05:49:21.189485",
     "status": "completed"
    },
    "tags": []
   },
   "source": [
    "### Relation Between Product Importance and Discount Offered"
   ]
  },
  {
   "cell_type": "code",
   "execution_count": null,
   "id": "f19e7eb8",
   "metadata": {
    "execution": {
     "iopub.execute_input": "2021-09-14T05:49:21.566405Z",
     "iopub.status.busy": "2021-09-14T05:49:21.565722Z",
     "iopub.status.idle": "2021-09-14T05:49:21.762448Z",
     "shell.execute_reply": "2021-09-14T05:49:21.762939Z",
     "shell.execute_reply.started": "2021-08-08T07:50:07.414176Z"
    },
    "papermill": {
     "duration": 0.326909,
     "end_time": "2021-09-14T05:49:21.763135",
     "exception": false,
     "start_time": "2021-09-14T05:49:21.436226",
     "status": "completed"
    },
    "tags": []
   },
   "outputs": [],
   "source": [
    "# making boxplot between product importance and discount offered to see that is there any relation between them .\n",
    "\n",
    "px.box(data_frame = df, x = 'Product_importance', y ='Discount_offered', color = 'Product_importance',\n",
    "       template = 'plotly_dark')"
   ]
  },
  {
   "cell_type": "code",
   "execution_count": null,
   "id": "c2fd969f",
   "metadata": {
    "execution": {
     "iopub.execute_input": "2021-09-14T05:49:22.053030Z",
     "iopub.status.busy": "2021-09-14T05:49:22.052335Z",
     "iopub.status.idle": "2021-09-14T05:49:22.223770Z",
     "shell.execute_reply": "2021-09-14T05:49:22.224340Z",
     "shell.execute_reply.started": "2021-08-08T07:50:07.764793Z"
    },
    "papermill": {
     "duration": 0.33535,
     "end_time": "2021-09-14T05:49:22.224526",
     "exception": false,
     "start_time": "2021-09-14T05:49:21.889176",
     "status": "completed"
    },
    "tags": []
   },
   "outputs": [],
   "source": [
    "# making boxplot between product importance and discount offered and whether or not the product will reach on time or not\n",
    "# to see that is there any relation between them .\n",
    "\n",
    "px.box(data_frame = df, x = 'Product_importance', y ='Cost_of_the_Product', color = 'Reached.on.Time_Y.N',\n",
    "       template = 'plotly_dark')"
   ]
  },
  {
   "cell_type": "markdown",
   "id": "1e4506fa",
   "metadata": {
    "papermill": {
     "duration": 0.128354,
     "end_time": "2021-09-14T05:49:22.486281",
     "exception": false,
     "start_time": "2021-09-14T05:49:22.357927",
     "status": "completed"
    },
    "tags": []
   },
   "source": [
    "- Products of high importance were offered higher discounts."
   ]
  },
  {
   "cell_type": "markdown",
   "id": "f7e40a32",
   "metadata": {
    "papermill": {
     "duration": 0.130445,
     "end_time": "2021-09-14T05:49:22.746399",
     "exception": false,
     "start_time": "2021-09-14T05:49:22.615954",
     "status": "completed"
    },
    "tags": []
   },
   "source": [
    "### Relation Between Gender, Prior_purchases and Reached on time or Not"
   ]
  },
  {
   "cell_type": "code",
   "execution_count": null,
   "id": "ef182106",
   "metadata": {
    "execution": {
     "iopub.execute_input": "2021-09-14T05:49:23.011875Z",
     "iopub.status.busy": "2021-09-14T05:49:23.011134Z",
     "iopub.status.idle": "2021-09-14T05:49:23.692348Z",
     "shell.execute_reply": "2021-09-14T05:49:23.691681Z",
     "shell.execute_reply.started": "2021-08-08T07:50:07.963966Z"
    },
    "papermill": {
     "duration": 0.816077,
     "end_time": "2021-09-14T05:49:23.692556",
     "exception": false,
     "start_time": "2021-09-14T05:49:22.876479",
     "status": "completed"
    },
    "tags": []
   },
   "outputs": [],
   "source": [
    "# making a lineplot to check the relation between gender, prior purchases and reached on time or not\n",
    "\n",
    "sns.catplot(x = 'Gender', y = 'Prior_purchases', hue = 'Reached.on.Time_Y.N', data = df, kind = 'point', height = 7, aspect = 2,\n",
    "            palette = 'rocket')\n",
    "plt.title('Relation Between Gender, Prior_purchases and Reached on time or Not\\n', fontsize = 20)\n",
    "plt.show()"
   ]
  },
  {
   "cell_type": "markdown",
   "id": "00aaa7f3",
   "metadata": {
    "papermill": {
     "duration": 0.129331,
     "end_time": "2021-09-14T05:49:23.953667",
     "exception": false,
     "start_time": "2021-09-14T05:49:23.824336",
     "status": "completed"
    },
    "tags": []
   },
   "source": [
    "### Relation Prior_purchases and Discount Offered and reached on time or not"
   ]
  },
  {
   "cell_type": "code",
   "execution_count": null,
   "id": "e2e0285e",
   "metadata": {
    "execution": {
     "iopub.execute_input": "2021-09-14T05:49:24.223911Z",
     "iopub.status.busy": "2021-09-14T05:49:24.223229Z",
     "iopub.status.idle": "2021-09-14T05:49:24.501555Z",
     "shell.execute_reply": "2021-09-14T05:49:24.500992Z",
     "shell.execute_reply.started": "2021-08-08T07:50:08.683818Z"
    },
    "papermill": {
     "duration": 0.417611,
     "end_time": "2021-09-14T05:49:24.501712",
     "exception": false,
     "start_time": "2021-09-14T05:49:24.084101",
     "status": "completed"
    },
    "tags": []
   },
   "outputs": [],
   "source": [
    "# making boxplot between prior purchases and discount offered to see that is there any relation between them.\n",
    "\n",
    "px.box(x = 'Prior_purchases', y = 'Discount_offered', data_frame = df, color = 'Prior_purchases', template = 'plotly_dark')"
   ]
  },
  {
   "cell_type": "code",
   "execution_count": null,
   "id": "8314ded9",
   "metadata": {
    "execution": {
     "iopub.execute_input": "2021-09-14T05:49:24.770142Z",
     "iopub.status.busy": "2021-09-14T05:49:24.769470Z",
     "iopub.status.idle": "2021-09-14T05:49:24.876616Z",
     "shell.execute_reply": "2021-09-14T05:49:24.877117Z",
     "shell.execute_reply.started": "2021-08-08T07:50:08.816243Z"
    },
    "papermill": {
     "duration": 0.242519,
     "end_time": "2021-09-14T05:49:24.877300",
     "exception": false,
     "start_time": "2021-09-14T05:49:24.634781",
     "status": "completed"
    },
    "tags": []
   },
   "outputs": [],
   "source": [
    "# making boxplot between prior purchases and discount offered and whether or not the product will reach on time or not\n",
    "# to see that is there any relation between them.\n",
    "\n",
    "px.box(x = 'Prior_purchases', y = 'Discount_offered', data_frame = df, color = 'Reached.on.Time_Y.N', template = 'plotly_dark')"
   ]
  },
  {
   "cell_type": "markdown",
   "id": "3382d1c4",
   "metadata": {
    "papermill": {
     "duration": 0.133757,
     "end_time": "2021-09-14T05:49:25.146301",
     "exception": false,
     "start_time": "2021-09-14T05:49:25.012544",
     "status": "completed"
    },
    "tags": []
   },
   "source": [
    "- Newly customers and very old ustomers were offered higher discounts."
   ]
  },
  {
   "cell_type": "markdown",
   "id": "ff2c7f9e",
   "metadata": {
    "papermill": {
     "duration": 0.13368,
     "end_time": "2021-09-14T05:49:25.415233",
     "exception": false,
     "start_time": "2021-09-14T05:49:25.281553",
     "status": "completed"
    },
    "tags": []
   },
   "source": [
    "### Relation between customer care calls and weight of product"
   ]
  },
  {
   "cell_type": "code",
   "execution_count": null,
   "id": "9265307e",
   "metadata": {
    "execution": {
     "iopub.execute_input": "2021-09-14T05:49:25.705126Z",
     "iopub.status.busy": "2021-09-14T05:49:25.694946Z",
     "iopub.status.idle": "2021-09-14T05:49:25.810941Z",
     "shell.execute_reply": "2021-09-14T05:49:25.810464Z",
     "shell.execute_reply.started": "2021-08-08T07:50:08.927519Z"
    },
    "papermill": {
     "duration": 0.261614,
     "end_time": "2021-09-14T05:49:25.811111",
     "exception": false,
     "start_time": "2021-09-14T05:49:25.549497",
     "status": "completed"
    },
    "tags": []
   },
   "outputs": [],
   "source": [
    "# making boxplot between customer care calls and weights in gram to see that is there any relation between them.\n",
    "\n",
    "px.box(x = 'Customer_care_calls', y = 'Weight_in_gms', data_frame = df, color = 'Customer_care_calls', template = 'plotly_dark')"
   ]
  },
  {
   "cell_type": "code",
   "execution_count": null,
   "id": "5f9dae76",
   "metadata": {
    "execution": {
     "iopub.execute_input": "2021-09-14T05:49:26.121916Z",
     "iopub.status.busy": "2021-09-14T05:49:26.106265Z",
     "iopub.status.idle": "2021-09-14T05:49:26.202351Z",
     "shell.execute_reply": "2021-09-14T05:49:26.201791Z",
     "shell.execute_reply.started": "2021-08-08T07:50:09.052925Z"
    },
    "papermill": {
     "duration": 0.252787,
     "end_time": "2021-09-14T05:49:26.202507",
     "exception": false,
     "start_time": "2021-09-14T05:49:25.949720",
     "status": "completed"
    },
    "tags": []
   },
   "outputs": [],
   "source": [
    "# making boxplot between customer care calls, weights in gram and whether or not the product will reach on time or not\n",
    "# to see that is there any relation between them.\n",
    "\n",
    "px.box(x = 'Customer_care_calls', y = 'Weight_in_gms', data_frame = df, color = 'Reached.on.Time_Y.N', template = 'plotly_dark')"
   ]
  },
  {
   "cell_type": "markdown",
   "id": "31904389",
   "metadata": {
    "papermill": {
     "duration": 0.139457,
     "end_time": "2021-09-14T05:49:26.481732",
     "exception": false,
     "start_time": "2021-09-14T05:49:26.342275",
     "status": "completed"
    },
    "tags": []
   },
   "source": [
    "- customer care calls and weights in gram have negative correlation i.e customer care calls are more when weight of product is low and less when weight of product is high."
   ]
  },
  {
   "cell_type": "markdown",
   "id": "10505af6",
   "metadata": {
    "papermill": {
     "duration": 0.141705,
     "end_time": "2021-09-14T05:49:26.763525",
     "exception": false,
     "start_time": "2021-09-14T05:49:26.621820",
     "status": "completed"
    },
    "tags": []
   },
   "source": [
    "### Relation between prior purchases and weights in gram"
   ]
  },
  {
   "cell_type": "code",
   "execution_count": null,
   "id": "2459becd",
   "metadata": {
    "execution": {
     "iopub.execute_input": "2021-09-14T05:49:27.079216Z",
     "iopub.status.busy": "2021-09-14T05:49:27.074824Z",
     "iopub.status.idle": "2021-09-14T05:49:27.200235Z",
     "shell.execute_reply": "2021-09-14T05:49:27.199439Z",
     "shell.execute_reply.started": "2021-08-08T07:50:09.165938Z"
    },
    "papermill": {
     "duration": 0.29642,
     "end_time": "2021-09-14T05:49:27.200440",
     "exception": false,
     "start_time": "2021-09-14T05:49:26.904020",
     "status": "completed"
    },
    "tags": []
   },
   "outputs": [],
   "source": [
    "# making boxplot between prior purchases and weights in gram to see that is there any relation between them.\n",
    "\n",
    "px.box(x = 'Prior_purchases', y = 'Weight_in_gms', data_frame = df, color = 'Prior_purchases', template = 'plotly_dark')"
   ]
  },
  {
   "cell_type": "code",
   "execution_count": null,
   "id": "a4baf91a",
   "metadata": {
    "execution": {
     "iopub.execute_input": "2021-09-14T05:49:27.528986Z",
     "iopub.status.busy": "2021-09-14T05:49:27.526220Z",
     "iopub.status.idle": "2021-09-14T05:49:27.614025Z",
     "shell.execute_reply": "2021-09-14T05:49:27.613298Z",
     "shell.execute_reply.started": "2021-08-08T07:50:09.304932Z"
    },
    "papermill": {
     "duration": 0.256296,
     "end_time": "2021-09-14T05:49:27.614190",
     "exception": false,
     "start_time": "2021-09-14T05:49:27.357894",
     "status": "completed"
    },
    "tags": []
   },
   "outputs": [],
   "source": [
    "# making boxplot between prior purchases, weights in gram and whether or not the product will reach on time or not\n",
    "# to see that is there any relation between them.\n",
    "\n",
    "px.box(x = 'Prior_purchases', y = 'Weight_in_gms', data_frame = df, color = 'Reached.on.Time_Y.N', template = 'plotly_dark')"
   ]
  },
  {
   "cell_type": "markdown",
   "id": "2aa09812",
   "metadata": {
    "papermill": {
     "duration": 0.143974,
     "end_time": "2021-09-14T05:49:27.903434",
     "exception": false,
     "start_time": "2021-09-14T05:49:27.759460",
     "status": "completed"
    },
    "tags": []
   },
   "source": [
    "### Does prior purchases effect cost of the products?"
   ]
  },
  {
   "cell_type": "code",
   "execution_count": null,
   "id": "2b161950",
   "metadata": {
    "execution": {
     "iopub.execute_input": "2021-09-14T05:49:28.221791Z",
     "iopub.status.busy": "2021-09-14T05:49:28.214386Z",
     "iopub.status.idle": "2021-09-14T05:49:28.329209Z",
     "shell.execute_reply": "2021-09-14T05:49:28.328533Z",
     "shell.execute_reply.started": "2021-08-08T07:50:09.419667Z"
    },
    "papermill": {
     "duration": 0.280697,
     "end_time": "2021-09-14T05:49:28.329358",
     "exception": false,
     "start_time": "2021-09-14T05:49:28.048661",
     "status": "completed"
    },
    "tags": []
   },
   "outputs": [],
   "source": [
    "# making boxplot between prior purchases and cost of product to see that is there any relation between them.\n",
    "\n",
    "px.box(x = 'Prior_purchases', y = 'Cost_of_the_Product', data_frame = df, color = 'Prior_purchases',template = 'plotly_dark')"
   ]
  },
  {
   "cell_type": "code",
   "execution_count": null,
   "id": "02b47b5d",
   "metadata": {
    "execution": {
     "iopub.execute_input": "2021-09-14T05:49:28.661425Z",
     "iopub.status.busy": "2021-09-14T05:49:28.660150Z",
     "iopub.status.idle": "2021-09-14T05:49:28.740508Z",
     "shell.execute_reply": "2021-09-14T05:49:28.739930Z",
     "shell.execute_reply.started": "2021-08-08T07:50:09.551648Z"
    },
    "papermill": {
     "duration": 0.264428,
     "end_time": "2021-09-14T05:49:28.740664",
     "exception": false,
     "start_time": "2021-09-14T05:49:28.476236",
     "status": "completed"
    },
    "tags": []
   },
   "outputs": [],
   "source": [
    "# making boxplot between prior purchases, cost of product and whether or not the product will reach on time or not\n",
    "# to see that is there any relation between them.\n",
    "\n",
    "px.box(x = 'Prior_purchases', y = 'Cost_of_the_Product', data_frame = df, color = 'Reached.on.Time_Y.N',\n",
    "       template = 'plotly_dark')"
   ]
  },
  {
   "cell_type": "markdown",
   "id": "c5e19ac0",
   "metadata": {
    "papermill": {
     "duration": 0.147488,
     "end_time": "2021-09-14T05:49:29.037238",
     "exception": false,
     "start_time": "2021-09-14T05:49:28.889750",
     "status": "completed"
    },
    "tags": []
   },
   "source": [
    "### Relation between cost of the products and customer care calls"
   ]
  },
  {
   "cell_type": "code",
   "execution_count": null,
   "id": "3cbcb4b9",
   "metadata": {
    "execution": {
     "iopub.execute_input": "2021-09-14T05:49:29.366309Z",
     "iopub.status.busy": "2021-09-14T05:49:29.363550Z",
     "iopub.status.idle": "2021-09-14T05:49:29.461096Z",
     "shell.execute_reply": "2021-09-14T05:49:29.461604Z",
     "shell.execute_reply.started": "2021-08-08T07:50:09.66183Z"
    },
    "papermill": {
     "duration": 0.274001,
     "end_time": "2021-09-14T05:49:29.461771",
     "exception": false,
     "start_time": "2021-09-14T05:49:29.187770",
     "status": "completed"
    },
    "tags": []
   },
   "outputs": [],
   "source": [
    "# making boxplot between customer care calls and cost of product to see that is there any relation between them.\n",
    "\n",
    "px.box(x = 'Customer_care_calls', y = 'Cost_of_the_Product', data_frame = df, color = 'Customer_care_calls',\n",
    "       template = 'plotly_dark')"
   ]
  },
  {
   "cell_type": "code",
   "execution_count": null,
   "id": "0360bd2f",
   "metadata": {
    "execution": {
     "iopub.execute_input": "2021-09-14T05:49:29.768358Z",
     "iopub.status.busy": "2021-09-14T05:49:29.767709Z",
     "iopub.status.idle": "2021-09-14T05:49:29.876747Z",
     "shell.execute_reply": "2021-09-14T05:49:29.877211Z",
     "shell.execute_reply.started": "2021-08-08T07:50:09.784539Z"
    },
    "papermill": {
     "duration": 0.264641,
     "end_time": "2021-09-14T05:49:29.877383",
     "exception": false,
     "start_time": "2021-09-14T05:49:29.612742",
     "status": "completed"
    },
    "tags": []
   },
   "outputs": [],
   "source": [
    "# making boxplot between customer care calls, cost of product and whether or not the product will reach on time or not\n",
    "# to see that is there any relation between them.\n",
    "\n",
    "px.box(x = 'Customer_care_calls', y = 'Cost_of_the_Product', data_frame = df, color = 'Reached.on.Time_Y.N',\n",
    "       template = 'plotly_dark')"
   ]
  },
  {
   "cell_type": "markdown",
   "id": "d61e4cf9",
   "metadata": {
    "papermill": {
     "duration": 0.155467,
     "end_time": "2021-09-14T05:49:30.187634",
     "exception": false,
     "start_time": "2021-09-14T05:49:30.032167",
     "status": "completed"
    },
    "tags": []
   },
   "source": [
    "- Customer calls were more when the cost of product is high."
   ]
  },
  {
   "cell_type": "markdown",
   "id": "59d2b4af",
   "metadata": {
    "papermill": {
     "duration": 0.167552,
     "end_time": "2021-09-14T05:49:30.539672",
     "exception": false,
     "start_time": "2021-09-14T05:49:30.372120",
     "status": "completed"
    },
    "tags": []
   },
   "source": [
    "### Now lets check the relation between cost of the product and the discount offered and the relation with whether or not the product will reach on time"
   ]
  },
  {
   "cell_type": "code",
   "execution_count": null,
   "id": "ac5aac9d",
   "metadata": {
    "execution": {
     "iopub.execute_input": "2021-09-14T05:49:30.851266Z",
     "iopub.status.busy": "2021-09-14T05:49:30.850267Z",
     "iopub.status.idle": "2021-09-14T05:49:31.596580Z",
     "shell.execute_reply": "2021-09-14T05:49:31.597106Z",
     "shell.execute_reply.started": "2021-08-08T07:50:10.033221Z"
    },
    "papermill": {
     "duration": 0.903529,
     "end_time": "2021-09-14T05:49:31.597272",
     "exception": false,
     "start_time": "2021-09-14T05:49:30.693743",
     "status": "completed"
    },
    "tags": []
   },
   "outputs": [],
   "source": [
    "# creating scatter plot to see the relation between cost of the product and the discount offered and the relation with\n",
    "# whether or not th product will reach on time\n",
    "\n",
    "plt.figure(figsize = (15, 7))\n",
    "sns.scatterplot(x='Discount_offered', y='Cost_of_the_Product', data=df, hue='Reached.on.Time_Y.N')\n",
    "\n",
    "plt.show()"
   ]
  },
  {
   "cell_type": "markdown",
   "id": "340cecd1",
   "metadata": {
    "papermill": {
     "duration": 0.16054,
     "end_time": "2021-09-14T05:49:31.920692",
     "exception": false,
     "start_time": "2021-09-14T05:49:31.760152",
     "status": "completed"
    },
    "tags": []
   },
   "source": [
    "### Categorical Variable Encoding"
   ]
  },
  {
   "cell_type": "code",
   "execution_count": null,
   "id": "b735af9c",
   "metadata": {
    "execution": {
     "iopub.execute_input": "2021-09-14T05:49:32.253876Z",
     "iopub.status.busy": "2021-09-14T05:49:32.253222Z",
     "iopub.status.idle": "2021-09-14T05:49:32.275416Z",
     "shell.execute_reply": "2021-09-14T05:49:32.274858Z",
     "shell.execute_reply.started": "2021-08-08T07:50:10.631001Z"
    },
    "papermill": {
     "duration": 0.191166,
     "end_time": "2021-09-14T05:49:32.275572",
     "exception": false,
     "start_time": "2021-09-14T05:49:32.084406",
     "status": "completed"
    },
    "tags": []
   },
   "outputs": [],
   "source": [
    "# encoding categorical variables\n",
    "\n",
    "df['Warehouse_block'] = df['Warehouse_block'].map({'A' : 0, 'B': 1, 'C': 2, 'D':3, 'F': 4})\n",
    "df['Mode_of_Shipment'] = df['Mode_of_Shipment'].map({'Flight' : 0, 'Ship': 1, 'Road': 2})\n",
    "df['Product_importance'] = df['Product_importance'].map({'low' : 0, 'medium': 1, 'high': 2})\n",
    "df['Gender'] = df['Gender'].apply(lambda val: 1 if val == 'M' else 0)"
   ]
  },
  {
   "cell_type": "code",
   "execution_count": null,
   "id": "ef518e00",
   "metadata": {
    "execution": {
     "iopub.execute_input": "2021-09-14T05:49:32.613106Z",
     "iopub.status.busy": "2021-09-14T05:49:32.612301Z",
     "iopub.status.idle": "2021-09-14T05:49:32.615409Z",
     "shell.execute_reply": "2021-09-14T05:49:32.615878Z",
     "shell.execute_reply.started": "2021-08-08T07:50:10.658391Z"
    },
    "papermill": {
     "duration": 0.178938,
     "end_time": "2021-09-14T05:49:32.616080",
     "exception": false,
     "start_time": "2021-09-14T05:49:32.437142",
     "status": "completed"
    },
    "tags": []
   },
   "outputs": [],
   "source": [
    "df.head() # looking at first five rows after categorical variable encoding"
   ]
  },
  {
   "cell_type": "code",
   "execution_count": null,
   "id": "10931287",
   "metadata": {
    "execution": {
     "iopub.execute_input": "2021-09-14T05:49:32.944252Z",
     "iopub.status.busy": "2021-09-14T05:49:32.943581Z",
     "iopub.status.idle": "2021-09-14T05:49:32.948210Z",
     "shell.execute_reply": "2021-09-14T05:49:32.948693Z",
     "shell.execute_reply.started": "2021-08-08T07:50:10.674255Z"
    },
    "papermill": {
     "duration": 0.169602,
     "end_time": "2021-09-14T05:49:32.948858",
     "exception": false,
     "start_time": "2021-09-14T05:49:32.779256",
     "status": "completed"
    },
    "tags": []
   },
   "outputs": [],
   "source": [
    "# creating features and label\n",
    "\n",
    "X = df.iloc[:, :-1]\n",
    "y = df.iloc[:, -1]"
   ]
  },
  {
   "cell_type": "code",
   "execution_count": null,
   "id": "38466e49",
   "metadata": {
    "execution": {
     "iopub.execute_input": "2021-09-14T05:49:33.279907Z",
     "iopub.status.busy": "2021-09-14T05:49:33.279290Z",
     "iopub.status.idle": "2021-09-14T05:49:33.465115Z",
     "shell.execute_reply": "2021-09-14T05:49:33.464559Z",
     "shell.execute_reply.started": "2021-08-08T07:50:10.68539Z"
    },
    "papermill": {
     "duration": 0.351669,
     "end_time": "2021-09-14T05:49:33.465275",
     "exception": false,
     "start_time": "2021-09-14T05:49:33.113606",
     "status": "completed"
    },
    "tags": []
   },
   "outputs": [],
   "source": [
    "# spiltting our data into training and test data\n",
    "\n",
    "from sklearn.model_selection import train_test_split\n",
    "\n",
    "X_train, X_test, y_train, y_test = train_test_split(X, y, test_size = 0.25, random_state = 0)"
   ]
  },
  {
   "cell_type": "code",
   "execution_count": null,
   "id": "7b11e6af",
   "metadata": {
    "execution": {
     "iopub.execute_input": "2021-09-14T05:49:33.801065Z",
     "iopub.status.busy": "2021-09-14T05:49:33.800379Z",
     "iopub.status.idle": "2021-09-14T05:49:33.809427Z",
     "shell.execute_reply": "2021-09-14T05:49:33.808866Z",
     "shell.execute_reply.started": "2021-08-08T07:50:10.892052Z"
    },
    "papermill": {
     "duration": 0.180148,
     "end_time": "2021-09-14T05:49:33.809567",
     "exception": false,
     "start_time": "2021-09-14T05:49:33.629419",
     "status": "completed"
    },
    "tags": []
   },
   "outputs": [],
   "source": [
    "# Scaling the data using standardscaler\n",
    "\n",
    "from sklearn.preprocessing import StandardScaler\n",
    "\n",
    "sc = StandardScaler()\n",
    "X_train = sc.fit_transform(X_train)\n",
    "X_test = sc.transform(X_test)"
   ]
  },
  {
   "cell_type": "markdown",
   "id": "dea19c08",
   "metadata": {
    "papermill": {
     "duration": 0.164421,
     "end_time": "2021-09-14T05:49:34.137058",
     "exception": false,
     "start_time": "2021-09-14T05:49:33.972637",
     "status": "completed"
    },
    "tags": []
   },
   "source": [
    "**Now the data is preprocessed, and is ready to used to make predictions using machine learning models**"
   ]
  },
  {
   "cell_type": "markdown",
   "id": "f828504e",
   "metadata": {
    "papermill": {
     "duration": 0.161961,
     "end_time": "2021-09-14T05:49:34.461292",
     "exception": false,
     "start_time": "2021-09-14T05:49:34.299331",
     "status": "completed"
    },
    "tags": []
   },
   "source": [
    "## Thanks for Reading, Please do upvote if you liked my work !!"
   ]
  }
 ],
 "metadata": {
  "kernelspec": {
   "display_name": "Python 3",
   "language": "python",
   "name": "python3"
  },
  "language_info": {
   "codemirror_mode": {
    "name": "ipython",
    "version": 3
   },
   "file_extension": ".py",
   "mimetype": "text/x-python",
   "name": "python",
   "nbconvert_exporter": "python",
   "pygments_lexer": "ipython3",
   "version": "3.7.10"
  },
  "papermill": {
   "default_parameters": {},
   "duration": 51.818425,
   "end_time": "2021-09-14T05:49:35.534807",
   "environment_variables": {},
   "exception": null,
   "input_path": "__notebook__.ipynb",
   "output_path": "__notebook__.ipynb",
   "parameters": {},
   "start_time": "2021-09-14T05:48:43.716382",
   "version": "2.3.3"
  }
 },
 "nbformat": 4,
 "nbformat_minor": 5
}
