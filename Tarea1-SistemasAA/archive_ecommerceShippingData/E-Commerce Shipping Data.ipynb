{
 "cells": [
  {
   "cell_type": "code",
   "execution_count": 1,
   "id": "29546fd1",
   "metadata": {},
   "outputs": [],
   "source": [
    "import numpy as np\n",
    "import pandas as pd\n",
    "import seaborn as sns\n",
    "import matplotlib.pyplot as plt\n",
    "import warnings\n",
    "warnings.filterwarnings('ignore')"
   ]
  },
  {
   "cell_type": "code",
   "execution_count": 2,
   "id": "40e1bd4e",
   "metadata": {},
   "outputs": [
    {
     "data": {
      "text/html": [
       "<div>\n",
       "<style scoped>\n",
       "    .dataframe tbody tr th:only-of-type {\n",
       "        vertical-align: middle;\n",
       "    }\n",
       "\n",
       "    .dataframe tbody tr th {\n",
       "        vertical-align: top;\n",
       "    }\n",
       "\n",
       "    .dataframe thead th {\n",
       "        text-align: right;\n",
       "    }\n",
       "</style>\n",
       "<table border=\"1\" class=\"dataframe\">\n",
       "  <thead>\n",
       "    <tr style=\"text-align: right;\">\n",
       "      <th></th>\n",
       "      <th>ID</th>\n",
       "      <th>Almacen</th>\n",
       "      <th>Modo_Envio</th>\n",
       "      <th>Llamadas_AT</th>\n",
       "      <th>Calificación_del_cliente</th>\n",
       "      <th>Coste_en_$</th>\n",
       "      <th>Compras_Previas</th>\n",
       "      <th>Importancia_Producto</th>\n",
       "      <th>Genero</th>\n",
       "      <th>Descuento</th>\n",
       "      <th>Peso_g</th>\n",
       "      <th>Llego_en_Tiempo_NY</th>\n",
       "    </tr>\n",
       "  </thead>\n",
       "  <tbody>\n",
       "    <tr>\n",
       "      <th>0</th>\n",
       "      <td>1</td>\n",
       "      <td>D</td>\n",
       "      <td>Flight</td>\n",
       "      <td>4</td>\n",
       "      <td>2</td>\n",
       "      <td>177</td>\n",
       "      <td>3</td>\n",
       "      <td>low</td>\n",
       "      <td>F</td>\n",
       "      <td>44</td>\n",
       "      <td>1233</td>\n",
       "      <td>1</td>\n",
       "    </tr>\n",
       "    <tr>\n",
       "      <th>1</th>\n",
       "      <td>2</td>\n",
       "      <td>F</td>\n",
       "      <td>Flight</td>\n",
       "      <td>4</td>\n",
       "      <td>5</td>\n",
       "      <td>216</td>\n",
       "      <td>2</td>\n",
       "      <td>low</td>\n",
       "      <td>M</td>\n",
       "      <td>59</td>\n",
       "      <td>3088</td>\n",
       "      <td>1</td>\n",
       "    </tr>\n",
       "    <tr>\n",
       "      <th>2</th>\n",
       "      <td>3</td>\n",
       "      <td>A</td>\n",
       "      <td>Flight</td>\n",
       "      <td>2</td>\n",
       "      <td>2</td>\n",
       "      <td>183</td>\n",
       "      <td>4</td>\n",
       "      <td>low</td>\n",
       "      <td>M</td>\n",
       "      <td>48</td>\n",
       "      <td>3374</td>\n",
       "      <td>1</td>\n",
       "    </tr>\n",
       "    <tr>\n",
       "      <th>3</th>\n",
       "      <td>4</td>\n",
       "      <td>B</td>\n",
       "      <td>Flight</td>\n",
       "      <td>3</td>\n",
       "      <td>3</td>\n",
       "      <td>176</td>\n",
       "      <td>4</td>\n",
       "      <td>medium</td>\n",
       "      <td>M</td>\n",
       "      <td>10</td>\n",
       "      <td>1177</td>\n",
       "      <td>1</td>\n",
       "    </tr>\n",
       "    <tr>\n",
       "      <th>4</th>\n",
       "      <td>5</td>\n",
       "      <td>C</td>\n",
       "      <td>Flight</td>\n",
       "      <td>2</td>\n",
       "      <td>2</td>\n",
       "      <td>184</td>\n",
       "      <td>3</td>\n",
       "      <td>medium</td>\n",
       "      <td>F</td>\n",
       "      <td>46</td>\n",
       "      <td>2484</td>\n",
       "      <td>1</td>\n",
       "    </tr>\n",
       "  </tbody>\n",
       "</table>\n",
       "</div>"
      ],
      "text/plain": [
       "   ID Almacen Modo_Envio  Llamadas_AT  Calificación_del_cliente  Coste_en_$  \\\n",
       "0   1       D     Flight            4                         2         177   \n",
       "1   2       F     Flight            4                         5         216   \n",
       "2   3       A     Flight            2                         2         183   \n",
       "3   4       B     Flight            3                         3         176   \n",
       "4   5       C     Flight            2                         2         184   \n",
       "\n",
       "   Compras_Previas Importancia_Producto Genero  Descuento  Peso_g  \\\n",
       "0                3                  low      F         44    1233   \n",
       "1                2                  low      M         59    3088   \n",
       "2                4                  low      M         48    3374   \n",
       "3                4               medium      M         10    1177   \n",
       "4                3               medium      F         46    2484   \n",
       "\n",
       "   Llego_en_Tiempo_NY  \n",
       "0                   1  \n",
       "1                   1  \n",
       "2                   1  \n",
       "3                   1  \n",
       "4                   1  "
      ]
     },
     "execution_count": 2,
     "metadata": {},
     "output_type": "execute_result"
    }
   ],
   "source": [
    "# to load dataset\n",
    "df=pd.read_csv(\"trainES.csv\")\n",
    "# to show first 5 records\n",
    "df.head(5)"
   ]
  },
  {
   "cell_type": "code",
   "execution_count": 3,
   "id": "71119952",
   "metadata": {},
   "outputs": [
    {
     "data": {
      "text/plain": [
       "(10999, 12)"
      ]
     },
     "execution_count": 3,
     "metadata": {},
     "output_type": "execute_result"
    }
   ],
   "source": [
    "# to check how many rows and columns\n",
    "df.shape"
   ]
  },
  {
   "cell_type": "code",
   "execution_count": 4,
   "id": "7fae3961",
   "metadata": {},
   "outputs": [
    {
     "data": {
      "text/plain": [
       "ID                          0\n",
       "Almacen                     0\n",
       "Modo_Envio                  0\n",
       "Llamadas_AT                 0\n",
       "Calificación_del_cliente    0\n",
       "Coste_en_$                  0\n",
       "Compras_Previas             0\n",
       "Importancia_Producto        0\n",
       "Genero                      0\n",
       "Descuento                   0\n",
       "Peso_g                      0\n",
       "Llego_en_Tiempo_NY          0\n",
       "dtype: int64"
      ]
     },
     "execution_count": 4,
     "metadata": {},
     "output_type": "execute_result"
    }
   ],
   "source": [
    "# to check null values\n",
    "df.isnull().sum()"
   ]
  },
  {
   "cell_type": "code",
   "execution_count": 5,
   "id": "cdc956c0",
   "metadata": {},
   "outputs": [
    {
     "data": {
      "text/plain": [
       "ID                           int64\n",
       "Almacen                     object\n",
       "Modo_Envio                  object\n",
       "Llamadas_AT                  int64\n",
       "Calificación_del_cliente     int64\n",
       "Coste_en_$                   int64\n",
       "Compras_Previas              int64\n",
       "Importancia_Producto        object\n",
       "Genero                      object\n",
       "Descuento                    int64\n",
       "Peso_g                       int64\n",
       "Llego_en_Tiempo_NY           int64\n",
       "dtype: object"
      ]
     },
     "execution_count": 5,
     "metadata": {},
     "output_type": "execute_result"
    }
   ],
   "source": [
    "# crosscheck null values checking datatype\n",
    "df.dtypes"
   ]
  },
  {
   "cell_type": "code",
   "execution_count": 6,
   "id": "d3b27325",
   "metadata": {},
   "outputs": [
    {
     "name": "stdout",
     "output_type": "stream",
     "text": [
      "<class 'pandas.core.frame.DataFrame'>\n",
      "RangeIndex: 10999 entries, 0 to 10998\n",
      "Data columns (total 12 columns):\n",
      " #   Column                    Non-Null Count  Dtype \n",
      "---  ------                    --------------  ----- \n",
      " 0   ID                        10999 non-null  int64 \n",
      " 1   Almacen                   10999 non-null  object\n",
      " 2   Modo_Envio                10999 non-null  object\n",
      " 3   Llamadas_AT               10999 non-null  int64 \n",
      " 4   Calificación_del_cliente  10999 non-null  int64 \n",
      " 5   Coste_en_$                10999 non-null  int64 \n",
      " 6   Compras_Previas           10999 non-null  int64 \n",
      " 7   Importancia_Producto      10999 non-null  object\n",
      " 8   Genero                    10999 non-null  object\n",
      " 9   Descuento                 10999 non-null  int64 \n",
      " 10  Peso_g                    10999 non-null  int64 \n",
      " 11  Llego_en_Tiempo_NY        10999 non-null  int64 \n",
      "dtypes: int64(8), object(4)\n",
      "memory usage: 1.0+ MB\n"
     ]
    }
   ],
   "source": [
    "df.info()"
   ]
  },
  {
   "cell_type": "code",
   "execution_count": 7,
   "id": "9bfe88df",
   "metadata": {},
   "outputs": [
    {
     "data": {
      "text/html": [
       "<div>\n",
       "<style scoped>\n",
       "    .dataframe tbody tr th:only-of-type {\n",
       "        vertical-align: middle;\n",
       "    }\n",
       "\n",
       "    .dataframe tbody tr th {\n",
       "        vertical-align: top;\n",
       "    }\n",
       "\n",
       "    .dataframe thead th {\n",
       "        text-align: right;\n",
       "    }\n",
       "</style>\n",
       "<table border=\"1\" class=\"dataframe\">\n",
       "  <thead>\n",
       "    <tr style=\"text-align: right;\">\n",
       "      <th></th>\n",
       "      <th>ID</th>\n",
       "      <th>Llamadas_AT</th>\n",
       "      <th>Calificación_del_cliente</th>\n",
       "      <th>Coste_en_$</th>\n",
       "      <th>Compras_Previas</th>\n",
       "      <th>Descuento</th>\n",
       "      <th>Peso_g</th>\n",
       "      <th>Llego_en_Tiempo_NY</th>\n",
       "    </tr>\n",
       "  </thead>\n",
       "  <tbody>\n",
       "    <tr>\n",
       "      <th>count</th>\n",
       "      <td>10999.00000</td>\n",
       "      <td>10999.000000</td>\n",
       "      <td>10999.000000</td>\n",
       "      <td>10999.000000</td>\n",
       "      <td>10999.000000</td>\n",
       "      <td>10999.000000</td>\n",
       "      <td>10999.000000</td>\n",
       "      <td>10999.000000</td>\n",
       "    </tr>\n",
       "    <tr>\n",
       "      <th>mean</th>\n",
       "      <td>5500.00000</td>\n",
       "      <td>4.054459</td>\n",
       "      <td>2.990545</td>\n",
       "      <td>210.196836</td>\n",
       "      <td>3.567597</td>\n",
       "      <td>13.373216</td>\n",
       "      <td>3634.016729</td>\n",
       "      <td>0.596691</td>\n",
       "    </tr>\n",
       "    <tr>\n",
       "      <th>std</th>\n",
       "      <td>3175.28214</td>\n",
       "      <td>1.141490</td>\n",
       "      <td>1.413603</td>\n",
       "      <td>48.063272</td>\n",
       "      <td>1.522860</td>\n",
       "      <td>16.205527</td>\n",
       "      <td>1635.377251</td>\n",
       "      <td>0.490584</td>\n",
       "    </tr>\n",
       "    <tr>\n",
       "      <th>min</th>\n",
       "      <td>1.00000</td>\n",
       "      <td>2.000000</td>\n",
       "      <td>1.000000</td>\n",
       "      <td>96.000000</td>\n",
       "      <td>2.000000</td>\n",
       "      <td>1.000000</td>\n",
       "      <td>1001.000000</td>\n",
       "      <td>0.000000</td>\n",
       "    </tr>\n",
       "    <tr>\n",
       "      <th>25%</th>\n",
       "      <td>2750.50000</td>\n",
       "      <td>3.000000</td>\n",
       "      <td>2.000000</td>\n",
       "      <td>169.000000</td>\n",
       "      <td>3.000000</td>\n",
       "      <td>4.000000</td>\n",
       "      <td>1839.500000</td>\n",
       "      <td>0.000000</td>\n",
       "    </tr>\n",
       "    <tr>\n",
       "      <th>50%</th>\n",
       "      <td>5500.00000</td>\n",
       "      <td>4.000000</td>\n",
       "      <td>3.000000</td>\n",
       "      <td>214.000000</td>\n",
       "      <td>3.000000</td>\n",
       "      <td>7.000000</td>\n",
       "      <td>4149.000000</td>\n",
       "      <td>1.000000</td>\n",
       "    </tr>\n",
       "    <tr>\n",
       "      <th>75%</th>\n",
       "      <td>8249.50000</td>\n",
       "      <td>5.000000</td>\n",
       "      <td>4.000000</td>\n",
       "      <td>251.000000</td>\n",
       "      <td>4.000000</td>\n",
       "      <td>10.000000</td>\n",
       "      <td>5050.000000</td>\n",
       "      <td>1.000000</td>\n",
       "    </tr>\n",
       "    <tr>\n",
       "      <th>max</th>\n",
       "      <td>10999.00000</td>\n",
       "      <td>7.000000</td>\n",
       "      <td>5.000000</td>\n",
       "      <td>310.000000</td>\n",
       "      <td>10.000000</td>\n",
       "      <td>65.000000</td>\n",
       "      <td>7846.000000</td>\n",
       "      <td>1.000000</td>\n",
       "    </tr>\n",
       "  </tbody>\n",
       "</table>\n",
       "</div>"
      ],
      "text/plain": [
       "                ID   Llamadas_AT  Calificación_del_cliente    Coste_en_$  \\\n",
       "count  10999.00000  10999.000000              10999.000000  10999.000000   \n",
       "mean    5500.00000      4.054459                  2.990545    210.196836   \n",
       "std     3175.28214      1.141490                  1.413603     48.063272   \n",
       "min        1.00000      2.000000                  1.000000     96.000000   \n",
       "25%     2750.50000      3.000000                  2.000000    169.000000   \n",
       "50%     5500.00000      4.000000                  3.000000    214.000000   \n",
       "75%     8249.50000      5.000000                  4.000000    251.000000   \n",
       "max    10999.00000      7.000000                  5.000000    310.000000   \n",
       "\n",
       "       Compras_Previas     Descuento        Peso_g  Llego_en_Tiempo_NY  \n",
       "count     10999.000000  10999.000000  10999.000000        10999.000000  \n",
       "mean          3.567597     13.373216   3634.016729            0.596691  \n",
       "std           1.522860     16.205527   1635.377251            0.490584  \n",
       "min           2.000000      1.000000   1001.000000            0.000000  \n",
       "25%           3.000000      4.000000   1839.500000            0.000000  \n",
       "50%           3.000000      7.000000   4149.000000            1.000000  \n",
       "75%           4.000000     10.000000   5050.000000            1.000000  \n",
       "max          10.000000     65.000000   7846.000000            1.000000  "
      ]
     },
     "execution_count": 7,
     "metadata": {},
     "output_type": "execute_result"
    }
   ],
   "source": [
    "df.describe()"
   ]
  },
  {
   "cell_type": "code",
   "execution_count": 8,
   "id": "161f27f1",
   "metadata": {},
   "outputs": [
    {
     "data": {
      "text/plain": [
       "np.int64(0)"
      ]
     },
     "execution_count": 8,
     "metadata": {},
     "output_type": "execute_result"
    }
   ],
   "source": [
    "# to check duplicated values\n",
    "df.duplicated().sum()"
   ]
  },
  {
   "cell_type": "code",
   "execution_count": 12,
   "id": "2081ad1d",
   "metadata": {},
   "outputs": [
    {
     "data": {
      "text/plain": [
       "Llego_en_Tiempo_NY\n",
       "1    6563\n",
       "0    4436\n",
       "Name: count, dtype: int64"
      ]
     },
     "execution_count": 12,
     "metadata": {},
     "output_type": "execute_result"
    }
   ],
   "source": [
    "# check if dataset is balanced or not\n",
    "df['Llego_en_Tiempo_NY'].value_counts()"
   ]
  },
  {
   "cell_type": "code",
   "execution_count": 13,
   "id": "cba588be",
   "metadata": {},
   "outputs": [
    {
     "data": {
      "image/png": "[encoded data removed]",
      "text/plain": [
       "<Figure size 640x480 with 1 Axes>"
      ]
     },
     "metadata": {},
     "output_type": "display_data"
    }
   ],
   "source": [
    "sns.countplot(data=df,y=\"Llego_en_Tiempo_NY\")\n",
    "plt.grid(True)\n",
    "plt.show()"
   ]
  },
  {
   "cell_type": "code",
   "execution_count": null,
   "id": "5765a8cf",
   "metadata": {},
   "outputs": [
    {
     "data": {
      "image/png": "[encoded data removed]",
      "text/plain": [
       "<Figure size 640x480 with 2 Axes>"
      ]
     },
     "metadata": {},
     "output_type": "display_data"
    }
   ],
   "source": [
    "sns.heatmap(df.corr(),annot=True)\n",
    "plt.show()"
   ]
  },
  {
   "cell_type": "code",
   "execution_count": 14,
   "id": "acaf4780",
   "metadata": {},
   "outputs": [
    {
     "data": {
      "image/png": "[encoded data removed]",
      "text/plain": [
       "<Figure size 640x480 with 1 Axes>"
      ]
     },
     "metadata": {},
     "output_type": "display_data"
    }
   ],
   "source": [
    "sns.boxplot(data=df,x='Llego_en_Tiempo_NY',y='Descuento')\n",
    "plt.show()"
   ]
  },
  {
   "cell_type": "code",
   "execution_count": 15,
   "id": "38ed5f00",
   "metadata": {},
   "outputs": [
    {
     "data": {
      "image/png": "[encoded data removed]",
      "text/plain": [
       "<Figure size 640x480 with 1 Axes>"
      ]
     },
     "metadata": {},
     "output_type": "display_data"
    }
   ],
   "source": [
    "sns.countplot(data=df,y=\"Llamadas_AT\")\n",
    "plt.grid(True)\n",
    "plt.show()"
   ]
  },
  {
   "cell_type": "code",
   "execution_count": 20,
   "id": "e0c4787e",
   "metadata": {},
   "outputs": [
    {
     "data": {
      "image/png": "[encoded data removed]",
      "text/plain": [
       "<Figure size 640x480 with 1 Axes>"
      ]
     },
     "metadata": {},
     "output_type": "display_data"
    }
   ],
   "source": [
    "sns.countplot(data=df,y=\"Almacen\")\n",
    "plt.grid(True)\n",
    "plt.show()\n",
    "#here we can see that the F warehouse_block has max capacity of storage"
   ]
  },
  {
   "cell_type": "code",
   "execution_count": 22,
   "id": "77d71a48",
   "metadata": {},
   "outputs": [
    {
     "data": {
      "image/png": "[encoded data removed]",
      "text/plain": [
       "<Figure size 640x480 with 1 Axes>"
      ]
     },
     "metadata": {},
     "output_type": "display_data"
    }
   ],
   "source": [
    "sns.countplot(data=df,y=\"Modo_Envio\")\n",
    "plt.grid(True)\n",
    "plt.show()\n",
    "#here we can see that ship is the common used mode of shipment with over 7000 shipments sent through it"
   ]
  },
  {
   "cell_type": "code",
   "execution_count": 23,
   "id": "9f3368b1",
   "metadata": {},
   "outputs": [
    {
     "data": {
      "image/png": "[encoded data removed]",
      "text/plain": [
       "<Figure size 640x480 with 1 Axes>"
      ]
     },
     "metadata": {},
     "output_type": "display_data"
    }
   ],
   "source": [
    "sns.countplot(data=df,y=\"Genero\")\n",
    "plt.grid(True)\n",
    "plt.show()"
   ]
  },
  {
   "cell_type": "code",
   "execution_count": 25,
   "id": "a9dd32fe",
   "metadata": {},
   "outputs": [
    {
     "data": {
      "image/png": "[encoded data removed]",
      "text/plain": [
       "<Figure size 500x500 with 1 Axes>"
      ]
     },
     "metadata": {},
     "output_type": "display_data"
    }
   ],
   "source": [
    "explode=[0,0,0,0,0,0.2]\n",
    "df[\"Llamadas_AT\"].value_counts().plot(figsize=(5,5),kind=\"pie\",autopct='%.2f%%',explode=explode)\n",
    "plt.show()\n",
    "#here we can see most of 3-4 times customer called to customer care for order related thing"
   ]
  },
  {
   "cell_type": "code",
   "execution_count": 26,
   "id": "eab3b72a",
   "metadata": {},
   "outputs": [
    {
     "name": "stdout",
     "output_type": "stream",
     "text": [
      "<class 'pandas.core.frame.DataFrame'>\n",
      "RangeIndex: 10999 entries, 0 to 10998\n",
      "Data columns (total 4 columns):\n",
      " #   Column                Non-Null Count  Dtype \n",
      "---  ------                --------------  ----- \n",
      " 0   Almacen               10999 non-null  object\n",
      " 1   Modo_Envio            10999 non-null  object\n",
      " 2   Importancia_Producto  10999 non-null  object\n",
      " 3   Genero                10999 non-null  object\n",
      "dtypes: object(4)\n",
      "memory usage: 343.8+ KB\n"
     ]
    }
   ],
   "source": [
    "# create df_cat to hold object type data\n",
    "df_cat=df.select_dtypes(object)\n",
    "df_cat.info()"
   ]
  },
  {
   "cell_type": "code",
   "execution_count": 27,
   "id": "909700a7",
   "metadata": {},
   "outputs": [
    {
     "name": "stdout",
     "output_type": "stream",
     "text": [
      "<class 'pandas.core.frame.DataFrame'>\n",
      "RangeIndex: 10999 entries, 0 to 10998\n",
      "Data columns (total 8 columns):\n",
      " #   Column                    Non-Null Count  Dtype\n",
      "---  ------                    --------------  -----\n",
      " 0   ID                        10999 non-null  int64\n",
      " 1   Llamadas_AT               10999 non-null  int64\n",
      " 2   Calificación_del_cliente  10999 non-null  int64\n",
      " 3   Coste_en_$                10999 non-null  int64\n",
      " 4   Compras_Previas           10999 non-null  int64\n",
      " 5   Descuento                 10999 non-null  int64\n",
      " 6   Peso_g                    10999 non-null  int64\n",
      " 7   Llego_en_Tiempo_NY        10999 non-null  int64\n",
      "dtypes: int64(8)\n",
      "memory usage: 687.6 KB\n"
     ]
    }
   ],
   "source": [
    "# create df_num to hold numeric type data\n",
    "df_num=df.select_dtypes(\"int64\")\n",
    "df_num.info()"
   ]
  },
  {
   "cell_type": "code",
   "execution_count": 28,
   "id": "50c68650",
   "metadata": {},
   "outputs": [],
   "source": [
    "# apply label encoder in df_cat to convert object type data into numeric\n",
    "from sklearn.preprocessing import LabelEncoder\n",
    "le=LabelEncoder\n",
    "le.fit_transform\n",
    "for col in df_cat:\n",
    "    le=LabelEncoder()\n",
    "    df_cat[col]=le.fit_transform(df_cat[[col]])"
   ]
  },
  {
   "cell_type": "code",
   "execution_count": 29,
   "id": "8a7075de",
   "metadata": {},
   "outputs": [
    {
     "data": {
      "text/plain": [
       "Almacen                 int64\n",
       "Modo_Envio              int64\n",
       "Importancia_Producto    int64\n",
       "Genero                  int64\n",
       "dtype: object"
      ]
     },
     "execution_count": 29,
     "metadata": {},
     "output_type": "execute_result"
    }
   ],
   "source": [
    "df_cat.dtypes"
   ]
  },
  {
   "cell_type": "code",
   "execution_count": 30,
   "id": "62750974",
   "metadata": {},
   "outputs": [
    {
     "data": {
      "text/html": [
       "<div>\n",
       "<style scoped>\n",
       "    .dataframe tbody tr th:only-of-type {\n",
       "        vertical-align: middle;\n",
       "    }\n",
       "\n",
       "    .dataframe tbody tr th {\n",
       "        vertical-align: top;\n",
       "    }\n",
       "\n",
       "    .dataframe thead th {\n",
       "        text-align: right;\n",
       "    }\n",
       "</style>\n",
       "<table border=\"1\" class=\"dataframe\">\n",
       "  <thead>\n",
       "    <tr style=\"text-align: right;\">\n",
       "      <th></th>\n",
       "      <th>ID</th>\n",
       "      <th>Llamadas_AT</th>\n",
       "      <th>Calificación_del_cliente</th>\n",
       "      <th>Coste_en_$</th>\n",
       "      <th>Compras_Previas</th>\n",
       "      <th>Descuento</th>\n",
       "      <th>Peso_g</th>\n",
       "      <th>Llego_en_Tiempo_NY</th>\n",
       "      <th>Almacen</th>\n",
       "      <th>Modo_Envio</th>\n",
       "      <th>Importancia_Producto</th>\n",
       "      <th>Genero</th>\n",
       "    </tr>\n",
       "  </thead>\n",
       "  <tbody>\n",
       "    <tr>\n",
       "      <th>0</th>\n",
       "      <td>1</td>\n",
       "      <td>4</td>\n",
       "      <td>2</td>\n",
       "      <td>177</td>\n",
       "      <td>3</td>\n",
       "      <td>44</td>\n",
       "      <td>1233</td>\n",
       "      <td>1</td>\n",
       "      <td>3</td>\n",
       "      <td>0</td>\n",
       "      <td>1</td>\n",
       "      <td>0</td>\n",
       "    </tr>\n",
       "    <tr>\n",
       "      <th>1</th>\n",
       "      <td>2</td>\n",
       "      <td>4</td>\n",
       "      <td>5</td>\n",
       "      <td>216</td>\n",
       "      <td>2</td>\n",
       "      <td>59</td>\n",
       "      <td>3088</td>\n",
       "      <td>1</td>\n",
       "      <td>4</td>\n",
       "      <td>0</td>\n",
       "      <td>1</td>\n",
       "      <td>1</td>\n",
       "    </tr>\n",
       "    <tr>\n",
       "      <th>2</th>\n",
       "      <td>3</td>\n",
       "      <td>2</td>\n",
       "      <td>2</td>\n",
       "      <td>183</td>\n",
       "      <td>4</td>\n",
       "      <td>48</td>\n",
       "      <td>3374</td>\n",
       "      <td>1</td>\n",
       "      <td>0</td>\n",
       "      <td>0</td>\n",
       "      <td>1</td>\n",
       "      <td>1</td>\n",
       "    </tr>\n",
       "    <tr>\n",
       "      <th>3</th>\n",
       "      <td>4</td>\n",
       "      <td>3</td>\n",
       "      <td>3</td>\n",
       "      <td>176</td>\n",
       "      <td>4</td>\n",
       "      <td>10</td>\n",
       "      <td>1177</td>\n",
       "      <td>1</td>\n",
       "      <td>1</td>\n",
       "      <td>0</td>\n",
       "      <td>2</td>\n",
       "      <td>1</td>\n",
       "    </tr>\n",
       "    <tr>\n",
       "      <th>4</th>\n",
       "      <td>5</td>\n",
       "      <td>2</td>\n",
       "      <td>2</td>\n",
       "      <td>184</td>\n",
       "      <td>3</td>\n",
       "      <td>46</td>\n",
       "      <td>2484</td>\n",
       "      <td>1</td>\n",
       "      <td>2</td>\n",
       "      <td>0</td>\n",
       "      <td>2</td>\n",
       "      <td>0</td>\n",
       "    </tr>\n",
       "    <tr>\n",
       "      <th>5</th>\n",
       "      <td>6</td>\n",
       "      <td>3</td>\n",
       "      <td>1</td>\n",
       "      <td>162</td>\n",
       "      <td>3</td>\n",
       "      <td>12</td>\n",
       "      <td>1417</td>\n",
       "      <td>1</td>\n",
       "      <td>4</td>\n",
       "      <td>0</td>\n",
       "      <td>2</td>\n",
       "      <td>0</td>\n",
       "    </tr>\n",
       "    <tr>\n",
       "      <th>6</th>\n",
       "      <td>7</td>\n",
       "      <td>3</td>\n",
       "      <td>4</td>\n",
       "      <td>250</td>\n",
       "      <td>3</td>\n",
       "      <td>3</td>\n",
       "      <td>2371</td>\n",
       "      <td>1</td>\n",
       "      <td>3</td>\n",
       "      <td>0</td>\n",
       "      <td>1</td>\n",
       "      <td>0</td>\n",
       "    </tr>\n",
       "    <tr>\n",
       "      <th>7</th>\n",
       "      <td>8</td>\n",
       "      <td>4</td>\n",
       "      <td>1</td>\n",
       "      <td>233</td>\n",
       "      <td>2</td>\n",
       "      <td>48</td>\n",
       "      <td>2804</td>\n",
       "      <td>1</td>\n",
       "      <td>4</td>\n",
       "      <td>0</td>\n",
       "      <td>1</td>\n",
       "      <td>0</td>\n",
       "    </tr>\n",
       "    <tr>\n",
       "      <th>8</th>\n",
       "      <td>9</td>\n",
       "      <td>3</td>\n",
       "      <td>4</td>\n",
       "      <td>150</td>\n",
       "      <td>3</td>\n",
       "      <td>11</td>\n",
       "      <td>1861</td>\n",
       "      <td>1</td>\n",
       "      <td>0</td>\n",
       "      <td>0</td>\n",
       "      <td>1</td>\n",
       "      <td>0</td>\n",
       "    </tr>\n",
       "    <tr>\n",
       "      <th>9</th>\n",
       "      <td>10</td>\n",
       "      <td>3</td>\n",
       "      <td>2</td>\n",
       "      <td>164</td>\n",
       "      <td>3</td>\n",
       "      <td>29</td>\n",
       "      <td>1187</td>\n",
       "      <td>1</td>\n",
       "      <td>1</td>\n",
       "      <td>0</td>\n",
       "      <td>2</td>\n",
       "      <td>0</td>\n",
       "    </tr>\n",
       "    <tr>\n",
       "      <th>10</th>\n",
       "      <td>11</td>\n",
       "      <td>3</td>\n",
       "      <td>4</td>\n",
       "      <td>189</td>\n",
       "      <td>2</td>\n",
       "      <td>12</td>\n",
       "      <td>2888</td>\n",
       "      <td>1</td>\n",
       "      <td>2</td>\n",
       "      <td>0</td>\n",
       "      <td>2</td>\n",
       "      <td>1</td>\n",
       "    </tr>\n",
       "    <tr>\n",
       "      <th>11</th>\n",
       "      <td>12</td>\n",
       "      <td>4</td>\n",
       "      <td>5</td>\n",
       "      <td>232</td>\n",
       "      <td>3</td>\n",
       "      <td>32</td>\n",
       "      <td>3253</td>\n",
       "      <td>1</td>\n",
       "      <td>4</td>\n",
       "      <td>0</td>\n",
       "      <td>2</td>\n",
       "      <td>0</td>\n",
       "    </tr>\n",
       "    <tr>\n",
       "      <th>12</th>\n",
       "      <td>13</td>\n",
       "      <td>3</td>\n",
       "      <td>5</td>\n",
       "      <td>198</td>\n",
       "      <td>3</td>\n",
       "      <td>1</td>\n",
       "      <td>3667</td>\n",
       "      <td>1</td>\n",
       "      <td>3</td>\n",
       "      <td>0</td>\n",
       "      <td>2</td>\n",
       "      <td>0</td>\n",
       "    </tr>\n",
       "    <tr>\n",
       "      <th>13</th>\n",
       "      <td>14</td>\n",
       "      <td>4</td>\n",
       "      <td>4</td>\n",
       "      <td>275</td>\n",
       "      <td>3</td>\n",
       "      <td>29</td>\n",
       "      <td>2602</td>\n",
       "      <td>1</td>\n",
       "      <td>4</td>\n",
       "      <td>0</td>\n",
       "      <td>0</td>\n",
       "      <td>1</td>\n",
       "    </tr>\n",
       "    <tr>\n",
       "      <th>14</th>\n",
       "      <td>15</td>\n",
       "      <td>4</td>\n",
       "      <td>3</td>\n",
       "      <td>152</td>\n",
       "      <td>3</td>\n",
       "      <td>43</td>\n",
       "      <td>1009</td>\n",
       "      <td>1</td>\n",
       "      <td>0</td>\n",
       "      <td>0</td>\n",
       "      <td>1</td>\n",
       "      <td>1</td>\n",
       "    </tr>\n",
       "    <tr>\n",
       "      <th>15</th>\n",
       "      <td>16</td>\n",
       "      <td>4</td>\n",
       "      <td>3</td>\n",
       "      <td>227</td>\n",
       "      <td>3</td>\n",
       "      <td>45</td>\n",
       "      <td>2707</td>\n",
       "      <td>1</td>\n",
       "      <td>1</td>\n",
       "      <td>0</td>\n",
       "      <td>1</td>\n",
       "      <td>0</td>\n",
       "    </tr>\n",
       "    <tr>\n",
       "      <th>16</th>\n",
       "      <td>17</td>\n",
       "      <td>3</td>\n",
       "      <td>4</td>\n",
       "      <td>143</td>\n",
       "      <td>2</td>\n",
       "      <td>6</td>\n",
       "      <td>1194</td>\n",
       "      <td>1</td>\n",
       "      <td>2</td>\n",
       "      <td>0</td>\n",
       "      <td>2</td>\n",
       "      <td>0</td>\n",
       "    </tr>\n",
       "    <tr>\n",
       "      <th>17</th>\n",
       "      <td>18</td>\n",
       "      <td>5</td>\n",
       "      <td>5</td>\n",
       "      <td>227</td>\n",
       "      <td>3</td>\n",
       "      <td>36</td>\n",
       "      <td>3952</td>\n",
       "      <td>1</td>\n",
       "      <td>4</td>\n",
       "      <td>2</td>\n",
       "      <td>2</td>\n",
       "      <td>1</td>\n",
       "    </tr>\n",
       "    <tr>\n",
       "      <th>18</th>\n",
       "      <td>19</td>\n",
       "      <td>5</td>\n",
       "      <td>5</td>\n",
       "      <td>239</td>\n",
       "      <td>3</td>\n",
       "      <td>18</td>\n",
       "      <td>2495</td>\n",
       "      <td>1</td>\n",
       "      <td>3</td>\n",
       "      <td>2</td>\n",
       "      <td>0</td>\n",
       "      <td>1</td>\n",
       "    </tr>\n",
       "    <tr>\n",
       "      <th>19</th>\n",
       "      <td>20</td>\n",
       "      <td>4</td>\n",
       "      <td>5</td>\n",
       "      <td>145</td>\n",
       "      <td>3</td>\n",
       "      <td>45</td>\n",
       "      <td>1059</td>\n",
       "      <td>1</td>\n",
       "      <td>4</td>\n",
       "      <td>2</td>\n",
       "      <td>2</td>\n",
       "      <td>1</td>\n",
       "    </tr>\n",
       "  </tbody>\n",
       "</table>\n",
       "</div>"
      ],
      "text/plain": [
       "    ID  Llamadas_AT  Calificación_del_cliente  Coste_en_$  Compras_Previas  \\\n",
       "0    1            4                         2         177                3   \n",
       "1    2            4                         5         216                2   \n",
       "2    3            2                         2         183                4   \n",
       "3    4            3                         3         176                4   \n",
       "4    5            2                         2         184                3   \n",
       "5    6            3                         1         162                3   \n",
       "6    7            3                         4         250                3   \n",
       "7    8            4                         1         233                2   \n",
       "8    9            3                         4         150                3   \n",
       "9   10            3                         2         164                3   \n",
       "10  11            3                         4         189                2   \n",
       "11  12            4                         5         232                3   \n",
       "12  13            3                         5         198                3   \n",
       "13  14            4                         4         275                3   \n",
       "14  15            4                         3         152                3   \n",
       "15  16            4                         3         227                3   \n",
       "16  17            3                         4         143                2   \n",
       "17  18            5                         5         227                3   \n",
       "18  19            5                         5         239                3   \n",
       "19  20            4                         5         145                3   \n",
       "\n",
       "    Descuento  Peso_g  Llego_en_Tiempo_NY  Almacen  Modo_Envio  \\\n",
       "0          44    1233                   1        3           0   \n",
       "1          59    3088                   1        4           0   \n",
       "2          48    3374                   1        0           0   \n",
       "3          10    1177                   1        1           0   \n",
       "4          46    2484                   1        2           0   \n",
       "5          12    1417                   1        4           0   \n",
       "6           3    2371                   1        3           0   \n",
       "7          48    2804                   1        4           0   \n",
       "8          11    1861                   1        0           0   \n",
       "9          29    1187                   1        1           0   \n",
       "10         12    2888                   1        2           0   \n",
       "11         32    3253                   1        4           0   \n",
       "12          1    3667                   1        3           0   \n",
       "13         29    2602                   1        4           0   \n",
       "14         43    1009                   1        0           0   \n",
       "15         45    2707                   1        1           0   \n",
       "16          6    1194                   1        2           0   \n",
       "17         36    3952                   1        4           2   \n",
       "18         18    2495                   1        3           2   \n",
       "19         45    1059                   1        4           2   \n",
       "\n",
       "    Importancia_Producto  Genero  \n",
       "0                      1       0  \n",
       "1                      1       1  \n",
       "2                      1       1  \n",
       "3                      2       1  \n",
       "4                      2       0  \n",
       "5                      2       0  \n",
       "6                      1       0  \n",
       "7                      1       0  \n",
       "8                      1       0  \n",
       "9                      2       0  \n",
       "10                     2       1  \n",
       "11                     2       0  \n",
       "12                     2       0  \n",
       "13                     0       1  \n",
       "14                     1       1  \n",
       "15                     1       0  \n",
       "16                     2       0  \n",
       "17                     2       1  \n",
       "18                     0       1  \n",
       "19                     2       1  "
      ]
     },
     "execution_count": 30,
     "metadata": {},
     "output_type": "execute_result"
    }
   ],
   "source": [
    "# to concat categorical and numerical data\n",
    "df_new=pd.concat([df_num,df_cat],axis=1)\n",
    "df_new.head(20)"
   ]
  },
  {
   "cell_type": "code",
   "execution_count": 31,
   "id": "adc272bf",
   "metadata": {},
   "outputs": [],
   "source": [
    "# select input and output\n",
    "x=df_new.drop('Llego_en_Tiempo_NY',axis=1)\n",
    "y=df_new['Llego_en_Tiempo_NY']"
   ]
  },
  {
   "cell_type": "code",
   "execution_count": 32,
   "id": "ee30407d",
   "metadata": {},
   "outputs": [],
   "source": [
    "# train_test_split\n",
    "from sklearn.model_selection import train_test_split\n",
    "x_train,x_test,y_train,y_test=train_test_split(x,y,test_size=0.3,random_state=1)"
   ]
  },
  {
   "cell_type": "code",
   "execution_count": 33,
   "id": "8138bde6",
   "metadata": {},
   "outputs": [
    {
     "data": {
      "text/plain": [
       "((7699, 11), (7699,), (3300, 11), (3300,))"
      ]
     },
     "execution_count": 33,
     "metadata": {},
     "output_type": "execute_result"
    }
   ],
   "source": [
    "x_train.shape,y_train.shape,x_test.shape,y_test.shape"
   ]
  },
  {
   "cell_type": "code",
   "execution_count": 34,
   "id": "4a1781c6",
   "metadata": {},
   "outputs": [
    {
     "data": {
      "text/html": [
       "<div>\n",
       "<style scoped>\n",
       "    .dataframe tbody tr th:only-of-type {\n",
       "        vertical-align: middle;\n",
       "    }\n",
       "\n",
       "    .dataframe tbody tr th {\n",
       "        vertical-align: top;\n",
       "    }\n",
       "\n",
       "    .dataframe thead th {\n",
       "        text-align: right;\n",
       "    }\n",
       "</style>\n",
       "<table border=\"1\" class=\"dataframe\">\n",
       "  <thead>\n",
       "    <tr style=\"text-align: right;\">\n",
       "      <th></th>\n",
       "      <th>ID</th>\n",
       "      <th>Llamadas_AT</th>\n",
       "      <th>Calificación_del_cliente</th>\n",
       "      <th>Coste_en_$</th>\n",
       "      <th>Compras_Previas</th>\n",
       "      <th>Descuento</th>\n",
       "      <th>Peso_g</th>\n",
       "      <th>Almacen</th>\n",
       "      <th>Modo_Envio</th>\n",
       "      <th>Importancia_Producto</th>\n",
       "      <th>Genero</th>\n",
       "    </tr>\n",
       "  </thead>\n",
       "  <tbody>\n",
       "    <tr>\n",
       "      <th>4177</th>\n",
       "      <td>4178</td>\n",
       "      <td>4</td>\n",
       "      <td>5</td>\n",
       "      <td>149</td>\n",
       "      <td>3</td>\n",
       "      <td>9</td>\n",
       "      <td>4953</td>\n",
       "      <td>4</td>\n",
       "      <td>2</td>\n",
       "      <td>1</td>\n",
       "      <td>1</td>\n",
       "    </tr>\n",
       "    <tr>\n",
       "      <th>1616</th>\n",
       "      <td>1617</td>\n",
       "      <td>3</td>\n",
       "      <td>4</td>\n",
       "      <td>121</td>\n",
       "      <td>3</td>\n",
       "      <td>63</td>\n",
       "      <td>1611</td>\n",
       "      <td>0</td>\n",
       "      <td>2</td>\n",
       "      <td>1</td>\n",
       "      <td>0</td>\n",
       "    </tr>\n",
       "    <tr>\n",
       "      <th>2775</th>\n",
       "      <td>2776</td>\n",
       "      <td>4</td>\n",
       "      <td>1</td>\n",
       "      <td>178</td>\n",
       "      <td>3</td>\n",
       "      <td>19</td>\n",
       "      <td>1906</td>\n",
       "      <td>1</td>\n",
       "      <td>2</td>\n",
       "      <td>1</td>\n",
       "      <td>1</td>\n",
       "    </tr>\n",
       "    <tr>\n",
       "      <th>10272</th>\n",
       "      <td>10273</td>\n",
       "      <td>4</td>\n",
       "      <td>4</td>\n",
       "      <td>160</td>\n",
       "      <td>3</td>\n",
       "      <td>5</td>\n",
       "      <td>4440</td>\n",
       "      <td>3</td>\n",
       "      <td>0</td>\n",
       "      <td>2</td>\n",
       "      <td>1</td>\n",
       "    </tr>\n",
       "    <tr>\n",
       "      <th>6836</th>\n",
       "      <td>6837</td>\n",
       "      <td>4</td>\n",
       "      <td>3</td>\n",
       "      <td>247</td>\n",
       "      <td>3</td>\n",
       "      <td>1</td>\n",
       "      <td>5214</td>\n",
       "      <td>0</td>\n",
       "      <td>1</td>\n",
       "      <td>0</td>\n",
       "      <td>0</td>\n",
       "    </tr>\n",
       "  </tbody>\n",
       "</table>\n",
       "</div>"
      ],
      "text/plain": [
       "          ID  Llamadas_AT  Calificación_del_cliente  Coste_en_$  \\\n",
       "4177    4178            4                         5         149   \n",
       "1616    1617            3                         4         121   \n",
       "2775    2776            4                         1         178   \n",
       "10272  10273            4                         4         160   \n",
       "6836    6837            4                         3         247   \n",
       "\n",
       "       Compras_Previas  Descuento  Peso_g  Almacen  Modo_Envio  \\\n",
       "4177                 3          9    4953        4           2   \n",
       "1616                 3         63    1611        0           2   \n",
       "2775                 3         19    1906        1           2   \n",
       "10272                3          5    4440        3           0   \n",
       "6836                 3          1    5214        0           1   \n",
       "\n",
       "       Importancia_Producto  Genero  \n",
       "4177                      1       1  \n",
       "1616                      1       0  \n",
       "2775                      1       1  \n",
       "10272                     2       1  \n",
       "6836                      0       0  "
      ]
     },
     "execution_count": 34,
     "metadata": {},
     "output_type": "execute_result"
    }
   ],
   "source": [
    "x_train.head()"
   ]
  },
  {
   "cell_type": "code",
   "execution_count": 35,
   "id": "9459bb53",
   "metadata": {},
   "outputs": [],
   "source": [
    "# apply StandardScaler on x_train and x_test\n",
    "from sklearn.preprocessing import StandardScaler\n",
    "ss=StandardScaler()\n",
    "x_train=ss.fit_transform(x_train)\n",
    "x_test=ss.transform(x_test)"
   ]
  },
  {
   "cell_type": "code",
   "execution_count": 36,
   "id": "3eb5bb0a",
   "metadata": {},
   "outputs": [],
   "source": [
    "#Create a function \n",
    "\n",
    "def create_model(model):\n",
    "    \n",
    "    #train the model \n",
    "    model.fit(x_train,y_train)\n",
    "    \n",
    "    #Test the data with 30%\n",
    "    y_pred=model.predict(x_test)\n",
    "    \n",
    "    #Generate the Report\n",
    "    print(classification_report(y_test,y_pred))\n",
    "    print(confusion_matrix(y_test,y_pred))\n",
    "    return model"
   ]
  },
  {
   "cell_type": "code",
   "execution_count": 37,
   "id": "3bfa8b3a",
   "metadata": {},
   "outputs": [],
   "source": [
    "from sklearn.metrics import confusion_matrix\n",
    "from sklearn.metrics import classification_report"
   ]
  },
  {
   "cell_type": "markdown",
   "id": "d0fe7cab",
   "metadata": {},
   "source": [
    "# Logistic Regression"
   ]
  },
  {
   "cell_type": "code",
   "execution_count": 38,
   "id": "dafeee4f",
   "metadata": {},
   "outputs": [
    {
     "name": "stdout",
     "output_type": "stream",
     "text": [
      "              precision    recall  f1-score   support\n",
      "\n",
      "           0       0.56      0.60      0.58      1342\n",
      "           1       0.71      0.68      0.70      1958\n",
      "\n",
      "    accuracy                           0.65      3300\n",
      "   macro avg       0.64      0.64      0.64      3300\n",
      "weighted avg       0.65      0.65      0.65      3300\n",
      "\n",
      "[[ 801  541]\n",
      " [ 621 1337]]\n"
     ]
    }
   ],
   "source": [
    "from sklearn.linear_model import LogisticRegression\n",
    "lr=LogisticRegression()\n",
    "lr.fit(x_train,y_train)\n",
    "lr=create_model(lr)"
   ]
  },
  {
   "cell_type": "code",
   "execution_count": 39,
   "id": "1b6bb5f5",
   "metadata": {},
   "outputs": [],
   "source": [
    "# here recall is 0.68 means 68% \n",
    "# Here score is good. It can be better ,for that apply DecisionTreeClassifier class\n",
    "# Because DTC help to select imp input features with the help of Gini Index or Entropy \n",
    "# Perfrom dataset with the help of DecisionTreeClassifier class\n",
    "# call DecisionTreeClassifier class"
   ]
  },
  {
   "cell_type": "markdown",
   "id": "54771653",
   "metadata": {},
   "source": [
    "# DecisionTreeClassifier"
   ]
  },
  {
   "cell_type": "code",
   "execution_count": 40,
   "id": "c52cc621",
   "metadata": {},
   "outputs": [
    {
     "name": "stdout",
     "output_type": "stream",
     "text": [
      "              precision    recall  f1-score   support\n",
      "\n",
      "           0       0.57      0.56      0.56      1342\n",
      "           1       0.70      0.71      0.70      1958\n",
      "\n",
      "    accuracy                           0.65      3300\n",
      "   macro avg       0.63      0.63      0.63      3300\n",
      "weighted avg       0.65      0.65      0.65      3300\n",
      "\n",
      "[[ 751  591]\n",
      " [ 573 1385]]\n"
     ]
    }
   ],
   "source": [
    "from sklearn.tree import  DecisionTreeClassifier\n",
    "dt=DecisionTreeClassifier(random_state=1)\n",
    "dt=create_model(dt)"
   ]
  },
  {
   "cell_type": "code",
   "execution_count": 41,
   "id": "856c9a1b",
   "metadata": {},
   "outputs": [
    {
     "data": {
      "text/html": [
       "<div>\n",
       "<style scoped>\n",
       "    .dataframe tbody tr th:only-of-type {\n",
       "        vertical-align: middle;\n",
       "    }\n",
       "\n",
       "    .dataframe tbody tr th {\n",
       "        vertical-align: top;\n",
       "    }\n",
       "\n",
       "    .dataframe thead th {\n",
       "        text-align: right;\n",
       "    }\n",
       "</style>\n",
       "<table border=\"1\" class=\"dataframe\">\n",
       "  <thead>\n",
       "    <tr style=\"text-align: right;\">\n",
       "      <th></th>\n",
       "      <th>input columns</th>\n",
       "      <th>Features</th>\n",
       "    </tr>\n",
       "  </thead>\n",
       "  <tbody>\n",
       "    <tr>\n",
       "      <th>0</th>\n",
       "      <td>ID</td>\n",
       "      <td>0.411468</td>\n",
       "    </tr>\n",
       "    <tr>\n",
       "      <th>1</th>\n",
       "      <td>Llamadas_AT</td>\n",
       "      <td>0.044198</td>\n",
       "    </tr>\n",
       "    <tr>\n",
       "      <th>2</th>\n",
       "      <td>Calificación_del_cliente</td>\n",
       "      <td>0.046944</td>\n",
       "    </tr>\n",
       "    <tr>\n",
       "      <th>3</th>\n",
       "      <td>Coste_en_$</td>\n",
       "      <td>0.123850</td>\n",
       "    </tr>\n",
       "    <tr>\n",
       "      <th>4</th>\n",
       "      <td>Compras_Previas</td>\n",
       "      <td>0.036750</td>\n",
       "    </tr>\n",
       "    <tr>\n",
       "      <th>5</th>\n",
       "      <td>Descuento</td>\n",
       "      <td>0.061150</td>\n",
       "    </tr>\n",
       "    <tr>\n",
       "      <th>6</th>\n",
       "      <td>Peso_g</td>\n",
       "      <td>0.162325</td>\n",
       "    </tr>\n",
       "    <tr>\n",
       "      <th>7</th>\n",
       "      <td>Almacen</td>\n",
       "      <td>0.044499</td>\n",
       "    </tr>\n",
       "    <tr>\n",
       "      <th>8</th>\n",
       "      <td>Modo_Envio</td>\n",
       "      <td>0.025712</td>\n",
       "    </tr>\n",
       "    <tr>\n",
       "      <th>9</th>\n",
       "      <td>Importancia_Producto</td>\n",
       "      <td>0.024148</td>\n",
       "    </tr>\n",
       "    <tr>\n",
       "      <th>10</th>\n",
       "      <td>Genero</td>\n",
       "      <td>0.018955</td>\n",
       "    </tr>\n",
       "  </tbody>\n",
       "</table>\n",
       "</div>"
      ],
      "text/plain": [
       "               input columns  Features\n",
       "0                         ID  0.411468\n",
       "1                Llamadas_AT  0.044198\n",
       "2   Calificación_del_cliente  0.046944\n",
       "3                 Coste_en_$  0.123850\n",
       "4            Compras_Previas  0.036750\n",
       "5                  Descuento  0.061150\n",
       "6                     Peso_g  0.162325\n",
       "7                    Almacen  0.044499\n",
       "8                 Modo_Envio  0.025712\n",
       "9       Importancia_Producto  0.024148\n",
       "10                    Genero  0.018955"
      ]
     },
     "execution_count": 41,
     "metadata": {},
     "output_type": "execute_result"
    }
   ],
   "source": [
    "#create a dictionary for visualisation on imp col with actual col\n",
    "\n",
    "dict={'input columns':x.columns,'Features':dt.feature_importances_}\n",
    "a=pd.DataFrame(dict)\n",
    "a"
   ]
  },
  {
   "cell_type": "code",
   "execution_count": 42,
   "id": "4273a5ea",
   "metadata": {},
   "outputs": [
    {
     "data": {
      "text/html": [
       "<div>\n",
       "<style scoped>\n",
       "    .dataframe tbody tr th:only-of-type {\n",
       "        vertical-align: middle;\n",
       "    }\n",
       "\n",
       "    .dataframe tbody tr th {\n",
       "        vertical-align: top;\n",
       "    }\n",
       "\n",
       "    .dataframe thead th {\n",
       "        text-align: right;\n",
       "    }\n",
       "</style>\n",
       "<table border=\"1\" class=\"dataframe\">\n",
       "  <thead>\n",
       "    <tr style=\"text-align: right;\">\n",
       "      <th></th>\n",
       "      <th>input columns</th>\n",
       "      <th>Features</th>\n",
       "    </tr>\n",
       "  </thead>\n",
       "  <tbody>\n",
       "    <tr>\n",
       "      <th>0</th>\n",
       "      <td>ID</td>\n",
       "      <td>0.411468</td>\n",
       "    </tr>\n",
       "    <tr>\n",
       "      <th>1</th>\n",
       "      <td>Peso_g</td>\n",
       "      <td>0.162325</td>\n",
       "    </tr>\n",
       "    <tr>\n",
       "      <th>2</th>\n",
       "      <td>Coste_en_$</td>\n",
       "      <td>0.123850</td>\n",
       "    </tr>\n",
       "    <tr>\n",
       "      <th>3</th>\n",
       "      <td>Descuento</td>\n",
       "      <td>0.061150</td>\n",
       "    </tr>\n",
       "    <tr>\n",
       "      <th>4</th>\n",
       "      <td>Calificación_del_cliente</td>\n",
       "      <td>0.046944</td>\n",
       "    </tr>\n",
       "    <tr>\n",
       "      <th>5</th>\n",
       "      <td>Almacen</td>\n",
       "      <td>0.044499</td>\n",
       "    </tr>\n",
       "    <tr>\n",
       "      <th>6</th>\n",
       "      <td>Llamadas_AT</td>\n",
       "      <td>0.044198</td>\n",
       "    </tr>\n",
       "    <tr>\n",
       "      <th>7</th>\n",
       "      <td>Compras_Previas</td>\n",
       "      <td>0.036750</td>\n",
       "    </tr>\n",
       "    <tr>\n",
       "      <th>8</th>\n",
       "      <td>Modo_Envio</td>\n",
       "      <td>0.025712</td>\n",
       "    </tr>\n",
       "    <tr>\n",
       "      <th>9</th>\n",
       "      <td>Importancia_Producto</td>\n",
       "      <td>0.024148</td>\n",
       "    </tr>\n",
       "    <tr>\n",
       "      <th>10</th>\n",
       "      <td>Genero</td>\n",
       "      <td>0.018955</td>\n",
       "    </tr>\n",
       "  </tbody>\n",
       "</table>\n",
       "</div>"
      ],
      "text/plain": [
       "               input columns  Features\n",
       "0                         ID  0.411468\n",
       "1                     Peso_g  0.162325\n",
       "2                 Coste_en_$  0.123850\n",
       "3                  Descuento  0.061150\n",
       "4   Calificación_del_cliente  0.046944\n",
       "5                    Almacen  0.044499\n",
       "6                Llamadas_AT  0.044198\n",
       "7            Compras_Previas  0.036750\n",
       "8                 Modo_Envio  0.025712\n",
       "9       Importancia_Producto  0.024148\n",
       "10                    Genero  0.018955"
      ]
     },
     "execution_count": 42,
     "metadata": {},
     "output_type": "execute_result"
    }
   ],
   "source": [
    "#Arrange values in descending orders to check the highest values of rows\n",
    "df_=a.sort_values('Features',ascending=False,ignore_index=True)\n",
    "df_"
   ]
  },
  {
   "cell_type": "code",
   "execution_count": null,
   "id": "c72c48e3",
   "metadata": {},
   "outputs": [],
   "source": [
    "# here we got 71% score which is good\n",
    "# reason behind less score, overfit means model is overfit so reduced the overfitting situation:-\n",
    "# we use pruning technique.\n",
    "# There are 2 types of pruning technique\n",
    "#1. max_depth\n",
    "#2. min_samples_leaf "
   ]
  },
  {
   "cell_type": "markdown",
   "id": "21560846",
   "metadata": {},
   "source": [
    "# pruning technique"
   ]
  },
  {
   "cell_type": "code",
   "execution_count": 43,
   "id": "58d3898d",
   "metadata": {},
   "outputs": [
    {
     "name": "stdout",
     "output_type": "stream",
     "text": [
      "              precision    recall  f1-score   support\n",
      "\n",
      "           0       0.57      1.00      0.73      1342\n",
      "           1       1.00      0.49      0.65      1958\n",
      "\n",
      "    accuracy                           0.70      3300\n",
      "   macro avg       0.79      0.74      0.69      3300\n",
      "weighted avg       0.83      0.70      0.68      3300\n",
      "\n",
      "[[1342    0]\n",
      " [1005  953]]\n"
     ]
    }
   ],
   "source": [
    "#max_depth<=8\n",
    "dt1=DecisionTreeClassifier(random_state=1,max_depth=3)\n",
    "dt1=create_model(dt1)"
   ]
  },
  {
   "cell_type": "code",
   "execution_count": 44,
   "id": "74d0ba30",
   "metadata": {},
   "outputs": [
    {
     "name": "stdout",
     "output_type": "stream",
     "text": [
      "              precision    recall  f1-score   support\n",
      "\n",
      "           0       0.58      0.60      0.59      1342\n",
      "           1       0.72      0.70      0.71      1958\n",
      "\n",
      "    accuracy                           0.66      3300\n",
      "   macro avg       0.65      0.65      0.65      3300\n",
      "weighted avg       0.66      0.66      0.66      3300\n",
      "\n",
      "[[ 808  534]\n",
      " [ 594 1364]]\n"
     ]
    }
   ],
   "source": [
    "# min_samples_leaf\n",
    "dt2=DecisionTreeClassifier(random_state=1,min_samples_leaf=45)\n",
    "dt2=create_model(dt2)"
   ]
  },
  {
   "cell_type": "code",
   "execution_count": 45,
   "id": "1b2becfd",
   "metadata": {},
   "outputs": [
    {
     "name": "stdout",
     "output_type": "stream",
     "text": [
      "              precision    recall  f1-score   support\n",
      "\n",
      "           0       0.57      0.92      0.71      1342\n",
      "           1       0.91      0.53      0.67      1958\n",
      "\n",
      "    accuracy                           0.69      3300\n",
      "   macro avg       0.74      0.72      0.69      3300\n",
      "weighted avg       0.77      0.69      0.68      3300\n",
      "\n",
      "[[1234  108]\n",
      " [ 920 1038]]\n"
     ]
    }
   ],
   "source": [
    "#max_depth<=8\n",
    "dt3=DecisionTreeClassifier(criterion=\"entropy\",random_state=1,max_depth=8)\n",
    "dt3=create_model(dt3)"
   ]
  },
  {
   "cell_type": "code",
   "execution_count": 46,
   "id": "3a2534e9",
   "metadata": {},
   "outputs": [
    {
     "name": "stdout",
     "output_type": "stream",
     "text": [
      "              precision    recall  f1-score   support\n",
      "\n",
      "           0       0.57      0.61      0.59      1342\n",
      "           1       0.72      0.69      0.70      1958\n",
      "\n",
      "    accuracy                           0.66      3300\n",
      "   macro avg       0.65      0.65      0.65      3300\n",
      "weighted avg       0.66      0.66      0.66      3300\n",
      "\n",
      "[[ 821  521]\n",
      " [ 613 1345]]\n"
     ]
    }
   ],
   "source": [
    "# min_samples_leaf\n",
    "dt4=DecisionTreeClassifier(criterion=\"entropy\",random_state=1,min_samples_leaf=15)\n",
    "dt4=create_model(dt4)"
   ]
  },
  {
   "cell_type": "code",
   "execution_count": 47,
   "id": "2bc70947",
   "metadata": {},
   "outputs": [],
   "source": [
    "#conclusion : \n",
    "#Decision Tree Classifier with GINI Index :\n",
    "#applied Pruning Tech : 1. max_depth with GINI INDEX then got \n",
    "#Accurancy  0: 1 and 1: 0.49 and max_depth=3\n",
    "#applied pruning tech. 2. min_samples_leaf with GINI INDEX then got \n",
    "#Accurancy  0: 0.60  and 1: 0.70  and min_samples_leaf=45\n",
    "\n",
    "#Decision Tree Classifier with entropy :\n",
    "#applied Pruning Tech : 1. max_depth with entropy then got \n",
    "#Accurancy  0: 0.92 and 1: 0.53 and max_depth=8\n",
    "#applied pruning tech. 2. min_samples_leaf with entropy then got \n",
    "#Accurancy  0: 0.61  and 1: 0.69  and min_samples_leaf=15"
   ]
  },
  {
   "cell_type": "markdown",
   "id": "33502e69",
   "metadata": {},
   "source": [
    "# RANDOM FOREST TREE"
   ]
  },
  {
   "cell_type": "code",
   "execution_count": 48,
   "id": "8059b855",
   "metadata": {},
   "outputs": [
    {
     "name": "stdout",
     "output_type": "stream",
     "text": [
      "              precision    recall  f1-score   support\n",
      "\n",
      "           0       0.57      0.63      0.60      1342\n",
      "           1       0.72      0.67      0.70      1958\n",
      "\n",
      "    accuracy                           0.65      3300\n",
      "   macro avg       0.64      0.65      0.65      3300\n",
      "weighted avg       0.66      0.65      0.65      3300\n",
      "\n",
      "[[ 844  498]\n",
      " [ 649 1309]]\n"
     ]
    }
   ],
   "source": [
    "from sklearn.ensemble import RandomForestClassifier\n",
    "rfc=RandomForestClassifier(n_estimators=15,max_features=5,random_state=1)\n",
    "#n_estimators means how many decisiontrees min=10 ,max=100\n",
    "#max_features means take how many inputs\n",
    "#bydefalut it took GINI INDEX   \n",
    "rfc=create_model(rfc)"
   ]
  },
  {
   "cell_type": "code",
   "execution_count": 49,
   "id": "b0983be1",
   "metadata": {},
   "outputs": [
    {
     "name": "stdout",
     "output_type": "stream",
     "text": [
      "              precision    recall  f1-score   support\n",
      "\n",
      "           0       0.57      0.65      0.61      1342\n",
      "           1       0.73      0.66      0.69      1958\n",
      "\n",
      "    accuracy                           0.66      3300\n",
      "   macro avg       0.65      0.66      0.65      3300\n",
      "weighted avg       0.67      0.66      0.66      3300\n",
      "\n",
      "[[ 874  468]\n",
      " [ 668 1290]]\n"
     ]
    },
    {
     "data": {
      "text/plain": [
       "'for i in range(8,0,-1):\\n    #create object for RandomForestClassifier class\\n    rfc=RandomForestClassifier(n_estimators=15,max_features=i,random_state=1,criterion=\"entropy\")\\n    print(\"no of features:\",i)\\n    #call the function\\n    rfc=create_model(rfc)'"
      ]
     },
     "execution_count": 49,
     "metadata": {},
     "output_type": "execute_result"
    }
   ],
   "source": [
    "# use entropy\n",
    "rfc=RandomForestClassifier(n_estimators=15,max_features=8,random_state=1,criterion=\"entropy\")\n",
    "rfc=create_model(rfc)\n",
    "\n",
    "'''for i in range(8,0,-1):\n",
    "    #create object for RandomForestClassifier class\n",
    "    rfc=RandomForestClassifier(n_estimators=15,max_features=i,random_state=1,criterion=\"entropy\")\n",
    "    print(\"no of features:\",i)\n",
    "    #call the function\n",
    "    rfc=create_model(rfc)'''"
   ]
  },
  {
   "cell_type": "code",
   "execution_count": 50,
   "id": "60584200",
   "metadata": {},
   "outputs": [],
   "source": [
    "#random forest  with gini Index :   0=0.63 and 1=0.67 fe=5\n",
    "# random forest with entropy Index :   0=0.65 and 1=0.66 fe=15"
   ]
  },
  {
   "cell_type": "markdown",
   "id": "bf8d9c0d",
   "metadata": {},
   "source": [
    "# Boosting Technique"
   ]
  },
  {
   "cell_type": "code",
   "execution_count": 51,
   "id": "ac15a080",
   "metadata": {},
   "outputs": [
    {
     "name": "stdout",
     "output_type": "stream",
     "text": [
      "              precision    recall  f1-score   support\n",
      "\n",
      "           0       0.57      1.00      0.73      1342\n",
      "           1       1.00      0.49      0.65      1958\n",
      "\n",
      "    accuracy                           0.70      3300\n",
      "   macro avg       0.79      0.74      0.69      3300\n",
      "weighted avg       0.83      0.70      0.68      3300\n",
      "\n",
      "[[1342    0]\n",
      " [1005  953]]\n"
     ]
    },
    {
     "data": {
      "text/plain": [
       "'for i in range(1,100,5):\\n    #create object for RandomForestClassifier class\\n    ada=AdaBoostClassifier(n_estimators=i,random_state=1)\\n    print(\"no of descision stump:\",i)\\n    #call the function\\n    ada=create_model(ada)'"
      ]
     },
     "execution_count": 51,
     "metadata": {},
     "output_type": "execute_result"
    }
   ],
   "source": [
    "#apply ADA boost on given dataset\n",
    "from sklearn.ensemble import AdaBoostClassifier\n",
    "ada=AdaBoostClassifier(n_estimators=40,random_state=1)  # n_estimators can be <= 100\n",
    "ada=create_model(ada)\n",
    "'''for i in range(1,100,5):\n",
    "    #create object for RandomForestClassifier class\n",
    "    ada=AdaBoostClassifier(n_estimators=i,random_state=1)\n",
    "    print(\"no of descision stump:\",i)\n",
    "    #call the function\n",
    "    ada=create_model(ada)'''"
   ]
  },
  {
   "cell_type": "code",
   "execution_count": 53,
   "id": "0f5ad25c",
   "metadata": {},
   "outputs": [],
   "source": [
    "#conclusion :#adaboosting  recall score :   0=0.91 and 1=0.53 on decision stump:40"
   ]
  },
  {
   "cell_type": "code",
   "execution_count": 52,
   "id": "545696ec",
   "metadata": {},
   "outputs": [
    {
     "name": "stdout",
     "output_type": "stream",
     "text": [
      "              precision    recall  f1-score   support\n",
      "\n",
      "           0       0.58      0.77      0.66      1342\n",
      "           1       0.79      0.62      0.69      1958\n",
      "\n",
      "    accuracy                           0.68      3300\n",
      "   macro avg       0.69      0.69      0.68      3300\n",
      "weighted avg       0.71      0.68      0.68      3300\n",
      "\n",
      "[[1029  313]\n",
      " [ 749 1209]]\n"
     ]
    },
    {
     "data": {
      "text/plain": [
       "'for i in range(1,101,5):\\n    #create object for RandomForestClassifier class\\n    gbc=GradientBoostingClassifier(n_estimators=i,random_state=1)\\n    print(\"no of descision stump:\",i)\\n    #call the function\\n    gbc=create_model(gbc)'"
      ]
     },
     "execution_count": 52,
     "metadata": {},
     "output_type": "execute_result"
    }
   ],
   "source": [
    "#Gradient Boosting :\n",
    "from sklearn.ensemble import GradientBoostingClassifier\n",
    "gbc=GradientBoostingClassifier(n_estimators=10,random_state=1)  # n_estimators can be <= 100\n",
    "gbc=create_model(gbc)\n",
    "\n",
    "'''for i in range(1,101,5):\n",
    "    #create object for RandomForestClassifier class\n",
    "    gbc=GradientBoostingClassifier(n_estimators=i,random_state=1)\n",
    "    print(\"no of descision stump:\",i)\n",
    "    #call the function\n",
    "    gbc=create_model(gbc)'''"
   ]
  },
  {
   "cell_type": "code",
   "execution_count": 54,
   "id": "f950c494",
   "metadata": {},
   "outputs": [],
   "source": [
    "#conclusion :gradientboosting  recall score :   0=0.31 and 1=0.84 on decision stump:9"
   ]
  },
  {
   "cell_type": "markdown",
   "id": "ec047cf0",
   "metadata": {},
   "source": [
    "# Extreme Gradient Boosting(XGB)"
   ]
  },
  {
   "cell_type": "code",
   "execution_count": 55,
   "id": "1012fa27",
   "metadata": {},
   "outputs": [
    {
     "name": "stdout",
     "output_type": "stream",
     "text": [
      "Requirement already satisfied: xgboost in /usr/local/lib/python3.11/site-packages (2.1.3)\n",
      "Requirement already satisfied: numpy in /usr/local/lib/python3.11/site-packages (from xgboost) (2.0.2)\n",
      "Requirement already satisfied: nvidia-nccl-cu12 in /usr/local/lib/python3.11/site-packages (from xgboost) (2.24.3)\n",
      "Requirement already satisfied: scipy in /usr/local/lib/python3.11/site-packages (from xgboost) (1.15.1)\n",
      "\u001b[33mWARNING: Running pip as the 'root' user can result in broken permissions and conflicting behaviour with the system package manager, possibly rendering your system unusable. It is recommended to use a virtual environment instead: https://pip.pypa.io/warnings/venv. Use the --root-user-action option if you know what you are doing and want to suppress this warning.\u001b[0m\u001b[33m\n",
      "\u001b[0m"
     ]
    }
   ],
   "source": [
    "!pip install xgboost "
   ]
  },
  {
   "cell_type": "code",
   "execution_count": 56,
   "id": "bb4d8176",
   "metadata": {},
   "outputs": [
    {
     "name": "stdout",
     "output_type": "stream",
     "text": [
      "              precision    recall  f1-score   support\n",
      "\n",
      "           0       0.56      0.65      0.60      1342\n",
      "           1       0.73      0.65      0.69      1958\n",
      "\n",
      "    accuracy                           0.65      3300\n",
      "   macro avg       0.65      0.65      0.64      3300\n",
      "weighted avg       0.66      0.65      0.65      3300\n",
      "\n",
      "[[ 878  464]\n",
      " [ 692 1266]]\n"
     ]
    },
    {
     "data": {
      "text/plain": [
       "'for i in range(1,101,5):\\n    #create object for RandomForestClassifier class\\n    xgc=XGBClassifier(n_estimators=i,reg_alpha=1,random_state=1)\\n    print(\"no of descision stump:\",i)\\n    #call the function\\n    xgc=create_model(xgc)'"
      ]
     },
     "execution_count": 56,
     "metadata": {},
     "output_type": "execute_result"
    }
   ],
   "source": [
    "from xgboost import XGBClassifier\n",
    "xgc=XGBClassifier(n_estimators=83,reg_alpha=1,random_state=1)    \n",
    "#automatic overftting : reg means regualrization  and alpha means hyperpermater\n",
    "#n_estimators means no. of iteration of decision stump can be <=100_estimators \n",
    "xgc=create_model(xgc)\n",
    "\n",
    "'''for i in range(1,101,5):\n",
    "    #create object for RandomForestClassifier class\n",
    "    xgc=XGBClassifier(n_estimators=i,reg_alpha=1,random_state=1)\n",
    "    print(\"no of descision stump:\",i)\n",
    "    #call the function\n",
    "    xgc=create_model(xgc)'''"
   ]
  },
  {
   "cell_type": "code",
   "execution_count": 57,
   "id": "9ef9943d",
   "metadata": {},
   "outputs": [],
   "source": [
    "#conclusion :extreme gradientboosting  recall score :   0=0.66 and 1=0.66 on decision stump:83"
   ]
  },
  {
   "cell_type": "markdown",
   "id": "ef68d140",
   "metadata": {},
   "source": [
    "# Support Vector Machine"
   ]
  },
  {
   "cell_type": "code",
   "execution_count": 58,
   "id": "6ef99f5f",
   "metadata": {},
   "outputs": [
    {
     "name": "stdout",
     "output_type": "stream",
     "text": [
      "              precision    recall  f1-score   support\n",
      "\n",
      "           0       0.57      0.62      0.60      1342\n",
      "           1       0.72      0.68      0.70      1958\n",
      "\n",
      "    accuracy                           0.66      3300\n",
      "   macro avg       0.65      0.65      0.65      3300\n",
      "weighted avg       0.66      0.66      0.66      3300\n",
      "\n",
      "[[ 836  506]\n",
      " [ 632 1326]]\n"
     ]
    }
   ],
   "source": [
    "from sklearn.svm import LinearSVC\n",
    "svc=LinearSVC(random_state=1)     #bydefault hard margin\n",
    "svc=create_model(svc)"
   ]
  },
  {
   "cell_type": "code",
   "execution_count": 59,
   "id": "3b74bac7",
   "metadata": {},
   "outputs": [
    {
     "name": "stdout",
     "output_type": "stream",
     "text": [
      "              precision    recall  f1-score   support\n",
      "\n",
      "           0       0.57      0.62      0.60      1342\n",
      "           1       0.72      0.68      0.70      1958\n",
      "\n",
      "    accuracy                           0.66      3300\n",
      "   macro avg       0.65      0.65      0.65      3300\n",
      "weighted avg       0.66      0.66      0.66      3300\n",
      "\n",
      "[[ 837  505]\n",
      " [ 632 1326]]\n"
     ]
    }
   ],
   "source": [
    "svc1=LinearSVC(random_state=1,C=0.1) #soft margin\n",
    "#here C is parameter which is used to add some error during training time c<=1\n",
    "svc1=create_model(svc1)"
   ]
  },
  {
   "cell_type": "markdown",
   "id": "106827a6",
   "metadata": {},
   "source": [
    "# KNN"
   ]
  },
  {
   "cell_type": "code",
   "execution_count": 60,
   "id": "1a867c35",
   "metadata": {},
   "outputs": [
    {
     "name": "stdout",
     "output_type": "stream",
     "text": [
      "              precision    recall  f1-score   support\n",
      "\n",
      "           0       0.57      0.60      0.58      1342\n",
      "           1       0.72      0.70      0.71      1958\n",
      "\n",
      "    accuracy                           0.66      3300\n",
      "   macro avg       0.64      0.65      0.65      3300\n",
      "weighted avg       0.66      0.66      0.66      3300\n",
      "\n",
      "[[ 799  543]\n",
      " [ 593 1365]]\n"
     ]
    }
   ],
   "source": [
    "from sklearn.neighbors import KNeighborsClassifier\n",
    "knc = KNeighborsClassifier(n_neighbors=3,metric='minkowski',p=2)\n",
    "#bydefault the n_neighbors is 5 (always odd )\n",
    "#p=2 means eucliden metric.\n",
    "knc=create_model(knc)"
   ]
  },
  {
   "cell_type": "code",
   "execution_count": 61,
   "id": "f0e8dc02",
   "metadata": {},
   "outputs": [],
   "source": [
    "#observation: in kneighborsclassifier the recall accuracy is 0=0.60 1=0.70"
   ]
  },
  {
   "cell_type": "markdown",
   "id": "03a422ef",
   "metadata": {},
   "source": [
    "#conclusion: we get best score for 0=0.56 and 1=0.71 in Decision Tree Classifier"
   ]
  }
 ],
 "metadata": {
  "kernelspec": {
   "display_name": "Python 3",
   "language": "python",
   "name": "python3"
  },
  "language_info": {
   "codemirror_mode": {
    "name": "ipython",
    "version": 3
   },
   "file_extension": ".py",
   "mimetype": "text/x-python",
   "name": "python",
   "nbconvert_exporter": "python",
   "pygments_lexer": "ipython3",
   "version": "3.11.11"
  }
 },
 "nbformat": 4,
 "nbformat_minor": 5
}
