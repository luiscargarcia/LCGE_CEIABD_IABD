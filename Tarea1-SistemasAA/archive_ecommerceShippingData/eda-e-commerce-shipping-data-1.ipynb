{
 "cells": [
  {
   "cell_type": "markdown",
   "id": "3180b09e",
   "metadata": {
    "papermill": {
     "duration": 0.074464,
     "end_time": "2021-09-14T05:48:51.716117",
     "exception": false,
     "start_time": "2021-09-14T05:48:51.641653",
     "status": "completed"
    },
    "tags": []
   },
   "source": [
    "# EDA on E-Commerce Shipping Data"
   ]
  },
  {
   "cell_type": "markdown",
   "id": "66048f31",
   "metadata": {
    "papermill": {
     "duration": 0.071611,
     "end_time": "2021-09-14T05:48:51.859540",
     "exception": false,
     "start_time": "2021-09-14T05:48:51.787929",
     "status": "completed"
    },
    "tags": []
   },
   "source": [
    "### Data Description\n",
    "- ID: ID Number of Customers.\n",
    "- Warehouse block:- The Company have big Warehouse which is divided in to block such as A,B,C,D,E.\n",
    "- Mode of shipment:-The Company Ships the products in multiple way such as Ship, Flight and Road.\n",
    "- Customer care calls:- The number of calls made from enquiry for enquiry of the shipment.\n",
    "- Customer rating:- The company has rated from every customer. 1 is the lowest (Worst), 5 is the highest (Best).\n",
    "- Cost of the product-: Cost of the Product in US Dollars.\n",
    "- Prior purchases:- The Number of Prior Purchase.\n",
    "- Product importance:- The company has categorized the product in the various parameter such as low, medium, high.\n",
    "- Gender:- Male and Female.\n",
    "- Discount offered:- Discount offered on that specific product.\n",
    "- Weight in gms:- It is the weight in grams.\n",
    "- Reached on time:- It is the target variable, where 1 Indicates that the product has NOT reached on time and 0 indicates it has reached on time."
   ]
  },
  {
   "cell_type": "code",
   "execution_count": null,
   "id": "73713878",
   "metadata": {
    "execution": {
     "iopub.execute_input": "2021-09-14T05:48:52.016659Z",
     "iopub.status.busy": "2021-09-14T05:48:52.015843Z",
     "iopub.status.idle": "2021-09-14T05:48:54.499505Z",
     "shell.execute_reply": "2021-09-14T05:48:54.500033Z",
     "shell.execute_reply.started": "2021-08-08T07:49:52.504819Z"
    },
    "papermill": {
     "duration": 2.568721,
     "end_time": "2021-09-14T05:48:54.500353",
     "exception": false,
     "start_time": "2021-09-14T05:48:51.931632",
     "status": "completed"
    },
    "tags": []
   },
   "outputs": [],
   "source": [
    "# necessary imports\n",
    "\n",
    "import pandas as pd\n",
    "import numpy as np\n",
    "import matplotlib.pyplot as plt\n",
    "import seaborn as sns\n",
    "import plotly.express as px\n",
    "\n",
    "import warnings\n",
    "warnings.filterwarnings('ignore')\n",
    "\n",
    "plt.style.use('fivethirtyeight')\n",
    "%matplotlib inline"
   ]
  },
  {
   "cell_type": "code",
   "execution_count": null,
   "id": "1d62abb4",
   "metadata": {
    "execution": {
     "iopub.execute_input": "2021-09-14T05:48:54.647054Z",
     "iopub.status.busy": "2021-09-14T05:48:54.646127Z",
     "iopub.status.idle": "2021-09-14T05:48:54.720168Z",
     "shell.execute_reply": "2021-09-14T05:48:54.720670Z",
     "shell.execute_reply.started": "2021-08-08T07:49:55.010391Z"
    },
    "papermill": {
     "duration": 0.149149,
     "end_time": "2021-09-14T05:48:54.720840",
     "exception": false,
     "start_time": "2021-09-14T05:48:54.571691",
     "status": "completed"
    },
    "tags": []
   },
   "outputs": [],
   "source": [
    "# loading data\n",
    "\n",
    "df = pd.read_csv('../input/customer-analytics/Train.csv')\n",
    "df.head()"
   ]
  },
  {
   "cell_type": "code",
   "execution_count": null,
   "id": "673c6be9",
   "metadata": {
    "execution": {
     "iopub.execute_input": "2021-09-14T05:48:54.869139Z",
     "iopub.status.busy": "2021-09-14T05:48:54.868149Z",
     "iopub.status.idle": "2021-09-14T05:48:54.873813Z",
     "shell.execute_reply": "2021-09-14T05:48:54.874313Z",
     "shell.execute_reply.started": "2021-08-08T07:49:55.075565Z"
    },
    "papermill": {
     "duration": 0.081026,
     "end_time": "2021-09-14T05:48:54.874504",
     "exception": false,
     "start_time": "2021-09-14T05:48:54.793478",
     "status": "completed"
    },
    "tags": []
   },
   "outputs": [],
   "source": [
    "df.shape # looking at the shape of data"
   ]
  },
  {
   "cell_type": "code",
   "execution_count": null,
   "id": "425566af",
   "metadata": {
    "execution": {
     "iopub.execute_input": "2021-09-14T05:48:55.029844Z",
     "iopub.status.busy": "2021-09-14T05:48:55.028945Z",
     "iopub.status.idle": "2021-09-14T05:48:55.063191Z",
     "shell.execute_reply": "2021-09-14T05:48:55.063705Z",
     "shell.execute_reply.started": "2021-08-08T07:49:55.083418Z"
    },
    "papermill": {
     "duration": 0.116754,
     "end_time": "2021-09-14T05:48:55.063872",
     "exception": false,
     "start_time": "2021-09-14T05:48:54.947118",
     "status": "completed"
    },
    "tags": []
   },
   "outputs": [],
   "source": [
    "df.describe() # getting description of data"
   ]
  },
  {
   "cell_type": "code",
   "execution_count": null,
   "id": "0261ae75",
   "metadata": {
    "execution": {
     "iopub.execute_input": "2021-09-14T05:48:55.211515Z",
     "iopub.status.busy": "2021-09-14T05:48:55.210565Z",
     "iopub.status.idle": "2021-09-14T05:48:55.232083Z",
     "shell.execute_reply": "2021-09-14T05:48:55.232788Z",
     "shell.execute_reply.started": "2021-08-08T07:49:55.1322Z"
    },
    "papermill": {
     "duration": 0.097205,
     "end_time": "2021-09-14T05:48:55.233033",
     "exception": false,
     "start_time": "2021-09-14T05:48:55.135828",
     "status": "completed"
    },
    "tags": []
   },
   "outputs": [],
   "source": [
    "df.info() # taking a look at info of the data."
   ]
  },
  {
   "cell_type": "code",
   "execution_count": null,
   "id": "697f5672",
   "metadata": {
    "execution": {
     "iopub.execute_input": "2021-09-14T05:48:55.385878Z",
     "iopub.status.busy": "2021-09-14T05:48:55.384928Z",
     "iopub.status.idle": "2021-09-14T05:48:56.466443Z",
     "shell.execute_reply": "2021-09-14T05:48:56.465785Z",
     "shell.execute_reply.started": "2021-08-08T07:49:55.158987Z"
    },
    "papermill": {
     "duration": 1.15822,
     "end_time": "2021-09-14T05:48:56.466631",
     "exception": false,
     "start_time": "2021-09-14T05:48:55.308411",
     "status": "completed"
    },
    "tags": []
   },
   "outputs": [],
   "source": [
    "# checking for null values using missingno module\n",
    "\n",
    "import missingno as msno\n",
    "msno.bar(df, color = 'lightblue')\n",
    "plt.title('Checking for Null Values\\n', fontsize = 40)\n",
    "plt.show()"
   ]
  },
  {
   "cell_type": "code",
   "execution_count": null,
   "id": "65929709",
   "metadata": {
    "execution": {
     "iopub.execute_input": "2021-09-14T05:48:56.621900Z",
     "iopub.status.busy": "2021-09-14T05:48:56.621287Z",
     "iopub.status.idle": "2021-09-14T05:48:56.639279Z",
     "shell.execute_reply": "2021-09-14T05:48:56.638746Z",
     "shell.execute_reply.started": "2021-08-08T07:49:56.072708Z"
    },
    "papermill": {
     "duration": 0.096032,
     "end_time": "2021-09-14T05:48:56.639422",
     "exception": false,
     "start_time": "2021-09-14T05:48:56.543390",
     "status": "completed"
    },
    "tags": []
   },
   "outputs": [],
   "source": [
    "# dropping unwanted column using drop method\n",
    "\n",
    "df.drop('ID', axis = 1, inplace = True)\n",
    "df.head()"
   ]
  },
  {
   "cell_type": "code",
   "execution_count": null,
   "id": "cfb2a13e",
   "metadata": {
    "execution": {
     "iopub.execute_input": "2021-09-14T05:48:56.798245Z",
     "iopub.status.busy": "2021-09-14T05:48:56.797539Z",
     "iopub.status.idle": "2021-09-14T05:48:57.351279Z",
     "shell.execute_reply": "2021-09-14T05:48:57.350710Z",
     "shell.execute_reply.started": "2021-08-08T07:49:56.095282Z"
    },
    "papermill": {
     "duration": 0.635968,
     "end_time": "2021-09-14T05:48:57.351415",
     "exception": false,
     "start_time": "2021-09-14T05:48:56.715447",
     "status": "completed"
    },
    "tags": []
   },
   "outputs": [],
   "source": [
    "# heatmap of the data for checking the correlation between the features and target column.\n",
    "\n",
    "plt.figure(figsize = (18, 7))\n",
    "sns.heatmap(df.corr(), annot = True, fmt = '0.2f', annot_kws = {'size' : 15}, linewidth = 5, linecolor = 'orange')\n",
    "plt.show()"
   ]
  },
  {
   "cell_type": "markdown",
   "id": "b9868ec9",
   "metadata": {
    "papermill": {
     "duration": 0.076569,
     "end_time": "2021-09-14T05:48:57.505339",
     "exception": false,
     "start_time": "2021-09-14T05:48:57.428770",
     "status": "completed"
    },
    "tags": []
   },
   "source": [
    "Conclusions from Correlation matrix :-\n",
    "- Discount Offered have high positive correlation with Reached on Time or Not of 40%.\n",
    "- Weights in gram have negative correlation with Reached on Time or Not -27%.\n",
    "- Discount Offered and weights in grams have negative correlation -38%.\n",
    "- Customer care calls and weights in grams havenegative correlation -28%.\n",
    "- Customer care calls and cost of the product have positive correlation of 32%.\n",
    "- Prior Purchases and Customer care calls have slightly positive correlation."
   ]
  },
  {
   "cell_type": "code",
   "execution_count": null,
   "id": "a0da0c72",
   "metadata": {
    "execution": {
     "iopub.execute_input": "2021-09-14T05:48:57.678354Z",
     "iopub.status.busy": "2021-09-14T05:48:57.677698Z",
     "iopub.status.idle": "2021-09-14T05:48:57.681152Z",
     "shell.execute_reply": "2021-09-14T05:48:57.681629Z",
     "shell.execute_reply.started": "2021-08-08T07:49:56.619983Z"
    },
    "papermill": {
     "duration": 0.09797,
     "end_time": "2021-09-14T05:48:57.681809",
     "exception": false,
     "start_time": "2021-09-14T05:48:57.583839",
     "status": "completed"
    },
    "tags": []
   },
   "outputs": [],
   "source": [
    "df.head() # looking at first five rows of the data"
   ]
  },
  {
   "cell_type": "markdown",
   "id": "11289406",
   "metadata": {
    "papermill": {
     "duration": 0.077189,
     "end_time": "2021-09-14T05:48:57.837122",
     "exception": false,
     "start_time": "2021-09-14T05:48:57.759933",
     "status": "completed"
    },
    "tags": []
   },
   "source": [
    "## Exploratory Data Analysis (EDA)"
   ]
  },
  {
   "cell_type": "markdown",
   "id": "05d555f4",
   "metadata": {
    "papermill": {
     "duration": 0.07716,
     "end_time": "2021-09-14T05:48:57.992807",
     "exception": false,
     "start_time": "2021-09-14T05:48:57.915647",
     "status": "completed"
    },
    "tags": []
   },
   "source": [
    "**Checking value counts of categorical columns**"
   ]
  },
  {
   "cell_type": "code",
   "execution_count": null,
   "id": "a21d9147",
   "metadata": {
    "execution": {
     "iopub.execute_input": "2021-09-14T05:48:58.154022Z",
     "iopub.status.busy": "2021-09-14T05:48:58.153339Z",
     "iopub.status.idle": "2021-09-14T05:48:59.518608Z",
     "shell.execute_reply": "2021-09-14T05:48:59.519067Z",
     "shell.execute_reply.started": "2021-08-08T07:49:56.635411Z"
    },
    "papermill": {
     "duration": 1.447336,
     "end_time": "2021-09-14T05:48:59.519243",
     "exception": false,
     "start_time": "2021-09-14T05:48:58.071907",
     "status": "completed"
    },
    "tags": []
   },
   "outputs": [],
   "source": [
    "# here by these plots we are lookin at the counts of each categories in the categorical columns\n",
    "# creating a list of categorical coumns\n",
    "cols = ['Warehouse_block', 'Mode_of_Shipment', 'Customer_care_calls', 'Customer_rating',\n",
    "        'Prior_purchases', 'Product_importance', 'Gender', 'Reached.on.Time_Y.N']\n",
    "\n",
    "plt.figure(figsize = (16, 20))\n",
    "plotnumber = 1\n",
    "\n",
    "# plotting the countplot of each categorical column.\n",
    "\n",
    "for i in range(len(cols)):\n",
    "    if plotnumber <= 8:\n",
    "        ax = plt.subplot(4, 2, plotnumber)\n",
    "        sns.countplot(x = cols[i], data = df, ax = ax, palette='rocket')\n",
    "        plt.title(f\"\\n{cols[i]} Value Counts\\n\", fontsize = 20)\n",
    "        \n",
    "    plotnumber += 1\n",
    "\n",
    "plt.tight_layout()\n",
    "plt.show()"
   ]
  },
  {
   "cell_type": "markdown",
   "id": "205ab3a2",
   "metadata": {
    "papermill": {
     "duration": 0.08092,
     "end_time": "2021-09-14T05:48:59.684069",
     "exception": false,
     "start_time": "2021-09-14T05:48:59.603149",
     "status": "completed"
    },
    "tags": []
   },
   "source": [
    "From the above plots, we can conclude following:-\n",
    "- Warehouse block F have has more values than all other Warehouse blocks.\n",
    "- In mode of shipment columns we can clearly see that ship delivers the most of products to the customers.\n",
    "- Most of the customers calls 3 or 4 times to the customer care centers.\n",
    "- Customer Ratings does not have much variation.\n",
    "- Most of the customers have 3 prior purchases.\n",
    "- We can say that mopst of the products are of low Importance.\n",
    "- Gender Column doesn't have much variance.\n",
    "- More products doesn't reach on time than products reached on time.\n"
   ]
  },
  {
   "cell_type": "markdown",
   "id": "9a01d04e",
   "metadata": {
    "papermill": {
     "duration": 0.080688,
     "end_time": "2021-09-14T05:48:59.845909",
     "exception": false,
     "start_time": "2021-09-14T05:48:59.765221",
     "status": "completed"
    },
    "tags": []
   },
   "source": [
    "### Exploring relation of categorical columns with reached on time or not"
   ]
  },
  {
   "cell_type": "code",
   "execution_count": null,
   "id": "f7476f1f",
   "metadata": {
    "execution": {
     "iopub.execute_input": "2021-09-14T05:49:00.016525Z",
     "iopub.status.busy": "2021-09-14T05:49:00.015546Z",
     "iopub.status.idle": "2021-09-14T05:49:00.026299Z",
     "shell.execute_reply": "2021-09-14T05:49:00.026738Z",
     "shell.execute_reply.started": "2021-08-08T07:49:57.958169Z"
    },
    "papermill": {
     "duration": 0.099693,
     "end_time": "2021-09-14T05:49:00.026910",
     "exception": false,
     "start_time": "2021-09-14T05:48:59.927217",
     "status": "completed"
    },
    "tags": []
   },
   "outputs": [],
   "source": [
    "# creating a list of categorical coumns\n",
    "\n",
    "object_columns = df.select_dtypes(include = ['object'])\n",
    "object_columns.head()"
   ]
  },
  {
   "cell_type": "markdown",
   "id": "a274a5c2",
   "metadata": {
    "papermill": {
     "duration": 0.081146,
     "end_time": "2021-09-14T05:49:00.190279",
     "exception": false,
     "start_time": "2021-09-14T05:49:00.109133",
     "status": "completed"
    },
    "tags": []
   },
   "source": [
    "### Ware_house block"
   ]
  },
  {
   "cell_type": "code",
   "execution_count": null,
   "id": "9952e0bd",
   "metadata": {
    "execution": {
     "iopub.execute_input": "2021-09-14T05:49:00.357892Z",
     "iopub.status.busy": "2021-09-14T05:49:00.356944Z",
     "iopub.status.idle": "2021-09-14T05:49:01.587363Z",
     "shell.execute_reply": "2021-09-14T05:49:01.586750Z",
     "shell.execute_reply.started": "2021-08-08T07:49:57.979018Z"
    },
    "papermill": {
     "duration": 1.315047,
     "end_time": "2021-09-14T05:49:01.587518",
     "exception": false,
     "start_time": "2021-09-14T05:49:00.272471",
     "status": "completed"
    },
    "tags": []
   },
   "outputs": [],
   "source": [
    "# looking at the warehouse column and what are the categories present in it\n",
    "\n",
    "warehouse = object_columns['Warehouse_block'].value_counts().reset_index()\n",
    "warehouse.columns = ['warehouse', 'value_counts']\n",
    "fig = px.pie(warehouse, names = 'warehouse', values = 'value_counts', \n",
    "             color_discrete_sequence = px.colors.sequential.matter_r, width = 650, height = 400,\n",
    "             hole = 0.5)\n",
    "fig.update_traces(textinfo = 'percent+label')"
   ]
  },
  {
   "cell_type": "code",
   "execution_count": null,
   "id": "db36edde",
   "metadata": {
    "execution": {
     "iopub.execute_input": "2021-09-14T05:49:01.776996Z",
     "iopub.status.busy": "2021-09-14T05:49:01.772087Z",
     "iopub.status.idle": "2021-09-14T05:49:01.964509Z",
     "shell.execute_reply": "2021-09-14T05:49:01.963883Z",
     "shell.execute_reply.started": "2021-08-08T07:49:59.251285Z"
    },
    "papermill": {
     "duration": 0.292654,
     "end_time": "2021-09-14T05:49:01.964642",
     "exception": false,
     "start_time": "2021-09-14T05:49:01.671988",
     "status": "completed"
    },
    "tags": []
   },
   "outputs": [],
   "source": [
    "# making a countplot of warehouse column and see the effect of Reached on time or not on the warehouse column.\n",
    "\n",
    "plt.figure(figsize = (17, 6))\n",
    "sns.countplot('Warehouse_block', hue = 'Reached.on.Time_Y.N', data = df, palette='rocket')\n",
    "plt.show()"
   ]
  },
  {
   "cell_type": "markdown",
   "id": "85cdd4db",
   "metadata": {
    "papermill": {
     "duration": 0.086636,
     "end_time": "2021-09-14T05:49:02.135571",
     "exception": false,
     "start_time": "2021-09-14T05:49:02.048935",
     "status": "completed"
    },
    "tags": []
   },
   "source": [
    "### gender"
   ]
  },
  {
   "cell_type": "code",
   "execution_count": null,
   "id": "81a28cf2",
   "metadata": {
    "execution": {
     "iopub.execute_input": "2021-09-14T05:49:02.331990Z",
     "iopub.status.busy": "2021-09-14T05:49:02.316793Z",
     "iopub.status.idle": "2021-09-14T05:49:02.370972Z",
     "shell.execute_reply": "2021-09-14T05:49:02.370309Z",
     "shell.execute_reply.started": "2021-08-08T07:49:59.483015Z"
    },
    "papermill": {
     "duration": 0.146583,
     "end_time": "2021-09-14T05:49:02.371124",
     "exception": false,
     "start_time": "2021-09-14T05:49:02.224541",
     "status": "completed"
    },
    "tags": []
   },
   "outputs": [],
   "source": [
    "# looking at the gender column and what are the categories present in it\n",
    "\n",
    "gender = object_columns['Gender'].value_counts().reset_index()\n",
    "gender.columns = ['Gender', 'value_counts']\n",
    "fig = px.pie(gender, names = 'Gender', values = 'value_counts', color_discrete_sequence = \n",
    "            px.colors.sequential.Darkmint_r, width = 650, height = 400, hole = 0.5)\n",
    "fig.update_traces(textinfo = 'percent+label')"
   ]
  },
  {
   "cell_type": "code",
   "execution_count": null,
   "id": "92d4a495",
   "metadata": {
    "execution": {
     "iopub.execute_input": "2021-09-14T05:49:02.554040Z",
     "iopub.status.busy": "2021-09-14T05:49:02.553373Z",
     "iopub.status.idle": "2021-09-14T05:49:02.717688Z",
     "shell.execute_reply": "2021-09-14T05:49:02.717187Z",
     "shell.execute_reply.started": "2021-08-08T07:49:59.553665Z"
    },
    "papermill": {
     "duration": 0.261881,
     "end_time": "2021-09-14T05:49:02.717828",
     "exception": false,
     "start_time": "2021-09-14T05:49:02.455947",
     "status": "completed"
    },
    "tags": []
   },
   "outputs": [],
   "source": [
    "# making a countplot of gender column and see the effect of Reached on time or not on the warehouse column.\n",
    "\n",
    "plt.figure(figsize = (17, 6))\n",
    "sns.countplot('Gender', hue = 'Reached.on.Time_Y.N', data = df, palette='rocket')\n",
    "plt.show()"
   ]
  }
 ],
 "metadata": {
  "kernelspec": {
   "display_name": "Python 3",
   "language": "python",
   "name": "python3"
  },
  "language_info": {
   "codemirror_mode": {
    "name": "ipython",
    "version": 3
   },
   "file_extension": ".py",
   "mimetype": "text/x-python",
   "name": "python",
   "nbconvert_exporter": "python",
   "pygments_lexer": "ipython3",
   "version": "3.11.11"
  },
  "papermill": {
   "default_parameters": {},
   "duration": 13.273026,
   "end_time": "2021-09-14T05:49:03.082494",
   "environment_variables": {},
   "exception": null,
   "input_path": "__notebook__.ipynb",
   "output_path": "__notebook__.ipynb",
   "parameters": {},
   "start_time": "2021-09-14T05:48:49.809468",
   "version": "2.3.3"
  }
 },
 "nbformat": 4,
 "nbformat_minor": 5
}
