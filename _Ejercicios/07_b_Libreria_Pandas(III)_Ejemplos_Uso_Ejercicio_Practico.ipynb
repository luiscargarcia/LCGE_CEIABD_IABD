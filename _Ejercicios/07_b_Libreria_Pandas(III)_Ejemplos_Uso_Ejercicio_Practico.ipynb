{
 "cells": [
  {
   "cell_type": "markdown",
   "metadata": {},
   "source": [
    "# Libreria Pandas III - Ejemplos de uso + Ejercicio Práctico\n",
    "\n",
    "![logo](img/pandas-logo.png)"
   ]
  },
  {
   "cell_type": "markdown",
   "metadata": {},
   "source": [
    "## 1. CREACIÓN DE UN DATAFRAME"
   ]
  },
  {
   "cell_type": "code",
   "execution_count": 2,
   "metadata": {},
   "outputs": [],
   "source": [
    "import warnings\n",
    "warnings.filterwarnings(\"ignore\")"
   ]
  },
  {
   "cell_type": "code",
   "execution_count": 3,
   "metadata": {},
   "outputs": [],
   "source": [
    "## UTILIZA ESTE DATAFRAME PARA REALIZAR LOS EJERCICIOS, SIGUIENDO LAS MISMAS PAUTAS QUE EN ESTE EJEMPLO\n",
    "import pandas as pd\n",
    "df = pd.DataFrame(data={\"Pais\":['Mexico','Argentina','Espana','Colombia'],\n",
    "                        \"Poblacion\":[127212000, 45167000, 47099000, 48922000],\n",
    "                        \"Capital\":['CDMX','Buenos Aires','Madrid','Bogota']})"
   ]
  },
  {
   "cell_type": "code",
   "execution_count": 4,
   "metadata": {},
   "outputs": [
    {
     "name": "stdout",
     "output_type": "stream",
     "text": [
      "        Pais  Poblacion       Capital\n",
      "0     Mexico  127212000          CDMX\n",
      "1  Argentina   45167000  Buenos Aires\n",
      "2     Espana   47099000        Madrid\n",
      "3   Colombia   48922000        Bogota\n",
      "\n",
      "(4, 3)\n",
      "\n",
      "Pais         object\n",
      "Poblacion     int64\n",
      "Capital      object\n",
      "dtype: object\n",
      "\n",
      "          Poblacion\n",
      "count  4.000000e+00\n",
      "mean   6.710000e+07\n",
      "std    4.010398e+07\n",
      "min    4.516700e+07\n",
      "25%    4.661600e+07\n",
      "50%    4.801050e+07\n",
      "75%    6.849450e+07\n",
      "max    1.272120e+08\n"
     ]
    }
   ],
   "source": [
    "##import pandas as pd\n",
    "##data = {\n",
    "##    'Nombre': ['Ana', 'Luis', 'Juan', 'Marta'],\n",
    "##    'Edad': [28, 34, 29, 42],\n",
    "##    'Ciudad': ['Madrid', 'Barcelona', 'Valencia', 'Sevilla']\n",
    "##}\n",
    "\n",
    "##df = pd.DataFrame(data)\n",
    "print(df)\n",
    "print()\n",
    "print(df.shape)\n",
    "print()\n",
    "print(df.dtypes)\n",
    "print()\n",
    "print(df.describe()) # Estadísticas descriptivas sobre columnas numéricas"
   ]
  },
  {
   "cell_type": "markdown",
   "metadata": {},
   "source": [
    "## 2. LECTURA FICHERO CSV"
   ]
  },
  {
   "cell_type": "code",
   "execution_count": 8,
   "metadata": {},
   "outputs": [
    {
     "name": "stdout",
     "output_type": "stream",
     "text": [
      "   col1  col2  col3\n",
      "0     1     2     3\n",
      "1     3     4     5\n",
      "2     5     6     7\n"
     ]
    }
   ],
   "source": [
    "df_test = pd.read_csv('datasets/test2.csv')\n",
    "print(df_test.head())  # Muestra las primeras 5 filas del DataFrame"
   ]
  },
  {
   "cell_type": "markdown",
   "metadata": {},
   "source": [
    "## 3. FILTRADO DE DATOS"
   ]
  },
  {
   "cell_type": "code",
   "execution_count": 9,
   "metadata": {},
   "outputs": [
    {
     "name": "stdout",
     "output_type": "stream",
     "text": [
      "        Pais  Poblacion       Capital\n",
      "0     Mexico  127212000          CDMX\n",
      "1  Argentina   45167000  Buenos Aires\n",
      "2     Espana   47099000        Madrid\n",
      "3   Colombia   48922000        Bogota\n"
     ]
    }
   ],
   "source": [
    "# Filtrar las filas donde la edad es mayor a 30\n",
    "filtro = df[df['Poblacion'] > 30]\n",
    "print(filtro)"
   ]
  },
  {
   "cell_type": "code",
   "execution_count": 13,
   "metadata": {},
   "outputs": [
    {
     "name": "stdout",
     "output_type": "stream",
     "text": [
      "47099000\n"
     ]
    }
   ],
   "source": [
    "# localización de elementos\n",
    "print(df.loc[2, 'Poblacion'])"
   ]
  },
  {
   "cell_type": "code",
   "execution_count": 14,
   "metadata": {},
   "outputs": [
    {
     "name": "stdout",
     "output_type": "stream",
     "text": [
      "Pais            Mexico\n",
      "Poblacion    127212000\n",
      "Capital           CDMX\n",
      "Name: 0, dtype: object\n"
     ]
    }
   ],
   "source": [
    "# localización de filas(registros)\n",
    "print(df.loc[0])"
   ]
  },
  {
   "cell_type": "code",
   "execution_count": 16,
   "metadata": {},
   "outputs": [
    {
     "name": "stdout",
     "output_type": "stream",
     "text": [
      "Pais         Colombia\n",
      "Poblacion    48922000\n",
      "Capital        Bogota\n",
      "Name: 3, dtype: object\n"
     ]
    }
   ],
   "source": [
    "print(df.iloc[3,:])  # localización por índice"
   ]
  },
  {
   "cell_type": "markdown",
   "metadata": {},
   "source": [
    "## 4. AGRUPACIÓN Y AGREGACIÓN"
   ]
  },
  {
   "cell_type": "code",
   "execution_count": 18,
   "metadata": {},
   "outputs": [
    {
     "name": "stdout",
     "output_type": "stream",
     "text": [
      "Capital\n",
      "Bogota           48922000.0\n",
      "Buenos Aires     45167000.0\n",
      "CDMX            127212000.0\n",
      "Madrid           47099000.0\n",
      "Name: Poblacion, dtype: float64\n"
     ]
    }
   ],
   "source": [
    "# Calcular la edad promedio por ciudad\n",
    "edad_promedio = df.groupby('Capital')['Poblacion'].mean()\n",
    "print(edad_promedio)"
   ]
  },
  {
   "cell_type": "markdown",
   "metadata": {},
   "source": [
    "## 5. GESTIÓN DE DATOS FALTANTES (MISSING VALUES)"
   ]
  },
  {
   "cell_type": "code",
   "execution_count": 19,
   "metadata": {},
   "outputs": [
    {
     "name": "stdout",
     "output_type": "stream",
     "text": [
      "    Pais  Poblacion  Capital\n",
      "0  False      False    False\n",
      "1  False      False    False\n",
      "2  False      False    False\n",
      "3  False      False    False\n",
      "Pais         0\n",
      "Poblacion    0\n",
      "Capital      0\n",
      "dtype: int64\n"
     ]
    }
   ],
   "source": [
    "# Localización de nulos\n",
    "print(df.isnull())\n",
    "print(df.isnull().sum())    # Cantidad de nulos por columna"
   ]
  },
  {
   "cell_type": "code",
   "execution_count": 33,
   "metadata": {},
   "outputs": [
    {
     "data": {
      "text/html": [
       "<div>\n",
       "<style scoped>\n",
       "    .dataframe tbody tr th:only-of-type {\n",
       "        vertical-align: middle;\n",
       "    }\n",
       "\n",
       "    .dataframe tbody tr th {\n",
       "        vertical-align: top;\n",
       "    }\n",
       "\n",
       "    .dataframe thead th {\n",
       "        text-align: right;\n",
       "    }\n",
       "</style>\n",
       "<table border=\"1\" class=\"dataframe\">\n",
       "  <thead>\n",
       "    <tr style=\"text-align: right;\">\n",
       "      <th></th>\n",
       "      <th>Pais</th>\n",
       "      <th>Poblacion</th>\n",
       "      <th>Capital</th>\n",
       "    </tr>\n",
       "  </thead>\n",
       "  <tbody>\n",
       "    <tr>\n",
       "      <th>0</th>\n",
       "      <td>Mexico</td>\n",
       "      <td>127212000.0</td>\n",
       "      <td>CDMX</td>\n",
       "    </tr>\n",
       "    <tr>\n",
       "      <th>1</th>\n",
       "      <td>Argentina</td>\n",
       "      <td>NaN</td>\n",
       "      <td>Buenos Aires</td>\n",
       "    </tr>\n",
       "    <tr>\n",
       "      <th>2</th>\n",
       "      <td>Espana</td>\n",
       "      <td>47099000.0</td>\n",
       "      <td>Madrid</td>\n",
       "    </tr>\n",
       "    <tr>\n",
       "      <th>3</th>\n",
       "      <td>Colombia</td>\n",
       "      <td>48922000.0</td>\n",
       "      <td>Bogota</td>\n",
       "    </tr>\n",
       "  </tbody>\n",
       "</table>\n",
       "</div>"
      ],
      "text/plain": [
       "        Pais    Poblacion       Capital\n",
       "0     Mexico  127212000.0          CDMX\n",
       "1  Argentina          NaN  Buenos Aires\n",
       "2     Espana   47099000.0        Madrid\n",
       "3   Colombia   48922000.0        Bogota"
      ]
     },
     "execution_count": 33,
     "metadata": {},
     "output_type": "execute_result"
    }
   ],
   "source": [
    "import numpy as np\n",
    "df.loc[1, 'Poblacion'] = np.nan\n",
    "df "
   ]
  },
  {
   "cell_type": "code",
   "execution_count": 34,
   "metadata": {},
   "outputs": [
    {
     "data": {
      "text/html": [
       "<div>\n",
       "<style scoped>\n",
       "    .dataframe tbody tr th:only-of-type {\n",
       "        vertical-align: middle;\n",
       "    }\n",
       "\n",
       "    .dataframe tbody tr th {\n",
       "        vertical-align: top;\n",
       "    }\n",
       "\n",
       "    .dataframe thead th {\n",
       "        text-align: right;\n",
       "    }\n",
       "</style>\n",
       "<table border=\"1\" class=\"dataframe\">\n",
       "  <thead>\n",
       "    <tr style=\"text-align: right;\">\n",
       "      <th></th>\n",
       "      <th>Pais</th>\n",
       "      <th>Poblacion</th>\n",
       "      <th>Capital</th>\n",
       "    </tr>\n",
       "  </thead>\n",
       "  <tbody>\n",
       "    <tr>\n",
       "      <th>0</th>\n",
       "      <td>Mexico</td>\n",
       "      <td>127212000.0</td>\n",
       "      <td>CDMX</td>\n",
       "    </tr>\n",
       "    <tr>\n",
       "      <th>1</th>\n",
       "      <td>Argentina</td>\n",
       "      <td>74411000.0</td>\n",
       "      <td>Buenos Aires</td>\n",
       "    </tr>\n",
       "    <tr>\n",
       "      <th>2</th>\n",
       "      <td>Espana</td>\n",
       "      <td>47099000.0</td>\n",
       "      <td>Madrid</td>\n",
       "    </tr>\n",
       "    <tr>\n",
       "      <th>3</th>\n",
       "      <td>Colombia</td>\n",
       "      <td>48922000.0</td>\n",
       "      <td>Bogota</td>\n",
       "    </tr>\n",
       "  </tbody>\n",
       "</table>\n",
       "</div>"
      ],
      "text/plain": [
       "        Pais    Poblacion       Capital\n",
       "0     Mexico  127212000.0          CDMX\n",
       "1  Argentina   74411000.0  Buenos Aires\n",
       "2     Espana   47099000.0        Madrid\n",
       "3   Colombia   48922000.0        Bogota"
      ]
     },
     "execution_count": 34,
     "metadata": {},
     "output_type": "execute_result"
    }
   ],
   "source": [
    "# Llenar valores faltantes con la media de la columna\n",
    "df.fillna(df['Poblacion'].mean(), inplace=False) # inplace = false para no modificar el DataFrame original. Muestra la operación pero no lo hace realmente"
   ]
  },
  {
   "cell_type": "code",
   "execution_count": 35,
   "metadata": {},
   "outputs": [
    {
     "name": "stdout",
     "output_type": "stream",
     "text": [
      "        Pais    Poblacion       Capital\n",
      "0     Mexico  127212000.0          CDMX\n",
      "1  Argentina          NaN  Buenos Aires\n",
      "2     Espana   47099000.0        Madrid\n",
      "3   Colombia   48922000.0        Bogota\n"
     ]
    }
   ],
   "source": [
    "print(df)"
   ]
  },
  {
   "cell_type": "code",
   "execution_count": 37,
   "metadata": {},
   "outputs": [
    {
     "name": "stdout",
     "output_type": "stream",
     "text": [
      "       Pais    Poblacion Capital\n",
      "0    Mexico  127212000.0    CDMX\n",
      "2    Espana   47099000.0  Madrid\n",
      "3  Colombia   48922000.0  Bogota\n",
      "\n",
      "       Pais    Poblacion Capital\n",
      "0    Mexico  127212000.0    CDMX\n",
      "2    Espana   47099000.0  Madrid\n",
      "3  Colombia   48922000.0  Bogota\n"
     ]
    }
   ],
   "source": [
    "\n",
    "df.fillna(df['Poblacion'].mean(), inplace=False)\n",
    "df_new = df.fillna(df['Poblacion'].mean(), inplace=False) # inplace=False crea una copia del DataFrame original\n",
    "print(df_new)\n",
    "print()\n",
    "df['Poblacion'].fillna(df['Poblacion'].mean(), inplace=True)# inplace=True modifica el DataFrame original, en el caso de que sea False, se crea una copia del DataFrame\n",
    "print(df)"
   ]
  },
  {
   "cell_type": "code",
   "execution_count": 38,
   "metadata": {},
   "outputs": [
    {
     "name": "stdout",
     "output_type": "stream",
     "text": [
      "       Pais    Poblacion Capital\n",
      "0    Mexico  127212000.0    CDMX\n",
      "2    Espana   47099000.0  Madrid\n",
      "3  Colombia   48922000.0  Bogota\n"
     ]
    }
   ],
   "source": [
    "# Eliminar filas con valores nulos\n",
    "df.dropna(inplace=True) # inplace=True modifica el DataFrame original\n",
    "print(df) # Se elimina la fila con valores nulos"
   ]
  },
  {
   "cell_type": "code",
   "execution_count": 45,
   "metadata": {},
   "outputs": [
    {
     "name": "stdout",
     "output_type": "stream",
     "text": [
      "       Pais    Poblacion Capital\n",
      "0            127212000.0    CDMX\n",
      "2    Espana   47099000.0  Madrid\n",
      "3  Colombia   48922000.0  Bogota\n"
     ]
    }
   ],
   "source": [
    "# insertar valor vacío en elemento específico texto\n",
    "df.loc[0, 'Pais'] = ''   # Se inserta un valor vacio en la fila 0, columna Nombre\n",
    "print(df)"
   ]
  },
  {
   "cell_type": "code",
   "execution_count": 46,
   "metadata": {},
   "outputs": [
    {
     "name": "stdout",
     "output_type": "stream",
     "text": [
      "0     True\n",
      "2    False\n",
      "3    False\n",
      "Name: Pais, dtype: bool\n"
     ]
    }
   ],
   "source": [
    "# localización de texto vacío\n",
    "print(df['Pais'] == '')   # Muestra True en la fila 0 y False en las demás"
   ]
  },
  {
   "cell_type": "code",
   "execution_count": 47,
   "metadata": {},
   "outputs": [
    {
     "name": "stdout",
     "output_type": "stream",
     "text": [
      "       Pais    Poblacion Capital\n",
      "0  Asturias  127212000.0    CDMX\n",
      "2    Espana   47099000.0  Madrid\n",
      "3  Colombia   48922000.0  Bogota\n"
     ]
    }
   ],
   "source": [
    "# Sustituir texto vacío por un texto específico\n",
    "df.loc[df['Pais'] == '', 'Pais'] = 'Asturias'  # Sustituye el texto vacío por Asturias\n",
    "print(df)"
   ]
  },
  {
   "cell_type": "markdown",
   "metadata": {},
   "source": [
    "## 6. FUSIÓN DE DATAFRAMES"
   ]
  },
  {
   "cell_type": "code",
   "execution_count": 49,
   "metadata": {},
   "outputs": [
    {
     "name": "stdout",
     "output_type": "stream",
     "text": [
      "   ID Nombre\n",
      "0   1    Ana\n",
      "1   2   Luis\n",
      "2   3   Juan\n",
      "   ID  Salario\n",
      "0   1    50000\n",
      "1   2    60000\n",
      "2   4    70000\n",
      "   ID Nombre  Salario\n",
      "0   1    Ana    50000\n",
      "1   2   Luis    60000\n"
     ]
    }
   ],
   "source": [
    "df1 = pd.DataFrame({'ID': [1, 2, 3], 'Nombre': ['Ana', 'Luis', 'Juan']})\n",
    "df2 = pd.DataFrame({'ID': [1, 2, 4], 'Salario': [50000, 60000, 70000]})\n",
    "# fusionamos los dos DataFrames por la columna 'ID'. Con 'how' especificamos el tipo de unión y con 'on' la columna por la que se unen. \n",
    "# El tipo de unión puede ser 'inner', 'left', 'right' o 'outer'. \n",
    "# 'inner' solo incluye las filas que tienen el mismo valor en la columna 'ID' en ambos DataFrames.\n",
    "df_merged = pd.merge(df1, df2, on='ID', how='inner') \n",
    "print(df1)\n",
    "print(df2)\n",
    "print(df_merged)"
   ]
  }
 ],
 "metadata": {
  "kernelspec": {
   "display_name": "Python 3",
   "language": "python",
   "name": "python3"
  },
  "language_info": {
   "codemirror_mode": {
    "name": "ipython",
    "version": 3
   },
   "file_extension": ".py",
   "mimetype": "text/x-python",
   "name": "python",
   "nbconvert_exporter": "python",
   "pygments_lexer": "ipython3",
   "version": "3.11.11"
  }
 },
 "nbformat": 4,
 "nbformat_minor": 2
}
