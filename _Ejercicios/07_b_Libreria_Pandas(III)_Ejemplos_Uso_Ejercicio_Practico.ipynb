{
 "cells": [
  {
   "cell_type": "markdown",
   "metadata": {},
   "source": [
    "# Libreria Pandas III - Ejemplos de uso + Ejercicio Práctico\n",
    "\n",
    "![logo](img/pandas-logo.png)"
   ]
  },
  {
   "cell_type": "markdown",
   "metadata": {},
   "source": [
    "## 1. CREACIÓN DE UN DATAFRAME"
   ]
  },
  {
   "cell_type": "code",
<<<<<<< HEAD
   "execution_count": 1,
=======
   "execution_count": 23,
>>>>>>> luiscargarcia/main
   "metadata": {},
   "outputs": [],
   "source": [
    "import warnings\n",
    "warnings.filterwarnings(\"ignore\")"
   ]
  },
  {
   "cell_type": "code",
<<<<<<< HEAD
   "execution_count": 2,
=======
   "execution_count": null,
>>>>>>> luiscargarcia/main
   "metadata": {},
   "outputs": [],
   "source": [
    "## UTILIZA ESTE DATAFRAME PARA REALIZAR LOS EJERCICIOS, SIGUIENDO LAS MISMAS PAUTAS QUE EN ESTE EJEMPLO\n",
<<<<<<< HEAD
    "import pandas as pd\n",
    "df = pd.DataFrame(data={\"Pais\":['Mexico','Argentina','Espana','Colombia'],\n",
    "                        \"Poblacion\":[127212000, 45167000, 47099000, 48922000],\n",
    "                        \"Capital\":['CDMX','Buenos Aires','Madrid','Bogota']})"
=======
    "## df = pd.DataFrame(data={\"Pais\":['Mexico','Argentina','Espana','Colombia'],\n",
    "##                        \"Poblacion\":[127212000, 45167000, 47099000, 48922000],\n",
    "##                        \"Capital\":['CDMX','Buenos Aires','Madrid','Bogota']})"
>>>>>>> luiscargarcia/main
   ]
  },
  {
   "cell_type": "code",
<<<<<<< HEAD
   "execution_count": 3,
=======
   "execution_count": 33,
>>>>>>> luiscargarcia/main
   "metadata": {},
   "outputs": [
    {
     "name": "stdout",
     "output_type": "stream",
     "text": [
<<<<<<< HEAD
      "        Pais  Poblacion       Capital\n",
      "0     Mexico  127212000          CDMX\n",
      "1  Argentina   45167000  Buenos Aires\n",
      "2     Espana   47099000        Madrid\n",
      "3   Colombia   48922000        Bogota\n",
      "\n",
      "(4, 3)\n",
      "\n",
      "Pais         object\n",
      "Poblacion     int64\n",
      "Capital      object\n",
      "dtype: object\n",
      "\n",
      "          Poblacion\n",
      "count  4.000000e+00\n",
      "mean   6.710000e+07\n",
      "std    4.010398e+07\n",
      "min    4.516700e+07\n",
      "25%    4.661600e+07\n",
      "50%    4.801050e+07\n",
      "75%    6.849450e+07\n",
      "max    1.272120e+08\n"
=======
      "  Nombre  Edad     Ciudad\n",
      "0    Ana    28     Madrid\n",
      "1   Luis    34  Barcelona\n",
      "2   Juan    29   Valencia\n",
      "3  Marta    42    Sevilla\n",
      "\n",
      "(4, 3)\n",
      "\n",
      "Nombre    object\n",
      "Edad       int64\n",
      "Ciudad    object\n",
      "dtype: object\n",
      "\n",
      "            Edad\n",
      "count   4.000000\n",
      "mean   33.250000\n",
      "std     6.396614\n",
      "min    28.000000\n",
      "25%    28.750000\n",
      "50%    31.500000\n",
      "75%    36.000000\n",
      "max    42.000000\n"
>>>>>>> luiscargarcia/main
     ]
    }
   ],
   "source": [
<<<<<<< HEAD
    "##import pandas as pd\n",
    "##data = {\n",
    "##    'Nombre': ['Ana', 'Luis', 'Juan', 'Marta'],\n",
    "##    'Edad': [28, 34, 29, 42],\n",
    "##    'Ciudad': ['Madrid', 'Barcelona', 'Valencia', 'Sevilla']\n",
    "##}\n",
    "\n",
    "##df = pd.DataFrame(data)\n",
=======
    "import pandas as pd\n",
    "\n",
    "data = {\n",
    "    'Nombre': ['Ana', 'Luis', 'Juan', 'Marta'],\n",
    "    'Edad': [28, 34, 29, 42],\n",
    "    'Ciudad': ['Madrid', 'Barcelona', 'Valencia', 'Sevilla']\n",
    "}\n",
    "\n",
    "df = pd.DataFrame(data)\n",
>>>>>>> luiscargarcia/main
    "print(df)\n",
    "print()\n",
    "print(df.shape)\n",
    "print()\n",
    "print(df.dtypes)\n",
    "print()\n",
    "print(df.describe()) # Estadísticas descriptivas sobre columnas numéricas"
   ]
  },
  {
   "cell_type": "markdown",
   "metadata": {},
   "source": [
    "## 2. LECTURA FICHERO CSV"
   ]
  },
  {
   "cell_type": "code",
<<<<<<< HEAD
   "execution_count": 4,
=======
   "execution_count": 25,
>>>>>>> luiscargarcia/main
   "metadata": {},
   "outputs": [
    {
     "name": "stdout",
     "output_type": "stream",
     "text": [
      "   col1  col2  col3\n",
      "0     1     2     3\n",
      "1     3     4     5\n",
      "2     5     6     7\n"
     ]
    }
   ],
   "source": [
    "df_test = pd.read_csv('datasets/test2.csv')\n",
    "print(df_test.head())  # Muestra las primeras 5 filas del DataFrame"
   ]
  },
  {
   "cell_type": "markdown",
   "metadata": {},
   "source": [
    "## 3. FILTRADO DE DATOS"
   ]
  },
  {
   "cell_type": "code",
<<<<<<< HEAD
   "execution_count": 5,
=======
   "execution_count": 26,
>>>>>>> luiscargarcia/main
   "metadata": {},
   "outputs": [
    {
     "name": "stdout",
     "output_type": "stream",
     "text": [
<<<<<<< HEAD
      "        Pais  Poblacion       Capital\n",
      "0     Mexico  127212000          CDMX\n",
      "1  Argentina   45167000  Buenos Aires\n",
      "2     Espana   47099000        Madrid\n",
      "3   Colombia   48922000        Bogota\n"
=======
      "  Nombre  Edad     Ciudad\n",
      "1   Luis    34  Barcelona\n",
      "3  Marta    42    Sevilla\n"
>>>>>>> luiscargarcia/main
     ]
    }
   ],
   "source": [
    "# Filtrar las filas donde la edad es mayor a 30\n",
<<<<<<< HEAD
    "filtro = df[df['Poblacion'] > 30]\n",
=======
    "filtro = df[df['Edad'] > 30]\n",
>>>>>>> luiscargarcia/main
    "print(filtro)"
   ]
  },
  {
   "cell_type": "code",
<<<<<<< HEAD
   "execution_count": 6,
=======
   "execution_count": 27,
>>>>>>> luiscargarcia/main
   "metadata": {},
   "outputs": [
    {
     "name": "stdout",
     "output_type": "stream",
     "text": [
<<<<<<< HEAD
      "47099000\n"
=======
      "Luis\n"
>>>>>>> luiscargarcia/main
     ]
    }
   ],
   "source": [
    "# localización de elementos\n",
<<<<<<< HEAD
    "print(df.loc[2, 'Poblacion'])"
=======
    "print(df.loc[1, 'Nombre'])"
>>>>>>> luiscargarcia/main
   ]
  },
  {
   "cell_type": "code",
<<<<<<< HEAD
   "execution_count": 7,
=======
   "execution_count": 28,
>>>>>>> luiscargarcia/main
   "metadata": {},
   "outputs": [
    {
     "name": "stdout",
     "output_type": "stream",
     "text": [
<<<<<<< HEAD
      "Pais            Mexico\n",
      "Poblacion    127212000\n",
      "Capital           CDMX\n",
=======
      "Nombre       Ana\n",
      "Edad          28\n",
      "Ciudad    Madrid\n",
>>>>>>> luiscargarcia/main
      "Name: 0, dtype: object\n"
     ]
    }
   ],
   "source": [
    "# localización de filas(registros)\n",
    "print(df.loc[0])"
   ]
  },
  {
   "cell_type": "code",
<<<<<<< HEAD
   "execution_count": 8,
=======
   "execution_count": 29,
>>>>>>> luiscargarcia/main
   "metadata": {},
   "outputs": [
    {
     "name": "stdout",
     "output_type": "stream",
     "text": [
<<<<<<< HEAD
      "Pais         Colombia\n",
      "Poblacion    48922000\n",
      "Capital        Bogota\n",
      "Name: 3, dtype: object\n"
=======
      "Nombre       Ana\n",
      "Edad          28\n",
      "Ciudad    Madrid\n",
      "Name: 0, dtype: object\n"
>>>>>>> luiscargarcia/main
     ]
    }
   ],
   "source": [
<<<<<<< HEAD
    "print(df.iloc[3,:])  # localización por índice"
=======
    "print(df.iloc[0,:])  # localización por índice"
>>>>>>> luiscargarcia/main
   ]
  },
  {
   "cell_type": "markdown",
   "metadata": {},
   "source": [
    "## 4. AGRUPACIÓN Y AGREGACIÓN"
   ]
  },
  {
   "cell_type": "code",
<<<<<<< HEAD
   "execution_count": 9,
=======
   "execution_count": 5,
>>>>>>> luiscargarcia/main
   "metadata": {},
   "outputs": [
    {
     "name": "stdout",
     "output_type": "stream",
     "text": [
<<<<<<< HEAD
      "Capital\n",
      "Bogota           48922000.0\n",
      "Buenos Aires     45167000.0\n",
      "CDMX            127212000.0\n",
      "Madrid           47099000.0\n",
      "Name: Poblacion, dtype: float64\n"
=======
      "Ciudad\n",
      "Barcelona    34.0\n",
      "Madrid       28.0\n",
      "Sevilla      42.0\n",
      "Valencia     29.0\n",
      "Name: Edad, dtype: float64\n"
>>>>>>> luiscargarcia/main
     ]
    }
   ],
   "source": [
    "# Calcular la edad promedio por ciudad\n",
<<<<<<< HEAD
    "edad_promedio = df.groupby('Capital')['Poblacion'].mean()\n",
=======
    "edad_promedio = df.groupby('Ciudad')['Edad'].mean()\n",
>>>>>>> luiscargarcia/main
    "print(edad_promedio)"
   ]
  },
  {
   "cell_type": "markdown",
   "metadata": {},
   "source": [
    "## 5. GESTIÓN DE DATOS FALTANTES (MISSING VALUES)"
   ]
  },
  {
   "cell_type": "code",
<<<<<<< HEAD
   "execution_count": 10,
=======
   "execution_count": 31,
>>>>>>> luiscargarcia/main
   "metadata": {},
   "outputs": [
    {
     "name": "stdout",
     "output_type": "stream",
     "text": [
<<<<<<< HEAD
      "    Pais  Poblacion  Capital\n",
      "0  False      False    False\n",
      "1  False      False    False\n",
      "2  False      False    False\n",
      "3  False      False    False\n",
      "Pais         0\n",
      "Poblacion    0\n",
      "Capital      0\n",
=======
      "   Nombre   Edad  Ciudad\n",
      "0   False  False   False\n",
      "1   False  False   False\n",
      "2   False  False   False\n",
      "3   False  False   False\n",
      "Nombre    0\n",
      "Edad      0\n",
      "Ciudad    0\n",
>>>>>>> luiscargarcia/main
      "dtype: int64\n"
     ]
    }
   ],
   "source": [
    "# Localización de nulos\n",
    "print(df.isnull())\n",
    "print(df.isnull().sum())    # Cantidad de nulos por columna"
   ]
  },
  {
   "cell_type": "code",
<<<<<<< HEAD
   "execution_count": 11,
=======
   "execution_count": 44,
>>>>>>> luiscargarcia/main
   "metadata": {},
   "outputs": [
    {
     "data": {
      "text/html": [
       "<div>\n",
       "<style scoped>\n",
       "    .dataframe tbody tr th:only-of-type {\n",
       "        vertical-align: middle;\n",
       "    }\n",
       "\n",
       "    .dataframe tbody tr th {\n",
       "        vertical-align: top;\n",
       "    }\n",
       "\n",
       "    .dataframe thead th {\n",
       "        text-align: right;\n",
       "    }\n",
       "</style>\n",
       "<table border=\"1\" class=\"dataframe\">\n",
       "  <thead>\n",
       "    <tr style=\"text-align: right;\">\n",
       "      <th></th>\n",
<<<<<<< HEAD
       "      <th>Pais</th>\n",
       "      <th>Poblacion</th>\n",
       "      <th>Capital</th>\n",
=======
       "      <th>Nombre</th>\n",
       "      <th>Edad</th>\n",
       "      <th>Ciudad</th>\n",
>>>>>>> luiscargarcia/main
       "    </tr>\n",
       "  </thead>\n",
       "  <tbody>\n",
       "    <tr>\n",
       "      <th>0</th>\n",
<<<<<<< HEAD
       "      <td>Mexico</td>\n",
       "      <td>127212000.0</td>\n",
       "      <td>CDMX</td>\n",
       "    </tr>\n",
       "    <tr>\n",
       "      <th>1</th>\n",
       "      <td>Argentina</td>\n",
       "      <td>NaN</td>\n",
       "      <td>Buenos Aires</td>\n",
       "    </tr>\n",
       "    <tr>\n",
       "      <th>2</th>\n",
       "      <td>Espana</td>\n",
       "      <td>47099000.0</td>\n",
       "      <td>Madrid</td>\n",
       "    </tr>\n",
       "    <tr>\n",
       "      <th>3</th>\n",
       "      <td>Colombia</td>\n",
       "      <td>48922000.0</td>\n",
       "      <td>Bogota</td>\n",
=======
       "      <td>Ana</td>\n",
       "      <td>28.0</td>\n",
       "      <td>Madrid</td>\n",
       "    </tr>\n",
       "    <tr>\n",
       "      <th>1</th>\n",
       "      <td>Luis</td>\n",
       "      <td>NaN</td>\n",
       "      <td>Barcelona</td>\n",
       "    </tr>\n",
       "    <tr>\n",
       "      <th>2</th>\n",
       "      <td>Juan</td>\n",
       "      <td>29.0</td>\n",
       "      <td>Valencia</td>\n",
       "    </tr>\n",
       "    <tr>\n",
       "      <th>3</th>\n",
       "      <td>Marta</td>\n",
       "      <td>42.0</td>\n",
       "      <td>Sevilla</td>\n",
>>>>>>> luiscargarcia/main
       "    </tr>\n",
       "  </tbody>\n",
       "</table>\n",
       "</div>"
      ],
      "text/plain": [
<<<<<<< HEAD
       "        Pais    Poblacion       Capital\n",
       "0     Mexico  127212000.0          CDMX\n",
       "1  Argentina          NaN  Buenos Aires\n",
       "2     Espana   47099000.0        Madrid\n",
       "3   Colombia   48922000.0        Bogota"
      ]
     },
     "execution_count": 11,
=======
       "  Nombre  Edad     Ciudad\n",
       "0    Ana  28.0     Madrid\n",
       "1   Luis   NaN  Barcelona\n",
       "2   Juan  29.0   Valencia\n",
       "3  Marta  42.0    Sevilla"
      ]
     },
     "execution_count": 44,
>>>>>>> luiscargarcia/main
     "metadata": {},
     "output_type": "execute_result"
    }
   ],
   "source": [
    "import numpy as np\n",
<<<<<<< HEAD
    "df.loc[1, 'Poblacion'] = np.nan\n",
=======
    "df.loc[1, 'Edad'] = np.nan\n",
>>>>>>> luiscargarcia/main
    "df "
   ]
  },
  {
   "cell_type": "code",
<<<<<<< HEAD
   "execution_count": 12,
=======
   "execution_count": 41,
>>>>>>> luiscargarcia/main
   "metadata": {},
   "outputs": [
    {
     "data": {
      "text/html": [
       "<div>\n",
       "<style scoped>\n",
       "    .dataframe tbody tr th:only-of-type {\n",
       "        vertical-align: middle;\n",
       "    }\n",
       "\n",
       "    .dataframe tbody tr th {\n",
       "        vertical-align: top;\n",
       "    }\n",
       "\n",
       "    .dataframe thead th {\n",
       "        text-align: right;\n",
       "    }\n",
       "</style>\n",
       "<table border=\"1\" class=\"dataframe\">\n",
       "  <thead>\n",
       "    <tr style=\"text-align: right;\">\n",
       "      <th></th>\n",
<<<<<<< HEAD
       "      <th>Pais</th>\n",
       "      <th>Poblacion</th>\n",
       "      <th>Capital</th>\n",
=======
       "      <th>Nombre</th>\n",
       "      <th>Edad</th>\n",
       "      <th>Ciudad</th>\n",
>>>>>>> luiscargarcia/main
       "    </tr>\n",
       "  </thead>\n",
       "  <tbody>\n",
       "    <tr>\n",
       "      <th>0</th>\n",
<<<<<<< HEAD
       "      <td>Mexico</td>\n",
       "      <td>127212000.0</td>\n",
       "      <td>CDMX</td>\n",
       "    </tr>\n",
       "    <tr>\n",
       "      <th>1</th>\n",
       "      <td>Argentina</td>\n",
       "      <td>74411000.0</td>\n",
       "      <td>Buenos Aires</td>\n",
       "    </tr>\n",
       "    <tr>\n",
       "      <th>2</th>\n",
       "      <td>Espana</td>\n",
       "      <td>47099000.0</td>\n",
       "      <td>Madrid</td>\n",
       "    </tr>\n",
       "    <tr>\n",
       "      <th>3</th>\n",
       "      <td>Colombia</td>\n",
       "      <td>48922000.0</td>\n",
       "      <td>Bogota</td>\n",
=======
       "      <td>Ana</td>\n",
       "      <td>28.0</td>\n",
       "      <td>Madrid</td>\n",
       "    </tr>\n",
       "    <tr>\n",
       "      <th>1</th>\n",
       "      <td>Luis</td>\n",
       "      <td>33.0</td>\n",
       "      <td>Barcelona</td>\n",
       "    </tr>\n",
       "    <tr>\n",
       "      <th>2</th>\n",
       "      <td>Juan</td>\n",
       "      <td>29.0</td>\n",
       "      <td>Valencia</td>\n",
       "    </tr>\n",
       "    <tr>\n",
       "      <th>3</th>\n",
       "      <td>Marta</td>\n",
       "      <td>42.0</td>\n",
       "      <td>Sevilla</td>\n",
>>>>>>> luiscargarcia/main
       "    </tr>\n",
       "  </tbody>\n",
       "</table>\n",
       "</div>"
      ],
      "text/plain": [
<<<<<<< HEAD
       "        Pais    Poblacion       Capital\n",
       "0     Mexico  127212000.0          CDMX\n",
       "1  Argentina   74411000.0  Buenos Aires\n",
       "2     Espana   47099000.0        Madrid\n",
       "3   Colombia   48922000.0        Bogota"
      ]
     },
     "execution_count": 12,
=======
       "  Nombre  Edad     Ciudad\n",
       "0    Ana  28.0     Madrid\n",
       "1   Luis  33.0  Barcelona\n",
       "2   Juan  29.0   Valencia\n",
       "3  Marta  42.0    Sevilla"
      ]
     },
     "execution_count": 41,
>>>>>>> luiscargarcia/main
     "metadata": {},
     "output_type": "execute_result"
    }
   ],
   "source": [
    "# Llenar valores faltantes con la media de la columna\n",
<<<<<<< HEAD
    "df.fillna(df['Poblacion'].mean(), inplace=False) # inplace = false para no modificar el DataFrame original. Muestra la operación pero no lo hace realmente"
=======
    "df.fillna(df['Edad'].mean(), inplace=False) # inplace = false para no modificar el DataFrame original. Muestra la operación pero no lo hace realmente"
>>>>>>> luiscargarcia/main
   ]
  },
  {
   "cell_type": "code",
<<<<<<< HEAD
   "execution_count": 13,
=======
   "execution_count": 42,
>>>>>>> luiscargarcia/main
   "metadata": {},
   "outputs": [
    {
     "name": "stdout",
     "output_type": "stream",
     "text": [
<<<<<<< HEAD
      "        Pais    Poblacion       Capital\n",
      "0     Mexico  127212000.0          CDMX\n",
      "1  Argentina          NaN  Buenos Aires\n",
      "2     Espana   47099000.0        Madrid\n",
      "3   Colombia   48922000.0        Bogota\n"
=======
      "  Nombre  Edad     Ciudad\n",
      "0    Ana  28.0     Madrid\n",
      "1   Luis   NaN  Barcelona\n",
      "2   Juan  29.0   Valencia\n",
      "3  Marta  42.0    Sevilla\n"
>>>>>>> luiscargarcia/main
     ]
    }
   ],
   "source": [
    "print(df)"
   ]
  },
  {
   "cell_type": "code",
<<<<<<< HEAD
   "execution_count": 14,
=======
   "execution_count": 43,
>>>>>>> luiscargarcia/main
   "metadata": {},
   "outputs": [
    {
     "name": "stdout",
     "output_type": "stream",
     "text": [
<<<<<<< HEAD
      "        Pais    Poblacion       Capital\n",
      "0     Mexico  127212000.0          CDMX\n",
      "1  Argentina   74411000.0  Buenos Aires\n",
      "2     Espana   47099000.0        Madrid\n",
      "3   Colombia   48922000.0        Bogota\n",
      "\n",
      "        Pais    Poblacion       Capital\n",
      "0     Mexico  127212000.0          CDMX\n",
      "1  Argentina   74411000.0  Buenos Aires\n",
      "2     Espana   47099000.0        Madrid\n",
      "3   Colombia   48922000.0        Bogota\n"
=======
      "  Nombre  Edad     Ciudad\n",
      "0    Ana  28.0     Madrid\n",
      "1   Luis  33.0  Barcelona\n",
      "2   Juan  29.0   Valencia\n",
      "3  Marta  42.0    Sevilla\n",
      "\n",
      "  Nombre  Edad     Ciudad\n",
      "0    Ana  28.0     Madrid\n",
      "1   Luis  33.0  Barcelona\n",
      "2   Juan  29.0   Valencia\n",
      "3  Marta  42.0    Sevilla\n"
>>>>>>> luiscargarcia/main
     ]
    }
   ],
   "source": [
    "\n",
<<<<<<< HEAD
    "df.fillna(df['Poblacion'].mean(), inplace=False)\n",
    "df_new = df.fillna(df['Poblacion'].mean(), inplace=False) # inplace=False crea una copia del DataFrame original\n",
    "print(df_new)\n",
    "print()\n",
    "df['Poblacion'].fillna(df['Poblacion'].mean(), inplace=True)# inplace=True modifica el DataFrame original, en el caso de que sea False, se crea una copia del DataFrame\n",
=======
    "df.fillna(df['Edad'].mean(), inplace=False)\n",
    "df_new = df.fillna(df['Edad'].mean(), inplace=False) # inplace=False crea una copia del DataFrame original\n",
    "print(df_new)\n",
    "print()\n",
    "df['Edad'].fillna(df['Edad'].mean(), inplace=True)# inplace=True modifica el DataFrame original, en el caso de que sea False, se crea una copia del DataFrame\n",
>>>>>>> luiscargarcia/main
    "print(df)"
   ]
  },
  {
   "cell_type": "code",
<<<<<<< HEAD
   "execution_count": 15,
=======
   "execution_count": 45,
>>>>>>> luiscargarcia/main
   "metadata": {},
   "outputs": [
    {
     "name": "stdout",
     "output_type": "stream",
     "text": [
<<<<<<< HEAD
      "        Pais    Poblacion       Capital\n",
      "0     Mexico  127212000.0          CDMX\n",
      "1  Argentina   74411000.0  Buenos Aires\n",
      "2     Espana   47099000.0        Madrid\n",
      "3   Colombia   48922000.0        Bogota\n"
=======
      "  Nombre  Edad    Ciudad\n",
      "0    Ana  28.0    Madrid\n",
      "2   Juan  29.0  Valencia\n",
      "3  Marta  42.0   Sevilla\n"
>>>>>>> luiscargarcia/main
     ]
    }
   ],
   "source": [
    "# Eliminar filas con valores nulos\n",
    "df.dropna(inplace=True) # inplace=True modifica el DataFrame original\n",
    "print(df) # Se elimina la fila con valores nulos"
   ]
  },
  {
   "cell_type": "code",
<<<<<<< HEAD
   "execution_count": 16,
=======
   "execution_count": 52,
>>>>>>> luiscargarcia/main
   "metadata": {},
   "outputs": [
    {
     "name": "stdout",
     "output_type": "stream",
     "text": [
<<<<<<< HEAD
      "        Pais    Poblacion       Capital\n",
      "0             127212000.0          CDMX\n",
      "1  Argentina   74411000.0  Buenos Aires\n",
      "2     Espana   47099000.0        Madrid\n",
      "3   Colombia   48922000.0        Bogota\n"
=======
      "  Nombre  Edad    Ciudad\n",
      "0         28.0    Madrid\n",
      "2   Juan  29.0  Valencia\n",
      "3  Marta  42.0   Sevilla\n"
>>>>>>> luiscargarcia/main
     ]
    }
   ],
   "source": [
    "# insertar valor vacío en elemento específico texto\n",
<<<<<<< HEAD
    "df.loc[0, 'Pais'] = ''   # Se inserta un valor vacio en la fila 0, columna Nombre\n",
=======
    "df.loc[0, 'Nombre'] = ''   # Se inserta un valor vacio en la fila 0, columna Nombre\n",
>>>>>>> luiscargarcia/main
    "print(df)"
   ]
  },
  {
   "cell_type": "code",
<<<<<<< HEAD
   "execution_count": 17,
=======
   "execution_count": 53,
>>>>>>> luiscargarcia/main
   "metadata": {},
   "outputs": [
    {
     "name": "stdout",
     "output_type": "stream",
     "text": [
      "0     True\n",
<<<<<<< HEAD
      "1    False\n",
      "2    False\n",
      "3    False\n",
      "Name: Pais, dtype: bool\n"
=======
      "2    False\n",
      "3    False\n",
      "Name: Nombre, dtype: bool\n"
>>>>>>> luiscargarcia/main
     ]
    }
   ],
   "source": [
    "# localización de texto vacío\n",
<<<<<<< HEAD
    "print(df['Pais'] == '')   # Muestra True en la fila 0 y False en las demás"
=======
    "print(df['Nombre'] == '')   # Muestra True en la fila 0 y False en las demás"
>>>>>>> luiscargarcia/main
   ]
  },
  {
   "cell_type": "code",
<<<<<<< HEAD
   "execution_count": 18,
=======
   "execution_count": 54,
>>>>>>> luiscargarcia/main
   "metadata": {},
   "outputs": [
    {
     "name": "stdout",
     "output_type": "stream",
     "text": [
<<<<<<< HEAD
      "        Pais    Poblacion       Capital\n",
      "0   Asturias  127212000.0          CDMX\n",
      "1  Argentina   74411000.0  Buenos Aires\n",
      "2     Espana   47099000.0        Madrid\n",
      "3   Colombia   48922000.0        Bogota\n"
=======
      "  Nombre  Edad    Ciudad\n",
      "0   Pepe  28.0    Madrid\n",
      "2   Juan  29.0  Valencia\n",
      "3  Marta  42.0   Sevilla\n"
>>>>>>> luiscargarcia/main
     ]
    }
   ],
   "source": [
    "# Sustituir texto vacío por un texto específico\n",
<<<<<<< HEAD
    "df.loc[df['Pais'] == '', 'Pais'] = 'Asturias'  # Sustituye el texto vacío por Asturias\n",
=======
    "df.loc[df['Nombre'] == '', 'Nombre'] = 'Pepe'\n",
>>>>>>> luiscargarcia/main
    "print(df)"
   ]
  },
  {
   "cell_type": "markdown",
   "metadata": {},
   "source": [
    "## 6. FUSIÓN DE DATAFRAMES"
   ]
  },
  {
   "cell_type": "code",
<<<<<<< HEAD
   "execution_count": 19,
=======
   "execution_count": 8,
>>>>>>> luiscargarcia/main
   "metadata": {},
   "outputs": [
    {
     "name": "stdout",
     "output_type": "stream",
     "text": [
<<<<<<< HEAD
      "   ID Nombre\n",
      "0   1    Ana\n",
      "1   2   Luis\n",
      "2   3   Juan\n",
      "   ID  Salario\n",
      "0   1    50000\n",
      "1   2    60000\n",
      "2   4    70000\n",
=======
>>>>>>> luiscargarcia/main
      "   ID Nombre  Salario\n",
      "0   1    Ana    50000\n",
      "1   2   Luis    60000\n"
     ]
    }
   ],
   "source": [
    "df1 = pd.DataFrame({'ID': [1, 2, 3], 'Nombre': ['Ana', 'Luis', 'Juan']})\n",
    "df2 = pd.DataFrame({'ID': [1, 2, 4], 'Salario': [50000, 60000, 70000]})\n",
    "# fusionamos los dos DataFrames por la columna 'ID'. Con 'how' especificamos el tipo de unión y con 'on' la columna por la que se unen. \n",
    "# El tipo de unión puede ser 'inner', 'left', 'right' o 'outer'. \n",
    "# 'inner' solo incluye las filas que tienen el mismo valor en la columna 'ID' en ambos DataFrames.\n",
    "df_merged = pd.merge(df1, df2, on='ID', how='inner') \n",
<<<<<<< HEAD
    "print(df1)\n",
    "print(df2)\n",
=======
>>>>>>> luiscargarcia/main
    "print(df_merged)"
   ]
  }
 ],
 "metadata": {
  "kernelspec": {
   "display_name": "Python 3",
   "language": "python",
   "name": "python3"
  },
  "language_info": {
   "codemirror_mode": {
    "name": "ipython",
    "version": 3
   },
   "file_extension": ".py",
   "mimetype": "text/x-python",
   "name": "python",
   "nbconvert_exporter": "python",
   "pygments_lexer": "ipython3",
   "version": "3.11.11"
  }
 },
 "nbformat": 4,
 "nbformat_minor": 2
}
