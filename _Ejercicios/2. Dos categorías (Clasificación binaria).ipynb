{
 "cells": [
  {
   "cell_type": "markdown",
   "metadata": {},
   "source": [
    "# 2. Clasificación en dos categorías (Clasificación binaria)"
   ]
  },
  {
   "cell_type": "markdown",
   "metadata": {},
   "source": [
    "## Enunciado: \n",
    "Utilizando un conjunto de datos de pacientes con características\n",
    "clínicas (presión arterial, colesterol, edad, etc.), construye un modelo de\n",
    "regresión logística para predecir si un paciente tiene riesgo de enfermedad\n",
    "cardíaca (sí/no). Explora y visualiza los datos para identificar patrones, realiza\n",
    "una limpieza de datos adecuada y evalúa el rendimiento de tu modelo utilizando\n",
    "métricas como precisión, recall y F1-score."
   ]
  },
  {
   "cell_type": "markdown",
   "metadata": {},
   "source": [
    "### Dataset: \n",
    "[Conjunto de datos de enfermedades cardíacas](https://www.kaggle.com/datasets/johnsmith88/heart-disease-dataset)"
   ]
  }
 ],
 "metadata": {
  "language_info": {
   "name": "python"
  }
 },
 "nbformat": 4,
 "nbformat_minor": 2
}
