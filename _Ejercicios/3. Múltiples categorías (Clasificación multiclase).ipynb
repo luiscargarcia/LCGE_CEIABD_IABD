{
 "cells": [
  {
   "cell_type": "markdown",
   "metadata": {},
   "source": [
    "# 3. Clasificación en múltiples categorías (Clasificación multiclase)"
   ]
  },
  {
   "cell_type": "markdown",
   "metadata": {},
   "source": [
    "## Enunciado: \n",
    "Utilizando un conjunto de datos de vinos de diferentes variedades\n",
    "(Cabernet Sauvignon, Merlot, Syrah, etc.) con características químicas (acidez,\n",
    "contenido de alcohol, pH, etc.), construye un modelo de clasificación para\n",
    "identificar la variedad de vino a partir de sus características químicas. Explora y\n",
    "visualiza los datos para entender las características de cada variedad, realiza\n",
    "una limpieza de datos si es necesario, y evalúa el rendimiento de tu modelo\n",
    "utilizando métricas como precisión y exactitud."
   ]
  },
  {
   "cell_type": "markdown",
   "metadata": {},
   "source": [
    "### Dataset:\n",
    "[Conjunto de datos de calidad del vino tinto](https://www.google.com/url?sa=E&source=gmail&q=https://www.kaggle.com/datasets/uciml/red-wine-quality-cortez-et-al-2009)"
   ]
  },
  {
   "cell_type": "markdown",
   "metadata": {},
   "source": []
  }
 ],
 "metadata": {
  "language_info": {
   "name": "python"
  }
 },
 "nbformat": 4,
 "nbformat_minor": 2
}
