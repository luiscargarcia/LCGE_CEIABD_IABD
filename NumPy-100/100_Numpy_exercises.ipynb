{
 "cells": [
  {
   "cell_type": "markdown",
   "id": "6293cc50",
   "metadata": {},
   "source": [
<<<<<<< HEAD
<<<<<<< HEAD
    "# 100 ejercicios de NumPy\n",
    "\n",
    "Esta es una colección de ejercicios que han sido recopilados de la lista de correo de numpy, de Stack Overflow\n",
    "y de la documentación de numpy. El objetivo de esta colección es ofrecer una referencia rápida tanto para usuarios\n",
    "nuevos como experimentados, y también proporcionar un conjunto de ejercicios para aquellos que enseñan.\n",
    "\n",
    "\n",
    "Si encuentras un error o crees que tienes una mejor manera de resolver alguno de ellos,\n",
    "no dudes en abrir un issue en <https://github.com/rougier/numpy-100>."
=======
    "# 100 numpy exercises\n",
=======
    "# 100 ejercicios de NumPy\n",
>>>>>>> 847158e (06-02-2025_19:20)
    "\n",
    "Esta es una colección de ejercicios que han sido recopilados de la lista de correo de numpy, de Stack Overflow\n",
    "y de la documentación de numpy. El objetivo de esta colección es ofrecer una referencia rápida tanto para usuarios\n",
    "nuevos como experimentados, y también proporcionar un conjunto de ejercicios para aquellos que enseñan.\n",
    "\n",
    "\n",
<<<<<<< HEAD
    "If you find an error or think you've a better way to solve some of them, feel\n",
    "free to open an issue at <https://github.com/rougier/numpy-100>."
>>>>>>> 67236fe (30-01-2025 - 19:20)
=======
    "Si encuentras un error o crees que tienes una mejor manera de resolver alguno de ellos,\n",
    "no dudes en abrir un issue en <https://github.com/rougier/numpy-100>."
>>>>>>> 847158e (06-02-2025_19:20)
   ]
  },
  {
   "cell_type": "markdown",
   "id": "a167c052",
   "metadata": {},
   "source": [
<<<<<<< HEAD
<<<<<<< HEAD
    "Archivo generado automáticamente. Consulta la documentación para actualizar preguntas/respuestas/pistas programáticamente."
=======
    "File automatically generated. See the documentation to update questions/answers/hints programmatically."
>>>>>>> 67236fe (30-01-2025 - 19:20)
=======
    "Archivo generado automáticamente. Consulta la documentación para actualizar preguntas/respuestas/pistas programáticamente."
>>>>>>> 847158e (06-02-2025_19:20)
   ]
  },
  {
   "cell_type": "markdown",
   "id": "57fc0ee5",
   "metadata": {},
   "source": [
<<<<<<< HEAD
<<<<<<< HEAD
    "Ejecuta el módulo `initialize.py`, luego para cada pregunta puedes consultar la\n",
    "respuesta o una pista con `hint(n)` o `answer(n)` para el número de pregunta `n`."
=======
    "Run the `initialize.py` module, then for each question you can query the\n",
    "answer or an hint with `hint(n)` or `answer(n)` for `n` question number."
>>>>>>> 67236fe (30-01-2025 - 19:20)
=======
    "Ejecuta el módulo `initialize.py`, luego para cada pregunta puedes consultar la\n",
    "respuesta o una pista con `hint(n)` o `answer(n)` para el número de pregunta `n`."
>>>>>>> 847158e (06-02-2025_19:20)
   ]
  },
  {
   "cell_type": "code",
<<<<<<< HEAD
<<<<<<< HEAD
   "execution_count": 3,
=======
   "execution_count": null,
>>>>>>> 67236fe (30-01-2025 - 19:20)
=======
   "execution_count": 3,
>>>>>>> 847158e (06-02-2025_19:20)
   "id": "3d46fba2",
   "metadata": {},
   "outputs": [],
   "source": [
    "%run initialise.py"
   ]
  },
  {
   "cell_type": "markdown",
   "id": "3c1222ff",
   "metadata": {},
   "source": [
<<<<<<< HEAD
<<<<<<< HEAD
    "#### 1. Importa el paquete numpy bajo el nombre `np` (★☆☆)"
=======
    "#### 1. Import the numpy package under the name `np` (★☆☆)"
>>>>>>> 67236fe (30-01-2025 - 19:20)
=======
    "#### 1. Importa el paquete numpy bajo el nombre `np` (★☆☆)"
>>>>>>> 847158e (06-02-2025_19:20)
   ]
  },
  {
   "cell_type": "code",
   "execution_count": null,
   "id": "f52e6a0b",
   "metadata": {},
   "outputs": [],
<<<<<<< HEAD
<<<<<<< HEAD
   "source": [
    "\n"
   ]
=======
   "source": []
>>>>>>> 67236fe (30-01-2025 - 19:20)
=======
   "source": [
    "\n"
   ]
>>>>>>> 847158e (06-02-2025_19:20)
  },
  {
   "cell_type": "markdown",
   "id": "9d9f4753",
   "metadata": {},
   "source": [
<<<<<<< HEAD
<<<<<<< HEAD
    "#### 2. Imprime la versión de numpy y la configuración (★☆☆)"
=======
    "#### 2. Print the numpy version and the configuration (★☆☆)"
>>>>>>> 67236fe (30-01-2025 - 19:20)
=======
    "#### 2. Imprime la versión de numpy y la configuración (★☆☆)"
>>>>>>> 847158e (06-02-2025_19:20)
   ]
  },
  {
   "cell_type": "code",
   "execution_count": null,
   "id": "b7fa5fa1",
   "metadata": {},
   "outputs": [],
   "source": []
  },
  {
   "cell_type": "markdown",
   "id": "3e4c23c6",
   "metadata": {},
   "source": [
<<<<<<< HEAD
<<<<<<< HEAD
    "#### 3. Crea un vector nulo de tamaño 10 (★☆☆)"
=======
    "#### 3. Create a null vector of size 10 (★☆☆)"
>>>>>>> 67236fe (30-01-2025 - 19:20)
=======
    "#### 3. Crea un vector nulo de tamaño 10 (★☆☆)"
>>>>>>> 847158e (06-02-2025_19:20)
   ]
  },
  {
   "cell_type": "code",
   "execution_count": null,
   "id": "083c5c46",
   "metadata": {},
   "outputs": [],
   "source": []
  },
  {
   "cell_type": "markdown",
   "id": "c38bbe82",
   "metadata": {},
   "source": [
<<<<<<< HEAD
<<<<<<< HEAD
    "#### 4. ¿Cómo encontrar el tamaño de memoria de cualquier array? (★☆☆)"
=======
    "#### 4. How to find the memory size of any array (★☆☆)"
>>>>>>> 67236fe (30-01-2025 - 19:20)
=======
    "#### 4. ¿Cómo encontrar el tamaño de memoria de cualquier array? (★☆☆)"
>>>>>>> 847158e (06-02-2025_19:20)
   ]
  },
  {
   "cell_type": "code",
   "execution_count": null,
   "id": "02b04021",
   "metadata": {},
   "outputs": [],
   "source": []
  },
  {
   "cell_type": "markdown",
   "id": "67f893d4",
   "metadata": {},
   "source": [
<<<<<<< HEAD
<<<<<<< HEAD
    "#### 5. ¿Cómo obtener la documentación de la función numpy add desde la línea de comandos? (★☆☆)"
=======
    "#### 5. How to get the documentation of the numpy add function from the command line? (★☆☆)"
>>>>>>> 67236fe (30-01-2025 - 19:20)
=======
    "#### 5. ¿Cómo obtener la documentación de la función numpy add desde la línea de comandos? (★☆☆)"
>>>>>>> 847158e (06-02-2025_19:20)
   ]
  },
  {
   "cell_type": "code",
   "execution_count": null,
   "id": "40e6b70d",
   "metadata": {},
   "outputs": [],
   "source": []
  },
  {
   "cell_type": "markdown",
   "id": "e0c739c6",
   "metadata": {},
   "source": [
<<<<<<< HEAD
<<<<<<< HEAD
    "#### 6. Crea un vector nulo de tamaño 10 pero el quinto valor que sea 1 (★☆☆)"
=======
    "#### 6. Create a null vector of size 10 but the fifth value which is 1 (★☆☆)"
>>>>>>> 67236fe (30-01-2025 - 19:20)
=======
    "#### 6. Crea un vector nulo de tamaño 10 pero el quinto valor que sea 1 (★☆☆)"
>>>>>>> 847158e (06-02-2025_19:20)
   ]
  },
  {
   "cell_type": "code",
   "execution_count": null,
   "id": "bcceacf7",
   "metadata": {},
   "outputs": [],
   "source": []
  },
  {
   "cell_type": "markdown",
   "id": "fbebedab",
   "metadata": {},
   "source": [
<<<<<<< HEAD
<<<<<<< HEAD
    "#### 7. Crea un vector con valores que van de 10 a 49 (★☆☆)"
=======
    "#### 7. Create a vector with values ranging from 10 to 49 (★☆☆)"
>>>>>>> 67236fe (30-01-2025 - 19:20)
=======
    "#### 7. Crea un vector con valores que van de 10 a 49 (★☆☆)"
>>>>>>> 847158e (06-02-2025_19:20)
   ]
  },
  {
   "cell_type": "code",
   "execution_count": null,
   "id": "3d117d54",
   "metadata": {},
   "outputs": [],
   "source": []
  },
  {
   "cell_type": "markdown",
   "id": "ad0bff02",
   "metadata": {},
   "source": [
<<<<<<< HEAD
<<<<<<< HEAD
    "#### 8. Invierte un vector (el primer elemento se convierte en el último) (★☆☆)"
=======
    "#### 8. Reverse a vector (first element becomes last) (★☆☆)"
>>>>>>> 67236fe (30-01-2025 - 19:20)
=======
    "#### 8. Invierte un vector (el primer elemento se convierte en el último) (★☆☆)"
>>>>>>> 847158e (06-02-2025_19:20)
   ]
  },
  {
   "cell_type": "code",
   "execution_count": null,
   "id": "22d23470",
   "metadata": {},
   "outputs": [],
   "source": []
  },
  {
   "cell_type": "markdown",
   "id": "9f59d7e1",
   "metadata": {},
   "source": [
<<<<<<< HEAD
<<<<<<< HEAD
    "#### 9. Crea una matriz 3x3 con valores que van de 0 a 8 (★☆☆)"
=======
    "#### 9. Create a 3x3 matrix with values ranging from 0 to 8 (★☆☆)"
>>>>>>> 67236fe (30-01-2025 - 19:20)
=======
    "#### 9. Crea una matriz 3x3 con valores que van de 0 a 8 (★☆☆)"
>>>>>>> 847158e (06-02-2025_19:20)
   ]
  },
  {
   "cell_type": "code",
   "execution_count": null,
   "id": "7449e82d",
   "metadata": {},
   "outputs": [],
   "source": []
  },
  {
   "cell_type": "markdown",
   "id": "f374c4cf",
   "metadata": {},
   "source": [
<<<<<<< HEAD
<<<<<<< HEAD
    "#### 10. Encuentra los índices de los elementos no nulos de [1,2,0,0,4,0] (★☆☆)"
=======
    "#### 10. Find indices of non-zero elements from [1,2,0,0,4,0] (★☆☆)"
>>>>>>> 67236fe (30-01-2025 - 19:20)
=======
    "#### 10. Encuentra los índices de los elementos no nulos de [1,2,0,0,4,0] (★☆☆)"
>>>>>>> 847158e (06-02-2025_19:20)
   ]
  },
  {
   "cell_type": "code",
   "execution_count": null,
   "id": "1a84bed8",
   "metadata": {},
   "outputs": [],
   "source": []
  },
  {
   "cell_type": "markdown",
   "id": "9c4707f5",
   "metadata": {},
   "source": [
<<<<<<< HEAD
<<<<<<< HEAD
    "#### 11. Crea una matriz identidad 3x3 (★☆☆)"
=======
    "#### 11. Create a 3x3 identity matrix (★☆☆)"
>>>>>>> 67236fe (30-01-2025 - 19:20)
=======
    "#### 11. Crea una matriz identidad 3x3 (★☆☆)"
>>>>>>> 847158e (06-02-2025_19:20)
   ]
  },
  {
   "cell_type": "code",
   "execution_count": null,
   "id": "29dc1fd3",
   "metadata": {},
   "outputs": [],
   "source": []
  },
  {
   "cell_type": "markdown",
   "id": "3bac294a",
   "metadata": {},
   "source": [
<<<<<<< HEAD
<<<<<<< HEAD
    "#### 12. Crea un array 3x3x3 con valores aleatorios (★☆☆)"
=======
    "#### 12. Create a 3x3x3 array with random values (★☆☆)"
>>>>>>> 67236fe (30-01-2025 - 19:20)
=======
    "#### 12. Crea un array 3x3x3 con valores aleatorios (★☆☆)"
>>>>>>> 847158e (06-02-2025_19:20)
   ]
  },
  {
   "cell_type": "code",
   "execution_count": null,
   "id": "eadfae67",
   "metadata": {},
   "outputs": [],
   "source": []
  },
  {
   "cell_type": "markdown",
   "id": "466c2989",
   "metadata": {},
   "source": [
<<<<<<< HEAD
<<<<<<< HEAD
    "#### 13. Crea un array 10x10 con valores aleatorios y encuentra los valores mínimo y máximo (★☆☆)"
=======
    "#### 13. Create a 10x10 array with random values and find the minimum and maximum values (★☆☆)"
>>>>>>> 67236fe (30-01-2025 - 19:20)
=======
    "#### 13. Crea un array 10x10 con valores aleatorios y encuentra los valores mínimo y máximo (★☆☆)"
>>>>>>> 847158e (06-02-2025_19:20)
   ]
  },
  {
   "cell_type": "code",
   "execution_count": null,
   "id": "9a74dbfc",
   "metadata": {},
   "outputs": [],
   "source": []
  },
  {
   "cell_type": "markdown",
   "id": "53a8edb2",
   "metadata": {},
   "source": [
<<<<<<< HEAD
<<<<<<< HEAD
    "#### 14. Crea un vector aleatorio de tamaño 30 y encuentra el valor medio (★☆☆)"
=======
    "#### 14. Create a random vector of size 30 and find the mean value (★☆☆)"
>>>>>>> 67236fe (30-01-2025 - 19:20)
=======
    "#### 14. Crea un vector aleatorio de tamaño 30 y encuentra el valor medio (★☆☆)"
>>>>>>> 847158e (06-02-2025_19:20)
   ]
  },
  {
   "cell_type": "code",
   "execution_count": null,
   "id": "6691530b",
   "metadata": {},
   "outputs": [],
   "source": []
  },
  {
   "cell_type": "markdown",
   "id": "cbaad31c",
   "metadata": {},
   "source": [
<<<<<<< HEAD
<<<<<<< HEAD
    "#### 15. Crea un array 2D con 1 en el borde y 0 en el interior (★☆☆)"
=======
    "#### 15. Create a 2d array with 1 on the border and 0 inside (★☆☆)"
>>>>>>> 67236fe (30-01-2025 - 19:20)
=======
    "#### 15. Crea un array 2D con 1 en el borde y 0 en el interior (★☆☆)"
>>>>>>> 847158e (06-02-2025_19:20)
   ]
  },
  {
   "cell_type": "code",
   "execution_count": null,
   "id": "ad8308e3",
   "metadata": {},
   "outputs": [],
   "source": []
  },
  {
   "cell_type": "markdown",
   "id": "c5ecc267",
   "metadata": {},
   "source": [
<<<<<<< HEAD
<<<<<<< HEAD
    "#### 16. ¿Cómo agregar un borde (relleno con ceros) alrededor de un array existente? (★☆☆)"
=======
    "#### 16. How to add a border (filled with 0's) around an existing array? (★☆☆)"
>>>>>>> 67236fe (30-01-2025 - 19:20)
=======
    "#### 16. ¿Cómo agregar un borde (relleno con ceros) alrededor de un array existente? (★☆☆)"
>>>>>>> 847158e (06-02-2025_19:20)
   ]
  },
  {
   "cell_type": "code",
   "execution_count": null,
   "id": "9d5c78c4",
   "metadata": {},
   "outputs": [],
   "source": []
  },
  {
   "cell_type": "markdown",
   "id": "ef909b72",
   "metadata": {},
   "source": [
<<<<<<< HEAD
<<<<<<< HEAD
    "#### 17. ¿Cuál es el resultado de la siguiente expresión? (★☆☆)\n",
=======
    "#### 17. What is the result of the following expression? (★☆☆)\n",
>>>>>>> 67236fe (30-01-2025 - 19:20)
=======
    "#### 17. ¿Cuál es el resultado de la siguiente expresión? (★☆☆)\n",
>>>>>>> 847158e (06-02-2025_19:20)
    "```python\n",
    "0 * np.nan\n",
    "np.nan == np.nan\n",
    "np.inf > np.nan\n",
    "np.nan - np.nan\n",
    "np.nan in set([np.nan])\n",
    "0.3 == 3 * 0.1\n",
    "```"
   ]
  },
  {
   "cell_type": "code",
   "execution_count": null,
   "id": "3b4985f2",
   "metadata": {},
   "outputs": [],
   "source": []
  },
  {
   "cell_type": "markdown",
   "id": "502738ac",
   "metadata": {},
   "source": [
<<<<<<< HEAD
<<<<<<< HEAD
    "#### 18. Crea una matriz 5x5 con valores 1,2,3,4 justo debajo de la diagonal (★☆☆)"
=======
    "#### 18. Create a 5x5 matrix with values 1,2,3,4 just below the diagonal (★☆☆)"
>>>>>>> 67236fe (30-01-2025 - 19:20)
=======
    "#### 18. Crea una matriz 5x5 con valores 1,2,3,4 justo debajo de la diagonal (★☆☆)"
>>>>>>> 847158e (06-02-2025_19:20)
   ]
  },
  {
   "cell_type": "code",
   "execution_count": null,
   "id": "faed6e2b",
   "metadata": {},
   "outputs": [],
   "source": []
  },
  {
   "cell_type": "markdown",
   "id": "a65da660",
   "metadata": {},
   "source": [
<<<<<<< HEAD
<<<<<<< HEAD
    "#### 19. Crea una matriz 8x8 y rellénala con un patrón de tablero de ajedrez (★☆☆)"
=======
    "#### 19. Create a 8x8 matrix and fill it with a checkerboard pattern (★☆☆)"
>>>>>>> 67236fe (30-01-2025 - 19:20)
=======
    "#### 19. Crea una matriz 8x8 y rellénala con un patrón de tablero de ajedrez (★☆☆)"
>>>>>>> 847158e (06-02-2025_19:20)
   ]
  },
  {
   "cell_type": "code",
   "execution_count": null,
   "id": "ed150400",
   "metadata": {},
   "outputs": [],
   "source": []
  },
  {
   "cell_type": "markdown",
   "id": "9f7f9c49",
   "metadata": {},
   "source": [
<<<<<<< HEAD
<<<<<<< HEAD
    "#### 20. Considera un array de forma (6,7,8), ¿cuál es el índice (x,y,z) del elemento 100? (★☆☆)"
=======
    "#### 20. Consider a (6,7,8) shape array, what is the index (x,y,z) of the 100th element? (★☆☆)"
>>>>>>> 67236fe (30-01-2025 - 19:20)
=======
    "#### 20. Considera un array de forma (6,7,8), ¿cuál es el índice (x,y,z) del elemento 100? (★☆☆)"
>>>>>>> 847158e (06-02-2025_19:20)
   ]
  },
  {
   "cell_type": "code",
   "execution_count": null,
   "id": "3782b5a9",
   "metadata": {},
   "outputs": [],
   "source": []
  },
  {
   "cell_type": "markdown",
   "id": "66bfda35",
   "metadata": {},
   "source": [
<<<<<<< HEAD
<<<<<<< HEAD
    "#### 21. Crea una matriz de tablero de ajedrez 8x8 usando la función tile (★☆☆)"
=======
    "#### 21. Create a checkerboard 8x8 matrix using the tile function (★☆☆)"
>>>>>>> 67236fe (30-01-2025 - 19:20)
=======
    "#### 21. Crea una matriz de tablero de ajedrez 8x8 usando la función tile (★☆☆)"
>>>>>>> 847158e (06-02-2025_19:20)
   ]
  },
  {
   "cell_type": "code",
   "execution_count": null,
   "id": "4c07477c",
   "metadata": {},
   "outputs": [],
   "source": []
  },
  {
   "cell_type": "markdown",
   "id": "d5bcfc08",
   "metadata": {},
   "source": [
<<<<<<< HEAD
<<<<<<< HEAD
    "#### 22. Normaliza una matriz aleatoria 5x5 (★☆☆)"
=======
    "#### 22. Normalize a 5x5 random matrix (★☆☆)"
>>>>>>> 67236fe (30-01-2025 - 19:20)
=======
    "#### 22. Normaliza una matriz aleatoria 5x5 (★☆☆)"
>>>>>>> 847158e (06-02-2025_19:20)
   ]
  },
  {
   "cell_type": "code",
   "execution_count": null,
   "id": "cea6c993",
   "metadata": {},
   "outputs": [],
   "source": []
  },
  {
   "cell_type": "markdown",
   "id": "f9a0911e",
   "metadata": {},
   "source": [
<<<<<<< HEAD
<<<<<<< HEAD
    "#### 23. Crea un dtype personalizado que describa un color como cuatro bytes sin signo (RGBA) (★☆☆)"
=======
    "#### 23. Create a custom dtype that describes a color as four unsigned bytes (RGBA) (★☆☆)"
>>>>>>> 67236fe (30-01-2025 - 19:20)
=======
    "#### 23. Crea un dtype personalizado que describa un color como cuatro bytes sin signo (RGBA) (★☆☆)"
>>>>>>> 847158e (06-02-2025_19:20)
   ]
  },
  {
   "cell_type": "code",
   "execution_count": null,
   "id": "d165044b",
   "metadata": {},
   "outputs": [],
   "source": []
  },
  {
   "cell_type": "markdown",
   "id": "654805b1",
   "metadata": {},
   "source": [
<<<<<<< HEAD
<<<<<<< HEAD
    "#### 24. Multiplica una matriz 5x3 por una matriz 3x2 (producto de matrices reales) (★☆☆)"
=======
    "#### 24. Multiply a 5x3 matrix by a 3x2 matrix (real matrix product) (★☆☆)"
>>>>>>> 67236fe (30-01-2025 - 19:20)
=======
    "#### 24. Multiplica una matriz 5x3 por una matriz 3x2 (producto de matrices reales) (★☆☆)"
>>>>>>> 847158e (06-02-2025_19:20)
   ]
  },
  {
   "cell_type": "code",
   "execution_count": null,
   "id": "6a42619f",
   "metadata": {},
   "outputs": [],
   "source": []
  },
  {
   "cell_type": "markdown",
   "id": "994c25df",
   "metadata": {},
   "source": [
<<<<<<< HEAD
<<<<<<< HEAD
    "#### 25. Dado un array 1D, niega todos los elementos que están entre 3 y 8, en su lugar. (★☆☆)"
=======
    "#### 25. Given a 1D array, negate all elements which are between 3 and 8, in place. (★☆☆)"
>>>>>>> 67236fe (30-01-2025 - 19:20)
=======
    "#### 25. Dado un array 1D, niega todos los elementos que están entre 3 y 8, en su lugar. (★☆☆)"
>>>>>>> 847158e (06-02-2025_19:20)
   ]
  },
  {
   "cell_type": "code",
   "execution_count": null,
   "id": "e4b39c03",
   "metadata": {},
   "outputs": [],
   "source": []
  },
  {
   "cell_type": "markdown",
   "id": "b7d15d1a",
   "metadata": {},
   "source": [
<<<<<<< HEAD
<<<<<<< HEAD
    "#### 26. ¿Cuál es la salida del siguiente script? (★☆☆)\n",
    "```python\n",
    "# Autor: Jake VanderPlas\n",
=======
    "#### 26. What is the output of the following script? (★☆☆)\n",
    "```python\n",
    "# Author: Jake VanderPlas\n",
>>>>>>> 67236fe (30-01-2025 - 19:20)
=======
    "#### 26. ¿Cuál es la salida del siguiente script? (★☆☆)\n",
    "```python\n",
    "# Autor: Jake VanderPlas\n",
>>>>>>> 847158e (06-02-2025_19:20)
    "\n",
    "print(sum(range(5),-1))\n",
    "from numpy import *\n",
    "print(sum(range(5),-1))\n",
    "```"
   ]
  },
  {
   "cell_type": "code",
   "execution_count": null,
   "id": "4c95bc3f",
   "metadata": {},
   "outputs": [],
   "source": []
  },
  {
   "cell_type": "markdown",
   "id": "a34f0d08",
   "metadata": {},
   "source": [
<<<<<<< HEAD
<<<<<<< HEAD
    "#### 27. Considera un vector entero Z, ¿cuál de estas expresiones son legales? (★☆☆)\n",
=======
    "#### 27. Consider an integer vector Z, which of these expressions are legal? (★☆☆)\n",
>>>>>>> 67236fe (30-01-2025 - 19:20)
=======
    "#### 27. Considera un vector entero Z, ¿cuál de estas expresiones son legales? (★☆☆)\n",
>>>>>>> 847158e (06-02-2025_19:20)
    "```python\n",
    "Z**Z\n",
    "2 << Z >> 2\n",
    "Z <- Z\n",
    "1j*Z\n",
    "Z/1/1\n",
    "Z<Z>Z\n",
    "```"
   ]
  },
  {
   "cell_type": "code",
   "execution_count": null,
   "id": "564658fc",
   "metadata": {},
   "outputs": [],
   "source": []
  },
  {
   "cell_type": "markdown",
   "id": "c34e94bf",
   "metadata": {},
   "source": [
<<<<<<< HEAD
<<<<<<< HEAD
    "#### 28. ¿Cuáles son los resultados de las siguientes expresiones? (★☆☆)\n",
=======
    "#### 28. What are the result of the following expressions? (★☆☆)\n",
>>>>>>> 67236fe (30-01-2025 - 19:20)
=======
    "#### 28. ¿Cuáles son los resultados de las siguientes expresiones? (★☆☆)\n",
>>>>>>> 847158e (06-02-2025_19:20)
    "```python\n",
    "np.array(0) / np.array(0)\n",
    "np.array(0) // np.array(0)\n",
    "np.array([np.nan]).astype(int).astype(float)\n",
    "```"
   ]
  },
  {
   "cell_type": "code",
   "execution_count": null,
   "id": "56663562",
   "metadata": {},
   "outputs": [],
   "source": []
  },
  {
   "cell_type": "markdown",
   "id": "546f5e7b",
   "metadata": {},
   "source": [
<<<<<<< HEAD
<<<<<<< HEAD
    "#### 29. ¿Cómo redondear un array de flotantes alejándose de cero? (★☆☆)"
=======
    "#### 29. How to round away from zero a float array ? (★☆☆)"
>>>>>>> 67236fe (30-01-2025 - 19:20)
=======
    "#### 29. ¿Cómo redondear un array de flotantes alejándose de cero? (★☆☆)"
>>>>>>> 847158e (06-02-2025_19:20)
   ]
  },
  {
   "cell_type": "code",
   "execution_count": null,
   "id": "f725a6d2",
   "metadata": {},
   "outputs": [],
   "source": []
  },
  {
   "cell_type": "markdown",
   "id": "eadca856",
   "metadata": {},
   "source": [
<<<<<<< HEAD
<<<<<<< HEAD
    "#### 30. ¿Cómo encontrar valores comunes entre dos arrays? (★☆☆)"
=======
    "#### 30. How to find common values between two arrays? (★☆☆)"
>>>>>>> 67236fe (30-01-2025 - 19:20)
=======
    "#### 30. ¿Cómo encontrar valores comunes entre dos arrays? (★☆☆)"
>>>>>>> 847158e (06-02-2025_19:20)
   ]
  },
  {
   "cell_type": "code",
   "execution_count": null,
   "id": "e0270b5b",
   "metadata": {},
   "outputs": [],
   "source": []
  },
  {
   "cell_type": "markdown",
   "id": "ca16ca22",
   "metadata": {},
   "source": [
<<<<<<< HEAD
<<<<<<< HEAD
    "#### 31. ¿Cómo ignorar todas las advertencias de numpy (no recomendado)? (★☆☆)"
=======
    "#### 31. How to ignore all numpy warnings (not recommended)? (★☆☆)"
>>>>>>> 67236fe (30-01-2025 - 19:20)
=======
    "#### 31. ¿Cómo ignorar todas las advertencias de numpy (no recomendado)? (★☆☆)"
>>>>>>> 847158e (06-02-2025_19:20)
   ]
  },
  {
   "cell_type": "code",
   "execution_count": null,
   "id": "7d7208ef",
   "metadata": {},
   "outputs": [],
   "source": []
  },
  {
   "cell_type": "markdown",
   "id": "c7871d0d",
   "metadata": {},
   "source": [
<<<<<<< HEAD
<<<<<<< HEAD
    "#### 32. ¿Es verdadera la siguiente expresión? (★☆☆)\n",
=======
    "#### 32. Is the following expressions true? (★☆☆)\n",
>>>>>>> 67236fe (30-01-2025 - 19:20)
=======
    "#### 32. ¿Es verdadera la siguiente expresión? (★☆☆)\n",
>>>>>>> 847158e (06-02-2025_19:20)
    "```python\n",
    "np.sqrt(-1) == np.emath.sqrt(-1)\n",
    "```"
   ]
  },
  {
   "cell_type": "code",
   "execution_count": null,
   "id": "acc3701a",
   "metadata": {},
   "outputs": [],
   "source": []
  },
  {
   "cell_type": "markdown",
   "id": "e0433e30",
   "metadata": {},
   "source": [
<<<<<<< HEAD
<<<<<<< HEAD
    "#### 33. ¿Cómo obtener las fechas de ayer, hoy y mañana? (★☆☆)"
=======
    "#### 33. How to get the dates of yesterday, today and tomorrow? (★☆☆)"
>>>>>>> 67236fe (30-01-2025 - 19:20)
=======
    "#### 33. ¿Cómo obtener las fechas de ayer, hoy y mañana? (★☆☆)"
>>>>>>> 847158e (06-02-2025_19:20)
   ]
  },
  {
   "cell_type": "code",
   "execution_count": null,
   "id": "9c4d2152",
   "metadata": {},
   "outputs": [],
   "source": []
  },
  {
   "cell_type": "markdown",
   "id": "9f52a2ef",
   "metadata": {},
   "source": [
<<<<<<< HEAD
<<<<<<< HEAD
    "#### 34. ¿Cómo obtener todas las fechas correspondientes al mes de julio de 2016? (★★☆)"
=======
    "#### 34. How to get all the dates corresponding to the month of July 2016? (★★☆)"
>>>>>>> 67236fe (30-01-2025 - 19:20)
=======
    "#### 34. ¿Cómo obtener todas las fechas correspondientes al mes de julio de 2016? (★★☆)"
>>>>>>> 847158e (06-02-2025_19:20)
   ]
  },
  {
   "cell_type": "code",
   "execution_count": null,
   "id": "d6c34dec",
   "metadata": {},
   "outputs": [],
   "source": []
  },
  {
   "cell_type": "markdown",
   "id": "4a64e059",
   "metadata": {},
   "source": [
<<<<<<< HEAD
<<<<<<< HEAD
    "#### 35. ¿Cómo calcular ((A+B)*(-A/2)) en su lugar (sin copia)? (★★☆)"
=======
    "#### 35. How to compute ((A+B)*(-A/2)) in place (without copy)? (★★☆)"
>>>>>>> 67236fe (30-01-2025 - 19:20)
=======
    "#### 35. ¿Cómo calcular ((A+B)*(-A/2)) en su lugar (sin copia)? (★★☆)"
>>>>>>> 847158e (06-02-2025_19:20)
   ]
  },
  {
   "cell_type": "code",
   "execution_count": null,
   "id": "49267f60",
   "metadata": {},
   "outputs": [],
   "source": []
  },
  {
   "cell_type": "markdown",
   "id": "8a98c2a8",
   "metadata": {},
   "source": [
<<<<<<< HEAD
<<<<<<< HEAD
    "#### 36. Extrae la parte entera de un array aleatorio de números positivos usando 4 métodos diferentes (★★☆)"
=======
    "#### 36. Extract the integer part of a random array of positive numbers using 4 different methods (★★☆)"
>>>>>>> 67236fe (30-01-2025 - 19:20)
=======
    "#### 36. Extrae la parte entera de un array aleatorio de números positivos usando 4 métodos diferentes (★★☆)"
>>>>>>> 847158e (06-02-2025_19:20)
   ]
  },
  {
   "cell_type": "code",
   "execution_count": null,
   "id": "368130b3",
   "metadata": {},
   "outputs": [],
   "source": []
  },
  {
   "cell_type": "markdown",
   "id": "5a2e3d85",
   "metadata": {},
   "source": [
<<<<<<< HEAD
<<<<<<< HEAD
    "#### 37. Crea una matriz 5x5 con valores de fila que van de 0 a 4 (★★☆)"
=======
    "#### 37. Create a 5x5 matrix with row values ranging from 0 to 4 (★★☆)"
>>>>>>> 67236fe (30-01-2025 - 19:20)
=======
    "#### 37. Crea una matriz 5x5 con valores de fila que van de 0 a 4 (★★☆)"
>>>>>>> 847158e (06-02-2025_19:20)
   ]
  },
  {
   "cell_type": "code",
   "execution_count": null,
   "id": "1d974e8f",
   "metadata": {},
   "outputs": [],
   "source": []
  },
  {
   "cell_type": "markdown",
   "id": "9720e2d5",
   "metadata": {},
   "source": [
<<<<<<< HEAD
<<<<<<< HEAD
    "#### 38. Considera una función generadora que genera 10 enteros y úsala para construir un array (★☆☆)"
=======
    "#### 38. Consider a generator function that generates 10 integers and use it to build an array (★☆☆)"
>>>>>>> 67236fe (30-01-2025 - 19:20)
=======
    "#### 38. Considera una función generadora que genera 10 enteros y úsala para construir un array (★☆☆)"
>>>>>>> 847158e (06-02-2025_19:20)
   ]
  },
  {
   "cell_type": "code",
   "execution_count": null,
   "id": "e5dd8fc9",
   "metadata": {},
   "outputs": [],
   "source": []
  },
  {
   "cell_type": "markdown",
   "id": "c6f2c912",
   "metadata": {},
   "source": [
<<<<<<< HEAD
<<<<<<< HEAD
    "#### 39. Crea un vector de tamaño 10 con valores que van de 0 a 1, ambos excluidos (★★☆)"
=======
    "#### 39. Create a vector of size 10 with values ranging from 0 to 1, both excluded (★★☆)"
>>>>>>> 67236fe (30-01-2025 - 19:20)
=======
    "#### 39. Crea un vector de tamaño 10 con valores que van de 0 a 1, ambos excluidos (★★☆)"
>>>>>>> 847158e (06-02-2025_19:20)
   ]
  },
  {
   "cell_type": "code",
   "execution_count": null,
   "id": "6aaa27d3",
   "metadata": {},
   "outputs": [],
   "source": []
  },
  {
   "cell_type": "markdown",
   "id": "a36d6ee4",
   "metadata": {},
   "source": [
<<<<<<< HEAD
<<<<<<< HEAD
    "#### 40. Crea un vector aleatorio de tamaño 10 y ordénalo (★★☆)"
=======
    "#### 40. Create a random vector of size 10 and sort it (★★☆)"
>>>>>>> 67236fe (30-01-2025 - 19:20)
=======
    "#### 40. Crea un vector aleatorio de tamaño 10 y ordénalo (★★☆)"
>>>>>>> 847158e (06-02-2025_19:20)
   ]
  },
  {
   "cell_type": "code",
   "execution_count": null,
   "id": "e589d216",
   "metadata": {},
   "outputs": [],
   "source": []
  },
  {
   "cell_type": "markdown",
   "id": "0fb4ad68",
   "metadata": {},
   "source": [
<<<<<<< HEAD
<<<<<<< HEAD
    "#### 41. ¿Cómo sumar un array pequeño más rápido que np.sum? (★★☆)"
=======
    "#### 41. How to sum a small array faster than np.sum? (★★☆)"
>>>>>>> 67236fe (30-01-2025 - 19:20)
=======
    "#### 41. ¿Cómo sumar un array pequeño más rápido que np.sum? (★★☆)"
>>>>>>> 847158e (06-02-2025_19:20)
   ]
  },
  {
   "cell_type": "code",
   "execution_count": null,
   "id": "a1ba05a0",
   "metadata": {},
   "outputs": [],
   "source": []
  },
  {
   "cell_type": "markdown",
   "id": "024ac365",
   "metadata": {},
   "source": [
<<<<<<< HEAD
<<<<<<< HEAD
    "#### 42. Considera dos arrays aleatorios A y B, verifica si son iguales (★★☆)"
=======
    "#### 42. Consider two random array A and B, check if they are equal (★★☆)"
>>>>>>> 67236fe (30-01-2025 - 19:20)
=======
    "#### 42. Considera dos arrays aleatorios A y B, verifica si son iguales (★★☆)"
>>>>>>> 847158e (06-02-2025_19:20)
   ]
  },
  {
   "cell_type": "code",
   "execution_count": null,
   "id": "7db3846d",
   "metadata": {},
   "outputs": [],
   "source": []
  },
  {
   "cell_type": "markdown",
   "id": "c68d2401",
   "metadata": {},
   "source": [
<<<<<<< HEAD
<<<<<<< HEAD
    "#### 43. Haz un array inmutable (solo lectura) (★★☆)"
=======
    "#### 43. Make an array immutable (read-only) (★★☆)"
>>>>>>> 67236fe (30-01-2025 - 19:20)
=======
    "#### 43. Haz un array inmutable (solo lectura) (★★☆)"
>>>>>>> 847158e (06-02-2025_19:20)
   ]
  },
  {
   "cell_type": "code",
   "execution_count": null,
   "id": "7828539d",
   "metadata": {},
   "outputs": [],
   "source": []
  },
  {
   "cell_type": "markdown",
   "id": "55df6280",
   "metadata": {},
   "source": [
<<<<<<< HEAD
<<<<<<< HEAD
    "#### 44. Considera una matriz aleatoria 10x2 que representa coordenadas cartesianas, conviértelas a coordenadas polares (★★☆)"
=======
    "#### 44. Consider a random 10x2 matrix representing cartesian coordinates, convert them to polar coordinates (★★☆)"
>>>>>>> 67236fe (30-01-2025 - 19:20)
=======
    "#### 44. Considera una matriz aleatoria 10x2 que representa coordenadas cartesianas, conviértelas a coordenadas polares (★★☆)"
>>>>>>> 847158e (06-02-2025_19:20)
   ]
  },
  {
   "cell_type": "code",
   "execution_count": null,
   "id": "f1c86ea0",
   "metadata": {},
   "outputs": [],
   "source": []
  },
  {
   "cell_type": "markdown",
   "id": "2f60f1ec",
   "metadata": {},
   "source": [
<<<<<<< HEAD
<<<<<<< HEAD
    "#### 45. Crea un vector aleatorio de tamaño 10 y reemplaza el valor máximo por 0 (★★☆)"
=======
    "#### 45. Create random vector of size 10 and replace the maximum value by 0 (★★☆)"
>>>>>>> 67236fe (30-01-2025 - 19:20)
=======
    "#### 45. Crea un vector aleatorio de tamaño 10 y reemplaza el valor máximo por 0 (★★☆)"
>>>>>>> 847158e (06-02-2025_19:20)
   ]
  },
  {
   "cell_type": "code",
   "execution_count": null,
   "id": "d9f48f1c",
   "metadata": {},
   "outputs": [],
   "source": []
  },
  {
   "cell_type": "markdown",
   "id": "084e8ad4",
   "metadata": {},
   "source": [
<<<<<<< HEAD
<<<<<<< HEAD
    "#### 46. Crea un array estructurado con coordenadas `x` y `y` que cubran el área [0,1]x[0,1] (★★☆)"
=======
    "#### 46. Create a structured array with `x` and `y` coordinates covering the [0,1]x[0,1] area (★★☆)"
>>>>>>> 67236fe (30-01-2025 - 19:20)
=======
    "#### 46. Crea un array estructurado con coordenadas `x` y `y` que cubran el área [0,1]x[0,1] (★★☆)"
>>>>>>> 847158e (06-02-2025_19:20)
   ]
  },
  {
   "cell_type": "code",
   "execution_count": null,
   "id": "58b47c13",
   "metadata": {},
   "outputs": [],
   "source": []
  },
  {
   "cell_type": "markdown",
   "id": "d7b9bc42",
   "metadata": {},
   "source": [
<<<<<<< HEAD
<<<<<<< HEAD
    "#### 47. Dado dos arrays, X e Y, construye la matriz de Cauchy C (Cij =1/(xi - yj)) (★★☆)"
=======
    "#### 47. Given two arrays, X and Y, construct the Cauchy matrix C (Cij =1/(xi - yj)) (★★☆)"
>>>>>>> 67236fe (30-01-2025 - 19:20)
=======
    "#### 47. Dado dos arrays, X e Y, construye la matriz de Cauchy C (Cij =1/(xi - yj)) (★★☆)"
>>>>>>> 847158e (06-02-2025_19:20)
   ]
  },
  {
   "cell_type": "code",
   "execution_count": null,
   "id": "a24824fb",
   "metadata": {},
   "outputs": [],
   "source": []
  },
  {
   "cell_type": "markdown",
   "id": "65ebc11b",
   "metadata": {},
   "source": [
<<<<<<< HEAD
<<<<<<< HEAD
    "#### 48. Imprime el valor mínimo y máximo representable para cada tipo escalar de numpy (★★☆)"
=======
    "#### 48. Print the minimum and maximum representable value for each numpy scalar type (★★☆)"
>>>>>>> 67236fe (30-01-2025 - 19:20)
=======
    "#### 48. Imprime el valor mínimo y máximo representable para cada tipo escalar de numpy (★★☆)"
>>>>>>> 847158e (06-02-2025_19:20)
   ]
  },
  {
   "cell_type": "code",
   "execution_count": null,
   "id": "e45d38fb",
   "metadata": {},
   "outputs": [],
   "source": []
  },
  {
   "cell_type": "markdown",
   "id": "9b317a98",
   "metadata": {},
   "source": [
<<<<<<< HEAD
<<<<<<< HEAD
    "#### 49. ¿Cómo imprimir todos los valores de un array? (★★☆)"
=======
    "#### 49. How to print all the values of an array? (★★☆)"
>>>>>>> 67236fe (30-01-2025 - 19:20)
=======
    "#### 49. ¿Cómo imprimir todos los valores de un array? (★★☆)"
>>>>>>> 847158e (06-02-2025_19:20)
   ]
  },
  {
   "cell_type": "code",
   "execution_count": null,
   "id": "309cdeb9",
   "metadata": {},
   "outputs": [],
   "source": []
  },
  {
   "cell_type": "markdown",
   "id": "b580f9d0",
   "metadata": {},
   "source": [
<<<<<<< HEAD
<<<<<<< HEAD
    "#### 50. ¿Cómo encontrar el valor más cercano (a un escalar dado) en un vector? (★★☆)"
=======
    "#### 50. How to find the closest value (to a given scalar) in a vector? (★★☆)"
>>>>>>> 67236fe (30-01-2025 - 19:20)
=======
    "#### 50. ¿Cómo encontrar el valor más cercano (a un escalar dado) en un vector? (★★☆)"
>>>>>>> 847158e (06-02-2025_19:20)
   ]
  },
  {
   "cell_type": "code",
   "execution_count": null,
   "id": "ebfb6714",
   "metadata": {},
   "outputs": [],
   "source": []
  },
  {
   "cell_type": "markdown",
   "id": "602e6252",
   "metadata": {},
   "source": [
<<<<<<< HEAD
<<<<<<< HEAD
    "#### 51. Crea un array estructurado que represente una posición (x,y) y un color (r,g,b) (★★☆)"
=======
    "#### 51. Create a structured array representing a position (x,y) and a color (r,g,b) (★★☆)"
>>>>>>> 67236fe (30-01-2025 - 19:20)
=======
    "#### 51. Crea un array estructurado que represente una posición (x,y) y un color (r,g,b) (★★☆)"
>>>>>>> 847158e (06-02-2025_19:20)
   ]
  },
  {
   "cell_type": "code",
   "execution_count": null,
   "id": "cf002b3a",
   "metadata": {},
   "outputs": [],
   "source": []
  },
  {
   "cell_type": "markdown",
   "id": "78bcd92f",
   "metadata": {},
   "source": [
<<<<<<< HEAD
<<<<<<< HEAD
    "#### 52. Considera un vector aleatorio con forma (100,2) que representa coordenadas, encuentra las distancias punto a punto (★★☆)"
=======
    "#### 52. Consider a random vector with shape (100,2) representing coordinates, find point by point distances (★★☆)"
>>>>>>> 67236fe (30-01-2025 - 19:20)
=======
    "#### 52. Considera un vector aleatorio con forma (100,2) que representa coordenadas, encuentra las distancias punto a punto (★★☆)"
>>>>>>> 847158e (06-02-2025_19:20)
   ]
  },
  {
   "cell_type": "code",
   "execution_count": null,
   "id": "fea7f9a6",
   "metadata": {},
   "outputs": [],
   "source": []
  },
  {
   "cell_type": "markdown",
   "id": "343c5a85",
   "metadata": {},
   "source": [
<<<<<<< HEAD
<<<<<<< HEAD
    "#### 53. ¿Cómo convertir un array de flotantes (32 bits) en un array de enteros (32 bits) en su lugar?"
=======
    "#### 53. How to convert a float (32 bits) array into an integer (32 bits) in place?"
>>>>>>> 67236fe (30-01-2025 - 19:20)
=======
    "#### 53. ¿Cómo convertir un array de flotantes (32 bits) en un array de enteros (32 bits) en su lugar?"
>>>>>>> 847158e (06-02-2025_19:20)
   ]
  },
  {
   "cell_type": "code",
   "execution_count": null,
   "id": "fc1b687b",
   "metadata": {},
   "outputs": [],
   "source": []
  },
  {
   "cell_type": "markdown",
   "id": "a69e1ace",
   "metadata": {},
   "source": [
<<<<<<< HEAD
<<<<<<< HEAD
    "#### 54. ¿Cómo leer el siguiente archivo? (★★☆)\n",
=======
    "#### 54. How to read the following file? (★★☆)\n",
>>>>>>> 67236fe (30-01-2025 - 19:20)
=======
    "#### 54. ¿Cómo leer el siguiente archivo? (★★☆)\n",
>>>>>>> 847158e (06-02-2025_19:20)
    "```\n",
    "1, 2, 3, 4, 5\n",
    "6,  ,  , 7, 8\n",
    " ,  , 9,10,11\n",
    "```"
   ]
  },
  {
   "cell_type": "code",
   "execution_count": null,
   "id": "1c7957d4",
   "metadata": {},
   "outputs": [],
   "source": []
  },
  {
   "cell_type": "markdown",
   "id": "c23bd80d",
   "metadata": {},
   "source": [
<<<<<<< HEAD
<<<<<<< HEAD
    "#### 55. ¿Cuál es el equivalente de enumerate para arrays de numpy? (★★☆)"
=======
    "#### 55. What is the equivalent of enumerate for numpy arrays? (★★☆)"
>>>>>>> 67236fe (30-01-2025 - 19:20)
=======
    "#### 55. ¿Cuál es el equivalente de enumerate para arrays de numpy? (★★☆)"
>>>>>>> 847158e (06-02-2025_19:20)
   ]
  },
  {
   "cell_type": "code",
   "execution_count": null,
   "id": "d95d9578",
   "metadata": {},
   "outputs": [],
   "source": []
  },
  {
   "cell_type": "markdown",
   "id": "2153a5ec",
   "metadata": {},
   "source": [
<<<<<<< HEAD
<<<<<<< HEAD
    "#### 56. Genera un array 2D genérico similar a una distribución gaussiana (★★☆)"
=======
    "#### 56. Generate a generic 2D Gaussian-like array (★★☆)"
>>>>>>> 67236fe (30-01-2025 - 19:20)
=======
    "#### 56. Genera un array 2D genérico similar a una distribución gaussiana (★★☆)"
>>>>>>> 847158e (06-02-2025_19:20)
   ]
  },
  {
   "cell_type": "code",
   "execution_count": null,
   "id": "61122d1e",
   "metadata": {},
   "outputs": [],
   "source": []
  },
  {
   "cell_type": "markdown",
   "id": "2e76d589",
   "metadata": {},
   "source": [
<<<<<<< HEAD
<<<<<<< HEAD
    "#### 57. ¿Cómo colocar aleatoriamente p elementos en un array 2D? (★★☆)"
=======
    "#### 57. How to randomly place p elements in a 2D array? (★★☆)"
>>>>>>> 67236fe (30-01-2025 - 19:20)
=======
    "#### 57. ¿Cómo colocar aleatoriamente p elementos en un array 2D? (★★☆)"
>>>>>>> 847158e (06-02-2025_19:20)
   ]
  },
  {
   "cell_type": "code",
   "execution_count": null,
   "id": "0c2e4fcc",
   "metadata": {},
   "outputs": [],
   "source": []
  },
  {
   "cell_type": "markdown",
   "id": "8b3933eb",
   "metadata": {},
   "source": [
<<<<<<< HEAD
<<<<<<< HEAD
    "#### 58. Resta la media de cada fila de una matriz (★★☆)"
=======
    "#### 58. Subtract the mean of each row of a matrix (★★☆)"
>>>>>>> 67236fe (30-01-2025 - 19:20)
=======
    "#### 58. Resta la media de cada fila de una matriz (★★☆)"
>>>>>>> 847158e (06-02-2025_19:20)
   ]
  },
  {
   "cell_type": "code",
   "execution_count": null,
   "id": "a306c9ef",
   "metadata": {},
   "outputs": [],
   "source": []
  },
  {
   "cell_type": "markdown",
   "id": "ea8807c0",
   "metadata": {},
   "source": [
<<<<<<< HEAD
<<<<<<< HEAD
    "#### 59. ¿Cómo ordenar un array por la n-ésima columna? (★★☆)"
=======
    "#### 59. How to sort an array by the nth column? (★★☆)"
>>>>>>> 67236fe (30-01-2025 - 19:20)
=======
    "#### 59. ¿Cómo ordenar un array por la n-ésima columna? (★★☆)"
>>>>>>> 847158e (06-02-2025_19:20)
   ]
  },
  {
   "cell_type": "code",
   "execution_count": null,
   "id": "cc89a699",
   "metadata": {},
   "outputs": [],
   "source": []
  },
  {
   "cell_type": "markdown",
   "id": "00fa00a1",
   "metadata": {},
   "source": [
<<<<<<< HEAD
<<<<<<< HEAD
    "#### 60. ¿Cómo saber si un array 2D dado tiene columnas nulas? (★★☆)"
=======
    "#### 60. How to tell if a given 2D array has null columns? (★★☆)"
>>>>>>> 67236fe (30-01-2025 - 19:20)
=======
    "#### 60. ¿Cómo saber si un array 2D dado tiene columnas nulas? (★★☆)"
>>>>>>> 847158e (06-02-2025_19:20)
   ]
  },
  {
   "cell_type": "code",
   "execution_count": null,
   "id": "3436e165",
   "metadata": {},
   "outputs": [],
   "source": []
  },
  {
   "cell_type": "markdown",
   "id": "5a65c7a2",
   "metadata": {},
   "source": [
<<<<<<< HEAD
<<<<<<< HEAD
    "#### 61. Encuentra el valor más cercano a un valor dado en un array (★★☆)"
=======
    "#### 61. Find the nearest value from a given value in an array (★★☆)"
>>>>>>> 67236fe (30-01-2025 - 19:20)
=======
    "#### 61. Encuentra el valor más cercano a un valor dado en un array (★★☆)"
>>>>>>> 847158e (06-02-2025_19:20)
   ]
  },
  {
   "cell_type": "code",
   "execution_count": null,
   "id": "73f149d6",
   "metadata": {},
   "outputs": [],
   "source": []
  },
  {
   "cell_type": "markdown",
   "id": "dd83e8af",
   "metadata": {},
   "source": [
<<<<<<< HEAD
<<<<<<< HEAD
    "#### 62. Considerando dos arrays con forma (1,3) y (3,1), ¿cómo calcular su suma usando un iterador? (★★☆)"
=======
    "#### 62. Considering two arrays with shape (1,3) and (3,1), how to compute their sum using an iterator? (★★☆)"
>>>>>>> 67236fe (30-01-2025 - 19:20)
=======
    "#### 62. Considerando dos arrays con forma (1,3) y (3,1), ¿cómo calcular su suma usando un iterador? (★★☆)"
>>>>>>> 847158e (06-02-2025_19:20)
   ]
  },
  {
   "cell_type": "code",
   "execution_count": null,
   "id": "29a709a1",
   "metadata": {},
   "outputs": [],
   "source": []
  },
  {
   "cell_type": "markdown",
   "id": "6c042efa",
   "metadata": {},
   "source": [
<<<<<<< HEAD
<<<<<<< HEAD
    "#### 63. Crea una clase de array que tenga un atributo de nombre (★★☆)"
=======
    "#### 63. Create an array class that has a name attribute (★★☆)"
>>>>>>> 67236fe (30-01-2025 - 19:20)
=======
    "#### 63. Crea una clase de array que tenga un atributo de nombre (★★☆)"
>>>>>>> 847158e (06-02-2025_19:20)
   ]
  },
  {
   "cell_type": "code",
   "execution_count": null,
   "id": "45b3d2e0",
   "metadata": {},
   "outputs": [],
   "source": []
  },
  {
   "cell_type": "markdown",
   "id": "0a075c3d",
   "metadata": {},
   "source": [
<<<<<<< HEAD
<<<<<<< HEAD
    "#### 64. Considera un vector dado, ¿cómo agregar 1 a cada elemento indexado por un segundo vector (ten cuidado con los índices repetidos)? (★★★)"
=======
    "#### 64. Consider a given vector, how to add 1 to each element indexed by a second vector (be careful with repeated indices)? (★★★)"
>>>>>>> 67236fe (30-01-2025 - 19:20)
=======
    "#### 64. Considera un vector dado, ¿cómo agregar 1 a cada elemento indexado por un segundo vector (ten cuidado con los índices repetidos)? (★★★)"
>>>>>>> 847158e (06-02-2025_19:20)
   ]
  },
  {
   "cell_type": "code",
   "execution_count": null,
   "id": "36c50470",
   "metadata": {},
   "outputs": [],
   "source": []
  },
  {
   "cell_type": "markdown",
   "id": "0fb2f0c5",
   "metadata": {},
   "source": [
<<<<<<< HEAD
<<<<<<< HEAD
    "#### 65. ¿Cómo acumular elementos de un vector (X) en un array (F) basado en una lista de índices (I)? (★★★)"
=======
    "#### 65. How to accumulate elements of a vector (X) to an array (F) based on an index list (I)? (★★★)"
>>>>>>> 67236fe (30-01-2025 - 19:20)
=======
    "#### 65. ¿Cómo acumular elementos de un vector (X) en un array (F) basado en una lista de índices (I)? (★★★)"
>>>>>>> 847158e (06-02-2025_19:20)
   ]
  },
  {
   "cell_type": "code",
   "execution_count": null,
   "id": "58aa5f82",
   "metadata": {},
   "outputs": [],
   "source": []
  },
  {
   "cell_type": "markdown",
   "id": "d89dc506",
   "metadata": {},
   "source": [
<<<<<<< HEAD
<<<<<<< HEAD
    "#### 66. Considerando una imagen de (w,h,3) de (dtype=ubyte), calcula el número de colores únicos (★★☆)"
=======
    "#### 66. Considering a (w,h,3) image of (dtype=ubyte), compute the number of unique colors (★★☆)"
>>>>>>> 67236fe (30-01-2025 - 19:20)
=======
    "#### 66. Considerando una imagen de (w,h,3) de (dtype=ubyte), calcula el número de colores únicos (★★☆)"
>>>>>>> 847158e (06-02-2025_19:20)
   ]
  },
  {
   "cell_type": "code",
   "execution_count": null,
   "id": "8fb43a49",
   "metadata": {},
   "outputs": [],
   "source": []
  },
  {
   "cell_type": "markdown",
   "id": "535a5d81",
   "metadata": {},
   "source": [
<<<<<<< HEAD
<<<<<<< HEAD
    "#### 67. Considerando un array de cuatro dimensiones, ¿cómo obtener la suma sobre los dos últimos ejes a la vez? (★★★)"
=======
    "#### 67. Considering a four dimensions array, how to get sum over the last two axis at once? (★★★)"
>>>>>>> 67236fe (30-01-2025 - 19:20)
=======
    "#### 67. Considerando un array de cuatro dimensiones, ¿cómo obtener la suma sobre los dos últimos ejes a la vez? (★★★)"
>>>>>>> 847158e (06-02-2025_19:20)
   ]
  },
  {
   "cell_type": "code",
   "execution_count": null,
   "id": "f954ab9d",
   "metadata": {},
   "outputs": [],
   "source": []
  },
  {
   "cell_type": "markdown",
   "id": "eee66d3c",
   "metadata": {},
   "source": [
<<<<<<< HEAD
<<<<<<< HEAD
    "#### 68. Considerando un vector unidimensional D, ¿cómo calcular las medias de subconjuntos de D usando un vector S del mismo tamaño que describe los índices de los subconjuntos? (★★★)"
=======
    "#### 68. Considering a one-dimensional vector D, how to compute means of subsets of D using a vector S of same size describing subset  indices? (★★★)"
>>>>>>> 67236fe (30-01-2025 - 19:20)
=======
    "#### 68. Considerando un vector unidimensional D, ¿cómo calcular las medias de subconjuntos de D usando un vector S del mismo tamaño que describe los índices de los subconjuntos? (★★★)"
>>>>>>> 847158e (06-02-2025_19:20)
   ]
  },
  {
   "cell_type": "code",
   "execution_count": null,
   "id": "8929773a",
   "metadata": {},
   "outputs": [],
   "source": []
  },
  {
   "cell_type": "markdown",
   "id": "f90d4c40",
   "metadata": {},
   "source": [
<<<<<<< HEAD
<<<<<<< HEAD
    "#### 69. ¿Cómo obtener la diagonal de un producto punto? (★★★)"
=======
    "#### 69. How to get the diagonal of a dot product? (★★★)"
>>>>>>> 67236fe (30-01-2025 - 19:20)
=======
    "#### 69. ¿Cómo obtener la diagonal de un producto punto? (★★★)"
>>>>>>> 847158e (06-02-2025_19:20)
   ]
  },
  {
   "cell_type": "code",
   "execution_count": null,
   "id": "b47d392d",
   "metadata": {},
   "outputs": [],
   "source": []
  },
  {
   "cell_type": "markdown",
   "id": "a8a97e7d",
   "metadata": {},
   "source": [
<<<<<<< HEAD
<<<<<<< HEAD
    "#### 70. Considera el vector [1, 2, 3, 4, 5], ¿cómo construir un nuevo vector con 3 ceros consecutivos intercalados entre cada valor? (★★★)"
=======
    "#### 70. Consider the vector [1, 2, 3, 4, 5], how to build a new vector with 3 consecutive zeros interleaved between each value? (★★★)"
>>>>>>> 67236fe (30-01-2025 - 19:20)
=======
    "#### 70. Considera el vector [1, 2, 3, 4, 5], ¿cómo construir un nuevo vector con 3 ceros consecutivos intercalados entre cada valor? (★★★)"
>>>>>>> 847158e (06-02-2025_19:20)
   ]
  },
  {
   "cell_type": "code",
   "execution_count": null,
   "id": "ee6c6c37",
   "metadata": {},
   "outputs": [],
   "source": []
  },
  {
   "cell_type": "markdown",
   "id": "d6a30d60",
   "metadata": {},
   "source": [
<<<<<<< HEAD
<<<<<<< HEAD
    "#### 71. Considera un array de dimensión (5,5,3), ¿cómo multiplicarlo por un array con dimensiones (5,5)? (★★★)"
=======
    "#### 71. Consider an array of dimension (5,5,3), how to mulitply it by an array with dimensions (5,5)? (★★★)"
>>>>>>> 67236fe (30-01-2025 - 19:20)
=======
    "#### 71. Considera un array de dimensión (5,5,3), ¿cómo multiplicarlo por un array con dimensiones (5,5)? (★★★)"
>>>>>>> 847158e (06-02-2025_19:20)
   ]
  },
  {
   "cell_type": "code",
   "execution_count": null,
   "id": "e9703f2e",
   "metadata": {},
   "outputs": [],
   "source": []
  },
  {
   "cell_type": "markdown",
   "id": "bac359a9",
   "metadata": {},
   "source": [
<<<<<<< HEAD
<<<<<<< HEAD
    "#### 72. ¿Cómo intercambiar dos filas de un array? (★★★)"
=======
    "#### 72. How to swap two rows of an array? (★★★)"
>>>>>>> 67236fe (30-01-2025 - 19:20)
=======
    "#### 72. ¿Cómo intercambiar dos filas de un array? (★★★)"
>>>>>>> 847158e (06-02-2025_19:20)
   ]
  },
  {
   "cell_type": "code",
   "execution_count": null,
   "id": "f1b432b1",
   "metadata": {},
   "outputs": [],
   "source": []
  },
  {
   "cell_type": "markdown",
   "id": "620c9f83",
   "metadata": {},
   "source": [
<<<<<<< HEAD
<<<<<<< HEAD
    "#### 73. Considera un conjunto de 10 tríos que describen 10 triángulos (con vértices compartidos), encuentra el conjunto de segmentos de línea únicos que componen todos los triángulos (★★★)"
=======
    "#### 73. Consider a set of 10 triplets describing 10 triangles (with shared vertices), find the set of unique line segments composing all the  triangles (★★★)"
>>>>>>> 67236fe (30-01-2025 - 19:20)
=======
    "#### 73. Considera un conjunto de 10 tríos que describen 10 triángulos (con vértices compartidos), encuentra el conjunto de segmentos de línea únicos que componen todos los triángulos (★★★)"
>>>>>>> 847158e (06-02-2025_19:20)
   ]
  },
  {
   "cell_type": "code",
   "execution_count": null,
   "id": "4e595ffc",
   "metadata": {},
   "outputs": [],
   "source": []
  },
  {
   "cell_type": "markdown",
   "id": "a76c55a2",
   "metadata": {},
   "source": [
<<<<<<< HEAD
<<<<<<< HEAD
    "#### 74. Dado un array ordenado C que corresponde a un bincount, ¿cómo producir un array A tal que np.bincount(A) == C? (★★★)"
=======
    "#### 74. Given a sorted array C that corresponds to a bincount, how to produce an array A such that np.bincount(A) == C? (★★★)"
>>>>>>> 67236fe (30-01-2025 - 19:20)
=======
    "#### 74. Dado un array ordenado C que corresponde a un bincount, ¿cómo producir un array A tal que np.bincount(A) == C? (★★★)"
>>>>>>> 847158e (06-02-2025_19:20)
   ]
  },
  {
   "cell_type": "code",
   "execution_count": null,
   "id": "2d2ae65a",
   "metadata": {},
   "outputs": [],
   "source": []
  },
  {
   "cell_type": "markdown",
   "id": "d550c8e2",
   "metadata": {},
   "source": [
<<<<<<< HEAD
<<<<<<< HEAD
    "#### 75. ¿Cómo calcular promedios usando una ventana deslizante sobre un array? (★★★)"
=======
    "#### 75. How to compute averages using a sliding window over an array? (★★★)"
>>>>>>> 67236fe (30-01-2025 - 19:20)
=======
    "#### 75. ¿Cómo calcular promedios usando una ventana deslizante sobre un array? (★★★)"
>>>>>>> 847158e (06-02-2025_19:20)
   ]
  },
  {
   "cell_type": "code",
   "execution_count": null,
   "id": "841c457c",
   "metadata": {},
   "outputs": [],
   "source": []
  },
  {
   "cell_type": "markdown",
   "id": "6b170b00",
   "metadata": {},
   "source": [
<<<<<<< HEAD
<<<<<<< HEAD
    "#### 76. Considera un array unidimensional Z, construye un array bidimensional cuya primera fila sea (Z[0],Z[1],Z[2]) y cada fila subsiguiente se desplace en 1 (la última fila debe ser (Z[-3],Z[-2],Z[-1]) (★★★)"
=======
    "#### 76. Consider a one-dimensional array Z, build a two-dimensional array whose first row is (Z[0],Z[1],Z[2]) and each subsequent row is  shifted by 1 (last row should be (Z[-3],Z[-2],Z[-1]) (★★★)"
>>>>>>> 67236fe (30-01-2025 - 19:20)
=======
    "#### 76. Considera un array unidimensional Z, construye un array bidimensional cuya primera fila sea (Z[0],Z[1],Z[2]) y cada fila subsiguiente se desplace en 1 (la última fila debe ser (Z[-3],Z[-2],Z[-1]) (★★★)"
>>>>>>> 847158e (06-02-2025_19:20)
   ]
  },
  {
   "cell_type": "code",
   "execution_count": null,
   "id": "d9a0cf4e",
   "metadata": {},
   "outputs": [],
   "source": []
  },
  {
   "cell_type": "markdown",
   "id": "e94a5c1d",
   "metadata": {},
   "source": [
<<<<<<< HEAD
<<<<<<< HEAD
    "#### 77. ¿Cómo negar un booleano o cambiar el signo de un flotante en su lugar? (★★★)"
=======
    "#### 77. How to negate a boolean, or to change the sign of a float inplace? (★★★)"
>>>>>>> 67236fe (30-01-2025 - 19:20)
=======
    "#### 77. ¿Cómo negar un booleano o cambiar el signo de un flotante en su lugar? (★★★)"
>>>>>>> 847158e (06-02-2025_19:20)
   ]
  },
  {
   "cell_type": "code",
   "execution_count": null,
   "id": "c0f9504f",
   "metadata": {},
   "outputs": [],
   "source": []
  },
  {
   "cell_type": "markdown",
   "id": "4eb8b5c1",
   "metadata": {},
   "source": [
<<<<<<< HEAD
<<<<<<< HEAD
    "#### 78. Considera 2 conjuntos de puntos P0,P1 que describen líneas (2D) y un punto p, ¿cómo calcular la distancia desde p a cada línea i (P0[i],P1[i])? (★★★)"
=======
    "#### 78. Consider 2 sets of points P0,P1 describing lines (2d) and a point p, how to compute distance from p to each line i (P0[i],P1[i])? (★★★)"
>>>>>>> 67236fe (30-01-2025 - 19:20)
=======
    "#### 78. Considera 2 conjuntos de puntos P0,P1 que describen líneas (2D) y un punto p, ¿cómo calcular la distancia desde p a cada línea i (P0[i],P1[i])? (★★★)"
>>>>>>> 847158e (06-02-2025_19:20)
   ]
  },
  {
   "cell_type": "code",
   "execution_count": null,
   "id": "487f47ec",
   "metadata": {},
   "outputs": [],
   "source": []
  },
  {
   "cell_type": "markdown",
   "id": "3df99948",
   "metadata": {},
   "source": [
<<<<<<< HEAD
<<<<<<< HEAD
    "#### 79. Considera 2 conjuntos de puntos P0,P1 que describen líneas (2D) y un conjunto de puntos P, ¿cómo calcular la distancia desde cada punto j (P[j]) a cada línea i (P0[i],P1[i])? (★★★)"
=======
    "#### 79. Consider 2 sets of points P0,P1 describing lines (2d) and a set of points P, how to compute distance from each point j (P[j]) to each line i (P0[i],P1[i])? (★★★)"
>>>>>>> 67236fe (30-01-2025 - 19:20)
=======
    "#### 79. Considera 2 conjuntos de puntos P0,P1 que describen líneas (2D) y un conjunto de puntos P, ¿cómo calcular la distancia desde cada punto j (P[j]) a cada línea i (P0[i],P1[i])? (★★★)"
>>>>>>> 847158e (06-02-2025_19:20)
   ]
  },
  {
   "cell_type": "code",
   "execution_count": null,
   "id": "dc2df37b",
   "metadata": {},
   "outputs": [],
   "source": []
  },
  {
   "cell_type": "markdown",
   "id": "11e972c2",
   "metadata": {},
   "source": [
<<<<<<< HEAD
<<<<<<< HEAD
    "#### 80. Considera un array arbitrario, escribe una función que extraiga una subparte con una forma fija y centrada en un elemento dado (rellena con un valor `fill` cuando sea necesario) (★★★)"
=======
    "#### 80. Consider an arbitrary array, write a function that extract a subpart with a fixed shape and centered on a given element (pad with a `fill` value when necessary) (★★★)"
>>>>>>> 67236fe (30-01-2025 - 19:20)
=======
    "#### 80. Considera un array arbitrario, escribe una función que extraiga una subparte con una forma fija y centrada en un elemento dado (rellena con un valor `fill` cuando sea necesario) (★★★)"
>>>>>>> 847158e (06-02-2025_19:20)
   ]
  },
  {
   "cell_type": "code",
   "execution_count": null,
   "id": "0291247f",
   "metadata": {},
   "outputs": [],
   "source": []
  },
  {
   "cell_type": "markdown",
   "id": "93cfeab3",
   "metadata": {},
   "source": [
<<<<<<< HEAD
<<<<<<< HEAD
    "#### 81. Considera un array Z = [1,2,3,4,5,6,7,8,9,10,11,12,13,14], ¿cómo generar un array R = [[1,2,3,4], [2,3,4,5], [3,4,5,6], ..., [11,12,13,14]]? (★★★)"
=======
    "#### 81. Consider an array Z = [1,2,3,4,5,6,7,8,9,10,11,12,13,14], how to generate an array R = [[1,2,3,4], [2,3,4,5], [3,4,5,6], ..., [11,12,13,14]]? (★★★)"
>>>>>>> 67236fe (30-01-2025 - 19:20)
=======
    "#### 81. Considera un array Z = [1,2,3,4,5,6,7,8,9,10,11,12,13,14], ¿cómo generar un array R = [[1,2,3,4], [2,3,4,5], [3,4,5,6], ..., [11,12,13,14]]? (★★★)"
>>>>>>> 847158e (06-02-2025_19:20)
   ]
  },
  {
   "cell_type": "code",
   "execution_count": null,
   "id": "360de791",
   "metadata": {},
   "outputs": [],
   "source": []
  },
  {
   "cell_type": "markdown",
   "id": "4c15ceff",
   "metadata": {},
   "source": [
<<<<<<< HEAD
<<<<<<< HEAD
    "#### 82. Calcula el rango de una matriz (★★★)"
=======
    "#### 82. Compute a matrix rank (★★★)"
>>>>>>> 67236fe (30-01-2025 - 19:20)
=======
    "#### 82. Calcula el rango de una matriz (★★★)"
>>>>>>> 847158e (06-02-2025_19:20)
   ]
  },
  {
   "cell_type": "code",
   "execution_count": null,
   "id": "9a4272d2",
   "metadata": {},
   "outputs": [],
   "source": []
  },
  {
   "cell_type": "markdown",
   "id": "1171cb84",
   "metadata": {},
   "source": [
<<<<<<< HEAD
<<<<<<< HEAD
    "#### 83. ¿Cómo encontrar el valor más frecuente en un array?"
=======
    "#### 83. How to find the most frequent value in an array?"
>>>>>>> 67236fe (30-01-2025 - 19:20)
=======
    "#### 83. ¿Cómo encontrar el valor más frecuente en un array?"
>>>>>>> 847158e (06-02-2025_19:20)
   ]
  },
  {
   "cell_type": "code",
   "execution_count": null,
   "id": "33e951c8",
   "metadata": {},
   "outputs": [],
   "source": []
  },
  {
   "cell_type": "markdown",
   "id": "04f472aa",
   "metadata": {},
   "source": [
<<<<<<< HEAD
<<<<<<< HEAD
    "#### 84. Extrae todos los bloques contiguos de 3x3 de una matriz aleatoria 10x10 (★★★)"
=======
    "#### 84. Extract all the contiguous 3x3 blocks from a random 10x10 matrix (★★★)"
>>>>>>> 67236fe (30-01-2025 - 19:20)
=======
    "#### 84. Extrae todos los bloques contiguos de 3x3 de una matriz aleatoria 10x10 (★★★)"
>>>>>>> 847158e (06-02-2025_19:20)
   ]
  },
  {
   "cell_type": "code",
   "execution_count": null,
   "id": "7aade14a",
   "metadata": {},
   "outputs": [],
   "source": []
  },
  {
   "cell_type": "markdown",
   "id": "52836346",
   "metadata": {},
   "source": [
<<<<<<< HEAD
<<<<<<< HEAD
    "#### 85. Crea una subclase de array 2D tal que Z[i,j] == Z[j,i] (★★★)"
=======
    "#### 85. Create a 2D array subclass such that Z[i,j] == Z[j,i] (★★★)"
>>>>>>> 67236fe (30-01-2025 - 19:20)
=======
    "#### 85. Crea una subclase de array 2D tal que Z[i,j] == Z[j,i] (★★★)"
>>>>>>> 847158e (06-02-2025_19:20)
   ]
  },
  {
   "cell_type": "code",
   "execution_count": null,
   "id": "4df70318",
   "metadata": {},
   "outputs": [],
   "source": []
  },
  {
   "cell_type": "markdown",
   "id": "78c43ee5",
   "metadata": {},
   "source": [
<<<<<<< HEAD
<<<<<<< HEAD
    "#### 86. Considera un conjunto de p matrices con forma (n,n) y un conjunto de p vectores con forma (n,1). ¿Cómo calcular la suma de los productos de las p matrices a la vez? (el resultado tiene forma (n,1)) (★★★)"
=======
    "#### 86. Consider a set of p matrices with shape (n,n) and a set of p vectors with shape (n,1). How to compute the sum of of the p matrix products at once? (result has shape (n,1)) (★★★)"
>>>>>>> 67236fe (30-01-2025 - 19:20)
=======
    "#### 86. Considera un conjunto de p matrices con forma (n,n) y un conjunto de p vectores con forma (n,1). ¿Cómo calcular la suma de los productos de las p matrices a la vez? (el resultado tiene forma (n,1)) (★★★)"
>>>>>>> 847158e (06-02-2025_19:20)
   ]
  },
  {
   "cell_type": "code",
   "execution_count": null,
   "id": "32fd2c3b",
   "metadata": {},
   "outputs": [],
   "source": []
  },
  {
   "cell_type": "markdown",
   "id": "158f9945",
   "metadata": {},
   "source": [
<<<<<<< HEAD
<<<<<<< HEAD
    "#### 87. Considera un array 16x16, ¿cómo obtener la suma de bloques (el tamaño del bloque es 4x4)? (★★★)"
=======
    "#### 87. Consider a 16x16 array, how to get the block-sum (block size is 4x4)? (★★★)"
>>>>>>> 67236fe (30-01-2025 - 19:20)
=======
    "#### 87. Considera un array 16x16, ¿cómo obtener la suma de bloques (el tamaño del bloque es 4x4)? (★★★)"
>>>>>>> 847158e (06-02-2025_19:20)
   ]
  },
  {
   "cell_type": "code",
   "execution_count": null,
   "id": "5a9b808f",
   "metadata": {},
   "outputs": [],
   "source": []
  },
  {
   "cell_type": "markdown",
   "id": "2e0ad860",
   "metadata": {},
   "source": [
<<<<<<< HEAD
<<<<<<< HEAD
    "#### 88. ¿Cómo implementar el Juego de la Vida usando arrays de numpy? (★★★)"
=======
    "#### 88. How to implement the Game of Life using numpy arrays? (★★★)"
>>>>>>> 67236fe (30-01-2025 - 19:20)
=======
    "#### 88. ¿Cómo implementar el Juego de la Vida usando arrays de numpy? (★★★)"
>>>>>>> 847158e (06-02-2025_19:20)
   ]
  },
  {
   "cell_type": "code",
   "execution_count": null,
   "id": "574acff5",
   "metadata": {},
   "outputs": [],
   "source": []
  },
  {
   "cell_type": "markdown",
   "id": "69a892fa",
   "metadata": {},
   "source": [
<<<<<<< HEAD
<<<<<<< HEAD
    "#### 89. ¿Cómo obtener los n valores más grandes de un array (★★★)"
=======
    "#### 89. How to get the n largest values of an array (★★★)"
>>>>>>> 67236fe (30-01-2025 - 19:20)
=======
    "#### 89. ¿Cómo obtener los n valores más grandes de un array (★★★)"
>>>>>>> 847158e (06-02-2025_19:20)
   ]
  },
  {
   "cell_type": "code",
   "execution_count": null,
   "id": "21b2bd48",
   "metadata": {},
   "outputs": [],
   "source": []
  },
  {
   "cell_type": "markdown",
   "id": "b55ccacc",
   "metadata": {},
   "source": [
<<<<<<< HEAD
<<<<<<< HEAD
    "#### 90. Dado un número arbitrario de vectores, construye el producto cartesiano (todas las combinaciones de cada elemento) (★★★)"
=======
    "#### 90. Given an arbitrary number of vectors, build the cartesian product (every combinations of every item) (★★★)"
>>>>>>> 67236fe (30-01-2025 - 19:20)
=======
    "#### 90. Dado un número arbitrario de vectores, construye el producto cartesiano (todas las combinaciones de cada elemento) (★★★)"
>>>>>>> 847158e (06-02-2025_19:20)
   ]
  },
  {
   "cell_type": "code",
   "execution_count": null,
   "id": "4b645da4",
   "metadata": {},
   "outputs": [],
   "source": []
  },
  {
   "cell_type": "markdown",
   "id": "89187a23",
   "metadata": {},
   "source": [
<<<<<<< HEAD
<<<<<<< HEAD
    "#### 91. ¿Cómo crear un array de registros a partir de un array regular? (★★★)"
=======
    "#### 91. How to create a record array from a regular array? (★★★)"
>>>>>>> 67236fe (30-01-2025 - 19:20)
=======
    "#### 91. ¿Cómo crear un array de registros a partir de un array regular? (★★★)"
>>>>>>> 847158e (06-02-2025_19:20)
   ]
  },
  {
   "cell_type": "code",
   "execution_count": null,
   "id": "da94c71a",
   "metadata": {},
   "outputs": [],
   "source": []
  },
  {
   "cell_type": "markdown",
   "id": "aa70d4ca",
   "metadata": {},
   "source": [
<<<<<<< HEAD
<<<<<<< HEAD
    "#### 92. Considera un vector grande Z, calcula Z a la potencia de 3 usando 3 métodos diferentes (★★★)"
=======
    "#### 92. Consider a large vector Z, compute Z to the power of 3 using 3 different methods (★★★)"
>>>>>>> 67236fe (30-01-2025 - 19:20)
=======
    "#### 92. Considera un vector grande Z, calcula Z a la potencia de 3 usando 3 métodos diferentes (★★★)"
>>>>>>> 847158e (06-02-2025_19:20)
   ]
  },
  {
   "cell_type": "code",
   "execution_count": null,
   "id": "7cff1bf5",
   "metadata": {},
   "outputs": [],
   "source": []
  },
  {
   "cell_type": "markdown",
   "id": "5f79dd00",
   "metadata": {},
   "source": [
<<<<<<< HEAD
<<<<<<< HEAD
    "#### 93. Considera dos arrays A y B de forma (8,3) y (2,2). ¿Cómo encontrar filas de A que contengan elementos de cada fila de B sin importar el orden de los elementos en B? (★★★)"
=======
    "#### 93. Consider two arrays A and B of shape (8,3) and (2,2). How to find rows of A that contain elements of each row of B regardless of the order of the elements in B? (★★★)"
>>>>>>> 67236fe (30-01-2025 - 19:20)
=======
    "#### 93. Considera dos arrays A y B de forma (8,3) y (2,2). ¿Cómo encontrar filas de A que contengan elementos de cada fila de B sin importar el orden de los elementos en B? (★★★)"
>>>>>>> 847158e (06-02-2025_19:20)
   ]
  },
  {
   "cell_type": "code",
   "execution_count": null,
   "id": "20c105b2",
   "metadata": {},
   "outputs": [],
   "source": []
  },
  {
   "cell_type": "markdown",
   "id": "a80570cd",
   "metadata": {},
   "source": [
<<<<<<< HEAD
<<<<<<< HEAD
    "#### 94. Considerando una matriz 10x3, extrae filas con valores desiguales (por ejemplo, [2,2,3]) (★★★)"
=======
    "#### 94. Considering a 10x3 matrix, extract rows with unequal values (e.g. [2,2,3]) (★★★)"
>>>>>>> 67236fe (30-01-2025 - 19:20)
=======
    "#### 94. Considerando una matriz 10x3, extrae filas con valores desiguales (por ejemplo, [2,2,3]) (★★★)"
>>>>>>> 847158e (06-02-2025_19:20)
   ]
  },
  {
   "cell_type": "code",
   "execution_count": null,
   "id": "84db8de1",
   "metadata": {},
   "outputs": [],
   "source": []
  },
  {
   "cell_type": "markdown",
   "id": "ba154f43",
   "metadata": {},
   "source": [
<<<<<<< HEAD
<<<<<<< HEAD
    "#### 95. Convierte un vector de enteros en una representación binaria de matriz (★★★)"
=======
    "#### 95. Convert a vector of ints into a matrix binary representation (★★★)"
>>>>>>> 67236fe (30-01-2025 - 19:20)
=======
    "#### 95. Convierte un vector de enteros en una representación binaria de matriz (★★★)"
>>>>>>> 847158e (06-02-2025_19:20)
   ]
  },
  {
   "cell_type": "code",
   "execution_count": null,
   "id": "cfa96e1b",
   "metadata": {},
   "outputs": [],
   "source": []
  },
  {
   "cell_type": "markdown",
   "id": "420e2343",
   "metadata": {},
   "source": [
<<<<<<< HEAD
<<<<<<< HEAD
    "#### 96. Dado un array bidimensional, ¿cómo extraer filas únicas? (★★★)"
=======
    "#### 96. Given a two dimensional array, how to extract unique rows? (★★★)"
>>>>>>> 67236fe (30-01-2025 - 19:20)
=======
    "#### 96. Dado un array bidimensional, ¿cómo extraer filas únicas? (★★★)"
>>>>>>> 847158e (06-02-2025_19:20)
   ]
  },
  {
   "cell_type": "code",
   "execution_count": null,
   "id": "4680dfd0",
   "metadata": {},
   "outputs": [],
   "source": []
  },
  {
   "cell_type": "markdown",
   "id": "89fef2f3",
   "metadata": {},
   "source": [
<<<<<<< HEAD
<<<<<<< HEAD
    "#### 97. Considerando 2 vectores A y B, escribe el equivalente de einsum de las funciones inner, outer, sum y mul (★★★)"
=======
    "#### 97. Considering 2 vectors A & B, write the einsum equivalent of inner, outer, sum, and mul function (★★★)"
>>>>>>> 67236fe (30-01-2025 - 19:20)
=======
    "#### 97. Considerando 2 vectores A y B, escribe el equivalente de einsum de las funciones inner, outer, sum y mul (★★★)"
>>>>>>> 847158e (06-02-2025_19:20)
   ]
  },
  {
   "cell_type": "code",
   "execution_count": null,
   "id": "bb9c14b2",
   "metadata": {},
   "outputs": [],
   "source": []
  },
  {
   "cell_type": "markdown",
   "id": "7ad5cc5f",
   "metadata": {},
   "source": [
<<<<<<< HEAD
<<<<<<< HEAD
    "#### 98. Considerando un camino descrito por dos vectores (X,Y), ¿cómo muestrearlo usando muestras equidistantes (★★★)?"
=======
    "#### 98. Considering a path described by two vectors (X,Y), how to sample it using equidistant samples (★★★)?"
>>>>>>> 67236fe (30-01-2025 - 19:20)
=======
    "#### 98. Considerando un camino descrito por dos vectores (X,Y), ¿cómo muestrearlo usando muestras equidistantes (★★★)?"
>>>>>>> 847158e (06-02-2025_19:20)
   ]
  },
  {
   "cell_type": "code",
   "execution_count": null,
   "id": "0899d1d5",
   "metadata": {},
   "outputs": [],
   "source": []
  },
  {
   "cell_type": "markdown",
   "id": "2b69272e",
   "metadata": {},
   "source": [
<<<<<<< HEAD
<<<<<<< HEAD
    "#### 99. Dado un entero n y un array 2D X, selecciona de X las filas que pueden interpretarse como extracciones de una distribución multinomial con n grados, es decir, las filas que solo contienen enteros y que suman n. (★★★)"
=======
    "#### 99. Given an integer n and a 2D array X, select from X the rows which can be interpreted as draws from a multinomial distribution with n degrees, i.e., the rows which only contain integers and which sum to n. (★★★)"
>>>>>>> 67236fe (30-01-2025 - 19:20)
=======
    "#### 99. Dado un entero n y un array 2D X, selecciona de X las filas que pueden interpretarse como extracciones de una distribución multinomial con n grados, es decir, las filas que solo contienen enteros y que suman n. (★★★)"
>>>>>>> 847158e (06-02-2025_19:20)
   ]
  },
  {
   "cell_type": "code",
   "execution_count": null,
   "id": "55c8b034",
   "metadata": {},
   "outputs": [],
   "source": []
  },
  {
   "cell_type": "markdown",
   "id": "59ab5516",
   "metadata": {},
   "source": [
<<<<<<< HEAD
<<<<<<< HEAD
    "#### 100. Calcula intervalos de confianza del 95% bootstrap para la media de un array 1D X (es decir, re-muestrea los elementos de un array con reemplazo N veces, calcula la media de cada muestra y luego calcula percentiles sobre las medias). (★★★)"
=======
    "#### 100. Compute bootstrapped 95% confidence intervals for the mean of a 1D array X (i.e., resample the elements of an array with replacement N times, compute the mean of each sample, and then compute percentiles over the means). (★★★)"
>>>>>>> 67236fe (30-01-2025 - 19:20)
=======
    "#### 100. Calcula intervalos de confianza del 95% bootstrap para la media de un array 1D X (es decir, re-muestrea los elementos de un array con reemplazo N veces, calcula la media de cada muestra y luego calcula percentiles sobre las medias). (★★★)"
>>>>>>> 847158e (06-02-2025_19:20)
   ]
  },
  {
   "cell_type": "code",
   "execution_count": null,
   "id": "450877d8",
   "metadata": {},
   "outputs": [],
   "source": []
  }
 ],
<<<<<<< HEAD
<<<<<<< HEAD
=======
>>>>>>> 847158e (06-02-2025_19:20)
 "metadata": {
  "kernelspec": {
   "display_name": "Python 3",
   "language": "python",
   "name": "python3"
  },
  "language_info": {
   "codemirror_mode": {
    "name": "ipython",
    "version": 3
   },
   "file_extension": ".py",
   "mimetype": "text/x-python",
   "name": "python",
   "nbconvert_exporter": "python",
   "pygments_lexer": "ipython3",
   "version": "3.11.11"
  }
 },
<<<<<<< HEAD
=======
 "metadata": {},
>>>>>>> 67236fe (30-01-2025 - 19:20)
=======
>>>>>>> 847158e (06-02-2025_19:20)
 "nbformat": 4,
 "nbformat_minor": 5
}
